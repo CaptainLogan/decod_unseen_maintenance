{
 "cells": [
  {
   "cell_type": "markdown",
   "metadata": {},
   "source": [
    "# Three types of models\n",
    "\n",
    "This notebook shows how different types of classifiers can be used to predict categorical (e.g. present or absent), ordinal (e.g. stimulus contrast) and circular data (e.g. stimulus angle).\n",
    "\n",
    "For clarity purposes, we won't consider the cross validation and temporal loops here, but solely focus on how each estimator is built and scored.\n",
    "\n",
    "Note that in the manuscript, the estimator are preceeded by a normalization step (`StandardScaler`).\n",
    "\n",
    "# Prepare Data"
   ]
  },
  {
   "cell_type": "code",
   "execution_count": 1,
   "metadata": {
    "collapsed": false
   },
   "outputs": [],
   "source": [
    "import numpy as np\n",
    "from sklearn.svm import SVC, LinearSVR\n",
    "from sklearn.metrics import roc_auc_score\n",
    "from jr.gat import AngularRegression"
   ]
  },
  {
   "cell_type": "code",
   "execution_count": 2,
   "metadata": {
    "collapsed": false
   },
   "outputs": [
    {
     "ename": "SyntaxError",
     "evalue": "invalid syntax (<ipython-input-2-3235d282eea6>, line 3)",
     "output_type": "error",
     "traceback": [
      "\u001b[1;36m  File \u001b[1;32m\"<ipython-input-2-3235d282eea6>\"\u001b[1;36m, line \u001b[1;32m3\u001b[0m\n\u001b[1;33m    def make_data(y, n_chan=20, snr==1):\u001b[0m\n\u001b[1;37m                                    ^\u001b[0m\n\u001b[1;31mSyntaxError\u001b[0m\u001b[1;31m:\u001b[0m invalid syntax\n"
     ]
    }
   ],
   "source": [
    "n_trial = 100\n",
    "\n",
    "def make_data(y, n_chan=20, snr==1):\n",
    "    \"\"\"Simulate `n_trials` measured at sensor level at a single time sample in a given subject.\"\"\"\n",
    "    X = np.zeros((n_trial, n_chan))\n",
    "    y = y[:, None] if y.ndim == 1 else y  # ensure n_trials x n_dims\n",
    "    \n",
    "    # Mixture of a neural source (one for each dimension of y) projected onto the MEG sensors\n",
    "    for source in y.T:\n",
    "        # Setup a random foward model (from source to sensors): ~ set a random source\n",
    "        forward = np.random.randn(n_chan, 1)\n",
    "        \n",
    "        # Add projection to sensors for each trial\n",
    "        X += np.dot(forward, source[:, None].T).T\n",
    "\n",
    "    # Add common activity to all trials\n",
    "    common_activity = np.random.randn(n_chan)\n",
    "    X += np.tile(common_activity, [n_trial, 1])\n",
    "\n",
    "    # Add background noise\n",
    "    X += np.random.randn(*X.shape) / snr\n",
    "    \n",
    "    return X\n",
    "\n",
    "\n",
    "def cv(X, y):\n",
    "    \"\"\"Divides into a single train and a test set\"\"\"\n",
    "    # Note that in the manuscript we don't use a validation, but a cross validation.\n",
    "    train = range(len(X)//2)\n",
    "    test = range(len(X)//2, len(X))\n",
    "    return (X[train], y[train]), (X[test], y[test])"
   ]
  },
  {
   "cell_type": "markdown",
   "metadata": {},
   "source": [
    "# Categorical model"
   ]
  },
  {
   "cell_type": "code",
   "execution_count": null,
   "metadata": {
    "collapsed": false
   },
   "outputs": [],
   "source": [
    "# Categorical data are fitted with a linear SVC that output probabilistic estimates, and scored with an AUC.\n",
    "y = np.random.randint(0, 2, n_trial)  # y is a list of 0 or 1.\n",
    "X = make_data(y)\n",
    "\n",
    "# Estimator\n",
    "clf = SVC(kernel='linear', probability=True)\n",
    "\n",
    "# Scorer\n",
    "def scorer(y_true, y_pred):\n",
    "    \"\"\"Score probabilistic outputs for a single class as the other class is the numerical complement.\"\"\"\n",
    "    return roc_auc_score(y_true, y_pred[:, 1])\n",
    "\n",
    "# Fit, predict, and score\n",
    "(X_train, y_train), (X_test, y_test) = cv(X, y)\n",
    "clf.fit(X_train, y_train)\n",
    "y_pred = clf.predict_proba(X_test)\n",
    "score = scorer(y_test, y_pred)  # score in [0, 1], chance = .5\n",
    "print('score:', score)  # should be > to .5\n",
    "\n",
    "# Try shuffling the data:\n",
    "np.random.shuffle(y)\n",
    "(X_train, y_train), (X_test, y_test) = cv(X, y)\n",
    "clf.fit(X_train, y_train)\n",
    "y_pred = clf.predict_proba(X_test)\n",
    "score = scorer(y_test, y_pred)  # score in [0, 1], chance = .5\n",
    "print('random score:', score)  # should be close to .5"
   ]
  },
  {
   "cell_type": "markdown",
   "metadata": {},
   "source": [
    "# Ordinal model"
   ]
  },
  {
   "cell_type": "code",
   "execution_count": null,
   "metadata": {
    "collapsed": false
   },
   "outputs": [],
   "source": [
    "# Categorical data are fitted with a linear SVR, and scored with a spearman regression.\n",
    "y = np.random.rand(n_trial)  # y is list of random float values between 0 and 1.\n",
    "\n",
    "# Add information on a third of the channels so that `X` encodes `y`.\n",
    "X = make_data(y)\n",
    "\n",
    "# Estimator\n",
    "clf = LinearSVR()\n",
    "\n",
    "# Scorer: non parametric R²\n",
    "def scorer(y_true, y_pred):\n",
    "    from scipy.stats import spearmanr\n",
    "    rho, p = spearmanr(y_true, y_pred)\n",
    "    return rho\n",
    "\n",
    "# Fit, predict, and score\n",
    "(X_train, y_train), (X_test, y_test) = cv(X, y)\n",
    "clf.fit(X_train, y_train)\n",
    "y_pred = clf.predict(X_test)\n",
    "score = scorer(y_test, y_pred)  # score in [-1, 1], chance = 0.\n",
    "print('score:', score)  # should be > 0.\n",
    "\n",
    "# Try shuffling the data:\n",
    "np.random.shuffle(y)\n",
    "(X_train, y_train), (X_test, y_test) = cv(X, y)\n",
    "clf.fit(X_train, y_train)\n",
    "y_pred = clf.predict(X_test)\n",
    "score = scorer(y_test, y_pred)\n",
    "print('random score:', score)  # should be close to 0."
   ]
  },
  {
   "cell_type": "markdown",
   "metadata": {},
   "source": [
    "# Circular model"
   ]
  },
  {
   "cell_type": "code",
   "execution_count": null,
   "metadata": {
    "collapsed": false
   },
   "outputs": [],
   "source": [
    "# Circular data are fitted with two linear SVR, and scored with an angle error.\n",
    "y = 2 * np.pi * np.random.rand(n_trial)  # y is list of random float values between 0 and 2 * pi.\n",
    "\n",
    "# Add angular information through two neural sources respectively coding for the cos and the sin of the angle.\n",
    "y_cos_sin = np.vstack((np.cos(y), np.sin(y))).T\n",
    "\n",
    "# Obviously, this encoding scheme differs from our brain's.\n",
    "# However:\n",
    "# 1) This modelling approach is the simplest possible model for angular data.\n",
    "# 2) Myers, Edward, Stokes et al. eLife (2015) show evidence that Gabor orientations are encoded\n",
    "#    with circular representations in the MEG signals (which makes sense, knowing the encoding in V1).\n",
    "# 3) This approach empirically works and thus validate our modeling hypothesis.\n",
    "\n",
    "X = make_data(y_cos_sin)\n",
    "\n",
    "# Estimator\n",
    "random_state = 42  # to show that the subsequent methods are equivalent\n",
    "clf_sin = LinearSVR(random_state=random_state)\n",
    "clf_cos = LinearSVR(random_state=random_state)\n",
    "\n",
    "# Scorer: angle error\n",
    "def scorer(y_true, y_pred):\n",
    "    \"\"\"Scoring function dedicated to AngularRegressor\"\"\"\n",
    "    pi = np.pi\n",
    "    angle_errors = y_true - y_pred\n",
    "    score = np.mean(np.abs((angle_errors + pi) % (2 * pi) - pi))  # in [0, pi], chance = pi / 2\n",
    "    \n",
    "    # For vizualization clarity we actually report a score with a chance level at 0\n",
    "    # and that has increasing values with increasing accuracy.\n",
    "    score = np.pi / 2 - score  # in [-pi/2, pi/2], chance = 0\n",
    "    return score\n",
    "\n",
    "\n",
    "# Fit, predict, and score\n",
    "# ---- cv\n",
    "(X_train, y_train), (X_test, y_test) = cv(X, y)\n",
    "# ---- fit\n",
    "clf_cos.fit(X_train, np.cos(y_train))\n",
    "clf_sin.fit(X_train, np.sin(y_train))\n",
    "# ---- predict\n",
    "y_pred = np.arctan2(clf_sin.predict(X_test),\n",
    "                    clf_cos.predict(X_test))\n",
    "# ---- score\n",
    "score = scorer(y_test, y_pred)\n",
    "print('score:', score)\n",
    "\n",
    "\n",
    "# This angular estimator is defined in `jr.gat` as `AngularRegression` and directly takes circular\n",
    "# data as a `y` parameter.\n",
    "clf = AngularRegression(clf=LinearSVR(random_state=random_state))\n",
    "clf.fit(X_train, y_train)\n",
    "y_pred = clf.predict(X_test)\n",
    "print('score:',  scorer(y_test, y_pred))  # should be > 0\n",
    "\n",
    "# Try shuffling the data to check chance level\n",
    "np.random.shuffle(y)\n",
    "(X_train, y_train), (X_test, y_test) = cv(X, y)\n",
    "clf = AngularRegression(clf=LinearSVR(random_state=random_state))\n",
    "clf.fit(X_train, y_train)\n",
    "y_pred = clf.predict(X_test)\n",
    "print('random score:', scorer(y_test, y_pred))  # should be around 0"
   ]
  }
 ],
 "metadata": {
  "kernelspec": {
   "display_name": "Python 2",
   "language": "python",
   "name": "python2"
  },
  "language_info": {
   "codemirror_mode": {
    "name": "ipython",
    "version": 2
   },
   "file_extension": ".py",
   "mimetype": "text/x-python",
   "name": "python",
   "nbconvert_exporter": "python",
   "pygments_lexer": "ipython2",
   "version": "2.7.11"
  }
 },
 "nbformat": 4,
 "nbformat_minor": 0
}
