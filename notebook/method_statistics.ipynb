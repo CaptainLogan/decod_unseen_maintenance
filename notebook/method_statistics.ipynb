{
 "cells": [
  {
   "cell_type": "markdown",
   "metadata": {},
   "source": [
    "# Statistics\n",
    "\n",
    "This notebook shows how the statistics are performed across subjects.\n",
    "\n",
    "A unique statistics procedure was used across all analyses, and consisted in performing a 2nd order spatio-temporal cluster analysis across the effect size estimated within each subject.\n",
    "\n",
    "# Prepare data & functions"
   ]
  },
  {
   "cell_type": "code",
   "execution_count": 1,
   "metadata": {
    "collapsed": true
   },
   "outputs": [],
   "source": [
    "%matplotlib inline\n",
    "import numpy as np\n",
    "import matplotlib.pyplot as plt\n",
    "\n",
    "from mne import EpochsArray\n",
    "from mne.io.meas_info import create_info\n",
    "from mne.stats import spatio_temporal_cluster_1samp_test\n",
    "from mne.decoding import GeneralizationAcrossTime\n",
    "\n",
    "from sklearn.metrics import roc_auc_score"
   ]
  },
  {
   "cell_type": "code",
   "execution_count": 2,
   "metadata": {
    "collapsed": true
   },
   "outputs": [],
   "source": [
    "n_subject, n_trial, n_chan, n_time = 10, 40, 20, 50\n",
    "\n",
    "def make_data(y, topography, snr=.25):\n",
    "    \"\"\"Simulate `n_trials` measured at sensor level in a given subject.\"\"\"\n",
    "    X = np.zeros((n_trial, n_chan, n_time))\n",
    "    \n",
    "    # Add projection to sensors for each trial between start and stop\n",
    "    # Note that this is a stable activation (unique forward and source models)\n",
    "    start, stop = 10, n_time - 10\n",
    "    for time in range(start, stop):\n",
    "        X[:, :, time] += np.dot(topography, y[:, None].T).T\n",
    "\n",
    "    # Add background noise\n",
    "    X += np.random.randn(*X.shape) / snr\n",
    "    \n",
    "    # Format MEG data into MNE-Python object\n",
    "    events = np.vstack((range(n_trial), np.zeros(n_trial, int), y)).T\n",
    "    chan_names = ['MEG %i' % chan for chan in range(n_chan)]\n",
    "    chan_types = ['mag'] * n_chan\n",
    "    sfreq = 250\n",
    "    info = create_info(chan_names, sfreq, chan_types)\n",
    "    epochs = EpochsArray(data=X, info=info, events=events, verbose=False)\n",
    "    return epochs\n",
    "\n",
    "\n",
    "def stats(X):\n",
    "    \"\"\"Statistical test applied across subjects\"\"\"\n",
    "    # check input\n",
    "    X = np.array(X)\n",
    "    X = X[:, :, None] if X.ndim == 2 else X\n",
    "    \n",
    "    # stats function report p_value for each cluster\n",
    "    T_obs_, clusters, p_values, _ = spatio_temporal_cluster_1samp_test(\n",
    "        X, out_type='mask', n_permutations=2**12, n_jobs=-1, verbose=False)\n",
    "    \n",
    "    # format p_values to get same dimensionality as X\n",
    "    p_values_ = np.ones_like(X[0]).T\n",
    "    for cluster, pval in zip(clusters, p_values):\n",
    "        p_values_[cluster.T] = pval\n",
    "\n",
    "    return np.squeeze(p_values_).T\n",
    "\n",
    "\n",
    "def scorer(y_true, y_pred):\n",
    "    \"\"\"Proxy for effect size estimate, should it be uni- or multivariate\"\"\"\n",
    "    y_pred = y_pred[:, 1] if y_pred.ndim == 2 else y_pred  # ensure dimensionality\n",
    "    return roc_auc_score(y_true, y_pred)"
   ]
  },
  {
   "cell_type": "markdown",
   "metadata": {},
   "source": [
    "# Univariate stats"
   ]
  },
  {
   "cell_type": "code",
   "execution_count": 3,
   "metadata": {
    "collapsed": false
   },
   "outputs": [
    {
     "name": "stdout",
     "output_type": "stream",
     "text": [
      "('subject:', 0)\n",
      "('subject:', 1)\n",
      "('subject:', 2)\n",
      "('subject:', 3)\n",
      "('subject:', 4)\n",
      "('subject:', 5)\n",
      "('subject:', 6)\n",
      "('subject:', 7)\n",
      "('subject:', 8)\n",
      "('subject:', 9)\n",
      "('shape:', (10, 20, 50))\n"
     ]
    },
    {
     "data": {
      "image/png": "[encoded data removed]",
      "text/plain": [
       "<matplotlib.figure.Figure at 0x7f2121ea4a50>"
      ]
     },
     "metadata": {},
     "output_type": "display_data"
    }
   ],
   "source": [
    "# Simulate univariate subject scores.\n",
    "# Univariate stats can only see effects that are common across subjects, so the topography\n",
    "# must be relatively similar across subjects\n",
    "topography = np.random.randn(n_chan, 1)\n",
    "\n",
    "\n",
    "subjects_score = []\n",
    "for subject in range(n_subject):\n",
    "    print('subject:', subject)\n",
    "    \n",
    "    # Simulate epochs\n",
    "    y = np.random.randint(0, 2, n_trial)\n",
    "    epochs = make_data(y, topography=topography)\n",
    "    \n",
    "    # Estimate effect size for each channel at each time point\n",
    "    score = np.zeros((n_chan, n_time))\n",
    "    for chan in range(n_chan):\n",
    "        for time in range(n_time):\n",
    "            score[chan, time] = scorer(y, epochs._data[:, chan, time])\n",
    "    \n",
    "    # Concatenate single subject effect sizes\n",
    "    subjects_score.append(score)\n",
    "\n",
    "# Compute stats\n",
    "print('shape:', np.shape(subjects_score))\n",
    "chance = .5\n",
    "p_values = stats(np.array(subjects_score) - chance)\n",
    "\n",
    "# Plot mean effect size, and cluster corrected significant time/chan points\n",
    "fig, (ax_score, ax_pval) = plt.subplots(1, 2, figsize=[13, 4])\n",
    "im = ax_score.matshow(np.mean(subjects_score, axis=0))\n",
    "ax_score.set_xlabel('Time')\n",
    "ax_score.set_ylabel('Channels')\n",
    "ax_score.set_title('AUC')\n",
    "ax_score.set_xticks([])\n",
    "plt.colorbar(im, ax=ax_score)\n",
    "\n",
    "im = ax_pval.matshow(p_values < .05)\n",
    "ax_pval.set_xlabel('Time')\n",
    "ax_pval.set_ylabel('Channels')\n",
    "ax_pval.set_xticks([])\n",
    "ax_pval.set_title('p_values < .05')\n",
    "plt.colorbar(im, ax=ax_pval)\n",
    "plt.show()"
   ]
  },
  {
   "cell_type": "markdown",
   "metadata": {},
   "source": [
    "# Multivariate stats"
   ]
  },
  {
   "cell_type": "code",
   "execution_count": 4,
   "metadata": {
    "collapsed": false,
    "scrolled": false
   },
   "outputs": [
    {
     "name": "stdout",
     "output_type": "stream",
     "text": [
      "('subject:', 0)\n"
     ]
    },
    {
     "name": "stderr",
     "output_type": "stream",
     "text": [
      "/home/jrking/anaconda/lib/python2.7/site-packages/sklearn/cross_validation.py:43: DeprecationWarning: This module has been deprecated in favor of the model_selection module into which all the refactored classes and functions are moved. Also note that the interface of the new CV iterators are different from that of this module. This module will be removed in 0.20.\n",
      "  \"This module will be removed in 0.20.\", DeprecationWarning)\n"
     ]
    },
    {
     "ename": "IndexError",
     "evalue": "index 1 is out of bounds for axis 1 with size 1",
     "output_type": "error",
     "traceback": [
      "\u001b[1;31m---------------------------------------------------------------------------\u001b[0m",
      "\u001b[1;31mIndexError\u001b[0m                                Traceback (most recent call last)",
      "\u001b[1;32m<ipython-input-4-cad03c5dacdf>\u001b[0m in \u001b[0;36m<module>\u001b[1;34m()\u001b[0m\n\u001b[0;32m     17\u001b[0m \u001b[1;33m\u001b[0m\u001b[0m\n\u001b[0;32m     18\u001b[0m     \u001b[1;31m# Score (default: accuracy)\u001b[0m\u001b[1;33m\u001b[0m\u001b[1;33m\u001b[0m\u001b[0m\n\u001b[1;32m---> 19\u001b[1;33m     \u001b[0mscore\u001b[0m \u001b[1;33m=\u001b[0m \u001b[0mgat\u001b[0m\u001b[1;33m.\u001b[0m\u001b[0mscore\u001b[0m\u001b[1;33m(\u001b[0m\u001b[0mepochs\u001b[0m\u001b[1;33m)\u001b[0m\u001b[1;33m\u001b[0m\u001b[0m\n\u001b[0m\u001b[0;32m     20\u001b[0m \u001b[1;33m\u001b[0m\u001b[0m\n\u001b[0;32m     21\u001b[0m     \u001b[1;31m# Append multivariate effect size across subjects\u001b[0m\u001b[1;33m\u001b[0m\u001b[1;33m\u001b[0m\u001b[0m\n",
      "\u001b[1;32m/home/jrking/mne-python/mne/decoding/time_gen.pyc\u001b[0m in \u001b[0;36mscore\u001b[1;34m(self, epochs, y)\u001b[0m\n\u001b[0;32m    361\u001b[0m                        \u001b[1;33m[\u001b[0m\u001b[0mself\u001b[0m\u001b[1;33m.\u001b[0m\u001b[0my_pred_\u001b[0m\u001b[1;33m[\u001b[0m\u001b[0mtrain\u001b[0m\u001b[1;33m]\u001b[0m \u001b[1;32mfor\u001b[0m \u001b[0mtrain\u001b[0m \u001b[1;32min\u001b[0m \u001b[0msplit\u001b[0m\u001b[1;33m]\u001b[0m\u001b[1;33m,\u001b[0m\u001b[1;33m\u001b[0m\u001b[0m\n\u001b[0;32m    362\u001b[0m                        self.scorer_)\n\u001b[1;32m--> 363\u001b[1;33m             for split in splits)\n\u001b[0m\u001b[0;32m    364\u001b[0m \u001b[1;33m\u001b[0m\u001b[0m\n\u001b[0;32m    365\u001b[0m         \u001b[0mself\u001b[0m\u001b[1;33m.\u001b[0m\u001b[0mscores_\u001b[0m \u001b[1;33m=\u001b[0m \u001b[1;33m[\u001b[0m\u001b[0mscore\u001b[0m \u001b[1;32mfor\u001b[0m \u001b[0mchunk\u001b[0m \u001b[1;32min\u001b[0m \u001b[0mscores\u001b[0m \u001b[1;32mfor\u001b[0m \u001b[0mscore\u001b[0m \u001b[1;32min\u001b[0m \u001b[0mchunk\u001b[0m\u001b[1;33m]\u001b[0m\u001b[1;33m\u001b[0m\u001b[0m\n",
      "\u001b[1;32m/home/jrking/mne-python/mne/decoding/time_gen.pyc\u001b[0m in \u001b[0;36m<genexpr>\u001b[1;34m((split,))\u001b[0m\n\u001b[0;32m    361\u001b[0m                        \u001b[1;33m[\u001b[0m\u001b[0mself\u001b[0m\u001b[1;33m.\u001b[0m\u001b[0my_pred_\u001b[0m\u001b[1;33m[\u001b[0m\u001b[0mtrain\u001b[0m\u001b[1;33m]\u001b[0m \u001b[1;32mfor\u001b[0m \u001b[0mtrain\u001b[0m \u001b[1;32min\u001b[0m \u001b[0msplit\u001b[0m\u001b[1;33m]\u001b[0m\u001b[1;33m,\u001b[0m\u001b[1;33m\u001b[0m\u001b[0m\n\u001b[0;32m    362\u001b[0m                        self.scorer_)\n\u001b[1;32m--> 363\u001b[1;33m             for split in splits)\n\u001b[0m\u001b[0;32m    364\u001b[0m \u001b[1;33m\u001b[0m\u001b[0m\n\u001b[0;32m    365\u001b[0m         \u001b[0mself\u001b[0m\u001b[1;33m.\u001b[0m\u001b[0mscores_\u001b[0m \u001b[1;33m=\u001b[0m \u001b[1;33m[\u001b[0m\u001b[0mscore\u001b[0m \u001b[1;32mfor\u001b[0m \u001b[0mchunk\u001b[0m \u001b[1;32min\u001b[0m \u001b[0mscores\u001b[0m \u001b[1;32mfor\u001b[0m \u001b[0mscore\u001b[0m \u001b[1;32min\u001b[0m \u001b[0mchunk\u001b[0m\u001b[1;33m]\u001b[0m\u001b[1;33m\u001b[0m\u001b[0m\n",
      "\u001b[1;32m/home/jrking/mne-python/mne/decoding/time_gen.pyc\u001b[0m in \u001b[0;36m_score_slices\u001b[1;34m(y_true, list_y_pred, scorer)\u001b[0m\n\u001b[0;32m    501\u001b[0m         \u001b[1;32mfor\u001b[0m \u001b[0mt\u001b[0m\u001b[1;33m,\u001b[0m \u001b[0mthis_y_pred\u001b[0m \u001b[1;32min\u001b[0m \u001b[0menumerate\u001b[0m\u001b[1;33m(\u001b[0m\u001b[0my_pred\u001b[0m\u001b[1;33m)\u001b[0m\u001b[1;33m:\u001b[0m\u001b[1;33m\u001b[0m\u001b[0m\n\u001b[0;32m    502\u001b[0m             \u001b[1;31m# Scores across trials\u001b[0m\u001b[1;33m\u001b[0m\u001b[1;33m\u001b[0m\u001b[0m\n\u001b[1;32m--> 503\u001b[1;33m             \u001b[0mscores\u001b[0m\u001b[1;33m.\u001b[0m\u001b[0mappend\u001b[0m\u001b[1;33m(\u001b[0m\u001b[0mscorer\u001b[0m\u001b[1;33m(\u001b[0m\u001b[0my_true\u001b[0m\u001b[1;33m,\u001b[0m \u001b[0mnp\u001b[0m\u001b[1;33m.\u001b[0m\u001b[0marray\u001b[0m\u001b[1;33m(\u001b[0m\u001b[0mthis_y_pred\u001b[0m\u001b[1;33m)\u001b[0m\u001b[1;33m)\u001b[0m\u001b[1;33m)\u001b[0m\u001b[1;33m\u001b[0m\u001b[0m\n\u001b[0m\u001b[0;32m    504\u001b[0m         \u001b[0mscores_list\u001b[0m\u001b[1;33m.\u001b[0m\u001b[0mappend\u001b[0m\u001b[1;33m(\u001b[0m\u001b[0mscores\u001b[0m\u001b[1;33m)\u001b[0m\u001b[1;33m\u001b[0m\u001b[0m\n\u001b[0;32m    505\u001b[0m     \u001b[1;32mreturn\u001b[0m \u001b[0mscores_list\u001b[0m\u001b[1;33m\u001b[0m\u001b[0m\n",
      "\u001b[1;32m<ipython-input-2-c1fae871943e>\u001b[0m in \u001b[0;36mscorer\u001b[1;34m(y_true, y_pred)\u001b[0m\n\u001b[0;32m     44\u001b[0m \u001b[1;32mdef\u001b[0m \u001b[0mscorer\u001b[0m\u001b[1;33m(\u001b[0m\u001b[0my_true\u001b[0m\u001b[1;33m,\u001b[0m \u001b[0my_pred\u001b[0m\u001b[1;33m)\u001b[0m\u001b[1;33m:\u001b[0m\u001b[1;33m\u001b[0m\u001b[0m\n\u001b[0;32m     45\u001b[0m     \u001b[1;34m\"\"\"Proxy for effect size estimate, should it be uni- or multivariate\"\"\"\u001b[0m\u001b[1;33m\u001b[0m\u001b[0m\n\u001b[1;32m---> 46\u001b[1;33m     \u001b[0my_pred\u001b[0m \u001b[1;33m=\u001b[0m \u001b[0my_pred\u001b[0m\u001b[1;33m[\u001b[0m\u001b[1;33m:\u001b[0m\u001b[1;33m,\u001b[0m \u001b[1;36m1\u001b[0m\u001b[1;33m]\u001b[0m \u001b[1;32mif\u001b[0m \u001b[0my_pred\u001b[0m\u001b[1;33m.\u001b[0m\u001b[0mndim\u001b[0m \u001b[1;33m==\u001b[0m \u001b[1;36m2\u001b[0m \u001b[1;32melse\u001b[0m \u001b[0my_pred\u001b[0m  \u001b[1;31m# ensure dimensionality\u001b[0m\u001b[1;33m\u001b[0m\u001b[0m\n\u001b[0m\u001b[0;32m     47\u001b[0m     \u001b[1;32mreturn\u001b[0m \u001b[0mroc_auc_score\u001b[0m\u001b[1;33m(\u001b[0m\u001b[0my_true\u001b[0m\u001b[1;33m,\u001b[0m \u001b[0my_pred\u001b[0m\u001b[1;33m)\u001b[0m\u001b[1;33m\u001b[0m\u001b[0m\n",
      "\u001b[1;31mIndexError\u001b[0m: index 1 is out of bounds for axis 1 with size 1"
     ]
    }
   ],
   "source": [
    "# Simulate subject scores\n",
    "subjects_score = []\n",
    "for subject in range(n_subject):\n",
    "    print('subject:', subject)\n",
    "    \n",
    "    # Multivariate stats can see effects that are different across subjects.\n",
    "    # The coding topography may therefore vary.\n",
    "    topography = np.random.randn(n_chan, 1)\n",
    "\n",
    "    # Simulate epochs\n",
    "    y = np.random.randint(0, 2, n_trial)\n",
    "    epochs = make_data(y, topography=topography)\n",
    "    \n",
    "    # Fit (default: standard scaler + logistic regression)\n",
    "    gat = GeneralizationAcrossTime(scorer=scorer)\n",
    "    gat.fit(epochs)\n",
    "    \n",
    "    # Score (default: accuracy)\n",
    "    score = gat.score(epochs)\n",
    "    \n",
    "    # Append multivariate effect size across subjects\n",
    "    subjects_score.append(score)\n",
    "\n",
    "# Here chance level is .5 (because it's a categorical decision, and n_class=2)\n",
    "chance = .5\n",
    "p_values = stats(np.array(subjects_score) - chance)\n",
    "\n",
    "\n",
    "# Plot mean effect size, and cluster corrected significant time points\n",
    "fig, (ax_score, ax_pval) = plt.subplots(1, 2, figsize=[13, 4])\n",
    "im = ax_score.matshow(np.mean(subjects_score, axis=0))\n",
    "ax_score.set_xlabel('Test time')\n",
    "ax_score.set_ylabel('Train time')\n",
    "ax_score.set_title('AUC')\n",
    "ax_score.set_xticks([])\n",
    "plt.colorbar(im, ax=ax_score)\n",
    "\n",
    "im = ax_pval.matshow(p_values < .05)\n",
    "ax_pval.set_xlabel('Test time')\n",
    "ax_pval.set_ylabel('Train time')\n",
    "ax_pval.set_xticks([])\n",
    "ax_pval.set_title('p_values < .05')\n",
    "plt.colorbar(im, ax=ax_pval)\n",
    "plt.show()"
   ]
  }
 ],
 "metadata": {
  "kernelspec": {
   "display_name": "Python 2",
   "language": "python",
   "name": "python2"
  },
  "language_info": {
   "codemirror_mode": {
    "name": "ipython",
    "version": 2
   },
   "file_extension": ".py",
   "mimetype": "text/x-python",
   "name": "python",
   "nbconvert_exporter": "python",
   "pygments_lexer": "ipython2",
   "version": "2.7.11"
  }
 },
 "nbformat": 4,
 "nbformat_minor": 0
}
