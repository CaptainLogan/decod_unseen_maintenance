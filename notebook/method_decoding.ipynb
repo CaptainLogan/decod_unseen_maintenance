{
 "cells": [
  {
   "cell_type": "markdown",
   "metadata": {},
   "source": [
    "# Understanding the decoding framework\n",
    "\n",
    "This notebooks takes you through the `TimeDecoding` and `GeneralizationAcrossTime` objects, so as to understand how a simple classifier can be fitted and used to make predictions at each time sample in a cross validation scheme.\n",
    "\n",
    "# Prepare data\n"
   ]
  },
  {
   "cell_type": "code",
   "execution_count": 1,
   "metadata": {
    "collapsed": false
   },
   "outputs": [],
   "source": [
    "%matplotlib inline\n",
    "import numpy as np\n",
    "import matplotlib.pyplot as plt\n",
    "\n",
    "from mne import EpochsArray\n",
    "from mne.io.meas_info import create_info\n",
    "from mne.decoding import TimeDecoding, GeneralizationAcrossTime\n",
    "\n",
    "from sklearn.pipeline import make_pipeline\n",
    "from sklearn.preprocessing import StandardScaler\n",
    "from sklearn.svm import SVC\n",
    "from sklearn.model_selection import cross_val_score, StratifiedKFold\n",
    "from sklearn.metrics import roc_auc_score"
   ]
  },
  {
   "cell_type": "code",
   "execution_count": 2,
   "metadata": {
    "collapsed": false
   },
   "outputs": [
    {
     "data": {
      "image/png": "[encoded data removed]",
      "text/plain": [
       "<matplotlib.figure.Figure at 0x7f711f6ce210>"
      ]
     },
     "metadata": {},
     "output_type": "display_data"
    }
   ],
   "source": [
    "# Simulate an MEG epoch dataset for a given subject. \n",
    "n_trial, n_chan, n_time = 100, 20, 50\n",
    "\n",
    "# The convention in machine learning is that we're looking for a a function `f` so that `f(X) = y`.\n",
    "# Here `X` is the MEG data, `y` is the experimental condition and `f` will be linear.\n",
    "X = np.ones((n_trial, n_chan, n_time))\n",
    "\n",
    "# We'll start with a categorical `y` (e.g. present versus absent trials):\n",
    "y = np.random.randint(0, 2, n_trial)\n",
    "\n",
    "# Add information on a third of the channels so that `X` encodes `y`.\n",
    "# -- Define a unique coding topography\n",
    "coding_chan = np.random.randn(n_chan)\n",
    "# --- Define coding times\n",
    "coding_time = np.arange(n_time) > 5\n",
    "codes = np.transpose([encode * coding_chan for encode in coding_time])\n",
    "# --- Add information to trials where `y==1`:\n",
    "codes = np.array([trial * codes for trial in y])\n",
    "X += codes\n",
    "\n",
    "# Add common activity to all trials\n",
    "common_activity = np.random.randn(n_chan, n_time)\n",
    "X += np.tile(common_activity, [n_trial, 1, 1])\n",
    "\n",
    "# Add background noise\n",
    "snr = .5\n",
    "X += np.random.randn(*X.shape) / snr\n",
    "\n",
    "# Plot mean difference across conditions\n",
    "fig, ax = plt.subplots(1)\n",
    "ax.matshow(X[y==0].mean(0) - X[y==1].mean(0))\n",
    "ax.set_xlabel('Time')\n",
    "ax.set_ylabel('Channels')\n",
    "plt.show()"
   ]
  },
  {
   "cell_type": "markdown",
   "metadata": {},
   "source": [
    "# Decoding"
   ]
  },
  {
   "cell_type": "code",
   "execution_count": 3,
   "metadata": {
    "collapsed": false
   },
   "outputs": [
    {
     "data": {
      "image/png": "[encoded data removed]",
      "text/plain": [
       "<matplotlib.figure.Figure at 0x7f711d58d810>"
      ]
     },
     "metadata": {},
     "output_type": "display_data"
    }
   ],
   "source": [
    "# Let's define a linear SVM classifier. To optimize the result, we use \n",
    "#     i) a normalization step,\n",
    "#     ii) a probabilistic output.\n",
    "clf = make_pipeline(StandardScaler(), SVC(kernel='linear', probability=True))\n",
    "\n",
    "# As the output is continuous and not discrete, the scoring metrics is an Area Under the Curve.\n",
    "# Note: scikit-learn doesn't score probabilistic estimates by default, so we're building it ourself.\n",
    "\n",
    "def scorer(y_true, y_pred):\n",
    "    # Probabilistic estimates are reported for each class. In our case \n",
    "    # `y_pred` shape is (n_trials, 2), where `y[:, 0] = 1 - y[:, 1]`.\n",
    "    return roc_auc_score(y_true, y_pred[:, 1])\n",
    "\n",
    "# To avoid over-fitting we have to use a cross-validation procedure. Since it is \n",
    "# a classification problem, it's better to use stratified folding\n",
    "cv = StratifiedKFold()\n",
    "\n",
    "# Let's train and test a classifier at each time sample\n",
    "scores = []\n",
    "for time in range(n_time):\n",
    "    score_cv = []\n",
    "    y_pred = np.zeros((n_trial, 2))  # Probabilistic estimates are reported for each class, hence n = 2\n",
    "    for train, test in cv.split(X=X, y=y):\n",
    "        # Fit on train set\n",
    "        clf.fit(X[train, :, time], y[train])\n",
    "        # Predict on test set\n",
    "        y_pred[test, :] = clf.predict_proba(X[test, :, time])\n",
    "    # Score across all predictions.\n",
    "    # Note that in Machine Learning, we usually score per fold to estimate the variance across folds. \n",
    "    # Since we won't do any statistics within subjects, but only across subjects, we can directly concatenate\n",
    "    # the folds. \n",
    "    score = scorer(y, y_pred)\n",
    "    scores.append(score)\n",
    "\n",
    "# Plot\n",
    "fig, ax = plt.subplots(1)\n",
    "ax.plot(scores)\n",
    "ax.set_xlabel('Time')\n",
    "ax.set_ylabel('AUC')\n",
    "ax.axhline(.5, color='k', linestyle='--')\n",
    "plt.show()    "
   ]
  },
  {
   "cell_type": "code",
   "execution_count": 4,
   "metadata": {
    "collapsed": false
   },
   "outputs": [
    {
     "name": "stderr",
     "output_type": "stream",
     "text": [
      "/home/jrking/anaconda/lib/python2.7/site-packages/sklearn/cross_validation.py:43: DeprecationWarning: This module has been deprecated in favor of the model_selection module into which all the refactored classes and functions are moved. Also note that the interface of the new CV iterators are different from that of this module. This module will be removed in 0.20.\n",
      "  \"This module will be removed in 0.20.\", DeprecationWarning)\n"
     ]
    },
    {
     "ename": "TypeError",
     "evalue": "'StratifiedKFold' object is not iterable",
     "output_type": "error",
     "traceback": [
      "\u001b[1;31m---------------------------------------------------------------------------\u001b[0m",
      "\u001b[1;31mTypeError\u001b[0m                                 Traceback (most recent call last)",
      "\u001b[1;32m<ipython-input-4-11ae2e260610>\u001b[0m in \u001b[0;36m<module>\u001b[1;34m()\u001b[0m\n\u001b[0;32m     12\u001b[0m \u001b[1;31m# Decoding\u001b[0m\u001b[1;33m\u001b[0m\u001b[1;33m\u001b[0m\u001b[0m\n\u001b[0;32m     13\u001b[0m \u001b[0mtd\u001b[0m \u001b[1;33m=\u001b[0m \u001b[0mTimeDecoding\u001b[0m\u001b[1;33m(\u001b[0m\u001b[0mscorer\u001b[0m\u001b[1;33m=\u001b[0m\u001b[0mscorer\u001b[0m\u001b[1;33m,\u001b[0m \u001b[0mcv\u001b[0m\u001b[1;33m=\u001b[0m\u001b[0mcv\u001b[0m\u001b[1;33m,\u001b[0m \u001b[0mpredict_method\u001b[0m\u001b[1;33m=\u001b[0m\u001b[1;34m'predict_proba'\u001b[0m\u001b[1;33m)\u001b[0m\u001b[1;33m\u001b[0m\u001b[0m\n\u001b[1;32m---> 14\u001b[1;33m \u001b[0mtd\u001b[0m\u001b[1;33m.\u001b[0m\u001b[0mfit\u001b[0m\u001b[1;33m(\u001b[0m\u001b[0mepochs\u001b[0m\u001b[1;33m,\u001b[0m \u001b[0my\u001b[0m\u001b[1;33m=\u001b[0m\u001b[0my\u001b[0m\u001b[1;33m)\u001b[0m\u001b[1;33m\u001b[0m\u001b[0m\n\u001b[0m\u001b[0;32m     15\u001b[0m \u001b[0mtd\u001b[0m\u001b[1;33m.\u001b[0m\u001b[0mscore\u001b[0m\u001b[1;33m(\u001b[0m\u001b[0mepochs\u001b[0m\u001b[1;33m,\u001b[0m \u001b[0my\u001b[0m\u001b[1;33m=\u001b[0m\u001b[0my\u001b[0m\u001b[1;33m)\u001b[0m\u001b[1;33m\u001b[0m\u001b[0m\n\u001b[0;32m     16\u001b[0m \u001b[0mtd\u001b[0m\u001b[1;33m.\u001b[0m\u001b[0mplot\u001b[0m\u001b[1;33m(\u001b[0m\u001b[0mchance\u001b[0m\u001b[1;33m=\u001b[0m\u001b[1;36m.5\u001b[0m\u001b[1;33m)\u001b[0m\u001b[1;33m\u001b[0m\u001b[0m\n",
      "\u001b[1;32m/home/jrking/mne-python/mne/decoding/time_gen.pyc\u001b[0m in \u001b[0;36mfit\u001b[1;34m(self, epochs, y)\u001b[0m\n\u001b[0;32m   1226\u001b[0m         \"\"\"\n\u001b[0;32m   1227\u001b[0m         \u001b[0mself\u001b[0m\u001b[1;33m.\u001b[0m\u001b[0m_prep_times\u001b[0m\u001b[1;33m(\u001b[0m\u001b[1;33m)\u001b[0m\u001b[1;33m\u001b[0m\u001b[0m\n\u001b[1;32m-> 1228\u001b[1;33m         \u001b[0msuper\u001b[0m\u001b[1;33m(\u001b[0m\u001b[0mTimeDecoding\u001b[0m\u001b[1;33m,\u001b[0m \u001b[0mself\u001b[0m\u001b[1;33m)\u001b[0m\u001b[1;33m.\u001b[0m\u001b[0mfit\u001b[0m\u001b[1;33m(\u001b[0m\u001b[0mepochs\u001b[0m\u001b[1;33m,\u001b[0m \u001b[0my\u001b[0m\u001b[1;33m=\u001b[0m\u001b[0my\u001b[0m\u001b[1;33m)\u001b[0m\u001b[1;33m\u001b[0m\u001b[0m\n\u001b[0m\u001b[0;32m   1229\u001b[0m         \u001b[0mself\u001b[0m\u001b[1;33m.\u001b[0m\u001b[0m_clean_times\u001b[0m\u001b[1;33m(\u001b[0m\u001b[1;33m)\u001b[0m\u001b[1;33m\u001b[0m\u001b[0m\n\u001b[0;32m   1230\u001b[0m         \u001b[1;32mreturn\u001b[0m \u001b[0mself\u001b[0m\u001b[1;33m\u001b[0m\u001b[0m\n",
      "\u001b[1;32m/home/jrking/mne-python/mne/decoding/time_gen.pyc\u001b[0m in \u001b[0;36mfit\u001b[1;34m(self, epochs, y)\u001b[0m\n\u001b[0;32m    143\u001b[0m         \u001b[0mcv\u001b[0m \u001b[1;33m=\u001b[0m \u001b[0mcheck_cv\u001b[0m\u001b[1;33m(\u001b[0m\u001b[0mcv\u001b[0m\u001b[1;33m,\u001b[0m \u001b[0mX\u001b[0m\u001b[1;33m,\u001b[0m \u001b[0my\u001b[0m\u001b[1;33m,\u001b[0m \u001b[0mclassifier\u001b[0m\u001b[1;33m=\u001b[0m\u001b[0mTrue\u001b[0m\u001b[1;33m)\u001b[0m\u001b[1;33m\u001b[0m\u001b[0m\n\u001b[0;32m    144\u001b[0m         \u001b[0mself\u001b[0m\u001b[1;33m.\u001b[0m\u001b[0mcv_\u001b[0m \u001b[1;33m=\u001b[0m \u001b[0mcv\u001b[0m  \u001b[1;31m# update CV\u001b[0m\u001b[1;33m\u001b[0m\u001b[0m\n\u001b[1;32m--> 145\u001b[1;33m         \u001b[1;32mif\u001b[0m \u001b[1;32mnot\u001b[0m \u001b[0mnp\u001b[0m\u001b[1;33m.\u001b[0m\u001b[0mall\u001b[0m\u001b[1;33m(\u001b[0m\u001b[1;33m[\u001b[0m\u001b[0mlen\u001b[0m\u001b[1;33m(\u001b[0m\u001b[0mtrain\u001b[0m\u001b[1;33m)\u001b[0m \u001b[1;32mfor\u001b[0m \u001b[0mtrain\u001b[0m\u001b[1;33m,\u001b[0m \u001b[0m_\u001b[0m \u001b[1;32min\u001b[0m \u001b[0mself\u001b[0m\u001b[1;33m.\u001b[0m\u001b[0mcv_\u001b[0m\u001b[1;33m]\u001b[0m\u001b[1;33m)\u001b[0m\u001b[1;33m:\u001b[0m\u001b[1;33m\u001b[0m\u001b[0m\n\u001b[0m\u001b[0;32m    146\u001b[0m             \u001b[1;32mraise\u001b[0m \u001b[0mValueError\u001b[0m\u001b[1;33m(\u001b[0m\u001b[1;34m'Some folds do not have any train epochs.'\u001b[0m\u001b[1;33m)\u001b[0m\u001b[1;33m\u001b[0m\u001b[0m\n\u001b[0;32m    147\u001b[0m \u001b[1;33m\u001b[0m\u001b[0m\n",
      "\u001b[1;31mTypeError\u001b[0m: 'StratifiedKFold' object is not iterable"
     ]
    }
   ],
   "source": [
    "# This decoding pipeline has now been integrated in MNE-Python.\n",
    "# The corresponding code is more complex to optimize speed and memory\n",
    "\n",
    "# Format MEG data into MNE-Python object\n",
    "events = np.vstack((range(n_trial), np.zeros(n_trial, int), y)).T\n",
    "chan_names = ['MEG %i' % chan for chan in range(n_chan)]\n",
    "chan_types = ['mag'] * n_chan\n",
    "sfreq = 250\n",
    "info = create_info(chan_names, sfreq, chan_types)\n",
    "epochs = EpochsArray(data=X, info=info, events=events, verbose=False)\n",
    "\n",
    "# Decoding\n",
    "td = TimeDecoding(scorer=scorer, cv=cv, predict_method='predict_proba')\n",
    "td.fit(epochs, y=y)\n",
    "td.score(epochs, y=y)\n",
    "td.plot(chance=.5)\n",
    "plt.show()"
   ]
  },
  {
   "cell_type": "markdown",
   "metadata": {},
   "source": [
    "# Generalization across time"
   ]
  },
  {
   "cell_type": "code",
   "execution_count": null,
   "metadata": {
    "collapsed": false
   },
   "outputs": [],
   "source": [
    "# The generalization across time is very similar, except that we predict and score each estimator at all time points.\n",
    "# This is achieved with the GeneralizationAcrossTime object\n",
    "gat = GeneralizationAcrossTime(scorer=scorer, cv=cv, predict_method='predict_proba')\n",
    "gat.fit(epochs, y=y)\n",
    "gat.score(epochs, y=y)\n",
    "gat.plot()\n",
    "gat.plot_diagonal(chance=.5)  # Note that the GAT diagonal corresponds to TimeDecoding\n",
    "plt.show()"
   ]
  }
 ],
 "metadata": {
  "kernelspec": {
   "display_name": "Python 2",
   "language": "python",
   "name": "python2"
  },
  "language_info": {
   "codemirror_mode": {
    "name": "ipython",
    "version": 2
   },
   "file_extension": ".py",
   "mimetype": "text/x-python",
   "name": "python",
   "nbconvert_exporter": "python",
   "pygments_lexer": "ipython2",
   "version": "2.7.11"
  }
 },
 "nbformat": 4,
 "nbformat_minor": 0
}
