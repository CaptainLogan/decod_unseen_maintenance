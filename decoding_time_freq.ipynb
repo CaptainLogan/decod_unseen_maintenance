{
 "cells": [
  {
   "cell_type": "code",
   "execution_count": 1,
   "metadata": {
    "collapsed": true
   },
   "outputs": [],
   "source": [
    "%matplotlib inline\n",
    "import os\n",
    "os.chdir('/media/DATA/Pro/Projects/Paris/Orientation/Niccolo/Paris_orientation-decoding')"
   ]
  },
  {
   "cell_type": "code",
   "execution_count": 2,
   "metadata": {
    "collapsed": false
   },
   "outputs": [
    {
     "name": "stdout",
     "output_type": "stream",
     "text": [
      "\n"
     ]
    }
   ],
   "source": [
    "import numpy as np\n",
    "import matplotlib.pyplot as plt\n",
    "import pickle\n",
    "from mne.time_frequency import single_trial_power\n",
    "from mne.decoding import GeneralizationAcrossTime\n",
    "from base import load_epochs_events, resample_epochs, decim\n",
    "from config import paths, subjects, preproc, analyses\n",
    "from jr.gat import scorer_auc\n",
    "# Select target presence analysis: strongest SNR\n",
    "analysis = [ii for ii in analyses if ii['name'] == 'target_present'][0]"
   ]
  },
  {
   "cell_type": "code",
   "execution_count": 3,
   "metadata": {
    "collapsed": true
   },
   "outputs": [],
   "source": [
    "def load_data(subject):\n",
    "    # load data\n",
    "    epochs, events = load_epochs_events(subject, paths)\n",
    "    \n",
    "    # remove meaningless trials\n",
    "    query, condition = analysis['query'], analysis['condition']\n",
    "    sel = range(len(events)) if query is None else events.query(query).index\n",
    "    sel = [ii for ii in sel if ~np.isnan(events[condition][sel][ii])]\n",
    "    \n",
    "    # set regressor\n",
    "    y = np.array(events[condition], dtype=np.float32)\n",
    "    \n",
    "    return epochs, y"
   ]
  },
  {
   "cell_type": "code",
   "execution_count": 6,
   "metadata": {
    "collapsed": false
   },
   "outputs": [
    {
     "data": {
      "text/plain": [
       "<EpochsArray  |  n_events : 841 (all good), tmin : -0.203125 (s), tmax : 1.203125 (s), baseline : None,\n",
       " '1': 20, '10': 20, '11': 20, '12': 20, '13': 20, '14': 20, '15': 20, '16': 20, '17': 20, '18': 20, '19': 80, '2': 20, '20': 81, '21': 80, '22': 80, '23': 80, '24': 80, '3': 20, '4': 20, '5': 20, '6': 20, '7': 20, '8': 20, '9': 20>"
      ]
     },
     "execution_count": 6,
     "metadata": {},
     "output_type": "execute_result"
    }
   ],
   "source": [
    "from jr.gat import TimeFrequencyDecoding, scorer_auc\n",
    "from mne.decoding import TimeDecoding\n",
    "\n",
    "epochs, y = load_data(subjects[0])\n",
    "epochs.pick_types(meg='mag')"
   ]
  },
  {
   "cell_type": "code",
   "execution_count": 19,
   "metadata": {
    "collapsed": false
   },
   "outputs": [
    {
     "name": "stdout",
     "output_type": "stream",
     "text": [
      "Computing time-frequency power on single epochs...\n"
     ]
    },
    {
     "name": "stderr",
     "output_type": "stream",
     "text": [
      "[Parallel(n_jobs=8)]: Done   1 out of 355 | elapsed:    0.0s remaining:    7.1s\n",
      "[Parallel(n_jobs=8)]: Done 167 out of 841 | elapsed:    0.5s remaining:    2.2s\n",
      "[Parallel(n_jobs=8)]: Done 336 out of 841 | elapsed:    1.1s remaining:    1.6s\n",
      "[Parallel(n_jobs=8)]: Done 505 out of 841 | elapsed:    1.6s remaining:    1.0s\n",
      "[Parallel(n_jobs=8)]: Done 674 out of 841 | elapsed:    2.1s remaining:    0.5s\n",
      "[Parallel(n_jobs=8)]: Done 841 out of 841 | elapsed:    2.7s finished\n"
     ]
    },
    {
     "name": "stdout",
     "output_type": "stream",
     "text": [
      "No baseline correction applied\n",
      "841 matching events found\n",
      "No baseline correction applied\n",
      "0 projection items activated\n",
      "0 bad epochs dropped\n"
     ]
    },
    {
     "name": "stderr",
     "output_type": "stream",
     "text": [
      "[Parallel(n_jobs=8)]: Done   6 out of   8 | elapsed:   59.6s remaining:   19.9s\n",
      "[Parallel(n_jobs=8)]: Done   1 out of   8 | elapsed:   59.9s remaining:  7.0min\n",
      "[Parallel(n_jobs=8)]: Done   4 out of   8 | elapsed:  1.0min remaining:  1.0min\n",
      "[Parallel(n_jobs=8)]: Done   2 out of   8 | elapsed:  1.0min remaining:  3.0min\n",
      "[Parallel(n_jobs=8)]: Done   8 out of   8 | elapsed:  1.0min finished\n"
     ]
    },
    {
     "data": {
      "text/plain": [
       "<__main__.TimeFrequencyDecoding instance at 0x7f4dfccde320>"
      ]
     },
     "execution_count": 19,
     "metadata": {},
     "output_type": "execute_result"
    }
   ],
   "source": [
    "tfd = TimeFrequencyDecoding(freqs=np.arange(5., 10., 4), tfr_kwargs=dict(decim=10, n_cycles=3), n_jobs=-1)\n",
    "tfd.fit(epochs)"
   ]
  },
  {
   "cell_type": "code",
   "execution_count": 20,
   "metadata": {
    "collapsed": false
   },
   "outputs": [
    {
     "name": "stderr",
     "output_type": "stream",
     "text": [
      "[Parallel(n_jobs=8)]: Done   1 out of   1 | elapsed:    0.4s remaining:    0.0s\n",
      "[Parallel(n_jobs=8)]: Done   1 out of   1 | elapsed:    0.4s finished\n",
      "[Parallel(n_jobs=8)]: Done   1 out of   8 | elapsed:    0.0s remaining:    0.1s\n",
      "[Parallel(n_jobs=8)]: Done   2 out of   8 | elapsed:    0.0s remaining:    0.0s\n",
      "[Parallel(n_jobs=8)]: Done   4 out of   8 | elapsed:    0.0s remaining:    0.0s\n",
      "[Parallel(n_jobs=8)]: Done   6 out of   8 | elapsed:    0.0s remaining:    0.0s\n",
      "[Parallel(n_jobs=8)]: Done   8 out of   8 | elapsed:    0.0s finished\n"
     ]
    }
   ],
   "source": [
    "tfd.td.n_jobs = -1\n",
    "scores = tfd.score()"
   ]
  },
  {
   "cell_type": "code",
   "execution_count": 21,
   "metadata": {
    "collapsed": false
   },
   "outputs": [
    {
     "data": {
      "text/plain": [
       "<matplotlib.image.AxesImage at 0x7f4de6bf0e90>"
      ]
     },
     "execution_count": 21,
     "metadata": {},
     "output_type": "execute_result"
    },
    {
     "data": {
      "image/png": "[encoded data removed]",
      "text/plain": [
       "<matplotlib.figure.Figure at 0x7f4dfccc4d10>"
      ]
     },
     "metadata": {},
     "output_type": "display_data"
    }
   ],
   "source": [
    "plt.matshow(scores)"
   ]
  },
  {
   "cell_type": "code",
   "execution_count": 6,
   "metadata": {
    "collapsed": false,
    "scrolled": true
   },
   "outputs": [],
   "source": [
    "def decod_freqs(subject):\n",
    "    scores = list()\n",
    "    freqs = np.arange(5., 30., .5)\n",
    "\n",
    "    for ii, freq in enumerate(freqs):\n",
    "        decim = 2\n",
    "        epochs, y = load_data(subject)\n",
    "        tfr = single_trial_power(epochs._data, sfreq=epochs.info['sfreq'],\n",
    "                                 frequencies=[freq], \n",
    "                                 n_cycles=4)\n",
    "        epochs.decimate(decim)\n",
    "        epochs._data = tfr[:, :, 0, ::decim]\n",
    "        gat = GeneralizationAcrossTime(scorer=scorer_auc, n_jobs=4,\n",
    "                                       test_times='diagonal',\n",
    "                                       predict_method='predict_proba')\n",
    "        gat.fit(epochs, y=y)\n",
    "        score = gat.score(epochs, y)\n",
    "        scores.append(score)\n",
    "    return np.squeeze(scores)"
   ]
  },
  {
   "cell_type": "code",
   "execution_count": null,
   "metadata": {
    "collapsed": true
   },
   "outputs": [],
   "source": [
    "scores = list()"
   ]
  },
  {
   "cell_type": "code",
   "execution_count": 9,
   "metadata": {
    "collapsed": false
   },
   "outputs": [
    {
     "name": "stdout",
     "output_type": "stream",
     "text": [
      "Computing time-frequency power on single epochs...\n",
      "No baseline correction applied\n",
      "The measurement information indicates a low-pass frequency of 64 Hz. The decim=2 parameter will result in a sampling frequency of 64 Hz, which can cause aliasing artifacts.\n"
     ]
    },
    {
     "name": "stderr",
     "output_type": "stream",
     "text": [
      "/home/jrking/anaconda/lib/python2.7/site-packages/ipykernel/__main__.py:11: RuntimeWarning: The measurement information indicates a low-pass frequency of 64 Hz. The decim=2 parameter will result in a sampling frequency of 64 Hz, which can cause aliasing artifacts.\n",
      "[Parallel(n_jobs=4)]: Done   2 out of   4 | elapsed:   29.9s remaining:   29.9s\n",
      "[Parallel(n_jobs=4)]: Done   3 out of   4 | elapsed:   34.1s remaining:   11.4s\n",
      "[Parallel(n_jobs=4)]: Done   1 out of   4 | elapsed:   34.4s remaining:  1.7min\n",
      "[Parallel(n_jobs=4)]: Done   4 out of   4 | elapsed:   34.4s finished\n",
      "[Parallel(n_jobs=4)]: Done   1 out of   1 | elapsed:    1.5s remaining:    0.0s\n",
      "[Parallel(n_jobs=4)]: Done   1 out of   1 | elapsed:    1.5s finished\n",
      "[Parallel(n_jobs=4)]: Done   1 out of   4 | elapsed:    0.1s remaining:    0.4s\n",
      "[Parallel(n_jobs=4)]: Done   2 out of   4 | elapsed:    0.1s remaining:    0.1s\n",
      "[Parallel(n_jobs=4)]: Done   3 out of   4 | elapsed:    0.2s remaining:    0.1s\n",
      "[Parallel(n_jobs=4)]: Done   4 out of   4 | elapsed:    0.2s finished\n"
     ]
    },
    {
     "name": "stdout",
     "output_type": "stream",
     "text": [
      "Computing time-frequency power on single epochs...\n",
      "No baseline correction applied\n",
      "The measurement information indicates a low-pass frequency of 64 Hz. The decim=2 parameter will result in a sampling frequency of 64 Hz, which can cause aliasing artifacts.\n"
     ]
    },
    {
     "name": "stderr",
     "output_type": "stream",
     "text": [
      "[Parallel(n_jobs=4)]: Done   2 out of   4 | elapsed:   30.1s remaining:   30.1s\n",
      "[Parallel(n_jobs=4)]: Done   3 out of   4 | elapsed:   32.2s remaining:   10.7s\n",
      "[Parallel(n_jobs=4)]: Done   1 out of   4 | elapsed:   33.8s remaining:  1.7min\n",
      "[Parallel(n_jobs=4)]: Done   4 out of   4 | elapsed:   33.8s finished\n",
      "[Parallel(n_jobs=4)]: Done   1 out of   1 | elapsed:    1.4s remaining:    0.0s\n",
      "[Parallel(n_jobs=4)]: Done   1 out of   1 | elapsed:    1.4s finished\n",
      "[Parallel(n_jobs=4)]: Done   3 out of   4 | elapsed:    0.1s remaining:    0.0s\n",
      "[Parallel(n_jobs=4)]: Done   1 out of   4 | elapsed:    0.2s remaining:    0.6s\n",
      "[Parallel(n_jobs=4)]: Done   2 out of   4 | elapsed:    0.2s remaining:    0.2s\n",
      "[Parallel(n_jobs=4)]: Done   4 out of   4 | elapsed:    0.2s finished\n"
     ]
    },
    {
     "name": "stdout",
     "output_type": "stream",
     "text": [
      "Computing time-frequency power on single epochs...\n",
      "No baseline correction applied\n",
      "The measurement information indicates a low-pass frequency of 64 Hz. The decim=2 parameter will result in a sampling frequency of 64 Hz, which can cause aliasing artifacts.\n"
     ]
    },
    {
     "name": "stderr",
     "output_type": "stream",
     "text": [
      "[Parallel(n_jobs=4)]: Done   2 out of   4 | elapsed:   32.1s remaining:   32.1s\n",
      "[Parallel(n_jobs=4)]: Done   1 out of   4 | elapsed:   33.6s remaining:  1.7min\n",
      "[Parallel(n_jobs=4)]: Done   3 out of   4 | elapsed:   35.0s remaining:   11.7s\n",
      "[Parallel(n_jobs=4)]: Done   4 out of   4 | elapsed:   35.0s finished\n",
      "[Parallel(n_jobs=4)]: Done   1 out of   1 | elapsed:    1.5s remaining:    0.0s\n",
      "[Parallel(n_jobs=4)]: Done   1 out of   1 | elapsed:    1.5s finished\n",
      "[Parallel(n_jobs=4)]: Done   2 out of   4 | elapsed:    0.1s remaining:    0.1s\n",
      "[Parallel(n_jobs=4)]: Done   3 out of   4 | elapsed:    0.1s remaining:    0.0s\n",
      "[Parallel(n_jobs=4)]: Done   1 out of   4 | elapsed:    0.2s remaining:    0.6s\n",
      "[Parallel(n_jobs=4)]: Done   4 out of   4 | elapsed:    0.2s finished\n"
     ]
    },
    {
     "name": "stdout",
     "output_type": "stream",
     "text": [
      "Computing time-frequency power on single epochs...\n",
      "No baseline correction applied\n",
      "The measurement information indicates a low-pass frequency of 64 Hz. The decim=2 parameter will result in a sampling frequency of 64 Hz, which can cause aliasing artifacts.\n"
     ]
    },
    {
     "name": "stderr",
     "output_type": "stream",
     "text": [
      "[Parallel(n_jobs=4)]: Done   2 out of   4 | elapsed:   27.2s remaining:   27.2s\n",
      "[Parallel(n_jobs=4)]: Done   3 out of   4 | elapsed:   33.5s remaining:   11.2s\n",
      "[Parallel(n_jobs=4)]: Done   1 out of   4 | elapsed:   34.1s remaining:  1.7min\n",
      "[Parallel(n_jobs=4)]: Done   4 out of   4 | elapsed:   34.1s finished\n",
      "[Parallel(n_jobs=4)]: Done   1 out of   1 | elapsed:    1.5s remaining:    0.0s\n",
      "[Parallel(n_jobs=4)]: Done   1 out of   1 | elapsed:    1.5s finished\n",
      "[Parallel(n_jobs=4)]: Done   1 out of   4 | elapsed:    0.1s remaining:    0.4s\n",
      "[Parallel(n_jobs=4)]: Done   2 out of   4 | elapsed:    0.1s remaining:    0.1s\n",
      "[Parallel(n_jobs=4)]: Done   3 out of   4 | elapsed:    0.2s remaining:    0.1s\n",
      "[Parallel(n_jobs=4)]: Done   4 out of   4 | elapsed:    0.2s finished\n"
     ]
    },
    {
     "name": "stdout",
     "output_type": "stream",
     "text": [
      "Computing time-frequency power on single epochs...\n",
      "No baseline correction applied\n",
      "The measurement information indicates a low-pass frequency of 64 Hz. The decim=2 parameter will result in a sampling frequency of 64 Hz, which can cause aliasing artifacts.\n"
     ]
    },
    {
     "name": "stderr",
     "output_type": "stream",
     "text": [
      "[Parallel(n_jobs=4)]: Done   2 out of   4 | elapsed:   34.6s remaining:   34.6s\n",
      "[Parallel(n_jobs=4)]: Done   3 out of   4 | elapsed:   35.8s remaining:   11.9s\n",
      "[Parallel(n_jobs=4)]: Done   1 out of   4 | elapsed:   36.9s remaining:  1.8min\n",
      "[Parallel(n_jobs=4)]: Done   4 out of   4 | elapsed:   36.9s finished\n",
      "[Parallel(n_jobs=4)]: Done   1 out of   1 | elapsed:    1.5s remaining:    0.0s\n",
      "[Parallel(n_jobs=4)]: Done   1 out of   1 | elapsed:    1.5s finished\n",
      "[Parallel(n_jobs=4)]: Done   3 out of   4 | elapsed:    0.2s remaining:    0.1s\n",
      "[Parallel(n_jobs=4)]: Done   2 out of   4 | elapsed:    0.2s remaining:    0.2s\n",
      "[Parallel(n_jobs=4)]: Done   1 out of   4 | elapsed:    0.2s remaining:    0.6s\n",
      "[Parallel(n_jobs=4)]: Done   4 out of   4 | elapsed:    0.2s finished\n"
     ]
    },
    {
     "name": "stdout",
     "output_type": "stream",
     "text": [
      "Computing time-frequency power on single epochs...\n",
      "No baseline correction applied\n",
      "The measurement information indicates a low-pass frequency of 64 Hz. The decim=2 parameter will result in a sampling frequency of 64 Hz, which can cause aliasing artifacts.\n"
     ]
    },
    {
     "name": "stderr",
     "output_type": "stream",
     "text": [
      "[Parallel(n_jobs=4)]: Done   1 out of   4 | elapsed:   35.4s remaining:  1.8min\n",
      "[Parallel(n_jobs=4)]: Done   2 out of   4 | elapsed:   36.2s remaining:   36.2s\n",
      "[Parallel(n_jobs=4)]: Done   3 out of   4 | elapsed:   36.3s remaining:   12.1s\n",
      "[Parallel(n_jobs=4)]: Done   4 out of   4 | elapsed:   36.3s finished\n",
      "[Parallel(n_jobs=4)]: Done   1 out of   1 | elapsed:    1.5s remaining:    0.0s\n",
      "[Parallel(n_jobs=4)]: Done   1 out of   1 | elapsed:    1.5s finished\n",
      "[Parallel(n_jobs=4)]: Done   3 out of   4 | elapsed:    0.2s remaining:    0.1s\n",
      "[Parallel(n_jobs=4)]: Done   1 out of   4 | elapsed:    0.3s remaining:    0.8s\n",
      "[Parallel(n_jobs=4)]: Done   2 out of   4 | elapsed:    0.3s remaining:    0.3s\n",
      "[Parallel(n_jobs=4)]: Done   4 out of   4 | elapsed:    0.3s finished\n"
     ]
    },
    {
     "name": "stdout",
     "output_type": "stream",
     "text": [
      "Computing time-frequency power on single epochs...\n",
      "No baseline correction applied\n",
      "The measurement information indicates a low-pass frequency of 64 Hz. The decim=2 parameter will result in a sampling frequency of 64 Hz, which can cause aliasing artifacts.\n"
     ]
    },
    {
     "name": "stderr",
     "output_type": "stream",
     "text": [
      "[Parallel(n_jobs=4)]: Done   1 out of   4 | elapsed:   32.3s remaining:  1.6min\n",
      "[Parallel(n_jobs=4)]: Done   2 out of   4 | elapsed:   33.0s remaining:   33.0s\n",
      "[Parallel(n_jobs=4)]: Done   3 out of   4 | elapsed:   34.6s remaining:   11.5s\n",
      "[Parallel(n_jobs=4)]: Done   4 out of   4 | elapsed:   34.6s finished\n",
      "[Parallel(n_jobs=4)]: Done   1 out of   1 | elapsed:    1.4s remaining:    0.0s\n",
      "[Parallel(n_jobs=4)]: Done   1 out of   1 | elapsed:    1.4s finished\n",
      "[Parallel(n_jobs=4)]: Done   1 out of   4 | elapsed:    0.1s remaining:    0.4s\n",
      "[Parallel(n_jobs=4)]: Done   2 out of   4 | elapsed:    0.1s remaining:    0.1s\n",
      "[Parallel(n_jobs=4)]: Done   3 out of   4 | elapsed:    0.2s remaining:    0.1s\n",
      "[Parallel(n_jobs=4)]: Done   4 out of   4 | elapsed:    0.2s finished\n"
     ]
    },
    {
     "name": "stdout",
     "output_type": "stream",
     "text": [
      "Computing time-frequency power on single epochs...\n",
      "No baseline correction applied\n",
      "The measurement information indicates a low-pass frequency of 64 Hz. The decim=2 parameter will result in a sampling frequency of 64 Hz, which can cause aliasing artifacts.\n"
     ]
    },
    {
     "name": "stderr",
     "output_type": "stream",
     "text": [
      "[Parallel(n_jobs=4)]: Done   2 out of   4 | elapsed:   34.1s remaining:   34.1s\n",
      "[Parallel(n_jobs=4)]: Done   3 out of   4 | elapsed:   34.3s remaining:   11.4s\n",
      "[Parallel(n_jobs=4)]: Done   1 out of   4 | elapsed:   34.5s remaining:  1.7min\n",
      "[Parallel(n_jobs=4)]: Done   4 out of   4 | elapsed:   34.5s finished\n",
      "[Parallel(n_jobs=4)]: Done   1 out of   1 | elapsed:    1.4s remaining:    0.0s\n",
      "[Parallel(n_jobs=4)]: Done   1 out of   1 | elapsed:    1.4s finished\n",
      "[Parallel(n_jobs=4)]: Done   1 out of   4 | elapsed:    0.1s remaining:    0.4s\n",
      "[Parallel(n_jobs=4)]: Done   2 out of   4 | elapsed:    0.1s remaining:    0.1s\n",
      "[Parallel(n_jobs=4)]: Done   3 out of   4 | elapsed:    0.2s remaining:    0.1s\n",
      "[Parallel(n_jobs=4)]: Done   4 out of   4 | elapsed:    0.2s finished\n"
     ]
    },
    {
     "name": "stdout",
     "output_type": "stream",
     "text": [
      "Computing time-frequency power on single epochs...\n",
      "No baseline correction applied\n",
      "The measurement information indicates a low-pass frequency of 64 Hz. The decim=2 parameter will result in a sampling frequency of 64 Hz, which can cause aliasing artifacts.\n"
     ]
    },
    {
     "name": "stderr",
     "output_type": "stream",
     "text": [
      "[Parallel(n_jobs=4)]: Done   1 out of   4 | elapsed:   30.3s remaining:  1.5min\n",
      "[Parallel(n_jobs=4)]: Done   3 out of   4 | elapsed:   33.0s remaining:   11.0s\n",
      "[Parallel(n_jobs=4)]: Done   2 out of   4 | elapsed:   33.4s remaining:   33.4s\n",
      "[Parallel(n_jobs=4)]: Done   4 out of   4 | elapsed:   33.4s finished\n",
      "[Parallel(n_jobs=4)]: Done   1 out of   1 | elapsed:    1.4s remaining:    0.0s\n",
      "[Parallel(n_jobs=4)]: Done   1 out of   1 | elapsed:    1.4s finished\n",
      "[Parallel(n_jobs=4)]: Done   3 out of   4 | elapsed:    0.1s remaining:    0.0s\n",
      "[Parallel(n_jobs=4)]: Done   2 out of   4 | elapsed:    0.1s remaining:    0.1s\n",
      "[Parallel(n_jobs=4)]: Done   1 out of   4 | elapsed:    0.2s remaining:    0.6s\n",
      "[Parallel(n_jobs=4)]: Done   4 out of   4 | elapsed:    0.2s finished\n"
     ]
    },
    {
     "name": "stdout",
     "output_type": "stream",
     "text": [
      "Computing time-frequency power on single epochs...\n",
      "No baseline correction applied\n",
      "The measurement information indicates a low-pass frequency of 64 Hz. The decim=2 parameter will result in a sampling frequency of 64 Hz, which can cause aliasing artifacts.\n"
     ]
    },
    {
     "name": "stderr",
     "output_type": "stream",
     "text": [
      "[Parallel(n_jobs=4)]: Done   2 out of   4 | elapsed:   33.9s remaining:   33.9s\n",
      "[Parallel(n_jobs=4)]: Done   3 out of   4 | elapsed:   34.0s remaining:   11.3s\n",
      "[Parallel(n_jobs=4)]: Done   1 out of   4 | elapsed:   34.4s remaining:  1.7min\n",
      "[Parallel(n_jobs=4)]: Done   4 out of   4 | elapsed:   34.4s finished\n",
      "[Parallel(n_jobs=4)]: Done   1 out of   1 | elapsed:    1.4s remaining:    0.0s\n",
      "[Parallel(n_jobs=4)]: Done   1 out of   1 | elapsed:    1.4s finished\n",
      "[Parallel(n_jobs=4)]: Done   2 out of   4 | elapsed:    0.1s remaining:    0.1s\n",
      "[Parallel(n_jobs=4)]: Done   1 out of   4 | elapsed:    0.1s remaining:    0.4s\n",
      "[Parallel(n_jobs=4)]: Done   3 out of   4 | elapsed:    0.2s remaining:    0.1s\n",
      "[Parallel(n_jobs=4)]: Done   4 out of   4 | elapsed:    0.2s finished\n"
     ]
    },
    {
     "name": "stdout",
     "output_type": "stream",
     "text": [
      "Computing time-frequency power on single epochs...\n",
      "No baseline correction applied\n",
      "The measurement information indicates a low-pass frequency of 64 Hz. The decim=2 parameter will result in a sampling frequency of 64 Hz, which can cause aliasing artifacts.\n"
     ]
    },
    {
     "name": "stderr",
     "output_type": "stream",
     "text": [
      "[Parallel(n_jobs=4)]: Done   2 out of   4 | elapsed:   31.1s remaining:   31.1s\n",
      "[Parallel(n_jobs=4)]: Done   3 out of   4 | elapsed:   33.7s remaining:   11.2s\n",
      "[Parallel(n_jobs=4)]: Done   1 out of   4 | elapsed:   34.8s remaining:  1.7min\n",
      "[Parallel(n_jobs=4)]: Done   4 out of   4 | elapsed:   34.8s finished\n",
      "[Parallel(n_jobs=4)]: Done   1 out of   1 | elapsed:    1.6s remaining:    0.0s\n",
      "[Parallel(n_jobs=4)]: Done   1 out of   1 | elapsed:    1.6s finished\n",
      "[Parallel(n_jobs=4)]: Done   1 out of   4 | elapsed:    0.1s remaining:    0.4s\n",
      "[Parallel(n_jobs=4)]: Done   2 out of   4 | elapsed:    0.2s remaining:    0.2s\n",
      "[Parallel(n_jobs=4)]: Done   3 out of   4 | elapsed:    0.2s remaining:    0.1s\n",
      "[Parallel(n_jobs=4)]: Done   4 out of   4 | elapsed:    0.2s finished\n"
     ]
    },
    {
     "name": "stdout",
     "output_type": "stream",
     "text": [
      "Computing time-frequency power on single epochs...\n",
      "No baseline correction applied\n",
      "The measurement information indicates a low-pass frequency of 64 Hz. The decim=2 parameter will result in a sampling frequency of 64 Hz, which can cause aliasing artifacts.\n"
     ]
    },
    {
     "name": "stderr",
     "output_type": "stream",
     "text": [
      "[Parallel(n_jobs=4)]: Done   3 out of   4 | elapsed:   29.5s remaining:    9.8s\n",
      "[Parallel(n_jobs=4)]: Done   2 out of   4 | elapsed:   36.1s remaining:   36.1s\n",
      "[Parallel(n_jobs=4)]: Done   1 out of   4 | elapsed:   36.2s remaining:  1.8min\n",
      "[Parallel(n_jobs=4)]: Done   4 out of   4 | elapsed:   36.2s finished\n",
      "[Parallel(n_jobs=4)]: Done   1 out of   1 | elapsed:    1.8s remaining:    0.0s\n",
      "[Parallel(n_jobs=4)]: Done   1 out of   1 | elapsed:    1.8s finished\n"
     ]
    },
    {
     "name": "stdout",
     "output_type": "stream",
     "text": [
      "Computing time-frequency power on single epochs...\n",
      "No baseline correction applied\n",
      "The measurement information indicates a low-pass frequency of 64 Hz. The decim=2 parameter will result in a sampling frequency of 64 Hz, which can cause aliasing artifacts.\n"
     ]
    },
    {
     "name": "stderr",
     "output_type": "stream",
     "text": [
      "[Parallel(n_jobs=4)]: Done   2 out of   4 | elapsed:    0.1s remaining:    0.1s\n",
      "[Parallel(n_jobs=4)]: Done   1 out of   4 | elapsed:    0.1s remaining:    0.4s\n",
      "[Parallel(n_jobs=4)]: Done   3 out of   4 | elapsed:    0.2s remaining:    0.1s\n",
      "[Parallel(n_jobs=4)]: Done   4 out of   4 | elapsed:    0.2s finished\n",
      "[Parallel(n_jobs=4)]: Done   3 out of   4 | elapsed:   32.3s remaining:   10.8s\n",
      "[Parallel(n_jobs=4)]: Done   1 out of   4 | elapsed:   33.6s remaining:  1.7min\n",
      "[Parallel(n_jobs=4)]: Done   2 out of   4 | elapsed:   34.3s remaining:   34.3s\n",
      "[Parallel(n_jobs=4)]: Done   4 out of   4 | elapsed:   34.3s finished\n",
      "[Parallel(n_jobs=4)]: Done   1 out of   1 | elapsed:    5.1s remaining:    0.0s\n",
      "[Parallel(n_jobs=4)]: Done   1 out of   1 | elapsed:    5.1s finished\n"
     ]
    },
    {
     "name": "stdout",
     "output_type": "stream",
     "text": [
      "Computing time-frequency power on single epochs...\n",
      "No baseline correction applied\n",
      "The measurement information indicates a low-pass frequency of 64 Hz. The decim=2 parameter will result in a sampling frequency of 64 Hz, which can cause aliasing artifacts.\n"
     ]
    },
    {
     "name": "stderr",
     "output_type": "stream",
     "text": [
      "[Parallel(n_jobs=4)]: Done   2 out of   4 | elapsed:    0.1s remaining:    0.1s\n",
      "[Parallel(n_jobs=4)]: Done   3 out of   4 | elapsed:    0.1s remaining:    0.0s\n",
      "[Parallel(n_jobs=4)]: Done   1 out of   4 | elapsed:    0.1s remaining:    0.4s\n",
      "[Parallel(n_jobs=4)]: Done   4 out of   4 | elapsed:    0.1s finished\n",
      "[Parallel(n_jobs=4)]: Done   3 out of   4 | elapsed:   30.7s remaining:   10.2s\n",
      "[Parallel(n_jobs=4)]: Done   1 out of   4 | elapsed:   34.0s remaining:  1.7min\n",
      "[Parallel(n_jobs=4)]: Done   2 out of   4 | elapsed:   34.3s remaining:   34.3s\n",
      "[Parallel(n_jobs=4)]: Done   4 out of   4 | elapsed:   34.3s finished\n",
      "[Parallel(n_jobs=4)]: Done   1 out of   1 | elapsed:    1.5s remaining:    0.0s\n",
      "[Parallel(n_jobs=4)]: Done   1 out of   1 | elapsed:    1.5s finished\n",
      "[Parallel(n_jobs=4)]: Done   1 out of   4 | elapsed:    0.1s remaining:    0.4s\n",
      "[Parallel(n_jobs=4)]: Done   2 out of   4 | elapsed:    0.1s remaining:    0.1s\n",
      "[Parallel(n_jobs=4)]: Done   3 out of   4 | elapsed:    0.2s remaining:    0.1s\n",
      "[Parallel(n_jobs=4)]: Done   4 out of   4 | elapsed:    0.2s finished\n"
     ]
    },
    {
     "name": "stdout",
     "output_type": "stream",
     "text": [
      "Computing time-frequency power on single epochs...\n",
      "No baseline correction applied\n",
      "The measurement information indicates a low-pass frequency of 64 Hz. The decim=2 parameter will result in a sampling frequency of 64 Hz, which can cause aliasing artifacts.\n"
     ]
    },
    {
     "name": "stderr",
     "output_type": "stream",
     "text": [
      "[Parallel(n_jobs=4)]: Done   1 out of   4 | elapsed:   30.7s remaining:  1.5min\n",
      "[Parallel(n_jobs=4)]: Done   3 out of   4 | elapsed:   34.3s remaining:   11.4s\n",
      "[Parallel(n_jobs=4)]: Done   2 out of   4 | elapsed:   35.1s remaining:   35.1s\n",
      "[Parallel(n_jobs=4)]: Done   4 out of   4 | elapsed:   35.1s finished\n",
      "[Parallel(n_jobs=4)]: Done   1 out of   1 | elapsed:    1.6s remaining:    0.0s\n",
      "[Parallel(n_jobs=4)]: Done   1 out of   1 | elapsed:    1.6s finished\n",
      "[Parallel(n_jobs=4)]: Done   3 out of   4 | elapsed:    0.2s remaining:    0.1s\n",
      "[Parallel(n_jobs=4)]: Done   1 out of   4 | elapsed:    0.3s remaining:    0.8s\n",
      "[Parallel(n_jobs=4)]: Done   2 out of   4 | elapsed:    0.3s remaining:    0.3s\n",
      "[Parallel(n_jobs=4)]: Done   4 out of   4 | elapsed:    0.3s finished\n"
     ]
    },
    {
     "name": "stdout",
     "output_type": "stream",
     "text": [
      "Computing time-frequency power on single epochs...\n",
      "No baseline correction applied\n",
      "The measurement information indicates a low-pass frequency of 64 Hz. The decim=2 parameter will result in a sampling frequency of 64 Hz, which can cause aliasing artifacts.\n"
     ]
    },
    {
     "name": "stderr",
     "output_type": "stream",
     "text": [
      "[Parallel(n_jobs=4)]: Done   3 out of   4 | elapsed:   31.2s remaining:   10.4s\n",
      "[Parallel(n_jobs=4)]: Done   2 out of   4 | elapsed:   32.5s remaining:   32.5s\n",
      "[Parallel(n_jobs=4)]: Done   1 out of   4 | elapsed:   34.9s remaining:  1.7min\n",
      "[Parallel(n_jobs=4)]: Done   4 out of   4 | elapsed:   34.9s finished\n",
      "[Parallel(n_jobs=4)]: Done   1 out of   1 | elapsed:    1.4s remaining:    0.0s\n",
      "[Parallel(n_jobs=4)]: Done   1 out of   1 | elapsed:    1.4s finished\n",
      "[Parallel(n_jobs=4)]: Done   1 out of   4 | elapsed:    0.1s remaining:    0.4s\n",
      "[Parallel(n_jobs=4)]: Done   2 out of   4 | elapsed:    0.1s remaining:    0.1s\n",
      "[Parallel(n_jobs=4)]: Done   3 out of   4 | elapsed:    0.2s remaining:    0.1s\n",
      "[Parallel(n_jobs=4)]: Done   4 out of   4 | elapsed:    0.2s finished\n"
     ]
    },
    {
     "name": "stdout",
     "output_type": "stream",
     "text": [
      "Computing time-frequency power on single epochs...\n",
      "No baseline correction applied\n",
      "The measurement information indicates a low-pass frequency of 64 Hz. The decim=2 parameter will result in a sampling frequency of 64 Hz, which can cause aliasing artifacts.\n"
     ]
    },
    {
     "name": "stderr",
     "output_type": "stream",
     "text": [
      "[Parallel(n_jobs=4)]: Done   2 out of   4 | elapsed:   31.6s remaining:   31.6s\n",
      "[Parallel(n_jobs=4)]: Done   1 out of   4 | elapsed:   32.9s remaining:  1.6min\n",
      "[Parallel(n_jobs=4)]: Done   3 out of   4 | elapsed:   34.4s remaining:   11.5s\n",
      "[Parallel(n_jobs=4)]: Done   4 out of   4 | elapsed:   34.4s finished\n",
      "[Parallel(n_jobs=4)]: Done   1 out of   1 | elapsed:    1.5s remaining:    0.0s\n",
      "[Parallel(n_jobs=4)]: Done   1 out of   1 | elapsed:    1.5s finished\n",
      "[Parallel(n_jobs=4)]: Done   2 out of   4 | elapsed:    0.1s remaining:    0.1s\n",
      "[Parallel(n_jobs=4)]: Done   3 out of   4 | elapsed:    0.1s remaining:    0.0s\n",
      "[Parallel(n_jobs=4)]: Done   1 out of   4 | elapsed:    0.2s remaining:    0.6s\n",
      "[Parallel(n_jobs=4)]: Done   4 out of   4 | elapsed:    0.2s finished\n"
     ]
    },
    {
     "name": "stdout",
     "output_type": "stream",
     "text": [
      "Computing time-frequency power on single epochs...\n",
      "No baseline correction applied\n",
      "The measurement information indicates a low-pass frequency of 64 Hz. The decim=2 parameter will result in a sampling frequency of 64 Hz, which can cause aliasing artifacts.\n"
     ]
    },
    {
     "name": "stderr",
     "output_type": "stream",
     "text": [
      "[Parallel(n_jobs=4)]: Done   3 out of   4 | elapsed:   31.2s remaining:   10.4s\n",
      "[Parallel(n_jobs=4)]: Done   2 out of   4 | elapsed:   33.4s remaining:   33.4s\n",
      "[Parallel(n_jobs=4)]: Done   1 out of   4 | elapsed:   34.5s remaining:  1.7min\n",
      "[Parallel(n_jobs=4)]: Done   4 out of   4 | elapsed:   34.5s finished\n",
      "[Parallel(n_jobs=4)]: Done   1 out of   1 | elapsed:    1.6s remaining:    0.0s\n",
      "[Parallel(n_jobs=4)]: Done   1 out of   1 | elapsed:    1.6s finished\n",
      "[Parallel(n_jobs=4)]: Done   3 out of   4 | elapsed:    0.1s remaining:    0.0s\n",
      "[Parallel(n_jobs=4)]: Done   2 out of   4 | elapsed:    0.1s remaining:    0.1s\n",
      "[Parallel(n_jobs=4)]: Done   1 out of   4 | elapsed:    0.2s remaining:    0.6s\n",
      "[Parallel(n_jobs=4)]: Done   4 out of   4 | elapsed:    0.2s finished\n"
     ]
    },
    {
     "name": "stdout",
     "output_type": "stream",
     "text": [
      "Computing time-frequency power on single epochs...\n",
      "No baseline correction applied\n",
      "The measurement information indicates a low-pass frequency of 64 Hz. The decim=2 parameter will result in a sampling frequency of 64 Hz, which can cause aliasing artifacts.\n"
     ]
    },
    {
     "name": "stderr",
     "output_type": "stream",
     "text": [
      "[Parallel(n_jobs=4)]: Done   3 out of   4 | elapsed:   34.7s remaining:   11.6s\n",
      "[Parallel(n_jobs=4)]: Done   2 out of   4 | elapsed:   35.4s remaining:   35.4s\n",
      "[Parallel(n_jobs=4)]: Done   1 out of   4 | elapsed:   35.5s remaining:  1.8min\n",
      "[Parallel(n_jobs=4)]: Done   4 out of   4 | elapsed:   35.5s finished\n",
      "[Parallel(n_jobs=4)]: Done   1 out of   1 | elapsed:    1.5s remaining:    0.0s\n",
      "[Parallel(n_jobs=4)]: Done   1 out of   1 | elapsed:    1.5s finished\n",
      "[Parallel(n_jobs=4)]: Done   1 out of   4 | elapsed:    0.1s remaining:    0.4s\n",
      "[Parallel(n_jobs=4)]: Done   2 out of   4 | elapsed:    0.1s remaining:    0.1s\n",
      "[Parallel(n_jobs=4)]: Done   3 out of   4 | elapsed:    0.2s remaining:    0.1s\n",
      "[Parallel(n_jobs=4)]: Done   4 out of   4 | elapsed:    0.2s finished\n"
     ]
    },
    {
     "name": "stdout",
     "output_type": "stream",
     "text": [
      "Computing time-frequency power on single epochs...\n",
      "No baseline correction applied\n",
      "The measurement information indicates a low-pass frequency of 64 Hz. The decim=2 parameter will result in a sampling frequency of 64 Hz, which can cause aliasing artifacts.\n"
     ]
    },
    {
     "name": "stderr",
     "output_type": "stream",
     "text": [
      "[Parallel(n_jobs=4)]: Done   1 out of   4 | elapsed:   32.6s remaining:  1.6min\n",
      "[Parallel(n_jobs=4)]: Done   3 out of   4 | elapsed:   35.8s remaining:   11.9s\n",
      "[Parallel(n_jobs=4)]: Done   2 out of   4 | elapsed:   36.0s remaining:   36.0s\n",
      "[Parallel(n_jobs=4)]: Done   4 out of   4 | elapsed:   36.0s finished\n",
      "[Parallel(n_jobs=4)]: Done   1 out of   1 | elapsed:    1.4s remaining:    0.0s\n",
      "[Parallel(n_jobs=4)]: Done   1 out of   1 | elapsed:    1.4s finished\n",
      "[Parallel(n_jobs=4)]: Done   1 out of   4 | elapsed:    0.1s remaining:    0.4s\n",
      "[Parallel(n_jobs=4)]: Done   2 out of   4 | elapsed:    0.1s remaining:    0.1s\n",
      "[Parallel(n_jobs=4)]: Done   3 out of   4 | elapsed:    0.2s remaining:    0.1s\n",
      "[Parallel(n_jobs=4)]: Done   4 out of   4 | elapsed:    0.2s finished\n"
     ]
    },
    {
     "name": "stdout",
     "output_type": "stream",
     "text": [
      "Computing time-frequency power on single epochs...\n",
      "No baseline correction applied\n",
      "The measurement information indicates a low-pass frequency of 64 Hz. The decim=2 parameter will result in a sampling frequency of 64 Hz, which can cause aliasing artifacts.\n"
     ]
    },
    {
     "name": "stderr",
     "output_type": "stream",
     "text": [
      "[Parallel(n_jobs=4)]: Done   2 out of   4 | elapsed:   37.2s remaining:   37.2s\n",
      "[Parallel(n_jobs=4)]: Done   1 out of   4 | elapsed:   37.4s remaining:  1.9min\n",
      "[Parallel(n_jobs=4)]: Done   3 out of   4 | elapsed:   37.4s remaining:   12.5s\n",
      "[Parallel(n_jobs=4)]: Done   4 out of   4 | elapsed:   37.4s finished\n",
      "[Parallel(n_jobs=4)]: Done   1 out of   1 | elapsed:    1.6s remaining:    0.0s\n",
      "[Parallel(n_jobs=4)]: Done   1 out of   1 | elapsed:    1.6s finished\n",
      "[Parallel(n_jobs=4)]: Done   2 out of   4 | elapsed:    0.2s remaining:    0.2s\n",
      "[Parallel(n_jobs=4)]: Done   3 out of   4 | elapsed:    0.2s remaining:    0.1s\n",
      "[Parallel(n_jobs=4)]: Done   1 out of   4 | elapsed:    0.2s remaining:    0.7s\n",
      "[Parallel(n_jobs=4)]: Done   4 out of   4 | elapsed:    0.2s finished\n"
     ]
    },
    {
     "name": "stdout",
     "output_type": "stream",
     "text": [
      "Computing time-frequency power on single epochs...\n",
      "No baseline correction applied\n",
      "The measurement information indicates a low-pass frequency of 64 Hz. The decim=2 parameter will result in a sampling frequency of 64 Hz, which can cause aliasing artifacts.\n"
     ]
    },
    {
     "name": "stderr",
     "output_type": "stream",
     "text": [
      "[Parallel(n_jobs=4)]: Done   3 out of   4 | elapsed:   32.3s remaining:   10.8s\n",
      "[Parallel(n_jobs=4)]: Done   1 out of   4 | elapsed:   33.8s remaining:  1.7min\n",
      "[Parallel(n_jobs=4)]: Done   2 out of   4 | elapsed:   34.5s remaining:   34.5s\n",
      "[Parallel(n_jobs=4)]: Done   4 out of   4 | elapsed:   34.5s finished\n",
      "[Parallel(n_jobs=4)]: Done   1 out of   1 | elapsed:    1.6s remaining:    0.0s\n",
      "[Parallel(n_jobs=4)]: Done   1 out of   1 | elapsed:    1.6s finished\n",
      "[Parallel(n_jobs=4)]: Done   2 out of   4 | elapsed:    0.1s remaining:    0.1s\n",
      "[Parallel(n_jobs=4)]: Done   3 out of   4 | elapsed:    0.1s remaining:    0.0s\n",
      "[Parallel(n_jobs=4)]: Done   1 out of   4 | elapsed:    0.2s remaining:    0.7s\n",
      "[Parallel(n_jobs=4)]: Done   4 out of   4 | elapsed:    0.2s finished\n"
     ]
    },
    {
     "name": "stdout",
     "output_type": "stream",
     "text": [
      "Computing time-frequency power on single epochs...\n",
      "No baseline correction applied\n",
      "The measurement information indicates a low-pass frequency of 64 Hz. The decim=2 parameter will result in a sampling frequency of 64 Hz, which can cause aliasing artifacts.\n"
     ]
    },
    {
     "name": "stderr",
     "output_type": "stream",
     "text": [
      "[Parallel(n_jobs=4)]: Done   3 out of   4 | elapsed:   34.4s remaining:   11.5s\n",
      "[Parallel(n_jobs=4)]: Done   1 out of   4 | elapsed:   34.9s remaining:  1.7min\n",
      "[Parallel(n_jobs=4)]: Done   2 out of   4 | elapsed:   35.5s remaining:   35.5s\n",
      "[Parallel(n_jobs=4)]: Done   4 out of   4 | elapsed:   35.5s finished\n",
      "[Parallel(n_jobs=4)]: Done   1 out of   1 | elapsed:    1.7s remaining:    0.0s\n",
      "[Parallel(n_jobs=4)]: Done   1 out of   1 | elapsed:    1.7s finished\n",
      "[Parallel(n_jobs=4)]: Done   1 out of   4 | elapsed:    0.1s remaining:    0.4s\n",
      "[Parallel(n_jobs=4)]: Done   2 out of   4 | elapsed:    0.1s remaining:    0.1s\n",
      "[Parallel(n_jobs=4)]: Done   3 out of   4 | elapsed:    0.2s remaining:    0.1s\n",
      "[Parallel(n_jobs=4)]: Done   4 out of   4 | elapsed:    0.2s finished\n"
     ]
    },
    {
     "name": "stdout",
     "output_type": "stream",
     "text": [
      "Computing time-frequency power on single epochs...\n",
      "No baseline correction applied\n",
      "The measurement information indicates a low-pass frequency of 64 Hz. The decim=2 parameter will result in a sampling frequency of 64 Hz, which can cause aliasing artifacts.\n"
     ]
    },
    {
     "name": "stderr",
     "output_type": "stream",
     "text": [
      "[Parallel(n_jobs=4)]: Done   2 out of   4 | elapsed:   32.7s remaining:   32.7s\n",
      "[Parallel(n_jobs=4)]: Done   1 out of   4 | elapsed:   33.2s remaining:  1.7min\n",
      "[Parallel(n_jobs=4)]: Done   3 out of   4 | elapsed:   35.8s remaining:   11.9s\n",
      "[Parallel(n_jobs=4)]: Done   4 out of   4 | elapsed:   35.8s finished\n",
      "[Parallel(n_jobs=4)]: Done   1 out of   1 | elapsed:    1.5s remaining:    0.0s\n",
      "[Parallel(n_jobs=4)]: Done   1 out of   1 | elapsed:    1.5s finished\n"
     ]
    },
    {
     "name": "stdout",
     "output_type": "stream",
     "text": [
      "Computing time-frequency power on single epochs...\n",
      "No baseline correction applied\n",
      "The measurement information indicates a low-pass frequency of 64 Hz. The decim=2 parameter will result in a sampling frequency of 64 Hz, which can cause aliasing artifacts.\n"
     ]
    },
    {
     "name": "stderr",
     "output_type": "stream",
     "text": [
      "[Parallel(n_jobs=4)]: Done   1 out of   4 | elapsed:    0.1s remaining:    0.4s\n",
      "[Parallel(n_jobs=4)]: Done   3 out of   4 | elapsed:    0.1s remaining:    0.0s\n",
      "[Parallel(n_jobs=4)]: Done   2 out of   4 | elapsed:    0.1s remaining:    0.1s\n",
      "[Parallel(n_jobs=4)]: Done   4 out of   4 | elapsed:    0.1s finished\n",
      "[Parallel(n_jobs=4)]: Done   3 out of   4 | elapsed:   34.2s remaining:   11.4s\n",
      "[Parallel(n_jobs=4)]: Done   2 out of   4 | elapsed:   35.5s remaining:   35.5s\n",
      "[Parallel(n_jobs=4)]: Done   1 out of   4 | elapsed:   35.6s remaining:  1.8min\n",
      "[Parallel(n_jobs=4)]: Done   4 out of   4 | elapsed:   35.6s finished\n",
      "[Parallel(n_jobs=4)]: Done   1 out of   1 | elapsed:    1.4s remaining:    0.0s\n",
      "[Parallel(n_jobs=4)]: Done   1 out of   1 | elapsed:    1.4s finished\n",
      "[Parallel(n_jobs=4)]: Done   3 out of   4 | elapsed:    0.1s remaining:    0.0s\n",
      "[Parallel(n_jobs=4)]: Done   2 out of   4 | elapsed:    0.1s remaining:    0.1s\n",
      "[Parallel(n_jobs=4)]: Done   1 out of   4 | elapsed:    0.2s remaining:    0.6s\n",
      "[Parallel(n_jobs=4)]: Done   4 out of   4 | elapsed:    0.2s finished\n"
     ]
    },
    {
     "name": "stdout",
     "output_type": "stream",
     "text": [
      "Computing time-frequency power on single epochs...\n",
      "No baseline correction applied\n",
      "The measurement information indicates a low-pass frequency of 64 Hz. The decim=2 parameter will result in a sampling frequency of 64 Hz, which can cause aliasing artifacts.\n"
     ]
    },
    {
     "name": "stderr",
     "output_type": "stream",
     "text": [
      "[Parallel(n_jobs=4)]: Done   1 out of   4 | elapsed:   34.7s remaining:  1.7min\n",
      "[Parallel(n_jobs=4)]: Done   3 out of   4 | elapsed:   34.8s remaining:   11.6s\n",
      "[Parallel(n_jobs=4)]: Done   2 out of   4 | elapsed:   36.6s remaining:   36.6s\n",
      "[Parallel(n_jobs=4)]: Done   4 out of   4 | elapsed:   36.6s finished\n",
      "[Parallel(n_jobs=4)]: Done   1 out of   1 | elapsed:    1.5s remaining:    0.0s\n",
      "[Parallel(n_jobs=4)]: Done   1 out of   1 | elapsed:    1.5s finished\n"
     ]
    },
    {
     "name": "stdout",
     "output_type": "stream",
     "text": [
      "Computing time-frequency power on single epochs...\n",
      "No baseline correction applied\n",
      "The measurement information indicates a low-pass frequency of 64 Hz. The decim=2 parameter will result in a sampling frequency of 64 Hz, which can cause aliasing artifacts.\n"
     ]
    },
    {
     "name": "stderr",
     "output_type": "stream",
     "text": [
      "[Parallel(n_jobs=4)]: Done   1 out of   4 | elapsed:    0.2s remaining:    0.7s\n",
      "[Parallel(n_jobs=4)]: Done   2 out of   4 | elapsed:    0.3s remaining:    0.3s\n",
      "[Parallel(n_jobs=4)]: Done   3 out of   4 | elapsed:    0.3s remaining:    0.1s\n",
      "[Parallel(n_jobs=4)]: Done   4 out of   4 | elapsed:    0.3s finished\n",
      "[Parallel(n_jobs=4)]: Done   1 out of   4 | elapsed:   31.9s remaining:  1.6min\n",
      "[Parallel(n_jobs=4)]: Done   3 out of   4 | elapsed:   32.5s remaining:   10.8s\n",
      "[Parallel(n_jobs=4)]: Done   2 out of   4 | elapsed:   35.5s remaining:   35.5s\n",
      "[Parallel(n_jobs=4)]: Done   4 out of   4 | elapsed:   35.5s finished\n",
      "[Parallel(n_jobs=4)]: Done   1 out of   1 | elapsed:    1.5s remaining:    0.0s\n",
      "[Parallel(n_jobs=4)]: Done   1 out of   1 | elapsed:    1.5s finished\n",
      "[Parallel(n_jobs=4)]: Done   2 out of   4 | elapsed:    0.1s remaining:    0.1s\n",
      "[Parallel(n_jobs=4)]: Done   1 out of   4 | elapsed:    0.1s remaining:    0.4s\n",
      "[Parallel(n_jobs=4)]: Done   3 out of   4 | elapsed:    0.2s remaining:    0.1s\n",
      "[Parallel(n_jobs=4)]: Done   4 out of   4 | elapsed:    0.2s finished\n"
     ]
    },
    {
     "name": "stdout",
     "output_type": "stream",
     "text": [
      "Computing time-frequency power on single epochs...\n",
      "No baseline correction applied\n",
      "The measurement information indicates a low-pass frequency of 64 Hz. The decim=2 parameter will result in a sampling frequency of 64 Hz, which can cause aliasing artifacts.\n"
     ]
    },
    {
     "name": "stderr",
     "output_type": "stream",
     "text": [
      "[Parallel(n_jobs=4)]: Done   2 out of   4 | elapsed:   33.1s remaining:   33.1s\n",
      "[Parallel(n_jobs=4)]: Done   1 out of   4 | elapsed:   33.6s remaining:  1.7min\n",
      "[Parallel(n_jobs=4)]: Done   3 out of   4 | elapsed:   35.6s remaining:   11.9s\n",
      "[Parallel(n_jobs=4)]: Done   4 out of   4 | elapsed:   35.6s finished\n",
      "[Parallel(n_jobs=4)]: Done   1 out of   1 | elapsed:    1.4s remaining:    0.0s\n",
      "[Parallel(n_jobs=4)]: Done   1 out of   1 | elapsed:    1.4s finished\n",
      "[Parallel(n_jobs=4)]: Done   3 out of   4 | elapsed:    0.2s remaining:    0.1s\n",
      "[Parallel(n_jobs=4)]: Done   1 out of   4 | elapsed:    0.3s remaining:    0.8s\n",
      "[Parallel(n_jobs=4)]: Done   2 out of   4 | elapsed:    0.3s remaining:    0.3s\n",
      "[Parallel(n_jobs=4)]: Done   4 out of   4 | elapsed:    0.3s finished\n"
     ]
    },
    {
     "name": "stdout",
     "output_type": "stream",
     "text": [
      "Computing time-frequency power on single epochs...\n",
      "No baseline correction applied\n",
      "The measurement information indicates a low-pass frequency of 64 Hz. The decim=2 parameter will result in a sampling frequency of 64 Hz, which can cause aliasing artifacts.\n"
     ]
    },
    {
     "name": "stderr",
     "output_type": "stream",
     "text": [
      "[Parallel(n_jobs=4)]: Done   2 out of   4 | elapsed:   34.5s remaining:   34.5s\n",
      "[Parallel(n_jobs=4)]: Done   1 out of   4 | elapsed:   34.8s remaining:  1.7min\n",
      "[Parallel(n_jobs=4)]: Done   3 out of   4 | elapsed:   35.9s remaining:   12.0s\n",
      "[Parallel(n_jobs=4)]: Done   4 out of   4 | elapsed:   36.0s finished\n",
      "[Parallel(n_jobs=4)]: Done   1 out of   1 | elapsed:    1.4s remaining:    0.0s\n",
      "[Parallel(n_jobs=4)]: Done   1 out of   1 | elapsed:    1.4s finished\n",
      "[Parallel(n_jobs=4)]: Done   1 out of   4 | elapsed:    0.2s remaining:    0.5s\n",
      "[Parallel(n_jobs=4)]: Done   2 out of   4 | elapsed:    0.2s remaining:    0.2s\n",
      "[Parallel(n_jobs=4)]: Done   3 out of   4 | elapsed:    0.3s remaining:    0.1s\n",
      "[Parallel(n_jobs=4)]: Done   4 out of   4 | elapsed:    0.3s finished\n"
     ]
    },
    {
     "name": "stdout",
     "output_type": "stream",
     "text": [
      "Computing time-frequency power on single epochs...\n",
      "No baseline correction applied\n",
      "The measurement information indicates a low-pass frequency of 64 Hz. The decim=2 parameter will result in a sampling frequency of 64 Hz, which can cause aliasing artifacts.\n"
     ]
    },
    {
     "name": "stderr",
     "output_type": "stream",
     "text": [
      "[Parallel(n_jobs=4)]: Done   2 out of   4 | elapsed:   35.0s remaining:   35.0s\n",
      "[Parallel(n_jobs=4)]: Done   1 out of   4 | elapsed:   35.1s remaining:  1.8min\n",
      "[Parallel(n_jobs=4)]: Done   3 out of   4 | elapsed:   37.5s remaining:   12.5s\n",
      "[Parallel(n_jobs=4)]: Done   4 out of   4 | elapsed:   37.5s finished\n",
      "[Parallel(n_jobs=4)]: Done   1 out of   1 | elapsed:    1.4s remaining:    0.0s\n",
      "[Parallel(n_jobs=4)]: Done   1 out of   1 | elapsed:    1.4s finished\n",
      "[Parallel(n_jobs=4)]: Done   3 out of   4 | elapsed:    0.1s remaining:    0.0s\n",
      "[Parallel(n_jobs=4)]: Done   1 out of   4 | elapsed:    0.1s remaining:    0.4s\n",
      "[Parallel(n_jobs=4)]: Done   2 out of   4 | elapsed:    0.2s remaining:    0.2s\n",
      "[Parallel(n_jobs=4)]: Done   4 out of   4 | elapsed:    0.2s finished\n"
     ]
    },
    {
     "name": "stdout",
     "output_type": "stream",
     "text": [
      "Computing time-frequency power on single epochs...\n",
      "No baseline correction applied\n",
      "The measurement information indicates a low-pass frequency of 64 Hz. The decim=2 parameter will result in a sampling frequency of 64 Hz, which can cause aliasing artifacts.\n"
     ]
    },
    {
     "name": "stderr",
     "output_type": "stream",
     "text": [
      "[Parallel(n_jobs=4)]: Done   2 out of   4 | elapsed:   33.9s remaining:   33.9s\n",
      "[Parallel(n_jobs=4)]: Done   1 out of   4 | elapsed:   34.6s remaining:  1.7min\n",
      "[Parallel(n_jobs=4)]: Done   3 out of   4 | elapsed:   35.2s remaining:   11.7s\n",
      "[Parallel(n_jobs=4)]: Done   4 out of   4 | elapsed:   35.2s finished\n",
      "[Parallel(n_jobs=4)]: Done   1 out of   1 | elapsed:    1.5s remaining:    0.0s\n",
      "[Parallel(n_jobs=4)]: Done   1 out of   1 | elapsed:    1.5s finished\n",
      "[Parallel(n_jobs=4)]: Done   1 out of   4 | elapsed:    0.1s remaining:    0.4s\n",
      "[Parallel(n_jobs=4)]: Done   2 out of   4 | elapsed:    0.2s remaining:    0.2s\n",
      "[Parallel(n_jobs=4)]: Done   3 out of   4 | elapsed:    0.2s remaining:    0.1s\n",
      "[Parallel(n_jobs=4)]: Done   4 out of   4 | elapsed:    0.2s finished\n"
     ]
    },
    {
     "name": "stdout",
     "output_type": "stream",
     "text": [
      "Computing time-frequency power on single epochs...\n",
      "No baseline correction applied\n",
      "The measurement information indicates a low-pass frequency of 64 Hz. The decim=2 parameter will result in a sampling frequency of 64 Hz, which can cause aliasing artifacts.\n"
     ]
    },
    {
     "name": "stderr",
     "output_type": "stream",
     "text": [
      "[Parallel(n_jobs=4)]: Done   2 out of   4 | elapsed:   32.1s remaining:   32.1s\n",
      "[Parallel(n_jobs=4)]: Done   3 out of   4 | elapsed:   34.0s remaining:   11.3s\n",
      "[Parallel(n_jobs=4)]: Done   1 out of   4 | elapsed:   35.5s remaining:  1.8min\n",
      "[Parallel(n_jobs=4)]: Done   4 out of   4 | elapsed:   36.1s finished\n",
      "[Parallel(n_jobs=4)]: Done   1 out of   1 | elapsed:    1.4s remaining:    0.0s\n",
      "[Parallel(n_jobs=4)]: Done   1 out of   1 | elapsed:    1.4s finished\n"
     ]
    },
    {
     "name": "stdout",
     "output_type": "stream",
     "text": [
      "Computing time-frequency power on single epochs...\n",
      "No baseline correction applied\n",
      "The measurement information indicates a low-pass frequency of 64 Hz. The decim=2 parameter will result in a sampling frequency of 64 Hz, which can cause aliasing artifacts.\n"
     ]
    },
    {
     "name": "stderr",
     "output_type": "stream",
     "text": [
      "[Parallel(n_jobs=4)]: Done   2 out of   4 | elapsed:    0.1s remaining:    0.1s\n",
      "[Parallel(n_jobs=4)]: Done   3 out of   4 | elapsed:    0.1s remaining:    0.0s\n",
      "[Parallel(n_jobs=4)]: Done   1 out of   4 | elapsed:    0.2s remaining:    0.5s\n",
      "[Parallel(n_jobs=4)]: Done   4 out of   4 | elapsed:    0.2s finished\n",
      "[Parallel(n_jobs=4)]: Done   3 out of   4 | elapsed:   33.0s remaining:   11.0s\n",
      "[Parallel(n_jobs=4)]: Done   2 out of   4 | elapsed:   35.0s remaining:   35.0s\n",
      "[Parallel(n_jobs=4)]: Done   1 out of   4 | elapsed:   35.4s remaining:  1.8min\n",
      "[Parallel(n_jobs=4)]: Done   4 out of   4 | elapsed:   35.4s finished\n",
      "[Parallel(n_jobs=4)]: Done   1 out of   1 | elapsed:    1.6s remaining:    0.0s\n",
      "[Parallel(n_jobs=4)]: Done   1 out of   1 | elapsed:    1.6s finished\n",
      "[Parallel(n_jobs=4)]: Done   1 out of   4 | elapsed:    0.1s remaining:    0.4s\n",
      "[Parallel(n_jobs=4)]: Done   2 out of   4 | elapsed:    0.2s remaining:    0.2s\n",
      "[Parallel(n_jobs=4)]: Done   3 out of   4 | elapsed:    0.2s remaining:    0.1s\n",
      "[Parallel(n_jobs=4)]: Done   4 out of   4 | elapsed:    0.2s finished\n"
     ]
    },
    {
     "name": "stdout",
     "output_type": "stream",
     "text": [
      "Computing time-frequency power on single epochs...\n",
      "No baseline correction applied\n",
      "The measurement information indicates a low-pass frequency of 64 Hz. The decim=2 parameter will result in a sampling frequency of 64 Hz, which can cause aliasing artifacts.\n"
     ]
    },
    {
     "name": "stderr",
     "output_type": "stream",
     "text": [
      "[Parallel(n_jobs=4)]: Done   2 out of   4 | elapsed:   35.7s remaining:   35.7s\n",
      "[Parallel(n_jobs=4)]: Done   1 out of   4 | elapsed:   35.8s remaining:  1.8min\n",
      "[Parallel(n_jobs=4)]: Done   3 out of   4 | elapsed:   36.2s remaining:   12.1s\n",
      "[Parallel(n_jobs=4)]: Done   4 out of   4 | elapsed:   36.2s finished\n",
      "[Parallel(n_jobs=4)]: Done   1 out of   1 | elapsed:    1.6s remaining:    0.0s\n",
      "[Parallel(n_jobs=4)]: Done   1 out of   1 | elapsed:    1.6s finished\n"
     ]
    },
    {
     "name": "stdout",
     "output_type": "stream",
     "text": [
      "Computing time-frequency power on single epochs...\n",
      "No baseline correction applied\n",
      "The measurement information indicates a low-pass frequency of 64 Hz. The decim=2 parameter will result in a sampling frequency of 64 Hz, which can cause aliasing artifacts.\n"
     ]
    },
    {
     "name": "stderr",
     "output_type": "stream",
     "text": [
      "[Parallel(n_jobs=4)]: Done   1 out of   4 | elapsed:    0.1s remaining:    0.4s\n",
      "[Parallel(n_jobs=4)]: Done   3 out of   4 | elapsed:    0.1s remaining:    0.0s\n",
      "[Parallel(n_jobs=4)]: Done   2 out of   4 | elapsed:    0.1s remaining:    0.1s\n",
      "[Parallel(n_jobs=4)]: Done   4 out of   4 | elapsed:    0.1s finished\n",
      "[Parallel(n_jobs=4)]: Done   3 out of   4 | elapsed:   36.7s remaining:   12.2s\n",
      "[Parallel(n_jobs=4)]: Done   2 out of   4 | elapsed:   37.0s remaining:   37.0s\n",
      "[Parallel(n_jobs=4)]: Done   1 out of   4 | elapsed:   37.3s remaining:  1.9min\n",
      "[Parallel(n_jobs=4)]: Done   4 out of   4 | elapsed:   37.3s finished\n",
      "[Parallel(n_jobs=4)]: Done   1 out of   1 | elapsed:    1.5s remaining:    0.0s\n",
      "[Parallel(n_jobs=4)]: Done   1 out of   1 | elapsed:    1.5s finished\n",
      "[Parallel(n_jobs=4)]: Done   1 out of   4 | elapsed:    0.1s remaining:    0.4s\n",
      "[Parallel(n_jobs=4)]: Done   2 out of   4 | elapsed:    0.2s remaining:    0.2s\n",
      "[Parallel(n_jobs=4)]: Done   3 out of   4 | elapsed:    0.2s remaining:    0.1s\n",
      "[Parallel(n_jobs=4)]: Done   4 out of   4 | elapsed:    0.2s finished\n"
     ]
    },
    {
     "name": "stdout",
     "output_type": "stream",
     "text": [
      "Computing time-frequency power on single epochs...\n",
      "No baseline correction applied\n",
      "The measurement information indicates a low-pass frequency of 64 Hz. The decim=2 parameter will result in a sampling frequency of 64 Hz, which can cause aliasing artifacts.\n"
     ]
    },
    {
     "name": "stderr",
     "output_type": "stream",
     "text": [
      "[Parallel(n_jobs=4)]: Done   3 out of   4 | elapsed:   34.9s remaining:   11.6s\n",
      "[Parallel(n_jobs=4)]: Done   1 out of   4 | elapsed:   35.0s remaining:  1.8min\n",
      "[Parallel(n_jobs=4)]: Done   2 out of   4 | elapsed:   36.6s remaining:   36.6s\n",
      "[Parallel(n_jobs=4)]: Done   4 out of   4 | elapsed:   36.6s finished\n",
      "[Parallel(n_jobs=4)]: Done   1 out of   1 | elapsed:    1.6s remaining:    0.0s\n",
      "[Parallel(n_jobs=4)]: Done   1 out of   1 | elapsed:    1.6s finished\n"
     ]
    },
    {
     "name": "stdout",
     "output_type": "stream",
     "text": [
      "Computing time-frequency power on single epochs...\n",
      "No baseline correction applied\n",
      "The measurement information indicates a low-pass frequency of 64 Hz. The decim=2 parameter will result in a sampling frequency of 64 Hz, which can cause aliasing artifacts.\n"
     ]
    },
    {
     "name": "stderr",
     "output_type": "stream",
     "text": [
      "[Parallel(n_jobs=4)]: Done   1 out of   4 | elapsed:    0.2s remaining:    0.7s\n",
      "[Parallel(n_jobs=4)]: Done   2 out of   4 | elapsed:    0.2s remaining:    0.2s\n",
      "[Parallel(n_jobs=4)]: Done   3 out of   4 | elapsed:    0.2s remaining:    0.1s\n",
      "[Parallel(n_jobs=4)]: Done   4 out of   4 | elapsed:    0.2s finished\n",
      "[Parallel(n_jobs=4)]: Done   1 out of   4 | elapsed:   34.6s remaining:  1.7min\n",
      "[Parallel(n_jobs=4)]: Done   2 out of   4 | elapsed:   34.9s remaining:   34.9s\n",
      "[Parallel(n_jobs=4)]: Done   3 out of   4 | elapsed:   36.5s remaining:   12.2s\n",
      "[Parallel(n_jobs=4)]: Done   4 out of   4 | elapsed:   36.5s finished\n",
      "[Parallel(n_jobs=4)]: Done   1 out of   1 | elapsed:    1.5s remaining:    0.0s\n",
      "[Parallel(n_jobs=4)]: Done   1 out of   1 | elapsed:    1.5s finished\n",
      "[Parallel(n_jobs=4)]: Done   1 out of   4 | elapsed:    0.1s remaining:    0.4s\n",
      "[Parallel(n_jobs=4)]: Done   2 out of   4 | elapsed:    0.1s remaining:    0.1s\n",
      "[Parallel(n_jobs=4)]: Done   3 out of   4 | elapsed:    0.2s remaining:    0.1s\n",
      "[Parallel(n_jobs=4)]: Done   4 out of   4 | elapsed:    0.2s finished\n"
     ]
    },
    {
     "name": "stdout",
     "output_type": "stream",
     "text": [
      "Computing time-frequency power on single epochs...\n",
      "No baseline correction applied\n",
      "The measurement information indicates a low-pass frequency of 64 Hz. The decim=2 parameter will result in a sampling frequency of 64 Hz, which can cause aliasing artifacts.\n"
     ]
    },
    {
     "name": "stderr",
     "output_type": "stream",
     "text": [
      "[Parallel(n_jobs=4)]: Done   2 out of   4 | elapsed:   31.0s remaining:   31.0s\n",
      "[Parallel(n_jobs=4)]: Done   3 out of   4 | elapsed:   33.9s remaining:   11.3s\n",
      "[Parallel(n_jobs=4)]: Done   1 out of   4 | elapsed:   35.6s remaining:  1.8min\n",
      "[Parallel(n_jobs=4)]: Done   4 out of   4 | elapsed:   35.6s finished\n",
      "[Parallel(n_jobs=4)]: Done   1 out of   1 | elapsed:    1.6s remaining:    0.0s\n",
      "[Parallel(n_jobs=4)]: Done   1 out of   1 | elapsed:    1.6s finished\n",
      "[Parallel(n_jobs=4)]: Done   1 out of   4 | elapsed:    0.1s remaining:    0.4s\n",
      "[Parallel(n_jobs=4)]: Done   2 out of   4 | elapsed:    0.1s remaining:    0.1s\n",
      "[Parallel(n_jobs=4)]: Done   3 out of   4 | elapsed:    0.2s remaining:    0.1s\n",
      "[Parallel(n_jobs=4)]: Done   4 out of   4 | elapsed:    0.2s finished\n"
     ]
    },
    {
     "name": "stdout",
     "output_type": "stream",
     "text": [
      "Computing time-frequency power on single epochs...\n",
      "No baseline correction applied\n",
      "The measurement information indicates a low-pass frequency of 64 Hz. The decim=2 parameter will result in a sampling frequency of 64 Hz, which can cause aliasing artifacts.\n"
     ]
    },
    {
     "name": "stderr",
     "output_type": "stream",
     "text": [
      "[Parallel(n_jobs=4)]: Done   3 out of   4 | elapsed:   34.3s remaining:   11.4s\n",
      "[Parallel(n_jobs=4)]: Done   2 out of   4 | elapsed:   34.4s remaining:   34.4s\n",
      "[Parallel(n_jobs=4)]: Done   1 out of   4 | elapsed:   34.5s remaining:  1.7min\n",
      "[Parallel(n_jobs=4)]: Done   4 out of   4 | elapsed:   34.5s finished\n",
      "[Parallel(n_jobs=4)]: Done   1 out of   1 | elapsed:    1.5s remaining:    0.0s\n",
      "[Parallel(n_jobs=4)]: Done   1 out of   1 | elapsed:    1.5s finished\n",
      "[Parallel(n_jobs=4)]: Done   1 out of   4 | elapsed:    0.1s remaining:    0.4s\n",
      "[Parallel(n_jobs=4)]: Done   2 out of   4 | elapsed:    0.2s remaining:    0.2s\n",
      "[Parallel(n_jobs=4)]: Done   3 out of   4 | elapsed:    0.2s remaining:    0.1s\n",
      "[Parallel(n_jobs=4)]: Done   4 out of   4 | elapsed:    0.2s finished\n"
     ]
    },
    {
     "name": "stdout",
     "output_type": "stream",
     "text": [
      "Computing time-frequency power on single epochs...\n",
      "No baseline correction applied\n",
      "The measurement information indicates a low-pass frequency of 64 Hz. The decim=2 parameter will result in a sampling frequency of 64 Hz, which can cause aliasing artifacts.\n"
     ]
    },
    {
     "name": "stderr",
     "output_type": "stream",
     "text": [
      "[Parallel(n_jobs=4)]: Done   1 out of   4 | elapsed:   33.7s remaining:  1.7min\n",
      "[Parallel(n_jobs=4)]: Done   2 out of   4 | elapsed:   33.8s remaining:   33.8s\n",
      "[Parallel(n_jobs=4)]: Done   3 out of   4 | elapsed:   35.9s remaining:   12.0s\n",
      "[Parallel(n_jobs=4)]: Done   4 out of   4 | elapsed:   35.9s finished\n",
      "[Parallel(n_jobs=4)]: Done   1 out of   1 | elapsed:    1.6s remaining:    0.0s\n",
      "[Parallel(n_jobs=4)]: Done   1 out of   1 | elapsed:    1.6s finished\n",
      "[Parallel(n_jobs=4)]: Done   1 out of   4 | elapsed:    0.1s remaining:    0.4s\n",
      "[Parallel(n_jobs=4)]: Done   2 out of   4 | elapsed:    0.2s remaining:    0.2s\n",
      "[Parallel(n_jobs=4)]: Done   3 out of   4 | elapsed:    0.2s remaining:    0.1s\n",
      "[Parallel(n_jobs=4)]: Done   4 out of   4 | elapsed:    0.2s finished\n"
     ]
    },
    {
     "name": "stdout",
     "output_type": "stream",
     "text": [
      "Computing time-frequency power on single epochs...\n",
      "No baseline correction applied\n",
      "The measurement information indicates a low-pass frequency of 64 Hz. The decim=2 parameter will result in a sampling frequency of 64 Hz, which can cause aliasing artifacts.\n"
     ]
    },
    {
     "name": "stderr",
     "output_type": "stream",
     "text": [
      "[Parallel(n_jobs=4)]: Done   2 out of   4 | elapsed:   32.1s remaining:   32.1s\n",
      "[Parallel(n_jobs=4)]: Done   3 out of   4 | elapsed:   34.1s remaining:   11.4s\n",
      "[Parallel(n_jobs=4)]: Done   1 out of   4 | elapsed:   34.9s remaining:  1.7min\n",
      "[Parallel(n_jobs=4)]: Done   4 out of   4 | elapsed:   34.9s finished\n",
      "[Parallel(n_jobs=4)]: Done   1 out of   1 | elapsed:    1.6s remaining:    0.0s\n",
      "[Parallel(n_jobs=4)]: Done   1 out of   1 | elapsed:    1.6s finished\n",
      "[Parallel(n_jobs=4)]: Done   1 out of   4 | elapsed:    0.1s remaining:    0.4s\n",
      "[Parallel(n_jobs=4)]: Done   2 out of   4 | elapsed:    0.1s remaining:    0.1s\n",
      "[Parallel(n_jobs=4)]: Done   3 out of   4 | elapsed:    0.2s remaining:    0.1s\n",
      "[Parallel(n_jobs=4)]: Done   4 out of   4 | elapsed:    0.2s finished\n"
     ]
    },
    {
     "name": "stdout",
     "output_type": "stream",
     "text": [
      "Computing time-frequency power on single epochs...\n",
      "No baseline correction applied\n",
      "The measurement information indicates a low-pass frequency of 64 Hz. The decim=2 parameter will result in a sampling frequency of 64 Hz, which can cause aliasing artifacts.\n"
     ]
    },
    {
     "name": "stderr",
     "output_type": "stream",
     "text": [
      "[Parallel(n_jobs=4)]: Done   2 out of   4 | elapsed:   31.6s remaining:   31.6s\n",
      "[Parallel(n_jobs=4)]: Done   1 out of   4 | elapsed:   31.7s remaining:  1.6min\n",
      "[Parallel(n_jobs=4)]: Done   3 out of   4 | elapsed:   36.0s remaining:   12.0s\n",
      "[Parallel(n_jobs=4)]: Done   4 out of   4 | elapsed:   36.3s finished\n",
      "[Parallel(n_jobs=4)]: Done   1 out of   1 | elapsed:    1.4s remaining:    0.0s\n",
      "[Parallel(n_jobs=4)]: Done   1 out of   1 | elapsed:    1.4s finished\n",
      "[Parallel(n_jobs=4)]: Done   2 out of   4 | elapsed:    0.1s remaining:    0.1s\n",
      "[Parallel(n_jobs=4)]: Done   1 out of   4 | elapsed:    0.2s remaining:    0.6s\n",
      "[Parallel(n_jobs=4)]: Done   3 out of   4 | elapsed:    0.2s remaining:    0.1s\n",
      "[Parallel(n_jobs=4)]: Done   4 out of   4 | elapsed:    0.2s finished\n"
     ]
    },
    {
     "name": "stdout",
     "output_type": "stream",
     "text": [
      "Computing time-frequency power on single epochs...\n",
      "No baseline correction applied\n",
      "The measurement information indicates a low-pass frequency of 64 Hz. The decim=2 parameter will result in a sampling frequency of 64 Hz, which can cause aliasing artifacts.\n"
     ]
    },
    {
     "name": "stderr",
     "output_type": "stream",
     "text": [
      "[Parallel(n_jobs=4)]: Done   1 out of   4 | elapsed:   35.3s remaining:  1.8min\n",
      "[Parallel(n_jobs=4)]: Done   3 out of   4 | elapsed:   36.5s remaining:   12.2s\n",
      "[Parallel(n_jobs=4)]: Done   2 out of   4 | elapsed:   36.6s remaining:   36.6s\n",
      "[Parallel(n_jobs=4)]: Done   4 out of   4 | elapsed:   36.6s finished\n",
      "[Parallel(n_jobs=4)]: Done   1 out of   1 | elapsed:    1.5s remaining:    0.0s\n",
      "[Parallel(n_jobs=4)]: Done   1 out of   1 | elapsed:    1.5s finished\n",
      "[Parallel(n_jobs=4)]: Done   1 out of   4 | elapsed:    0.1s remaining:    0.4s\n",
      "[Parallel(n_jobs=4)]: Done   2 out of   4 | elapsed:    0.2s remaining:    0.2s\n",
      "[Parallel(n_jobs=4)]: Done   3 out of   4 | elapsed:    0.2s remaining:    0.1s\n",
      "[Parallel(n_jobs=4)]: Done   4 out of   4 | elapsed:    0.2s finished\n"
     ]
    },
    {
     "name": "stdout",
     "output_type": "stream",
     "text": [
      "Computing time-frequency power on single epochs...\n",
      "No baseline correction applied\n",
      "The measurement information indicates a low-pass frequency of 64 Hz. The decim=2 parameter will result in a sampling frequency of 64 Hz, which can cause aliasing artifacts.\n"
     ]
    },
    {
     "name": "stderr",
     "output_type": "stream",
     "text": [
      "[Parallel(n_jobs=4)]: Done   2 out of   4 | elapsed:   33.0s remaining:   33.0s\n",
      "[Parallel(n_jobs=4)]: Done   1 out of   4 | elapsed:   34.9s remaining:  1.7min\n",
      "[Parallel(n_jobs=4)]: Done   3 out of   4 | elapsed:   35.1s remaining:   11.7s\n",
      "[Parallel(n_jobs=4)]: Done   4 out of   4 | elapsed:   35.1s finished\n",
      "[Parallel(n_jobs=4)]: Done   1 out of   1 | elapsed:    1.6s remaining:    0.0s\n",
      "[Parallel(n_jobs=4)]: Done   1 out of   1 | elapsed:    1.6s finished\n"
     ]
    },
    {
     "name": "stdout",
     "output_type": "stream",
     "text": [
      "Computing time-frequency power on single epochs...\n",
      "No baseline correction applied\n",
      "The measurement information indicates a low-pass frequency of 64 Hz. The decim=2 parameter will result in a sampling frequency of 64 Hz, which can cause aliasing artifacts.\n"
     ]
    },
    {
     "name": "stderr",
     "output_type": "stream",
     "text": [
      "[Parallel(n_jobs=4)]: Done   1 out of   4 | elapsed:    0.1s remaining:    0.4s\n",
      "[Parallel(n_jobs=4)]: Done   2 out of   4 | elapsed:    0.1s remaining:    0.1s\n",
      "[Parallel(n_jobs=4)]: Done   3 out of   4 | elapsed:    0.1s remaining:    0.0s\n",
      "[Parallel(n_jobs=4)]: Done   4 out of   4 | elapsed:    0.1s finished\n",
      "[Parallel(n_jobs=4)]: Done   1 out of   4 | elapsed:   35.1s remaining:  1.8min\n",
      "[Parallel(n_jobs=4)]: Done   3 out of   4 | elapsed:   35.8s remaining:   11.9s\n",
      "[Parallel(n_jobs=4)]: Done   2 out of   4 | elapsed:   36.6s remaining:   36.6s\n",
      "[Parallel(n_jobs=4)]: Done   4 out of   4 | elapsed:   36.6s finished\n",
      "[Parallel(n_jobs=4)]: Done   1 out of   1 | elapsed:    1.6s remaining:    0.0s\n",
      "[Parallel(n_jobs=4)]: Done   1 out of   1 | elapsed:    1.6s finished\n",
      "[Parallel(n_jobs=4)]: Done   1 out of   4 | elapsed:    0.1s remaining:    0.4s\n",
      "[Parallel(n_jobs=4)]: Done   2 out of   4 | elapsed:    0.1s remaining:    0.1s\n",
      "[Parallel(n_jobs=4)]: Done   3 out of   4 | elapsed:    0.2s remaining:    0.1s\n",
      "[Parallel(n_jobs=4)]: Done   4 out of   4 | elapsed:    0.2s finished\n"
     ]
    },
    {
     "name": "stdout",
     "output_type": "stream",
     "text": [
      "Computing time-frequency power on single epochs...\n",
      "No baseline correction applied\n",
      "The measurement information indicates a low-pass frequency of 64 Hz. The decim=2 parameter will result in a sampling frequency of 64 Hz, which can cause aliasing artifacts.\n"
     ]
    },
    {
     "name": "stderr",
     "output_type": "stream",
     "text": [
      "[Parallel(n_jobs=4)]: Done   3 out of   4 | elapsed:   32.2s remaining:   10.7s\n",
      "[Parallel(n_jobs=4)]: Done   2 out of   4 | elapsed:   34.4s remaining:   34.4s\n",
      "[Parallel(n_jobs=4)]: Done   1 out of   4 | elapsed:   35.5s remaining:  1.8min\n",
      "[Parallel(n_jobs=4)]: Done   4 out of   4 | elapsed:   35.5s finished\n",
      "[Parallel(n_jobs=4)]: Done   1 out of   1 | elapsed:    1.4s remaining:    0.0s\n",
      "[Parallel(n_jobs=4)]: Done   1 out of   1 | elapsed:    1.4s finished\n",
      "[Parallel(n_jobs=4)]: Done   2 out of   4 | elapsed:    0.1s remaining:    0.1s\n",
      "[Parallel(n_jobs=4)]: Done   3 out of   4 | elapsed:    0.1s remaining:    0.0s\n",
      "[Parallel(n_jobs=4)]: Done   1 out of   4 | elapsed:    0.2s remaining:    0.7s\n",
      "[Parallel(n_jobs=4)]: Done   4 out of   4 | elapsed:    0.2s finished\n"
     ]
    },
    {
     "name": "stdout",
     "output_type": "stream",
     "text": [
      "Computing time-frequency power on single epochs...\n",
      "No baseline correction applied\n",
      "The measurement information indicates a low-pass frequency of 64 Hz. The decim=2 parameter will result in a sampling frequency of 64 Hz, which can cause aliasing artifacts.\n"
     ]
    },
    {
     "name": "stderr",
     "output_type": "stream",
     "text": [
      "[Parallel(n_jobs=4)]: Done   1 out of   4 | elapsed:   34.5s remaining:  1.7min\n",
      "[Parallel(n_jobs=4)]: Done   3 out of   4 | elapsed:   35.1s remaining:   11.7s\n",
      "[Parallel(n_jobs=4)]: Done   2 out of   4 | elapsed:   35.2s remaining:   35.2s\n",
      "[Parallel(n_jobs=4)]: Done   4 out of   4 | elapsed:   35.2s finished\n",
      "[Parallel(n_jobs=4)]: Done   1 out of   1 | elapsed:    1.4s remaining:    0.0s\n",
      "[Parallel(n_jobs=4)]: Done   1 out of   1 | elapsed:    1.4s finished\n",
      "[Parallel(n_jobs=4)]: Done   3 out of   4 | elapsed:    0.1s remaining:    0.0s\n",
      "[Parallel(n_jobs=4)]: Done   2 out of   4 | elapsed:    0.1s remaining:    0.1s\n",
      "[Parallel(n_jobs=4)]: Done   1 out of   4 | elapsed:    0.2s remaining:    0.7s\n",
      "[Parallel(n_jobs=4)]: Done   4 out of   4 | elapsed:    0.2s finished\n"
     ]
    },
    {
     "name": "stdout",
     "output_type": "stream",
     "text": [
      "Computing time-frequency power on single epochs...\n",
      "No baseline correction applied\n",
      "The measurement information indicates a low-pass frequency of 64 Hz. The decim=2 parameter will result in a sampling frequency of 64 Hz, which can cause aliasing artifacts.\n"
     ]
    },
    {
     "name": "stderr",
     "output_type": "stream",
     "text": [
      "[Parallel(n_jobs=4)]: Done   2 out of   4 | elapsed:   32.6s remaining:   32.6s\n",
      "[Parallel(n_jobs=4)]: Done   1 out of   4 | elapsed:   34.6s remaining:  1.7min\n",
      "[Parallel(n_jobs=4)]: Done   3 out of   4 | elapsed:   35.7s remaining:   11.9s\n",
      "[Parallel(n_jobs=4)]: Done   4 out of   4 | elapsed:   35.8s finished\n",
      "[Parallel(n_jobs=4)]: Done   1 out of   1 | elapsed:    1.6s remaining:    0.0s\n",
      "[Parallel(n_jobs=4)]: Done   1 out of   1 | elapsed:    1.6s finished\n",
      "[Parallel(n_jobs=4)]: Done   2 out of   4 | elapsed:    0.1s remaining:    0.1s\n",
      "[Parallel(n_jobs=4)]: Done   1 out of   4 | elapsed:    0.1s remaining:    0.4s\n",
      "[Parallel(n_jobs=4)]: Done   3 out of   4 | elapsed:    0.2s remaining:    0.1s\n",
      "[Parallel(n_jobs=4)]: Done   4 out of   4 | elapsed:    0.2s finished\n"
     ]
    },
    {
     "name": "stdout",
     "output_type": "stream",
     "text": [
      "Computing time-frequency power on single epochs...\n",
      "No baseline correction applied\n",
      "The measurement information indicates a low-pass frequency of 64 Hz. The decim=2 parameter will result in a sampling frequency of 64 Hz, which can cause aliasing artifacts.\n"
     ]
    },
    {
     "name": "stderr",
     "output_type": "stream",
     "text": [
      "[Parallel(n_jobs=4)]: Done   3 out of   4 | elapsed:   34.9s remaining:   11.6s\n",
      "[Parallel(n_jobs=4)]: Done   1 out of   4 | elapsed:   36.3s remaining:  1.8min\n",
      "[Parallel(n_jobs=4)]: Done   2 out of   4 | elapsed:   36.8s remaining:   36.8s\n",
      "[Parallel(n_jobs=4)]: Done   4 out of   4 | elapsed:   36.8s finished\n",
      "[Parallel(n_jobs=4)]: Done   1 out of   1 | elapsed:    1.5s remaining:    0.0s\n",
      "[Parallel(n_jobs=4)]: Done   1 out of   1 | elapsed:    1.5s finished\n",
      "[Parallel(n_jobs=4)]: Done   2 out of   4 | elapsed:    0.1s remaining:    0.1s\n",
      "[Parallel(n_jobs=4)]: Done   1 out of   4 | elapsed:    0.2s remaining:    0.7s\n",
      "[Parallel(n_jobs=4)]: Done   3 out of   4 | elapsed:    0.2s remaining:    0.1s\n",
      "[Parallel(n_jobs=4)]: Done   4 out of   4 | elapsed:    0.2s finished\n"
     ]
    },
    {
     "name": "stdout",
     "output_type": "stream",
     "text": [
      "Computing time-frequency power on single epochs...\n",
      "No baseline correction applied\n",
      "The measurement information indicates a low-pass frequency of 64 Hz. The decim=2 parameter will result in a sampling frequency of 64 Hz, which can cause aliasing artifacts.\n"
     ]
    },
    {
     "name": "stderr",
     "output_type": "stream",
     "text": [
      "[Parallel(n_jobs=4)]: Done   2 out of   4 | elapsed:   34.9s remaining:   34.9s\n",
      "[Parallel(n_jobs=4)]: Done   1 out of   4 | elapsed:   35.0s remaining:  1.7min\n",
      "[Parallel(n_jobs=4)]: Done   3 out of   4 | elapsed:   35.3s remaining:   11.8s\n",
      "[Parallel(n_jobs=4)]: Done   4 out of   4 | elapsed:   35.3s finished\n",
      "[Parallel(n_jobs=4)]: Done   1 out of   1 | elapsed:    1.4s remaining:    0.0s\n",
      "[Parallel(n_jobs=4)]: Done   1 out of   1 | elapsed:    1.4s finished\n",
      "[Parallel(n_jobs=4)]: Done   1 out of   4 | elapsed:    0.1s remaining:    0.4s\n",
      "[Parallel(n_jobs=4)]: Done   3 out of   4 | elapsed:    0.2s remaining:    0.1s\n",
      "[Parallel(n_jobs=4)]: Done   2 out of   4 | elapsed:    0.2s remaining:    0.2s\n",
      "[Parallel(n_jobs=4)]: Done   4 out of   4 | elapsed:    0.2s finished\n"
     ]
    },
    {
     "name": "stdout",
     "output_type": "stream",
     "text": [
      "Computing time-frequency power on single epochs...\n",
      "No baseline correction applied\n",
      "The measurement information indicates a low-pass frequency of 64 Hz. The decim=2 parameter will result in a sampling frequency of 64 Hz, which can cause aliasing artifacts.\n"
     ]
    },
    {
     "name": "stderr",
     "output_type": "stream",
     "text": [
      "[Parallel(n_jobs=4)]: Done   2 out of   4 | elapsed:   32.4s remaining:   32.4s\n",
      "[Parallel(n_jobs=4)]: Done   1 out of   4 | elapsed:   35.9s remaining:  1.8min\n",
      "[Parallel(n_jobs=4)]: Done   3 out of   4 | elapsed:   36.5s remaining:   12.2s\n",
      "[Parallel(n_jobs=4)]: Done   4 out of   4 | elapsed:   36.5s finished\n",
      "[Parallel(n_jobs=4)]: Done   1 out of   1 | elapsed:    4.6s remaining:    0.0s\n",
      "[Parallel(n_jobs=4)]: Done   1 out of   1 | elapsed:    4.6s finished\n",
      "[Parallel(n_jobs=4)]: Done   1 out of   4 | elapsed:    0.1s remaining:    0.4s\n",
      "[Parallel(n_jobs=4)]: Done   3 out of   4 | elapsed:    0.2s remaining:    0.1s\n",
      "[Parallel(n_jobs=4)]: Done   2 out of   4 | elapsed:    0.2s remaining:    0.2s\n",
      "[Parallel(n_jobs=4)]: Done   4 out of   4 | elapsed:    0.2s finished\n"
     ]
    },
    {
     "name": "stdout",
     "output_type": "stream",
     "text": [
      "Computing time-frequency power on single epochs...\n",
      "No baseline correction applied\n",
      "The measurement information indicates a low-pass frequency of 64 Hz. The decim=2 parameter will result in a sampling frequency of 64 Hz, which can cause aliasing artifacts.\n"
     ]
    },
    {
     "name": "stderr",
     "output_type": "stream",
     "text": [
      "[Parallel(n_jobs=4)]: Done   2 out of   4 | elapsed:   32.2s remaining:   32.2s\n",
      "[Parallel(n_jobs=4)]: Done   3 out of   4 | elapsed:   33.7s remaining:   11.2s\n",
      "[Parallel(n_jobs=4)]: Done   1 out of   4 | elapsed:   34.3s remaining:  1.7min\n",
      "[Parallel(n_jobs=4)]: Done   4 out of   4 | elapsed:   35.5s finished\n",
      "[Parallel(n_jobs=4)]: Done   1 out of   1 | elapsed:    1.6s remaining:    0.0s\n",
      "[Parallel(n_jobs=4)]: Done   1 out of   1 | elapsed:    1.6s finished\n",
      "[Parallel(n_jobs=4)]: Done   2 out of   4 | elapsed:    0.2s remaining:    0.2s\n",
      "[Parallel(n_jobs=4)]: Done   1 out of   4 | elapsed:    0.2s remaining:    0.5s\n",
      "[Parallel(n_jobs=4)]: Done   3 out of   4 | elapsed:    0.2s remaining:    0.1s\n",
      "[Parallel(n_jobs=4)]: Done   4 out of   4 | elapsed:    0.2s finished\n"
     ]
    },
    {
     "name": "stdout",
     "output_type": "stream",
     "text": [
      "Computing time-frequency power on single epochs...\n",
      "No baseline correction applied\n",
      "The measurement information indicates a low-pass frequency of 64 Hz. The decim=2 parameter will result in a sampling frequency of 64 Hz, which can cause aliasing artifacts.\n"
     ]
    },
    {
     "name": "stderr",
     "output_type": "stream",
     "text": [
      "[Parallel(n_jobs=4)]: Done   3 out of   4 | elapsed:   33.9s remaining:   11.3s\n",
      "[Parallel(n_jobs=4)]: Done   2 out of   4 | elapsed:   34.0s remaining:   34.0s\n",
      "[Parallel(n_jobs=4)]: Done   1 out of   4 | elapsed:   35.4s remaining:  1.8min\n",
      "[Parallel(n_jobs=4)]: Done   4 out of   4 | elapsed:   35.4s finished\n",
      "[Parallel(n_jobs=4)]: Done   1 out of   1 | elapsed:    1.4s remaining:    0.0s\n",
      "[Parallel(n_jobs=4)]: Done   1 out of   1 | elapsed:    1.4s finished\n"
     ]
    },
    {
     "name": "stdout",
     "output_type": "stream",
     "text": [
      "Computing time-frequency power on single epochs...\n",
      "No baseline correction applied\n",
      "The measurement information indicates a low-pass frequency of 64 Hz. The decim=2 parameter will result in a sampling frequency of 64 Hz, which can cause aliasing artifacts.\n"
     ]
    },
    {
     "name": "stderr",
     "output_type": "stream",
     "text": [
      "[Parallel(n_jobs=4)]: Done   1 out of   4 | elapsed:    0.3s remaining:    0.8s\n",
      "[Parallel(n_jobs=4)]: Done   3 out of   4 | elapsed:    0.3s remaining:    0.1s\n",
      "[Parallel(n_jobs=4)]: Done   2 out of   4 | elapsed:    0.3s remaining:    0.3s\n",
      "[Parallel(n_jobs=4)]: Done   4 out of   4 | elapsed:    0.3s finished\n",
      "[Parallel(n_jobs=4)]: Done   3 out of   4 | elapsed:   33.4s remaining:   11.1s\n",
      "[Parallel(n_jobs=4)]: Done   2 out of   4 | elapsed:   35.2s remaining:   35.2s\n",
      "[Parallel(n_jobs=4)]: Done   1 out of   4 | elapsed:   36.4s remaining:  1.8min\n",
      "[Parallel(n_jobs=4)]: Done   4 out of   4 | elapsed:   36.4s finished\n",
      "[Parallel(n_jobs=4)]: Done   1 out of   1 | elapsed:    1.6s remaining:    0.0s\n",
      "[Parallel(n_jobs=4)]: Done   1 out of   1 | elapsed:    1.6s finished\n",
      "[Parallel(n_jobs=4)]: Done   1 out of   4 | elapsed:    0.1s remaining:    0.4s\n",
      "[Parallel(n_jobs=4)]: Done   2 out of   4 | elapsed:    0.1s remaining:    0.1s\n",
      "[Parallel(n_jobs=4)]: Done   3 out of   4 | elapsed:    0.2s remaining:    0.1s\n",
      "[Parallel(n_jobs=4)]: Done   4 out of   4 | elapsed:    0.2s finished\n"
     ]
    },
    {
     "name": "stdout",
     "output_type": "stream",
     "text": [
      "Computing time-frequency power on single epochs...\n",
      "No baseline correction applied\n",
      "The measurement information indicates a low-pass frequency of 64 Hz. The decim=2 parameter will result in a sampling frequency of 64 Hz, which can cause aliasing artifacts.\n"
     ]
    },
    {
     "name": "stderr",
     "output_type": "stream",
     "text": [
      "[Parallel(n_jobs=4)]: Done   3 out of   4 | elapsed:   32.6s remaining:   10.9s\n",
      "[Parallel(n_jobs=4)]: Done   2 out of   4 | elapsed:   35.1s remaining:   35.1s\n",
      "[Parallel(n_jobs=4)]: Done   1 out of   4 | elapsed:   36.4s remaining:  1.8min\n",
      "[Parallel(n_jobs=4)]: Done   4 out of   4 | elapsed:   36.4s finished\n",
      "[Parallel(n_jobs=4)]: Done   1 out of   1 | elapsed:    1.5s remaining:    0.0s\n",
      "[Parallel(n_jobs=4)]: Done   1 out of   1 | elapsed:    1.5s finished\n",
      "[Parallel(n_jobs=4)]: Done   1 out of   4 | elapsed:    0.1s remaining:    0.4s\n",
      "[Parallel(n_jobs=4)]: Done   3 out of   4 | elapsed:    0.1s remaining:    0.0s\n",
      "[Parallel(n_jobs=4)]: Done   2 out of   4 | elapsed:    0.2s remaining:    0.2s\n",
      "[Parallel(n_jobs=4)]: Done   4 out of   4 | elapsed:    0.2s finished\n"
     ]
    },
    {
     "name": "stdout",
     "output_type": "stream",
     "text": [
      "Computing time-frequency power on single epochs...\n",
      "No baseline correction applied\n",
      "The measurement information indicates a low-pass frequency of 64 Hz. The decim=2 parameter will result in a sampling frequency of 64 Hz, which can cause aliasing artifacts.\n"
     ]
    },
    {
     "name": "stderr",
     "output_type": "stream",
     "text": [
      "[Parallel(n_jobs=4)]: Done   1 out of   4 | elapsed:   33.8s remaining:  1.7min\n",
      "[Parallel(n_jobs=4)]: Done   2 out of   4 | elapsed:   35.1s remaining:   35.1s\n",
      "[Parallel(n_jobs=4)]: Done   3 out of   4 | elapsed:   35.6s remaining:   11.9s\n",
      "[Parallel(n_jobs=4)]: Done   4 out of   4 | elapsed:   35.6s finished\n",
      "[Parallel(n_jobs=4)]: Done   1 out of   1 | elapsed:    1.6s remaining:    0.0s\n",
      "[Parallel(n_jobs=4)]: Done   1 out of   1 | elapsed:    1.6s finished\n",
      "[Parallel(n_jobs=4)]: Done   1 out of   4 | elapsed:    0.1s remaining:    0.4s\n",
      "[Parallel(n_jobs=4)]: Done   3 out of   4 | elapsed:    0.1s remaining:    0.0s\n",
      "[Parallel(n_jobs=4)]: Done   2 out of   4 | elapsed:    0.2s remaining:    0.2s\n",
      "[Parallel(n_jobs=4)]: Done   4 out of   4 | elapsed:    0.2s finished\n"
     ]
    },
    {
     "name": "stdout",
     "output_type": "stream",
     "text": [
      "Computing time-frequency power on single epochs...\n",
      "No baseline correction applied\n",
      "The measurement information indicates a low-pass frequency of 64 Hz. The decim=2 parameter will result in a sampling frequency of 64 Hz, which can cause aliasing artifacts.\n"
     ]
    },
    {
     "name": "stderr",
     "output_type": "stream",
     "text": [
      "[Parallel(n_jobs=4)]: Done   3 out of   4 | elapsed:   34.5s remaining:   11.5s\n",
      "[Parallel(n_jobs=4)]: Done   2 out of   4 | elapsed:   35.0s remaining:   35.0s\n",
      "[Parallel(n_jobs=4)]: Done   1 out of   4 | elapsed:   36.0s remaining:  1.8min\n",
      "[Parallel(n_jobs=4)]: Done   4 out of   4 | elapsed:   36.0s finished\n",
      "[Parallel(n_jobs=4)]: Done   1 out of   1 | elapsed:    1.6s remaining:    0.0s\n",
      "[Parallel(n_jobs=4)]: Done   1 out of   1 | elapsed:    1.6s finished\n",
      "[Parallel(n_jobs=4)]: Done   1 out of   4 | elapsed:    0.1s remaining:    0.4s\n",
      "[Parallel(n_jobs=4)]: Done   3 out of   4 | elapsed:    0.1s remaining:    0.0s\n",
      "[Parallel(n_jobs=4)]: Done   2 out of   4 | elapsed:    0.2s remaining:    0.2s\n",
      "[Parallel(n_jobs=4)]: Done   4 out of   4 | elapsed:    0.2s finished\n"
     ]
    },
    {
     "name": "stdout",
     "output_type": "stream",
     "text": [
      "Computing time-frequency power on single epochs...\n",
      "No baseline correction applied\n",
      "The measurement information indicates a low-pass frequency of 64 Hz. The decim=2 parameter will result in a sampling frequency of 64 Hz, which can cause aliasing artifacts.\n"
     ]
    },
    {
     "name": "stderr",
     "output_type": "stream",
     "text": [
      "[Parallel(n_jobs=4)]: Done   2 out of   4 | elapsed:   34.5s remaining:   34.5s\n",
      "[Parallel(n_jobs=4)]: Done   3 out of   4 | elapsed:   34.6s remaining:   11.5s\n",
      "[Parallel(n_jobs=4)]: Done   1 out of   4 | elapsed:   36.0s remaining:  1.8min\n",
      "[Parallel(n_jobs=4)]: Done   4 out of   4 | elapsed:   36.0s finished\n",
      "[Parallel(n_jobs=4)]: Done   1 out of   1 | elapsed:    1.5s remaining:    0.0s\n",
      "[Parallel(n_jobs=4)]: Done   1 out of   1 | elapsed:    1.5s finished\n",
      "[Parallel(n_jobs=4)]: Done   2 out of   4 | elapsed:    0.1s remaining:    0.1s\n",
      "[Parallel(n_jobs=4)]: Done   3 out of   4 | elapsed:    0.1s remaining:    0.0s\n",
      "[Parallel(n_jobs=4)]: Done   1 out of   4 | elapsed:    0.2s remaining:    0.6s\n",
      "[Parallel(n_jobs=4)]: Done   4 out of   4 | elapsed:    0.2s finished\n"
     ]
    },
    {
     "name": "stdout",
     "output_type": "stream",
     "text": [
      "Computing time-frequency power on single epochs...\n",
      "No baseline correction applied\n",
      "The measurement information indicates a low-pass frequency of 64 Hz. The decim=2 parameter will result in a sampling frequency of 64 Hz, which can cause aliasing artifacts.\n"
     ]
    },
    {
     "name": "stderr",
     "output_type": "stream",
     "text": [
      "[Parallel(n_jobs=4)]: Done   2 out of   4 | elapsed:   31.7s remaining:   31.7s\n",
      "[Parallel(n_jobs=4)]: Done   3 out of   4 | elapsed:   37.4s remaining:   12.5s\n",
      "[Parallel(n_jobs=4)]: Done   1 out of   4 | elapsed:   37.7s remaining:  1.9min\n",
      "[Parallel(n_jobs=4)]: Done   4 out of   4 | elapsed:   37.7s finished\n",
      "[Parallel(n_jobs=4)]: Done   1 out of   1 | elapsed:    1.4s remaining:    0.0s\n",
      "[Parallel(n_jobs=4)]: Done   1 out of   1 | elapsed:    1.4s finished\n",
      "[Parallel(n_jobs=4)]: Done   2 out of   4 | elapsed:    0.1s remaining:    0.1s\n",
      "[Parallel(n_jobs=4)]: Done   3 out of   4 | elapsed:    0.1s remaining:    0.0s\n",
      "[Parallel(n_jobs=4)]: Done   1 out of   4 | elapsed:    0.2s remaining:    0.6s\n",
      "[Parallel(n_jobs=4)]: Done   4 out of   4 | elapsed:    0.2s finished\n"
     ]
    },
    {
     "name": "stdout",
     "output_type": "stream",
     "text": [
      "Computing time-frequency power on single epochs...\n",
      "No baseline correction applied\n",
      "The measurement information indicates a low-pass frequency of 64 Hz. The decim=2 parameter will result in a sampling frequency of 64 Hz, which can cause aliasing artifacts.\n"
     ]
    },
    {
     "name": "stderr",
     "output_type": "stream",
     "text": [
      "[Parallel(n_jobs=4)]: Done   3 out of   4 | elapsed:   34.0s remaining:   11.3s\n",
      "[Parallel(n_jobs=4)]: Done   2 out of   4 | elapsed:   34.8s remaining:   34.8s\n",
      "[Parallel(n_jobs=4)]: Done   1 out of   4 | elapsed:   36.1s remaining:  1.8min\n",
      "[Parallel(n_jobs=4)]: Done   4 out of   4 | elapsed:   36.1s finished\n",
      "[Parallel(n_jobs=4)]: Done   1 out of   1 | elapsed:    1.5s remaining:    0.0s\n",
      "[Parallel(n_jobs=4)]: Done   1 out of   1 | elapsed:    1.5s finished\n",
      "[Parallel(n_jobs=4)]: Done   1 out of   4 | elapsed:    0.1s remaining:    0.4s\n",
      "[Parallel(n_jobs=4)]: Done   3 out of   4 | elapsed:    0.1s remaining:    0.0s\n",
      "[Parallel(n_jobs=4)]: Done   2 out of   4 | elapsed:    0.2s remaining:    0.2s\n",
      "[Parallel(n_jobs=4)]: Done   4 out of   4 | elapsed:    0.2s finished\n"
     ]
    },
    {
     "name": "stdout",
     "output_type": "stream",
     "text": [
      "Computing time-frequency power on single epochs...\n",
      "No baseline correction applied\n",
      "The measurement information indicates a low-pass frequency of 64 Hz. The decim=2 parameter will result in a sampling frequency of 64 Hz, which can cause aliasing artifacts.\n"
     ]
    },
    {
     "name": "stderr",
     "output_type": "stream",
     "text": [
      "[Parallel(n_jobs=4)]: Done   2 out of   4 | elapsed:   37.1s remaining:   37.1s\n",
      "[Parallel(n_jobs=4)]: Done   3 out of   4 | elapsed:   37.2s remaining:   12.4s\n",
      "[Parallel(n_jobs=4)]: Done   1 out of   4 | elapsed:   37.9s remaining:  1.9min\n",
      "[Parallel(n_jobs=4)]: Done   4 out of   4 | elapsed:   37.9s finished\n",
      "[Parallel(n_jobs=4)]: Done   1 out of   1 | elapsed:    1.5s remaining:    0.0s\n",
      "[Parallel(n_jobs=4)]: Done   1 out of   1 | elapsed:    1.5s finished\n",
      "[Parallel(n_jobs=4)]: Done   1 out of   4 | elapsed:    0.1s remaining:    0.4s\n",
      "[Parallel(n_jobs=4)]: Done   2 out of   4 | elapsed:    0.1s remaining:    0.1s\n",
      "[Parallel(n_jobs=4)]: Done   3 out of   4 | elapsed:    0.2s remaining:    0.1s\n",
      "[Parallel(n_jobs=4)]: Done   4 out of   4 | elapsed:    0.2s finished\n"
     ]
    },
    {
     "name": "stdout",
     "output_type": "stream",
     "text": [
      "Computing time-frequency power on single epochs...\n",
      "No baseline correction applied\n",
      "The measurement information indicates a low-pass frequency of 64 Hz. The decim=2 parameter will result in a sampling frequency of 64 Hz, which can cause aliasing artifacts.\n"
     ]
    },
    {
     "name": "stderr",
     "output_type": "stream",
     "text": [
      "[Parallel(n_jobs=4)]: Done   1 out of   4 | elapsed:   36.8s remaining:  1.8min\n",
      "[Parallel(n_jobs=4)]: Done   2 out of   4 | elapsed:   36.9s remaining:   36.9s\n",
      "[Parallel(n_jobs=4)]: Done   3 out of   4 | elapsed:   37.1s remaining:   12.4s\n",
      "[Parallel(n_jobs=4)]: Done   4 out of   4 | elapsed:   37.2s finished\n",
      "[Parallel(n_jobs=4)]: Done   1 out of   1 | elapsed:    1.4s remaining:    0.0s\n",
      "[Parallel(n_jobs=4)]: Done   1 out of   1 | elapsed:    1.4s finished\n"
     ]
    },
    {
     "name": "stdout",
     "output_type": "stream",
     "text": [
      "Computing time-frequency power on single epochs...\n",
      "No baseline correction applied\n",
      "The measurement information indicates a low-pass frequency of 64 Hz. The decim=2 parameter will result in a sampling frequency of 64 Hz, which can cause aliasing artifacts.\n"
     ]
    },
    {
     "name": "stderr",
     "output_type": "stream",
     "text": [
      "[Parallel(n_jobs=4)]: Done   1 out of   4 | elapsed:    0.2s remaining:    0.5s\n",
      "[Parallel(n_jobs=4)]: Done   2 out of   4 | elapsed:    0.2s remaining:    0.2s\n",
      "[Parallel(n_jobs=4)]: Done   3 out of   4 | elapsed:    0.2s remaining:    0.1s\n",
      "[Parallel(n_jobs=4)]: Done   4 out of   4 | elapsed:    0.2s finished\n",
      "[Parallel(n_jobs=4)]: Done   1 out of   4 | elapsed:   35.8s remaining:  1.8min\n",
      "[Parallel(n_jobs=4)]: Done   3 out of   4 | elapsed:   36.7s remaining:   12.2s\n",
      "[Parallel(n_jobs=4)]: Done   2 out of   4 | elapsed:   37.2s remaining:   37.2s\n",
      "[Parallel(n_jobs=4)]: Done   4 out of   4 | elapsed:   37.2s finished\n",
      "[Parallel(n_jobs=4)]: Done   1 out of   1 | elapsed:    1.5s remaining:    0.0s\n",
      "[Parallel(n_jobs=4)]: Done   1 out of   1 | elapsed:    1.5s finished\n",
      "[Parallel(n_jobs=4)]: Done   1 out of   4 | elapsed:    0.1s remaining:    0.4s\n",
      "[Parallel(n_jobs=4)]: Done   2 out of   4 | elapsed:    0.1s remaining:    0.1s\n",
      "[Parallel(n_jobs=4)]: Done   3 out of   4 | elapsed:    0.2s remaining:    0.1s\n",
      "[Parallel(n_jobs=4)]: Done   4 out of   4 | elapsed:    0.2s finished\n"
     ]
    },
    {
     "name": "stdout",
     "output_type": "stream",
     "text": [
      "Computing time-frequency power on single epochs...\n",
      "No baseline correction applied\n",
      "The measurement information indicates a low-pass frequency of 64 Hz. The decim=2 parameter will result in a sampling frequency of 64 Hz, which can cause aliasing artifacts.\n"
     ]
    },
    {
     "name": "stderr",
     "output_type": "stream",
     "text": [
      "[Parallel(n_jobs=4)]: Done   3 out of   4 | elapsed:   32.0s remaining:   10.7s\n",
      "[Parallel(n_jobs=4)]: Done   2 out of   4 | elapsed:   36.3s remaining:   36.3s\n",
      "[Parallel(n_jobs=4)]: Done   1 out of   4 | elapsed:   36.8s remaining:  1.8min\n",
      "[Parallel(n_jobs=4)]: Done   4 out of   4 | elapsed:   36.8s finished\n",
      "[Parallel(n_jobs=4)]: Done   1 out of   1 | elapsed:    1.4s remaining:    0.0s\n",
      "[Parallel(n_jobs=4)]: Done   1 out of   1 | elapsed:    1.4s finished\n"
     ]
    },
    {
     "name": "stdout",
     "output_type": "stream",
     "text": [
      "Computing time-frequency power on single epochs...\n",
      "No baseline correction applied\n",
      "The measurement information indicates a low-pass frequency of 64 Hz. The decim=2 parameter will result in a sampling frequency of 64 Hz, which can cause aliasing artifacts.\n"
     ]
    },
    {
     "name": "stderr",
     "output_type": "stream",
     "text": [
      "[Parallel(n_jobs=4)]: Done   1 out of   4 | elapsed:    0.1s remaining:    0.4s\n",
      "[Parallel(n_jobs=4)]: Done   3 out of   4 | elapsed:    0.2s remaining:    0.1s\n",
      "[Parallel(n_jobs=4)]: Done   2 out of   4 | elapsed:    0.2s remaining:    0.2s\n",
      "[Parallel(n_jobs=4)]: Done   4 out of   4 | elapsed:    0.2s finished\n",
      "[Parallel(n_jobs=4)]: Done   2 out of   4 | elapsed:   36.1s remaining:   36.1s\n",
      "[Parallel(n_jobs=4)]: Done   3 out of   4 | elapsed:   38.0s remaining:   12.7s\n",
      "[Parallel(n_jobs=4)]: Done   1 out of   4 | elapsed:   38.2s remaining:  1.9min\n",
      "[Parallel(n_jobs=4)]: Done   4 out of   4 | elapsed:   38.2s finished\n",
      "[Parallel(n_jobs=4)]: Done   1 out of   1 | elapsed:    1.5s remaining:    0.0s\n",
      "[Parallel(n_jobs=4)]: Done   1 out of   1 | elapsed:    1.5s finished\n",
      "[Parallel(n_jobs=4)]: Done   1 out of   4 | elapsed:    0.1s remaining:    0.4s\n",
      "[Parallel(n_jobs=4)]: Done   2 out of   4 | elapsed:    0.2s remaining:    0.2s\n",
      "[Parallel(n_jobs=4)]: Done   3 out of   4 | elapsed:    0.2s remaining:    0.1s\n",
      "[Parallel(n_jobs=4)]: Done   4 out of   4 | elapsed:    0.2s finished\n"
     ]
    },
    {
     "name": "stdout",
     "output_type": "stream",
     "text": [
      "Computing time-frequency power on single epochs...\n",
      "No baseline correction applied\n",
      "The measurement information indicates a low-pass frequency of 64 Hz. The decim=2 parameter will result in a sampling frequency of 64 Hz, which can cause aliasing artifacts.\n"
     ]
    },
    {
     "name": "stderr",
     "output_type": "stream",
     "text": [
      "[Parallel(n_jobs=4)]: Done   2 out of   4 | elapsed:   36.0s remaining:   36.0s\n",
      "[Parallel(n_jobs=4)]: Done   3 out of   4 | elapsed:   36.3s remaining:   12.1s\n",
      "[Parallel(n_jobs=4)]: Done   1 out of   4 | elapsed:   37.3s remaining:  1.9min\n",
      "[Parallel(n_jobs=4)]: Done   4 out of   4 | elapsed:   37.3s finished\n",
      "[Parallel(n_jobs=4)]: Done   1 out of   1 | elapsed:    1.7s remaining:    0.0s\n",
      "[Parallel(n_jobs=4)]: Done   1 out of   1 | elapsed:    1.7s finished\n",
      "[Parallel(n_jobs=4)]: Done   1 out of   4 | elapsed:    0.1s remaining:    0.4s\n",
      "[Parallel(n_jobs=4)]: Done   2 out of   4 | elapsed:    0.2s remaining:    0.2s\n",
      "[Parallel(n_jobs=4)]: Done   3 out of   4 | elapsed:    0.2s remaining:    0.1s\n",
      "[Parallel(n_jobs=4)]: Done   4 out of   4 | elapsed:    0.2s finished\n"
     ]
    },
    {
     "name": "stdout",
     "output_type": "stream",
     "text": [
      "Computing time-frequency power on single epochs...\n",
      "No baseline correction applied\n",
      "The measurement information indicates a low-pass frequency of 64 Hz. The decim=2 parameter will result in a sampling frequency of 64 Hz, which can cause aliasing artifacts.\n"
     ]
    },
    {
     "name": "stderr",
     "output_type": "stream",
     "text": [
      "[Parallel(n_jobs=4)]: Done   2 out of   4 | elapsed:   34.7s remaining:   34.7s\n",
      "[Parallel(n_jobs=4)]: Done   1 out of   4 | elapsed:   34.9s remaining:  1.7min\n",
      "[Parallel(n_jobs=4)]: Done   3 out of   4 | elapsed:   36.7s remaining:   12.2s\n",
      "[Parallel(n_jobs=4)]: Done   4 out of   4 | elapsed:   36.7s finished\n",
      "[Parallel(n_jobs=4)]: Done   1 out of   1 | elapsed:    1.5s remaining:    0.0s\n",
      "[Parallel(n_jobs=4)]: Done   1 out of   1 | elapsed:    1.5s finished\n",
      "[Parallel(n_jobs=4)]: Done   1 out of   4 | elapsed:    0.1s remaining:    0.4s\n",
      "[Parallel(n_jobs=4)]: Done   2 out of   4 | elapsed:    0.2s remaining:    0.2s\n",
      "[Parallel(n_jobs=4)]: Done   3 out of   4 | elapsed:    0.2s remaining:    0.1s\n",
      "[Parallel(n_jobs=4)]: Done   4 out of   4 | elapsed:    0.2s finished\n"
     ]
    },
    {
     "name": "stdout",
     "output_type": "stream",
     "text": [
      "Computing time-frequency power on single epochs...\n",
      "No baseline correction applied\n",
      "The measurement information indicates a low-pass frequency of 64 Hz. The decim=2 parameter will result in a sampling frequency of 64 Hz, which can cause aliasing artifacts.\n"
     ]
    },
    {
     "name": "stderr",
     "output_type": "stream",
     "text": [
      "[Parallel(n_jobs=4)]: Done   3 out of   4 | elapsed:   36.6s remaining:   12.2s\n",
      "[Parallel(n_jobs=4)]: Done   1 out of   4 | elapsed:   36.7s remaining:  1.8min\n",
      "[Parallel(n_jobs=4)]: Done   2 out of   4 | elapsed:   36.9s remaining:   36.9s\n",
      "[Parallel(n_jobs=4)]: Done   4 out of   4 | elapsed:   36.9s finished\n",
      "[Parallel(n_jobs=4)]: Done   1 out of   1 | elapsed:    1.4s remaining:    0.0s\n",
      "[Parallel(n_jobs=4)]: Done   1 out of   1 | elapsed:    1.4s finished\n"
     ]
    },
    {
     "name": "stdout",
     "output_type": "stream",
     "text": [
      "Computing time-frequency power on single epochs...\n",
      "No baseline correction applied\n",
      "The measurement information indicates a low-pass frequency of 64 Hz. The decim=2 parameter will result in a sampling frequency of 64 Hz, which can cause aliasing artifacts.\n"
     ]
    },
    {
     "name": "stderr",
     "output_type": "stream",
     "text": [
      "[Parallel(n_jobs=4)]: Done   1 out of   4 | elapsed:    0.2s remaining:    0.7s\n",
      "[Parallel(n_jobs=4)]: Done   3 out of   4 | elapsed:    0.2s remaining:    0.1s\n",
      "[Parallel(n_jobs=4)]: Done   2 out of   4 | elapsed:    0.2s remaining:    0.2s\n",
      "[Parallel(n_jobs=4)]: Done   4 out of   4 | elapsed:    0.2s finished\n",
      "[Parallel(n_jobs=4)]: Done   3 out of   4 | elapsed:   35.5s remaining:   11.8s\n",
      "[Parallel(n_jobs=4)]: Done   1 out of   4 | elapsed:   37.3s remaining:  1.9min\n",
      "[Parallel(n_jobs=4)]: Done   2 out of   4 | elapsed:   38.3s remaining:   38.3s\n",
      "[Parallel(n_jobs=4)]: Done   4 out of   4 | elapsed:   38.3s finished\n",
      "[Parallel(n_jobs=4)]: Done   1 out of   1 | elapsed:    1.6s remaining:    0.0s\n",
      "[Parallel(n_jobs=4)]: Done   1 out of   1 | elapsed:    1.6s finished\n",
      "[Parallel(n_jobs=4)]: Done   1 out of   4 | elapsed:    0.1s remaining:    0.4s\n",
      "[Parallel(n_jobs=4)]: Done   3 out of   4 | elapsed:    0.1s remaining:    0.0s\n",
      "[Parallel(n_jobs=4)]: Done   2 out of   4 | elapsed:    0.2s remaining:    0.2s\n",
      "[Parallel(n_jobs=4)]: Done   4 out of   4 | elapsed:    0.2s finished\n"
     ]
    },
    {
     "name": "stdout",
     "output_type": "stream",
     "text": [
      "Computing time-frequency power on single epochs...\n",
      "No baseline correction applied\n",
      "The measurement information indicates a low-pass frequency of 64 Hz. The decim=2 parameter will result in a sampling frequency of 64 Hz, which can cause aliasing artifacts.\n"
     ]
    },
    {
     "name": "stderr",
     "output_type": "stream",
     "text": [
      "[Parallel(n_jobs=4)]: Done   1 out of   4 | elapsed:   34.1s remaining:  1.7min\n",
      "[Parallel(n_jobs=4)]: Done   3 out of   4 | elapsed:   36.9s remaining:   12.3s\n",
      "[Parallel(n_jobs=4)]: Done   2 out of   4 | elapsed:   37.2s remaining:   37.2s\n",
      "[Parallel(n_jobs=4)]: Done   4 out of   4 | elapsed:   37.2s finished\n",
      "[Parallel(n_jobs=4)]: Done   1 out of   1 | elapsed:    1.6s remaining:    0.0s\n",
      "[Parallel(n_jobs=4)]: Done   1 out of   1 | elapsed:    1.6s finished\n",
      "[Parallel(n_jobs=4)]: Done   1 out of   4 | elapsed:    0.1s remaining:    0.4s\n",
      "[Parallel(n_jobs=4)]: Done   2 out of   4 | elapsed:    0.1s remaining:    0.1s\n",
      "[Parallel(n_jobs=4)]: Done   3 out of   4 | elapsed:    0.2s remaining:    0.1s\n",
      "[Parallel(n_jobs=4)]: Done   4 out of   4 | elapsed:    0.2s finished\n"
     ]
    },
    {
     "name": "stdout",
     "output_type": "stream",
     "text": [
      "Computing time-frequency power on single epochs...\n",
      "No baseline correction applied\n",
      "The measurement information indicates a low-pass frequency of 64 Hz. The decim=2 parameter will result in a sampling frequency of 64 Hz, which can cause aliasing artifacts.\n"
     ]
    },
    {
     "name": "stderr",
     "output_type": "stream",
     "text": [
      "[Parallel(n_jobs=4)]: Done   2 out of   4 | elapsed:   32.5s remaining:   32.5s\n",
      "[Parallel(n_jobs=4)]: Done   1 out of   4 | elapsed:   32.6s remaining:  1.6min\n",
      "[Parallel(n_jobs=4)]: Done   3 out of   4 | elapsed:   37.2s remaining:   12.4s\n",
      "[Parallel(n_jobs=4)]: Done   4 out of   4 | elapsed:   37.2s finished\n",
      "[Parallel(n_jobs=4)]: Done   1 out of   1 | elapsed:    1.5s remaining:    0.0s\n",
      "[Parallel(n_jobs=4)]: Done   1 out of   1 | elapsed:    1.5s finished\n",
      "[Parallel(n_jobs=4)]: Done   1 out of   4 | elapsed:    0.1s remaining:    0.4s\n",
      "[Parallel(n_jobs=4)]: Done   2 out of   4 | elapsed:    0.1s remaining:    0.1s\n",
      "[Parallel(n_jobs=4)]: Done   3 out of   4 | elapsed:    0.2s remaining:    0.1s\n",
      "[Parallel(n_jobs=4)]: Done   4 out of   4 | elapsed:    0.2s finished\n"
     ]
    },
    {
     "name": "stdout",
     "output_type": "stream",
     "text": [
      "Computing time-frequency power on single epochs...\n",
      "No baseline correction applied\n",
      "The measurement information indicates a low-pass frequency of 64 Hz. The decim=2 parameter will result in a sampling frequency of 64 Hz, which can cause aliasing artifacts.\n"
     ]
    },
    {
     "name": "stderr",
     "output_type": "stream",
     "text": [
      "[Parallel(n_jobs=4)]: Done   1 out of   4 | elapsed:   35.0s remaining:  1.7min\n",
      "[Parallel(n_jobs=4)]: Done   2 out of   4 | elapsed:   35.9s remaining:   35.9s\n",
      "[Parallel(n_jobs=4)]: Done   3 out of   4 | elapsed:   36.2s remaining:   12.1s\n",
      "[Parallel(n_jobs=4)]: Done   4 out of   4 | elapsed:   36.2s finished\n",
      "[Parallel(n_jobs=4)]: Done   1 out of   1 | elapsed:    1.5s remaining:    0.0s\n",
      "[Parallel(n_jobs=4)]: Done   1 out of   1 | elapsed:    1.5s finished\n",
      "[Parallel(n_jobs=4)]: Done   1 out of   4 | elapsed:    0.1s remaining:    0.4s\n",
      "[Parallel(n_jobs=4)]: Done   2 out of   4 | elapsed:    0.2s remaining:    0.2s\n",
      "[Parallel(n_jobs=4)]: Done   3 out of   4 | elapsed:    0.2s remaining:    0.1s\n",
      "[Parallel(n_jobs=4)]: Done   4 out of   4 | elapsed:    0.2s finished\n"
     ]
    },
    {
     "name": "stdout",
     "output_type": "stream",
     "text": [
      "Computing time-frequency power on single epochs...\n",
      "No baseline correction applied\n",
      "The measurement information indicates a low-pass frequency of 64 Hz. The decim=2 parameter will result in a sampling frequency of 64 Hz, which can cause aliasing artifacts.\n"
     ]
    },
    {
     "name": "stderr",
     "output_type": "stream",
     "text": [
      "[Parallel(n_jobs=4)]: Done   1 out of   4 | elapsed:   33.6s remaining:  1.7min\n",
      "[Parallel(n_jobs=4)]: Done   2 out of   4 | elapsed:   38.4s remaining:   38.4s\n",
      "[Parallel(n_jobs=4)]: Done   3 out of   4 | elapsed:   38.5s remaining:   12.8s\n",
      "[Parallel(n_jobs=4)]: Done   4 out of   4 | elapsed:   38.5s finished\n",
      "[Parallel(n_jobs=4)]: Done   1 out of   1 | elapsed:    1.4s remaining:    0.0s\n",
      "[Parallel(n_jobs=4)]: Done   1 out of   1 | elapsed:    1.4s finished\n",
      "[Parallel(n_jobs=4)]: Done   3 out of   4 | elapsed:    0.1s remaining:    0.0s\n",
      "[Parallel(n_jobs=4)]: Done   2 out of   4 | elapsed:    0.2s remaining:    0.2s\n",
      "[Parallel(n_jobs=4)]: Done   1 out of   4 | elapsed:    0.2s remaining:    0.7s\n",
      "[Parallel(n_jobs=4)]: Done   4 out of   4 | elapsed:    0.2s finished\n"
     ]
    },
    {
     "name": "stdout",
     "output_type": "stream",
     "text": [
      "Computing time-frequency power on single epochs...\n",
      "No baseline correction applied\n",
      "The measurement information indicates a low-pass frequency of 64 Hz. The decim=2 parameter will result in a sampling frequency of 64 Hz, which can cause aliasing artifacts.\n"
     ]
    },
    {
     "name": "stderr",
     "output_type": "stream",
     "text": [
      "[Parallel(n_jobs=4)]: Done   2 out of   4 | elapsed:   36.8s remaining:   36.8s\n",
      "[Parallel(n_jobs=4)]: Done   3 out of   4 | elapsed:   36.9s remaining:   12.3s\n",
      "[Parallel(n_jobs=4)]: Done   1 out of   4 | elapsed:   36.9s remaining:  1.8min\n",
      "[Parallel(n_jobs=4)]: Done   4 out of   4 | elapsed:   36.9s finished\n",
      "[Parallel(n_jobs=4)]: Done   1 out of   1 | elapsed:    1.6s remaining:    0.0s\n",
      "[Parallel(n_jobs=4)]: Done   1 out of   1 | elapsed:    1.6s finished\n",
      "[Parallel(n_jobs=4)]: Done   3 out of   4 | elapsed:    0.1s remaining:    0.0s\n",
      "[Parallel(n_jobs=4)]: Done   1 out of   4 | elapsed:    0.2s remaining:    0.6s\n",
      "[Parallel(n_jobs=4)]: Done   2 out of   4 | elapsed:    0.2s remaining:    0.2s\n",
      "[Parallel(n_jobs=4)]: Done   4 out of   4 | elapsed:    0.2s finished\n"
     ]
    },
    {
     "name": "stdout",
     "output_type": "stream",
     "text": [
      "Computing time-frequency power on single epochs...\n",
      "No baseline correction applied\n",
      "The measurement information indicates a low-pass frequency of 64 Hz. The decim=2 parameter will result in a sampling frequency of 64 Hz, which can cause aliasing artifacts.\n"
     ]
    },
    {
     "name": "stderr",
     "output_type": "stream",
     "text": [
      "[Parallel(n_jobs=4)]: Done   1 out of   4 | elapsed:   35.3s remaining:  1.8min\n",
      "[Parallel(n_jobs=4)]: Done   3 out of   4 | elapsed:   35.9s remaining:   12.0s\n",
      "[Parallel(n_jobs=4)]: Done   2 out of   4 | elapsed:   36.5s remaining:   36.5s\n",
      "[Parallel(n_jobs=4)]: Done   4 out of   4 | elapsed:   36.5s finished\n",
      "[Parallel(n_jobs=4)]: Done   1 out of   1 | elapsed:    1.5s remaining:    0.0s\n",
      "[Parallel(n_jobs=4)]: Done   1 out of   1 | elapsed:    1.5s finished\n"
     ]
    },
    {
     "name": "stdout",
     "output_type": "stream",
     "text": [
      "Computing time-frequency power on single epochs...\n",
      "No baseline correction applied\n",
      "The measurement information indicates a low-pass frequency of 64 Hz. The decim=2 parameter will result in a sampling frequency of 64 Hz, which can cause aliasing artifacts.\n"
     ]
    },
    {
     "name": "stderr",
     "output_type": "stream",
     "text": [
      "[Parallel(n_jobs=4)]: Done   1 out of   4 | elapsed:    0.3s remaining:    0.8s\n",
      "[Parallel(n_jobs=4)]: Done   3 out of   4 | elapsed:    0.3s remaining:    0.1s\n",
      "[Parallel(n_jobs=4)]: Done   2 out of   4 | elapsed:    0.3s remaining:    0.3s\n",
      "[Parallel(n_jobs=4)]: Done   4 out of   4 | elapsed:    0.3s finished\n",
      "[Parallel(n_jobs=4)]: Done   2 out of   4 | elapsed:   35.1s remaining:   35.1s\n",
      "[Parallel(n_jobs=4)]: Done   1 out of   4 | elapsed:   35.6s remaining:  1.8min\n",
      "[Parallel(n_jobs=4)]: Done   3 out of   4 | elapsed:   36.5s remaining:   12.2s\n",
      "[Parallel(n_jobs=4)]: Done   4 out of   4 | elapsed:   36.5s finished\n",
      "[Parallel(n_jobs=4)]: Done   1 out of   1 | elapsed:    1.4s remaining:    0.0s\n",
      "[Parallel(n_jobs=4)]: Done   1 out of   1 | elapsed:    1.4s finished\n"
     ]
    },
    {
     "name": "stdout",
     "output_type": "stream",
     "text": [
      "Computing time-frequency power on single epochs...\n",
      "No baseline correction applied\n",
      "The measurement information indicates a low-pass frequency of 64 Hz. The decim=2 parameter will result in a sampling frequency of 64 Hz, which can cause aliasing artifacts.\n"
     ]
    },
    {
     "name": "stderr",
     "output_type": "stream",
     "text": [
      "[Parallel(n_jobs=4)]: Done   1 out of   4 | elapsed:    0.2s remaining:    0.6s\n",
      "[Parallel(n_jobs=4)]: Done   2 out of   4 | elapsed:    0.2s remaining:    0.2s\n",
      "[Parallel(n_jobs=4)]: Done   3 out of   4 | elapsed:    0.2s remaining:    0.1s\n",
      "[Parallel(n_jobs=4)]: Done   4 out of   4 | elapsed:    0.2s finished\n",
      "[Parallel(n_jobs=4)]: Done   3 out of   4 | elapsed:   34.5s remaining:   11.5s\n",
      "[Parallel(n_jobs=4)]: Done   2 out of   4 | elapsed:   34.8s remaining:   34.8s\n",
      "[Parallel(n_jobs=4)]: Done   1 out of   4 | elapsed:   36.2s remaining:  1.8min\n",
      "[Parallel(n_jobs=4)]: Done   4 out of   4 | elapsed:   36.2s finished\n",
      "[Parallel(n_jobs=4)]: Done   1 out of   1 | elapsed:    1.6s remaining:    0.0s\n",
      "[Parallel(n_jobs=4)]: Done   1 out of   1 | elapsed:    1.6s finished\n"
     ]
    },
    {
     "name": "stdout",
     "output_type": "stream",
     "text": [
      "Computing time-frequency power on single epochs...\n",
      "No baseline correction applied\n",
      "The measurement information indicates a low-pass frequency of 64 Hz. The decim=2 parameter will result in a sampling frequency of 64 Hz, which can cause aliasing artifacts.\n"
     ]
    },
    {
     "name": "stderr",
     "output_type": "stream",
     "text": [
      "[Parallel(n_jobs=4)]: Done   1 out of   4 | elapsed:    0.2s remaining:    0.6s\n",
      "[Parallel(n_jobs=4)]: Done   2 out of   4 | elapsed:    0.2s remaining:    0.2s\n",
      "[Parallel(n_jobs=4)]: Done   3 out of   4 | elapsed:    0.2s remaining:    0.1s\n",
      "[Parallel(n_jobs=4)]: Done   4 out of   4 | elapsed:    0.2s finished\n",
      "[Parallel(n_jobs=4)]: Done   1 out of   4 | elapsed:   33.2s remaining:  1.7min\n",
      "[Parallel(n_jobs=4)]: Done   2 out of   4 | elapsed:   34.7s remaining:   34.7s\n",
      "[Parallel(n_jobs=4)]: Done   3 out of   4 | elapsed:   35.8s remaining:   11.9s\n",
      "[Parallel(n_jobs=4)]: Done   4 out of   4 | elapsed:   35.8s finished\n",
      "[Parallel(n_jobs=4)]: Done   1 out of   1 | elapsed:    1.6s remaining:    0.0s\n",
      "[Parallel(n_jobs=4)]: Done   1 out of   1 | elapsed:    1.6s finished\n"
     ]
    },
    {
     "name": "stdout",
     "output_type": "stream",
     "text": [
      "Computing time-frequency power on single epochs...\n",
      "No baseline correction applied\n",
      "The measurement information indicates a low-pass frequency of 64 Hz. The decim=2 parameter will result in a sampling frequency of 64 Hz, which can cause aliasing artifacts.\n"
     ]
    },
    {
     "name": "stderr",
     "output_type": "stream",
     "text": [
      "[Parallel(n_jobs=4)]: Done   1 out of   4 | elapsed:    0.2s remaining:    0.6s\n",
      "[Parallel(n_jobs=4)]: Done   2 out of   4 | elapsed:    0.2s remaining:    0.2s\n",
      "[Parallel(n_jobs=4)]: Done   3 out of   4 | elapsed:    0.2s remaining:    0.1s\n",
      "[Parallel(n_jobs=4)]: Done   4 out of   4 | elapsed:    0.2s finished\n",
      "[Parallel(n_jobs=4)]: Done   1 out of   4 | elapsed:   33.6s remaining:  1.7min\n",
      "[Parallel(n_jobs=4)]: Done   2 out of   4 | elapsed:   34.9s remaining:   34.9s\n",
      "[Parallel(n_jobs=4)]: Done   3 out of   4 | elapsed:   36.4s remaining:   12.1s\n",
      "[Parallel(n_jobs=4)]: Done   4 out of   4 | elapsed:   36.4s finished\n",
      "[Parallel(n_jobs=4)]: Done   1 out of   1 | elapsed:    1.4s remaining:    0.0s\n",
      "[Parallel(n_jobs=4)]: Done   1 out of   1 | elapsed:    1.4s finished\n",
      "[Parallel(n_jobs=4)]: Done   1 out of   4 | elapsed:    0.1s remaining:    0.4s\n",
      "[Parallel(n_jobs=4)]: Done   2 out of   4 | elapsed:    0.2s remaining:    0.2s\n",
      "[Parallel(n_jobs=4)]: Done   3 out of   4 | elapsed:    0.2s remaining:    0.1s\n",
      "[Parallel(n_jobs=4)]: Done   4 out of   4 | elapsed:    0.2s finished\n"
     ]
    },
    {
     "name": "stdout",
     "output_type": "stream",
     "text": [
      "Computing time-frequency power on single epochs...\n",
      "No baseline correction applied\n",
      "The measurement information indicates a low-pass frequency of 64 Hz. The decim=2 parameter will result in a sampling frequency of 64 Hz, which can cause aliasing artifacts.\n"
     ]
    },
    {
     "name": "stderr",
     "output_type": "stream",
     "text": [
      "[Parallel(n_jobs=4)]: Done   1 out of   4 | elapsed:   32.7s remaining:  1.6min\n",
      "[Parallel(n_jobs=4)]: Done   2 out of   4 | elapsed:   32.8s remaining:   32.8s\n",
      "[Parallel(n_jobs=4)]: Done   3 out of   4 | elapsed:   36.8s remaining:   12.3s\n",
      "[Parallel(n_jobs=4)]: Done   4 out of   4 | elapsed:   36.8s finished\n",
      "[Parallel(n_jobs=4)]: Done   1 out of   1 | elapsed:    1.5s remaining:    0.0s\n",
      "[Parallel(n_jobs=4)]: Done   1 out of   1 | elapsed:    1.5s finished\n",
      "[Parallel(n_jobs=4)]: Done   1 out of   4 | elapsed:    0.1s remaining:    0.4s\n",
      "[Parallel(n_jobs=4)]: Done   2 out of   4 | elapsed:    0.1s remaining:    0.1s\n",
      "[Parallel(n_jobs=4)]: Done   3 out of   4 | elapsed:    0.2s remaining:    0.1s\n",
      "[Parallel(n_jobs=4)]: Done   4 out of   4 | elapsed:    0.2s finished\n"
     ]
    },
    {
     "name": "stdout",
     "output_type": "stream",
     "text": [
      "Computing time-frequency power on single epochs...\n",
      "No baseline correction applied\n",
      "The measurement information indicates a low-pass frequency of 64 Hz. The decim=2 parameter will result in a sampling frequency of 64 Hz, which can cause aliasing artifacts.\n"
     ]
    },
    {
     "name": "stderr",
     "output_type": "stream",
     "text": [
      "[Parallel(n_jobs=4)]: Done   3 out of   4 | elapsed:   36.2s remaining:   12.1s\n",
      "[Parallel(n_jobs=4)]: Done   2 out of   4 | elapsed:   36.6s remaining:   36.6s\n",
      "[Parallel(n_jobs=4)]: Done   1 out of   4 | elapsed:   36.7s remaining:  1.8min\n",
      "[Parallel(n_jobs=4)]: Done   4 out of   4 | elapsed:   36.7s finished\n",
      "[Parallel(n_jobs=4)]: Done   1 out of   1 | elapsed:    1.6s remaining:    0.0s\n",
      "[Parallel(n_jobs=4)]: Done   1 out of   1 | elapsed:    1.6s finished\n",
      "[Parallel(n_jobs=4)]: Done   2 out of   4 | elapsed:    0.1s remaining:    0.1s\n",
      "[Parallel(n_jobs=4)]: Done   1 out of   4 | elapsed:    0.1s remaining:    0.4s\n",
      "[Parallel(n_jobs=4)]: Done   3 out of   4 | elapsed:    0.2s remaining:    0.1s\n",
      "[Parallel(n_jobs=4)]: Done   4 out of   4 | elapsed:    0.2s finished\n"
     ]
    },
    {
     "name": "stdout",
     "output_type": "stream",
     "text": [
      "Computing time-frequency power on single epochs...\n",
      "No baseline correction applied\n",
      "The measurement information indicates a low-pass frequency of 64 Hz. The decim=2 parameter will result in a sampling frequency of 64 Hz, which can cause aliasing artifacts.\n"
     ]
    },
    {
     "name": "stderr",
     "output_type": "stream",
     "text": [
      "[Parallel(n_jobs=4)]: Done   2 out of   4 | elapsed:   36.6s remaining:   36.6s\n",
      "[Parallel(n_jobs=4)]: Done   1 out of   4 | elapsed:   38.0s remaining:  1.9min\n",
      "[Parallel(n_jobs=4)]: Done   3 out of   4 | elapsed:   38.1s remaining:   12.7s\n",
      "[Parallel(n_jobs=4)]: Done   4 out of   4 | elapsed:   38.1s finished\n",
      "[Parallel(n_jobs=4)]: Done   1 out of   1 | elapsed:    1.4s remaining:    0.0s\n",
      "[Parallel(n_jobs=4)]: Done   1 out of   1 | elapsed:    1.4s finished\n",
      "[Parallel(n_jobs=4)]: Done   1 out of   4 | elapsed:    0.1s remaining:    0.4s\n",
      "[Parallel(n_jobs=4)]: Done   2 out of   4 | elapsed:    0.2s remaining:    0.2s\n",
      "[Parallel(n_jobs=4)]: Done   3 out of   4 | elapsed:    0.2s remaining:    0.1s\n",
      "[Parallel(n_jobs=4)]: Done   4 out of   4 | elapsed:    0.2s finished\n"
     ]
    },
    {
     "name": "stdout",
     "output_type": "stream",
     "text": [
      "Computing time-frequency power on single epochs...\n",
      "No baseline correction applied\n",
      "The measurement information indicates a low-pass frequency of 64 Hz. The decim=2 parameter will result in a sampling frequency of 64 Hz, which can cause aliasing artifacts.\n"
     ]
    },
    {
     "name": "stderr",
     "output_type": "stream",
     "text": [
      "[Parallel(n_jobs=4)]: Done   2 out of   4 | elapsed:   35.6s remaining:   35.6s\n",
      "[Parallel(n_jobs=4)]: Done   1 out of   4 | elapsed:   35.7s remaining:  1.8min\n",
      "[Parallel(n_jobs=4)]: Done   3 out of   4 | elapsed:   36.5s remaining:   12.2s\n",
      "[Parallel(n_jobs=4)]: Done   4 out of   4 | elapsed:   36.9s finished\n",
      "[Parallel(n_jobs=4)]: Done   1 out of   1 | elapsed:    1.5s remaining:    0.0s\n",
      "[Parallel(n_jobs=4)]: Done   1 out of   1 | elapsed:    1.5s finished\n"
     ]
    },
    {
     "name": "stdout",
     "output_type": "stream",
     "text": [
      "Computing time-frequency power on single epochs...\n",
      "No baseline correction applied\n",
      "The measurement information indicates a low-pass frequency of 64 Hz. The decim=2 parameter will result in a sampling frequency of 64 Hz, which can cause aliasing artifacts.\n"
     ]
    },
    {
     "name": "stderr",
     "output_type": "stream",
     "text": [
      "[Parallel(n_jobs=4)]: Done   2 out of   4 | elapsed:    0.2s remaining:    0.2s\n",
      "[Parallel(n_jobs=4)]: Done   3 out of   4 | elapsed:    0.2s remaining:    0.1s\n",
      "[Parallel(n_jobs=4)]: Done   1 out of   4 | elapsed:    0.2s remaining:    0.6s\n",
      "[Parallel(n_jobs=4)]: Done   4 out of   4 | elapsed:    0.2s finished\n",
      "[Parallel(n_jobs=4)]: Done   2 out of   4 | elapsed:   35.0s remaining:   35.0s\n",
      "[Parallel(n_jobs=4)]: Done   1 out of   4 | elapsed:   36.4s remaining:  1.8min\n",
      "[Parallel(n_jobs=4)]: Done   3 out of   4 | elapsed:   36.9s remaining:   12.3s\n",
      "[Parallel(n_jobs=4)]: Done   4 out of   4 | elapsed:   36.9s finished\n",
      "[Parallel(n_jobs=4)]: Done   1 out of   1 | elapsed:    1.6s remaining:    0.0s\n",
      "[Parallel(n_jobs=4)]: Done   1 out of   1 | elapsed:    1.6s finished\n",
      "[Parallel(n_jobs=4)]: Done   1 out of   4 | elapsed:    0.1s remaining:    0.4s\n",
      "[Parallel(n_jobs=4)]: Done   3 out of   4 | elapsed:    0.1s remaining:    0.0s\n",
      "[Parallel(n_jobs=4)]: Done   2 out of   4 | elapsed:    0.2s remaining:    0.2s\n",
      "[Parallel(n_jobs=4)]: Done   4 out of   4 | elapsed:    0.2s finished\n"
     ]
    },
    {
     "name": "stdout",
     "output_type": "stream",
     "text": [
      "Computing time-frequency power on single epochs...\n",
      "No baseline correction applied\n",
      "The measurement information indicates a low-pass frequency of 64 Hz. The decim=2 parameter will result in a sampling frequency of 64 Hz, which can cause aliasing artifacts.\n"
     ]
    },
    {
     "name": "stderr",
     "output_type": "stream",
     "text": [
      "[Parallel(n_jobs=4)]: Done   3 out of   4 | elapsed:   33.6s remaining:   11.2s\n",
      "[Parallel(n_jobs=4)]: Done   1 out of   4 | elapsed:   36.5s remaining:  1.8min\n",
      "[Parallel(n_jobs=4)]: Done   2 out of   4 | elapsed:   37.1s remaining:   37.1s\n",
      "[Parallel(n_jobs=4)]: Done   4 out of   4 | elapsed:   37.1s finished\n",
      "[Parallel(n_jobs=4)]: Done   1 out of   1 | elapsed:    1.5s remaining:    0.0s\n",
      "[Parallel(n_jobs=4)]: Done   1 out of   1 | elapsed:    1.5s finished\n",
      "[Parallel(n_jobs=4)]: Done   2 out of   4 | elapsed:    0.1s remaining:    0.1s\n",
      "[Parallel(n_jobs=4)]: Done   1 out of   4 | elapsed:    0.1s remaining:    0.4s\n",
      "[Parallel(n_jobs=4)]: Done   3 out of   4 | elapsed:    0.2s remaining:    0.1s\n",
      "[Parallel(n_jobs=4)]: Done   4 out of   4 | elapsed:    0.2s finished\n"
     ]
    },
    {
     "name": "stdout",
     "output_type": "stream",
     "text": [
      "Computing time-frequency power on single epochs...\n",
      "No baseline correction applied\n",
      "The measurement information indicates a low-pass frequency of 64 Hz. The decim=2 parameter will result in a sampling frequency of 64 Hz, which can cause aliasing artifacts.\n"
     ]
    },
    {
     "name": "stderr",
     "output_type": "stream",
     "text": [
      "[Parallel(n_jobs=4)]: Done   3 out of   4 | elapsed:   34.0s remaining:   11.3s\n",
      "[Parallel(n_jobs=4)]: Done   2 out of   4 | elapsed:   36.0s remaining:   36.0s\n",
      "[Parallel(n_jobs=4)]: Done   1 out of   4 | elapsed:   36.3s remaining:  1.8min\n",
      "[Parallel(n_jobs=4)]: Done   4 out of   4 | elapsed:   36.3s finished\n",
      "[Parallel(n_jobs=4)]: Done   1 out of   1 | elapsed:    1.5s remaining:    0.0s\n",
      "[Parallel(n_jobs=4)]: Done   1 out of   1 | elapsed:    1.5s finished\n",
      "[Parallel(n_jobs=4)]: Done   1 out of   4 | elapsed:    0.1s remaining:    0.4s\n",
      "[Parallel(n_jobs=4)]: Done   2 out of   4 | elapsed:    0.1s remaining:    0.1s\n",
      "[Parallel(n_jobs=4)]: Done   3 out of   4 | elapsed:    0.2s remaining:    0.1s\n",
      "[Parallel(n_jobs=4)]: Done   4 out of   4 | elapsed:    0.2s finished\n"
     ]
    },
    {
     "name": "stdout",
     "output_type": "stream",
     "text": [
      "Computing time-frequency power on single epochs...\n",
      "No baseline correction applied\n",
      "The measurement information indicates a low-pass frequency of 64 Hz. The decim=2 parameter will result in a sampling frequency of 64 Hz, which can cause aliasing artifacts.\n"
     ]
    },
    {
     "name": "stderr",
     "output_type": "stream",
     "text": [
      "[Parallel(n_jobs=4)]: Done   1 out of   4 | elapsed:   35.5s remaining:  1.8min\n",
      "[Parallel(n_jobs=4)]: Done   2 out of   4 | elapsed:   36.5s remaining:   36.5s\n",
      "[Parallel(n_jobs=4)]: Done   3 out of   4 | elapsed:   36.6s remaining:   12.2s\n",
      "[Parallel(n_jobs=4)]: Done   4 out of   4 | elapsed:   36.6s finished\n",
      "[Parallel(n_jobs=4)]: Done   1 out of   1 | elapsed:    1.5s remaining:    0.0s\n",
      "[Parallel(n_jobs=4)]: Done   1 out of   1 | elapsed:    1.5s finished\n",
      "[Parallel(n_jobs=4)]: Done   1 out of   4 | elapsed:    0.1s remaining:    0.4s\n",
      "[Parallel(n_jobs=4)]: Done   2 out of   4 | elapsed:    0.1s remaining:    0.1s\n",
      "[Parallel(n_jobs=4)]: Done   3 out of   4 | elapsed:    0.2s remaining:    0.1s\n",
      "[Parallel(n_jobs=4)]: Done   4 out of   4 | elapsed:    0.2s finished\n"
     ]
    },
    {
     "name": "stdout",
     "output_type": "stream",
     "text": [
      "Computing time-frequency power on single epochs...\n",
      "No baseline correction applied\n",
      "The measurement information indicates a low-pass frequency of 64 Hz. The decim=2 parameter will result in a sampling frequency of 64 Hz, which can cause aliasing artifacts.\n"
     ]
    },
    {
     "name": "stderr",
     "output_type": "stream",
     "text": [
      "[Parallel(n_jobs=4)]: Done   1 out of   4 | elapsed:   34.4s remaining:  1.7min\n",
      "[Parallel(n_jobs=4)]: Done   3 out of   4 | elapsed:   35.1s remaining:   11.7s\n",
      "[Parallel(n_jobs=4)]: Done   2 out of   4 | elapsed:   35.2s remaining:   35.2s\n",
      "[Parallel(n_jobs=4)]: Done   4 out of   4 | elapsed:   35.2s finished\n",
      "[Parallel(n_jobs=4)]: Done   1 out of   1 | elapsed:    1.5s remaining:    0.0s\n",
      "[Parallel(n_jobs=4)]: Done   1 out of   1 | elapsed:    1.5s finished\n",
      "[Parallel(n_jobs=4)]: Done   1 out of   4 | elapsed:    0.1s remaining:    0.4s\n",
      "[Parallel(n_jobs=4)]: Done   2 out of   4 | elapsed:    0.1s remaining:    0.1s\n",
      "[Parallel(n_jobs=4)]: Done   3 out of   4 | elapsed:    0.2s remaining:    0.1s\n",
      "[Parallel(n_jobs=4)]: Done   4 out of   4 | elapsed:    0.2s finished\n"
     ]
    },
    {
     "name": "stdout",
     "output_type": "stream",
     "text": [
      "Computing time-frequency power on single epochs...\n",
      "No baseline correction applied\n",
      "The measurement information indicates a low-pass frequency of 64 Hz. The decim=2 parameter will result in a sampling frequency of 64 Hz, which can cause aliasing artifacts.\n"
     ]
    },
    {
     "name": "stderr",
     "output_type": "stream",
     "text": [
      "[Parallel(n_jobs=4)]: Done   1 out of   4 | elapsed:   36.6s remaining:  1.8min\n",
      "[Parallel(n_jobs=4)]: Done   2 out of   4 | elapsed:   37.1s remaining:   37.1s\n",
      "[Parallel(n_jobs=4)]: Done   3 out of   4 | elapsed:   37.5s remaining:   12.5s\n",
      "[Parallel(n_jobs=4)]: Done   4 out of   4 | elapsed:   37.5s finished\n",
      "[Parallel(n_jobs=4)]: Done   1 out of   1 | elapsed:    1.5s remaining:    0.0s\n",
      "[Parallel(n_jobs=4)]: Done   1 out of   1 | elapsed:    1.5s finished\n",
      "[Parallel(n_jobs=4)]: Done   1 out of   4 | elapsed:    0.2s remaining:    0.5s\n",
      "[Parallel(n_jobs=4)]: Done   2 out of   4 | elapsed:    0.2s remaining:    0.2s\n",
      "[Parallel(n_jobs=4)]: Done   3 out of   4 | elapsed:    0.2s remaining:    0.1s\n",
      "[Parallel(n_jobs=4)]: Done   4 out of   4 | elapsed:    0.2s finished\n"
     ]
    },
    {
     "name": "stdout",
     "output_type": "stream",
     "text": [
      "Computing time-frequency power on single epochs...\n",
      "No baseline correction applied\n",
      "The measurement information indicates a low-pass frequency of 64 Hz. The decim=2 parameter will result in a sampling frequency of 64 Hz, which can cause aliasing artifacts.\n"
     ]
    },
    {
     "name": "stderr",
     "output_type": "stream",
     "text": [
      "[Parallel(n_jobs=4)]: Done   1 out of   4 | elapsed:   35.6s remaining:  1.8min\n",
      "[Parallel(n_jobs=4)]: Done   2 out of   4 | elapsed:   37.6s remaining:   37.6s\n",
      "[Parallel(n_jobs=4)]: Done   3 out of   4 | elapsed:   37.7s remaining:   12.6s\n",
      "[Parallel(n_jobs=4)]: Done   4 out of   4 | elapsed:   37.7s finished\n",
      "[Parallel(n_jobs=4)]: Done   1 out of   1 | elapsed:    1.6s remaining:    0.0s\n",
      "[Parallel(n_jobs=4)]: Done   1 out of   1 | elapsed:    1.6s finished\n"
     ]
    },
    {
     "name": "stdout",
     "output_type": "stream",
     "text": [
      "Computing time-frequency power on single epochs...\n",
      "No baseline correction applied\n",
      "The measurement information indicates a low-pass frequency of 64 Hz. The decim=2 parameter will result in a sampling frequency of 64 Hz, which can cause aliasing artifacts.\n"
     ]
    },
    {
     "name": "stderr",
     "output_type": "stream",
     "text": [
      "[Parallel(n_jobs=4)]: Done   1 out of   4 | elapsed:    0.2s remaining:    0.7s\n",
      "[Parallel(n_jobs=4)]: Done   2 out of   4 | elapsed:    0.2s remaining:    0.2s\n",
      "[Parallel(n_jobs=4)]: Done   3 out of   4 | elapsed:    0.2s remaining:    0.1s\n",
      "[Parallel(n_jobs=4)]: Done   4 out of   4 | elapsed:    0.2s finished\n",
      "[Parallel(n_jobs=4)]: Done   1 out of   4 | elapsed:   37.0s remaining:  1.8min\n",
      "[Parallel(n_jobs=4)]: Done   2 out of   4 | elapsed:   38.1s remaining:   38.1s\n",
      "[Parallel(n_jobs=4)]: Done   3 out of   4 | elapsed:   38.7s remaining:   12.9s\n",
      "[Parallel(n_jobs=4)]: Done   4 out of   4 | elapsed:   38.7s finished\n",
      "[Parallel(n_jobs=4)]: Done   1 out of   1 | elapsed:    1.5s remaining:    0.0s\n",
      "[Parallel(n_jobs=4)]: Done   1 out of   1 | elapsed:    1.5s finished\n",
      "[Parallel(n_jobs=4)]: Done   1 out of   4 | elapsed:    0.1s remaining:    0.4s\n",
      "[Parallel(n_jobs=4)]: Done   2 out of   4 | elapsed:    0.1s remaining:    0.1s\n",
      "[Parallel(n_jobs=4)]: Done   3 out of   4 | elapsed:    0.2s remaining:    0.1s\n",
      "[Parallel(n_jobs=4)]: Done   4 out of   4 | elapsed:    0.2s finished\n"
     ]
    },
    {
     "name": "stdout",
     "output_type": "stream",
     "text": [
      "Computing time-frequency power on single epochs...\n",
      "No baseline correction applied\n",
      "The measurement information indicates a low-pass frequency of 64 Hz. The decim=2 parameter will result in a sampling frequency of 64 Hz, which can cause aliasing artifacts.\n"
     ]
    },
    {
     "name": "stderr",
     "output_type": "stream",
     "text": [
      "[Parallel(n_jobs=4)]: Done   1 out of   4 | elapsed:   35.9s remaining:  1.8min\n",
      "[Parallel(n_jobs=4)]: Done   3 out of   4 | elapsed:   37.0s remaining:   12.3s\n",
      "[Parallel(n_jobs=4)]: Done   2 out of   4 | elapsed:   37.8s remaining:   37.8s\n",
      "[Parallel(n_jobs=4)]: Done   4 out of   4 | elapsed:   37.8s finished\n",
      "[Parallel(n_jobs=4)]: Done   1 out of   1 | elapsed:    1.5s remaining:    0.0s\n",
      "[Parallel(n_jobs=4)]: Done   1 out of   1 | elapsed:    1.5s finished\n"
     ]
    },
    {
     "name": "stdout",
     "output_type": "stream",
     "text": [
      "Computing time-frequency power on single epochs...\n",
      "No baseline correction applied\n",
      "The measurement information indicates a low-pass frequency of 64 Hz. The decim=2 parameter will result in a sampling frequency of 64 Hz, which can cause aliasing artifacts.\n"
     ]
    },
    {
     "name": "stderr",
     "output_type": "stream",
     "text": [
      "[Parallel(n_jobs=4)]: Done   1 out of   4 | elapsed:    0.1s remaining:    0.4s\n",
      "[Parallel(n_jobs=4)]: Done   2 out of   4 | elapsed:    0.2s remaining:    0.2s\n",
      "[Parallel(n_jobs=4)]: Done   3 out of   4 | elapsed:    0.2s remaining:    0.1s\n",
      "[Parallel(n_jobs=4)]: Done   4 out of   4 | elapsed:    0.2s finished\n",
      "[Parallel(n_jobs=4)]: Done   1 out of   4 | elapsed:   36.6s remaining:  1.8min\n",
      "[Parallel(n_jobs=4)]: Done   2 out of   4 | elapsed:   38.1s remaining:   38.1s\n",
      "[Parallel(n_jobs=4)]: Done   3 out of   4 | elapsed:   39.3s remaining:   13.1s\n",
      "[Parallel(n_jobs=4)]: Done   4 out of   4 | elapsed:   39.3s finished\n",
      "[Parallel(n_jobs=4)]: Done   1 out of   1 | elapsed:    1.5s remaining:    0.0s\n",
      "[Parallel(n_jobs=4)]: Done   1 out of   1 | elapsed:    1.5s finished\n",
      "[Parallel(n_jobs=4)]: Done   1 out of   4 | elapsed:    0.1s remaining:    0.4s\n",
      "[Parallel(n_jobs=4)]: Done   2 out of   4 | elapsed:    0.2s remaining:    0.2s\n",
      "[Parallel(n_jobs=4)]: Done   3 out of   4 | elapsed:    0.2s remaining:    0.1s\n",
      "[Parallel(n_jobs=4)]: Done   4 out of   4 | elapsed:    0.2s finished\n"
     ]
    },
    {
     "name": "stdout",
     "output_type": "stream",
     "text": [
      "Computing time-frequency power on single epochs...\n",
      "No baseline correction applied\n",
      "The measurement information indicates a low-pass frequency of 64 Hz. The decim=2 parameter will result in a sampling frequency of 64 Hz, which can cause aliasing artifacts.\n"
     ]
    },
    {
     "name": "stderr",
     "output_type": "stream",
     "text": [
      "[Parallel(n_jobs=4)]: Done   3 out of   4 | elapsed:   32.5s remaining:   10.8s\n",
      "[Parallel(n_jobs=4)]: Done   1 out of   4 | elapsed:   37.1s remaining:  1.9min\n",
      "[Parallel(n_jobs=4)]: Done   2 out of   4 | elapsed:   37.5s remaining:   37.5s\n",
      "[Parallel(n_jobs=4)]: Done   4 out of   4 | elapsed:   37.5s finished\n",
      "[Parallel(n_jobs=4)]: Done   1 out of   1 | elapsed:    1.4s remaining:    0.0s\n",
      "[Parallel(n_jobs=4)]: Done   1 out of   1 | elapsed:    1.4s finished\n"
     ]
    },
    {
     "name": "stdout",
     "output_type": "stream",
     "text": [
      "Computing time-frequency power on single epochs...\n"
     ]
    },
    {
     "name": "stderr",
     "output_type": "stream",
     "text": [
      "[Parallel(n_jobs=4)]: Done   2 out of   4 | elapsed:    0.1s remaining:    0.1s\n",
      "[Parallel(n_jobs=4)]: Done   1 out of   4 | elapsed:    0.1s remaining:    0.4s\n",
      "[Parallel(n_jobs=4)]: Done   3 out of   4 | elapsed:    0.1s remaining:    0.0s\n",
      "[Parallel(n_jobs=4)]: Done   4 out of   4 | elapsed:    0.1s finished\n"
     ]
    },
    {
     "ename": "KeyboardInterrupt",
     "evalue": "",
     "output_type": "error",
     "traceback": [
      "\u001b[1;31m---------------------------------------------------------------------------\u001b[0m",
      "\u001b[1;31mKeyboardInterrupt\u001b[0m                         Traceback (most recent call last)",
      "\u001b[1;32m<ipython-input-9-805f86cc90e0>\u001b[0m in \u001b[0;36m<module>\u001b[1;34m()\u001b[0m\n\u001b[0;32m      1\u001b[0m \u001b[1;32mfor\u001b[0m \u001b[0msubject\u001b[0m \u001b[1;32min\u001b[0m \u001b[0msubjects\u001b[0m\u001b[1;33m[\u001b[0m\u001b[1;36m3\u001b[0m\u001b[1;33m:\u001b[0m\u001b[1;33m]\u001b[0m\u001b[1;33m:\u001b[0m\u001b[1;33m\u001b[0m\u001b[0m\n\u001b[1;32m----> 2\u001b[1;33m     \u001b[0mscore\u001b[0m \u001b[1;33m=\u001b[0m \u001b[0mdecod_freqs\u001b[0m\u001b[1;33m(\u001b[0m\u001b[0msubject\u001b[0m\u001b[1;33m)\u001b[0m\u001b[1;33m\u001b[0m\u001b[0m\n\u001b[0m\u001b[0;32m      3\u001b[0m     \u001b[0mscores\u001b[0m\u001b[1;33m.\u001b[0m\u001b[0mappend\u001b[0m\u001b[1;33m(\u001b[0m\u001b[0mscore\u001b[0m\u001b[1;33m)\u001b[0m\u001b[1;33m\u001b[0m\u001b[0m\n",
      "\u001b[1;32m<ipython-input-6-b92d706ae736>\u001b[0m in \u001b[0;36mdecod_freqs\u001b[1;34m(subject)\u001b[0m\n\u001b[0;32m      8\u001b[0m         tfr = single_trial_power(epochs._data, sfreq=epochs.info['sfreq'],\n\u001b[0;32m      9\u001b[0m                                  \u001b[0mfrequencies\u001b[0m\u001b[1;33m=\u001b[0m\u001b[1;33m[\u001b[0m\u001b[0mfreq\u001b[0m\u001b[1;33m]\u001b[0m\u001b[1;33m,\u001b[0m\u001b[1;33m\u001b[0m\u001b[0m\n\u001b[1;32m---> 10\u001b[1;33m                                  n_cycles=4)\n\u001b[0m\u001b[0;32m     11\u001b[0m         \u001b[0mepochs\u001b[0m\u001b[1;33m.\u001b[0m\u001b[0mdecimate\u001b[0m\u001b[1;33m(\u001b[0m\u001b[0mdecim\u001b[0m\u001b[1;33m)\u001b[0m\u001b[1;33m\u001b[0m\u001b[0m\n\u001b[0;32m     12\u001b[0m         \u001b[0mepochs\u001b[0m\u001b[1;33m.\u001b[0m\u001b[0m_data\u001b[0m \u001b[1;33m=\u001b[0m \u001b[0mtfr\u001b[0m\u001b[1;33m[\u001b[0m\u001b[1;33m:\u001b[0m\u001b[1;33m,\u001b[0m \u001b[1;33m:\u001b[0m\u001b[1;33m,\u001b[0m \u001b[1;36m0\u001b[0m\u001b[1;33m,\u001b[0m \u001b[1;33m:\u001b[0m\u001b[1;33m:\u001b[0m\u001b[0mdecim\u001b[0m\u001b[1;33m]\u001b[0m\u001b[1;33m\u001b[0m\u001b[0m\n",
      "\u001b[1;32m/home/jrking/mne-python/mne/time_frequency/tfr.pyc\u001b[0m in \u001b[0;36msingle_trial_power\u001b[1;34m(data, sfreq, frequencies, use_fft, n_cycles, baseline, baseline_mode, times, decim, n_jobs, zero_mean, verbose)\u001b[0m\n",
      "\u001b[1;32m/home/jrking/mne-python/mne/utils.pyc\u001b[0m in \u001b[0;36mverbose\u001b[1;34m(function, *args, **kwargs)\u001b[0m\n\u001b[0;32m    607\u001b[0m         \u001b[1;32mwith\u001b[0m \u001b[0muse_log_level\u001b[0m\u001b[1;33m(\u001b[0m\u001b[0mverbose_level\u001b[0m\u001b[1;33m)\u001b[0m\u001b[1;33m:\u001b[0m\u001b[1;33m\u001b[0m\u001b[0m\n\u001b[0;32m    608\u001b[0m             \u001b[1;32mreturn\u001b[0m \u001b[0mfunction\u001b[0m\u001b[1;33m(\u001b[0m\u001b[1;33m*\u001b[0m\u001b[0margs\u001b[0m\u001b[1;33m,\u001b[0m \u001b[1;33m**\u001b[0m\u001b[0mkwargs\u001b[0m\u001b[1;33m)\u001b[0m\u001b[1;33m\u001b[0m\u001b[0m\n\u001b[1;32m--> 609\u001b[1;33m     \u001b[1;32mreturn\u001b[0m \u001b[0mfunction\u001b[0m\u001b[1;33m(\u001b[0m\u001b[1;33m*\u001b[0m\u001b[0margs\u001b[0m\u001b[1;33m,\u001b[0m \u001b[1;33m**\u001b[0m\u001b[0mkwargs\u001b[0m\u001b[1;33m)\u001b[0m\u001b[1;33m\u001b[0m\u001b[0m\n\u001b[0m\u001b[0;32m    610\u001b[0m \u001b[1;33m\u001b[0m\u001b[0m\n\u001b[0;32m    611\u001b[0m \u001b[1;33m\u001b[0m\u001b[0m\n",
      "\u001b[1;32m/home/jrking/mne-python/mne/time_frequency/tfr.pyc\u001b[0m in \u001b[0;36msingle_trial_power\u001b[1;34m(data, sfreq, frequencies, use_fft, n_cycles, baseline, baseline_mode, times, decim, n_jobs, zero_mean, verbose)\u001b[0m\n\u001b[0;32m    424\u001b[0m         \u001b[1;32mfor\u001b[0m \u001b[0mk\u001b[0m\u001b[1;33m,\u001b[0m \u001b[0me\u001b[0m \u001b[1;32min\u001b[0m \u001b[0menumerate\u001b[0m\u001b[1;33m(\u001b[0m\u001b[0mdata\u001b[0m\u001b[1;33m)\u001b[0m\u001b[1;33m:\u001b[0m\u001b[1;33m\u001b[0m\u001b[0m\n\u001b[0;32m    425\u001b[0m             \u001b[0mx\u001b[0m \u001b[1;33m=\u001b[0m \u001b[0mcwt\u001b[0m\u001b[1;33m(\u001b[0m\u001b[0me\u001b[0m\u001b[1;33m,\u001b[0m \u001b[1;33m**\u001b[0m\u001b[0mcwt_kw\u001b[0m\u001b[1;33m)\u001b[0m\u001b[1;33m\u001b[0m\u001b[0m\n\u001b[1;32m--> 426\u001b[1;33m             \u001b[0mpower\u001b[0m\u001b[1;33m[\u001b[0m\u001b[0mk\u001b[0m\u001b[1;33m]\u001b[0m \u001b[1;33m=\u001b[0m \u001b[1;33m(\u001b[0m\u001b[0mx\u001b[0m \u001b[1;33m*\u001b[0m \u001b[0mx\u001b[0m\u001b[1;33m.\u001b[0m\u001b[0mconj\u001b[0m\u001b[1;33m(\u001b[0m\u001b[1;33m)\u001b[0m\u001b[1;33m)\u001b[0m\u001b[1;33m.\u001b[0m\u001b[0mreal\u001b[0m\u001b[1;33m\u001b[0m\u001b[0m\n\u001b[0m\u001b[0;32m    427\u001b[0m     \u001b[1;32melse\u001b[0m\u001b[1;33m:\u001b[0m\u001b[1;33m\u001b[0m\u001b[0m\n\u001b[0;32m    428\u001b[0m         \u001b[1;31m# Precompute tf decompositions in parallel\u001b[0m\u001b[1;33m\u001b[0m\u001b[1;33m\u001b[0m\u001b[0m\n",
      "\u001b[1;32m/home/jrking/mne-python/mne/time_frequency/tfr.pyc\u001b[0m in \u001b[0;36mcwt\u001b[1;34m(X, Ws, use_fft, mode, decim)\u001b[0m\n\u001b[0;32m    330\u001b[0m     \u001b[0mtfrs\u001b[0m \u001b[1;33m=\u001b[0m \u001b[0mnp\u001b[0m\u001b[1;33m.\u001b[0m\u001b[0mempty\u001b[0m\u001b[1;33m(\u001b[0m\u001b[1;33m(\u001b[0m\u001b[0mn_signals\u001b[0m\u001b[1;33m,\u001b[0m \u001b[0mlen\u001b[0m\u001b[1;33m(\u001b[0m\u001b[0mWs\u001b[0m\u001b[1;33m)\u001b[0m\u001b[1;33m,\u001b[0m \u001b[0mn_times\u001b[0m\u001b[1;33m)\u001b[0m\u001b[1;33m,\u001b[0m \u001b[0mdtype\u001b[0m\u001b[1;33m=\u001b[0m\u001b[0mnp\u001b[0m\u001b[1;33m.\u001b[0m\u001b[0mcomplex\u001b[0m\u001b[1;33m)\u001b[0m\u001b[1;33m\u001b[0m\u001b[0m\n\u001b[0;32m    331\u001b[0m     \u001b[1;32mfor\u001b[0m \u001b[0mk\u001b[0m\u001b[1;33m,\u001b[0m \u001b[0mtfr\u001b[0m \u001b[1;32min\u001b[0m \u001b[0menumerate\u001b[0m\u001b[1;33m(\u001b[0m\u001b[0mcoefs\u001b[0m\u001b[1;33m)\u001b[0m\u001b[1;33m:\u001b[0m\u001b[1;33m\u001b[0m\u001b[0m\n\u001b[1;32m--> 332\u001b[1;33m         \u001b[0mtfrs\u001b[0m\u001b[1;33m[\u001b[0m\u001b[0mk\u001b[0m\u001b[1;33m]\u001b[0m \u001b[1;33m=\u001b[0m \u001b[0mtfr\u001b[0m\u001b[1;33m\u001b[0m\u001b[0m\n\u001b[0m\u001b[0;32m    333\u001b[0m \u001b[1;33m\u001b[0m\u001b[0m\n\u001b[0;32m    334\u001b[0m     \u001b[1;32mreturn\u001b[0m \u001b[0mtfrs\u001b[0m\u001b[1;33m\u001b[0m\u001b[0m\n",
      "\u001b[1;32m/home/jrking/mne-python/mne/time_frequency/tfr.pyc\u001b[0m in \u001b[0;36m_cwt\u001b[1;34m(X, Ws, mode, decim, use_fft)\u001b[0m\n\u001b[0;32m    222\u001b[0m     \u001b[1;32mfor\u001b[0m \u001b[0mx\u001b[0m \u001b[1;32min\u001b[0m \u001b[0mX\u001b[0m\u001b[1;33m:\u001b[0m\u001b[1;33m\u001b[0m\u001b[0m\n\u001b[0;32m    223\u001b[0m         \u001b[1;32mif\u001b[0m \u001b[0muse_fft\u001b[0m\u001b[1;33m:\u001b[0m\u001b[1;33m\u001b[0m\u001b[0m\n\u001b[1;32m--> 224\u001b[1;33m             \u001b[0mfft_x\u001b[0m \u001b[1;33m=\u001b[0m \u001b[0mfftn\u001b[0m\u001b[1;33m(\u001b[0m\u001b[0mx\u001b[0m\u001b[1;33m,\u001b[0m \u001b[1;33m[\u001b[0m\u001b[0mfsize\u001b[0m\u001b[1;33m]\u001b[0m\u001b[1;33m)\u001b[0m\u001b[1;33m\u001b[0m\u001b[0m\n\u001b[0m\u001b[0;32m    225\u001b[0m \u001b[1;33m\u001b[0m\u001b[0m\n\u001b[0;32m    226\u001b[0m         \u001b[1;31m# Loop across wavelets\u001b[0m\u001b[1;33m\u001b[0m\u001b[1;33m\u001b[0m\u001b[0m\n",
      "\u001b[1;32m/home/jrking/anaconda/lib/python2.7/site-packages/scipy/fftpack/basic.pyc\u001b[0m in \u001b[0;36mfftn\u001b[1;34m(x, shape, axes, overwrite_x)\u001b[0m\n\u001b[0;32m    591\u001b[0m \u001b[1;33m\u001b[0m\u001b[0m\n\u001b[0;32m    592\u001b[0m     \"\"\"\n\u001b[1;32m--> 593\u001b[1;33m     \u001b[1;32mreturn\u001b[0m \u001b[0m_raw_fftn_dispatch\u001b[0m\u001b[1;33m(\u001b[0m\u001b[0mx\u001b[0m\u001b[1;33m,\u001b[0m \u001b[0mshape\u001b[0m\u001b[1;33m,\u001b[0m \u001b[0maxes\u001b[0m\u001b[1;33m,\u001b[0m \u001b[0moverwrite_x\u001b[0m\u001b[1;33m,\u001b[0m \u001b[1;36m1\u001b[0m\u001b[1;33m)\u001b[0m\u001b[1;33m\u001b[0m\u001b[0m\n\u001b[0m\u001b[0;32m    594\u001b[0m \u001b[1;33m\u001b[0m\u001b[0m\n\u001b[0;32m    595\u001b[0m \u001b[1;33m\u001b[0m\u001b[0m\n",
      "\u001b[1;32m/home/jrking/anaconda/lib/python2.7/site-packages/scipy/fftpack/basic.pyc\u001b[0m in \u001b[0;36m_raw_fftn_dispatch\u001b[1;34m(x, shape, axes, overwrite_x, direction)\u001b[0m\n\u001b[0;32m    606\u001b[0m \u001b[1;33m\u001b[0m\u001b[0m\n\u001b[0;32m    607\u001b[0m     \u001b[0moverwrite_x\u001b[0m \u001b[1;33m=\u001b[0m \u001b[0moverwrite_x\u001b[0m \u001b[1;32mor\u001b[0m \u001b[0m_datacopied\u001b[0m\u001b[1;33m(\u001b[0m\u001b[0mtmp\u001b[0m\u001b[1;33m,\u001b[0m \u001b[0mx\u001b[0m\u001b[1;33m)\u001b[0m\u001b[1;33m\u001b[0m\u001b[0m\n\u001b[1;32m--> 608\u001b[1;33m     \u001b[1;32mreturn\u001b[0m \u001b[0m_raw_fftnd\u001b[0m\u001b[1;33m(\u001b[0m\u001b[0mtmp\u001b[0m\u001b[1;33m,\u001b[0m\u001b[0mshape\u001b[0m\u001b[1;33m,\u001b[0m\u001b[0maxes\u001b[0m\u001b[1;33m,\u001b[0m\u001b[0mdirection\u001b[0m\u001b[1;33m,\u001b[0m\u001b[0moverwrite_x\u001b[0m\u001b[1;33m,\u001b[0m\u001b[0mwork_function\u001b[0m\u001b[1;33m)\u001b[0m\u001b[1;33m\u001b[0m\u001b[0m\n\u001b[0m\u001b[0;32m    609\u001b[0m \u001b[1;33m\u001b[0m\u001b[0m\n\u001b[0;32m    610\u001b[0m \u001b[1;33m\u001b[0m\u001b[0m\n",
      "\u001b[1;32m/home/jrking/anaconda/lib/python2.7/site-packages/scipy/fftpack/basic.pyc\u001b[0m in \u001b[0;36m_raw_fftnd\u001b[1;34m(x, s, axes, direction, overwrite_x, work_function)\u001b[0m\n\u001b[0;32m    510\u001b[0m             \u001b[0mx\u001b[0m\u001b[1;33m,\u001b[0m \u001b[0mcopy_made\u001b[0m \u001b[1;33m=\u001b[0m \u001b[0m_fix_shape\u001b[0m\u001b[1;33m(\u001b[0m\u001b[0mx\u001b[0m\u001b[1;33m,\u001b[0m \u001b[0ms\u001b[0m\u001b[1;33m[\u001b[0m\u001b[0mi\u001b[0m\u001b[1;33m]\u001b[0m\u001b[1;33m,\u001b[0m \u001b[0mi\u001b[0m\u001b[1;33m)\u001b[0m\u001b[1;33m\u001b[0m\u001b[0m\n\u001b[0;32m    511\u001b[0m             \u001b[0moverwrite_x\u001b[0m \u001b[1;33m=\u001b[0m \u001b[0moverwrite_x\u001b[0m \u001b[1;32mor\u001b[0m \u001b[0mcopy_made\u001b[0m\u001b[1;33m\u001b[0m\u001b[0m\n\u001b[1;32m--> 512\u001b[1;33m         \u001b[1;32mreturn\u001b[0m \u001b[0mwork_function\u001b[0m\u001b[1;33m(\u001b[0m\u001b[0mx\u001b[0m\u001b[1;33m,\u001b[0m\u001b[0ms\u001b[0m\u001b[1;33m,\u001b[0m\u001b[0mdirection\u001b[0m\u001b[1;33m,\u001b[0m\u001b[0moverwrite_x\u001b[0m\u001b[1;33m=\u001b[0m\u001b[0moverwrite_x\u001b[0m\u001b[1;33m)\u001b[0m\u001b[1;33m\u001b[0m\u001b[0m\n\u001b[0m\u001b[0;32m    513\u001b[0m \u001b[1;33m\u001b[0m\u001b[0m\n\u001b[0;32m    514\u001b[0m     \u001b[1;31m# We ordered axes, because the code below to push axes at the end of the\u001b[0m\u001b[1;33m\u001b[0m\u001b[1;33m\u001b[0m\u001b[0m\n",
      "\u001b[1;31mKeyboardInterrupt\u001b[0m: "
     ]
    }
   ],
   "source": [
    "for subject in subjects[3:]:\n",
    "    score = decod_freqs(subject)\n",
    "    scores.append(score)"
   ]
  },
  {
   "cell_type": "code",
   "execution_count": null,
   "metadata": {
    "collapsed": false
   },
   "outputs": [],
   "source": [
    "times = epochs.times\n",
    "plt.matshow(1-np.mean(scores, axis=0), origin='normal',\n",
    "            cmap='RdBu_r', vmin=0, vmax=1, aspect='auto',\n",
    "            extent=[times[0], times[-1], freqs[0], freqs[-1]])\n",
    "plt.colorbar()"
   ]
  }
 ],
 "metadata": {
  "kernelspec": {
   "display_name": "Python 2",
   "language": "python",
   "name": "python2"
  },
  "language_info": {
   "codemirror_mode": {
    "name": "ipython",
    "version": 2
   },
   "file_extension": ".py",
   "mimetype": "text/x-python",
   "name": "python",
   "nbconvert_exporter": "python",
   "pygments_lexer": "ipython2",
   "version": "2.7.11"
  }
 },
 "nbformat": 4,
 "nbformat_minor": 0
}
