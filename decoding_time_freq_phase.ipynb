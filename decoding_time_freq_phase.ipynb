{
 "cells": [
  {
   "cell_type": "code",
   "execution_count": 1,
   "metadata": {
    "collapsed": true
   },
   "outputs": [],
   "source": [
    "%matplotlib inline\n",
    "import os\n",
    "os.chdir('/media/DATA/Pro/Projects/Paris/Orientation/Niccolo/Paris_orientation-decoding')"
   ]
  },
  {
   "cell_type": "code",
   "execution_count": 2,
   "metadata": {
    "collapsed": false
   },
   "outputs": [
    {
     "name": "stdout",
     "output_type": "stream",
     "text": [
      "\n"
     ]
    }
   ],
   "source": [
    "import numpy as np\n",
    "import matplotlib.pyplot as plt\n",
    "import pickle\n",
    "from mne.decoding import GeneralizationAcrossTime\n",
    "from base import load_epochs_events, resample_epochs, decim\n",
    "from config import paths, subjects, preproc, analyses\n",
    "from jr.gat import scorer_auc\n",
    "# Select target presence analysis: strongest SNR\n",
    "analysis = [ii for ii in analyses if ii['name'] == 'target_present'][0]"
   ]
  },
  {
   "cell_type": "code",
   "execution_count": 3,
   "metadata": {
    "collapsed": true
   },
   "outputs": [],
   "source": [
    "def load_data(subject):\n",
    "    # load data\n",
    "    epochs, events = load_epochs_events(subject, paths)\n",
    "    \n",
    "    # remove meaningless trials\n",
    "    query, condition = analysis['query'], analysis['condition']\n",
    "    sel = range(len(events)) if query is None else events.query(query).index\n",
    "    sel = [ii for ii in sel if ~np.isnan(events[condition][sel][ii])]\n",
    "    \n",
    "    # set regressor\n",
    "    y = np.array(events[condition], dtype=np.float32)\n",
    "    \n",
    "    return epochs, y"
   ]
  },
  {
   "cell_type": "code",
   "execution_count": 7,
   "metadata": {
    "collapsed": true
   },
   "outputs": [],
   "source": [
    "def decod_freqs(subject):\n",
    "    from mne.time_frequency import cwt_morlet\n",
    "    from mne import create_info, EpochsArray\n",
    "    scores = list()\n",
    "    freqs = np.arange(5., 20., 1.)\n",
    "\n",
    "    for ii, freq in enumerate(freqs):\n",
    "        epochs, y = load_data(subject)\n",
    "        epochs.pick_types(meg='mag')\n",
    "        n_trial, n_chan, n_time = epochs._data.shape\n",
    "        X = epochs._data.reshape([-1, n_time])\n",
    "        tfr = cwt_morlet(X, sfreq=epochs.info['sfreq'],\n",
    "                         freqs=[freq],  n_cycles=4, decim=5)\n",
    "        tfr = tfr.reshape([n_trial, n_chan, -1])\n",
    "        tfr = np.concatenate((np.cos(tfr), np.sin(tfr)), axis=1)\n",
    "        info = create_info(n_chan * 2, epochs.info['sfreq'], 'mag')\n",
    "        epochs = EpochsArray(data=tfr, info=info,\n",
    "                             events=np.zeros((n_trial, 3), int))\n",
    "        gat = GeneralizationAcrossTime(scorer=scorer_auc, n_jobs=4,\n",
    "                                       test_times='diagonal',\n",
    "                                       predict_method='predict_proba')\n",
    "        gat.fit(epochs, y=y)\n",
    "        score = gat.score(epochs, y)\n",
    "        scores.append(score)\n",
    "    return np.squeeze(scores)"
   ]
  },
  {
   "cell_type": "code",
   "execution_count": 8,
   "metadata": {
    "collapsed": false,
    "scrolled": true
   },
   "outputs": [
    {
     "name": "stdout",
     "output_type": "stream",
     "text": [
      "The events passed to the Epochs constructor are not chronologically ordered.\n",
      "841 matching events found\n",
      "No baseline correction applied\n",
      "0 projection items activated\n",
      "0 bad epochs dropped\n"
     ]
    },
    {
     "name": "stderr",
     "output_type": "stream",
     "text": [
      "/home/jrking/anaconda/lib/python2.7/site-packages/ipykernel/__main__.py:18: RuntimeWarning: The events passed to the Epochs constructor are not chronologically ordered.\n",
      "[Parallel(n_jobs=4)]: Done   2 out of   4 | elapsed:    2.3s remaining:    2.3s\n",
      "[Parallel(n_jobs=4)]: Done   3 out of   4 | elapsed:    2.8s remaining:    0.9s\n",
      "[Parallel(n_jobs=4)]: Done   1 out of   4 | elapsed:    3.3s remaining:    9.8s\n",
      "[Parallel(n_jobs=4)]: Done   4 out of   4 | elapsed:    3.3s finished\n",
      "/home/jrking/anaconda/lib/python2.7/site-packages/sklearn/utils/validation.py:377: ComplexWarning: Casting complex values to real discards the imaginary part\n",
      "  array = np.array(array, dtype=dtype, order=order, copy=copy)\n",
      "/home/jrking/anaconda/lib/python2.7/site-packages/sklearn/utils/validation.py:377: ComplexWarning: Casting complex values to real discards the imaginary part\n",
      "  array = np.array(array, dtype=dtype, order=order, copy=copy)\n",
      "/home/jrking/anaconda/lib/python2.7/site-packages/sklearn/utils/validation.py:377: ComplexWarning: Casting complex values to real discards the imaginary part\n",
      "  array = np.array(array, dtype=dtype, order=order, copy=copy)\n",
      "/home/jrking/anaconda/lib/python2.7/site-packages/sklearn/utils/validation.py:377: ComplexWarning: Casting complex values to real discards the imaginary part\n",
      "  array = np.array(array, dtype=dtype, order=order, copy=copy)\n",
      "/home/jrking/anaconda/lib/python2.7/site-packages/sklearn/utils/validation.py:424: DataConversionWarning: Data with input dtype complex128 was converted to float64 by StandardScaler.\n",
      "  warnings.warn(msg, _DataConversionWarning)\n",
      "/home/jrking/anaconda/lib/python2.7/site-packages/sklearn/utils/validation.py:424: DataConversionWarning: Data with input dtype complex128 was converted to float64 by StandardScaler.\n",
      "  warnings.warn(msg, _DataConversionWarning)\n",
      "/home/jrking/anaconda/lib/python2.7/site-packages/sklearn/utils/validation.py:424: DataConversionWarning: Data with input dtype complex128 was converted to float64 by StandardScaler.\n",
      "  warnings.warn(msg, _DataConversionWarning)\n",
      "/home/jrking/anaconda/lib/python2.7/site-packages/sklearn/utils/validation.py:424: DataConversionWarning: Data with input dtype complex128 was converted to float64 by StandardScaler.\n",
      "  warnings.warn(msg, _DataConversionWarning)\n",
      "[Parallel(n_jobs=4)]: Done   1 out of   1 | elapsed:    0.8s remaining:    0.0s\n",
      "[Parallel(n_jobs=4)]: Done   1 out of   1 | elapsed:    0.8s finished\n",
      "/home/jrking/anaconda/lib/python2.7/site-packages/sklearn/utils/validation.py:377: ComplexWarning: Casting complex values to real discards the imaginary part\n",
      "  array = np.array(array, dtype=dtype, order=order, copy=copy)\n",
      "/home/jrking/anaconda/lib/python2.7/site-packages/sklearn/utils/validation.py:424: DataConversionWarning: Data with input dtype complex128 was converted to float64 by StandardScaler.\n",
      "  warnings.warn(msg, _DataConversionWarning)\n"
     ]
    },
    {
     "name": "stdout",
     "output_type": "stream",
     "text": [
      "The events passed to the Epochs constructor are not chronologically ordered.\n",
      "841 matching events found\n",
      "No baseline correction applied\n",
      "0 projection items activated\n",
      "0 bad epochs dropped\n"
     ]
    },
    {
     "name": "stderr",
     "output_type": "stream",
     "text": [
      "[Parallel(n_jobs=4)]: Done   2 out of   4 | elapsed:    0.0s remaining:    0.0s\n",
      "[Parallel(n_jobs=4)]: Done   1 out of   4 | elapsed:    0.0s remaining:    0.1s\n",
      "[Parallel(n_jobs=4)]: Done   3 out of   4 | elapsed:    0.0s remaining:    0.0s\n",
      "[Parallel(n_jobs=4)]: Done   4 out of   4 | elapsed:    0.0s finished\n",
      "[Parallel(n_jobs=4)]: Done   2 out of   4 | elapsed:    7.1s remaining:    7.1s\n",
      "[Parallel(n_jobs=4)]: Done   1 out of   4 | elapsed:    7.5s remaining:   22.5s\n",
      "[Parallel(n_jobs=4)]: Done   3 out of   4 | elapsed:    7.6s remaining:    2.5s\n",
      "[Parallel(n_jobs=4)]: Done   4 out of   4 | elapsed:    7.7s finished\n",
      "/home/jrking/anaconda/lib/python2.7/site-packages/sklearn/utils/validation.py:377: ComplexWarning: Casting complex values to real discards the imaginary part\n",
      "  array = np.array(array, dtype=dtype, order=order, copy=copy)\n",
      "/home/jrking/anaconda/lib/python2.7/site-packages/sklearn/utils/validation.py:377: ComplexWarning: Casting complex values to real discards the imaginary part\n",
      "  array = np.array(array, dtype=dtype, order=order, copy=copy)\n",
      "/home/jrking/anaconda/lib/python2.7/site-packages/sklearn/utils/validation.py:377: ComplexWarning: Casting complex values to real discards the imaginary part\n",
      "  array = np.array(array, dtype=dtype, order=order, copy=copy)\n",
      "/home/jrking/anaconda/lib/python2.7/site-packages/sklearn/utils/validation.py:377: ComplexWarning: Casting complex values to real discards the imaginary part\n",
      "  array = np.array(array, dtype=dtype, order=order, copy=copy)\n",
      "/home/jrking/anaconda/lib/python2.7/site-packages/sklearn/utils/validation.py:424: DataConversionWarning: Data with input dtype complex128 was converted to float64 by StandardScaler.\n",
      "  warnings.warn(msg, _DataConversionWarning)\n",
      "/home/jrking/anaconda/lib/python2.7/site-packages/sklearn/utils/validation.py:424: DataConversionWarning: Data with input dtype complex128 was converted to float64 by StandardScaler.\n",
      "  warnings.warn(msg, _DataConversionWarning)\n",
      "/home/jrking/anaconda/lib/python2.7/site-packages/sklearn/utils/validation.py:424: DataConversionWarning: Data with input dtype complex128 was converted to float64 by StandardScaler.\n",
      "  warnings.warn(msg, _DataConversionWarning)\n",
      "/home/jrking/anaconda/lib/python2.7/site-packages/sklearn/utils/validation.py:424: DataConversionWarning: Data with input dtype complex128 was converted to float64 by StandardScaler.\n",
      "  warnings.warn(msg, _DataConversionWarning)\n",
      "[Parallel(n_jobs=4)]: Done   1 out of   1 | elapsed:    1.8s remaining:    0.0s\n",
      "[Parallel(n_jobs=4)]: Done   1 out of   1 | elapsed:    1.8s finished\n",
      "/home/jrking/anaconda/lib/python2.7/site-packages/sklearn/utils/validation.py:377: ComplexWarning: Casting complex values to real discards the imaginary part\n",
      "  array = np.array(array, dtype=dtype, order=order, copy=copy)\n",
      "/home/jrking/anaconda/lib/python2.7/site-packages/sklearn/utils/validation.py:424: DataConversionWarning: Data with input dtype complex128 was converted to float64 by StandardScaler.\n",
      "  warnings.warn(msg, _DataConversionWarning)\n"
     ]
    },
    {
     "name": "stdout",
     "output_type": "stream",
     "text": [
      "The events passed to the Epochs constructor are not chronologically ordered.\n",
      "841 matching events found\n",
      "No baseline correction applied\n",
      "0 projection items activated\n",
      "0 bad epochs dropped\n"
     ]
    },
    {
     "name": "stderr",
     "output_type": "stream",
     "text": [
      "[Parallel(n_jobs=4)]: Done   2 out of   4 | elapsed:    0.0s remaining:    0.0s\n",
      "[Parallel(n_jobs=4)]: Done   1 out of   4 | elapsed:    0.1s remaining:    0.2s\n",
      "[Parallel(n_jobs=4)]: Done   3 out of   4 | elapsed:    0.1s remaining:    0.0s\n",
      "[Parallel(n_jobs=4)]: Done   4 out of   4 | elapsed:    0.1s finished\n",
      "[Parallel(n_jobs=4)]: Done   1 out of   4 | elapsed:    3.0s remaining:    9.0s\n",
      "[Parallel(n_jobs=4)]: Done   2 out of   4 | elapsed:    3.5s remaining:    3.5s\n",
      "[Parallel(n_jobs=4)]: Done   3 out of   4 | elapsed:    3.6s remaining:    1.2s\n",
      "[Parallel(n_jobs=4)]: Done   4 out of   4 | elapsed:    3.8s finished\n",
      "/home/jrking/anaconda/lib/python2.7/site-packages/sklearn/utils/validation.py:377: ComplexWarning: Casting complex values to real discards the imaginary part\n",
      "  array = np.array(array, dtype=dtype, order=order, copy=copy)\n",
      "/home/jrking/anaconda/lib/python2.7/site-packages/sklearn/utils/validation.py:377: ComplexWarning: Casting complex values to real discards the imaginary part\n",
      "  array = np.array(array, dtype=dtype, order=order, copy=copy)\n",
      "/home/jrking/anaconda/lib/python2.7/site-packages/sklearn/utils/validation.py:377: ComplexWarning: Casting complex values to real discards the imaginary part\n",
      "  array = np.array(array, dtype=dtype, order=order, copy=copy)\n",
      "/home/jrking/anaconda/lib/python2.7/site-packages/sklearn/utils/validation.py:377: ComplexWarning: Casting complex values to real discards the imaginary part\n",
      "  array = np.array(array, dtype=dtype, order=order, copy=copy)\n",
      "/home/jrking/anaconda/lib/python2.7/site-packages/sklearn/utils/validation.py:424: DataConversionWarning: Data with input dtype complex128 was converted to float64 by StandardScaler.\n",
      "  warnings.warn(msg, _DataConversionWarning)\n",
      "/home/jrking/anaconda/lib/python2.7/site-packages/sklearn/utils/validation.py:424: DataConversionWarning: Data with input dtype complex128 was converted to float64 by StandardScaler.\n",
      "  warnings.warn(msg, _DataConversionWarning)\n",
      "/home/jrking/anaconda/lib/python2.7/site-packages/sklearn/utils/validation.py:424: DataConversionWarning: Data with input dtype complex128 was converted to float64 by StandardScaler.\n",
      "  warnings.warn(msg, _DataConversionWarning)\n",
      "/home/jrking/anaconda/lib/python2.7/site-packages/sklearn/utils/validation.py:424: DataConversionWarning: Data with input dtype complex128 was converted to float64 by StandardScaler.\n",
      "  warnings.warn(msg, _DataConversionWarning)\n",
      "[Parallel(n_jobs=4)]: Done   1 out of   1 | elapsed:    0.7s remaining:    0.0s\n",
      "[Parallel(n_jobs=4)]: Done   1 out of   1 | elapsed:    0.7s finished\n",
      "/home/jrking/anaconda/lib/python2.7/site-packages/sklearn/utils/validation.py:377: ComplexWarning: Casting complex values to real discards the imaginary part\n",
      "  array = np.array(array, dtype=dtype, order=order, copy=copy)\n",
      "/home/jrking/anaconda/lib/python2.7/site-packages/sklearn/utils/validation.py:424: DataConversionWarning: Data with input dtype complex128 was converted to float64 by StandardScaler.\n",
      "  warnings.warn(msg, _DataConversionWarning)\n"
     ]
    },
    {
     "name": "stdout",
     "output_type": "stream",
     "text": [
      "The events passed to the Epochs constructor are not chronologically ordered.\n",
      "841 matching events found\n",
      "No baseline correction applied\n",
      "0 projection items activated\n",
      "0 bad epochs dropped\n"
     ]
    },
    {
     "name": "stderr",
     "output_type": "stream",
     "text": [
      "[Parallel(n_jobs=4)]: Done   3 out of   4 | elapsed:    0.0s remaining:    0.0s\n",
      "[Parallel(n_jobs=4)]: Done   2 out of   4 | elapsed:    0.0s remaining:    0.0s\n",
      "[Parallel(n_jobs=4)]: Done   1 out of   4 | elapsed:    0.0s remaining:    0.1s\n",
      "[Parallel(n_jobs=4)]: Done   4 out of   4 | elapsed:    0.0s finished\n",
      "[Parallel(n_jobs=4)]: Done   2 out of   4 | elapsed:    3.3s remaining:    3.3s\n",
      "[Parallel(n_jobs=4)]: Done   1 out of   4 | elapsed:    3.3s remaining:    9.9s\n",
      "[Parallel(n_jobs=4)]: Done   3 out of   4 | elapsed:    3.4s remaining:    1.1s\n",
      "[Parallel(n_jobs=4)]: Done   4 out of   4 | elapsed:    3.5s finished\n",
      "/home/jrking/anaconda/lib/python2.7/site-packages/sklearn/utils/validation.py:377: ComplexWarning: Casting complex values to real discards the imaginary part\n",
      "  array = np.array(array, dtype=dtype, order=order, copy=copy)\n",
      "/home/jrking/anaconda/lib/python2.7/site-packages/sklearn/utils/validation.py:377: ComplexWarning: Casting complex values to real discards the imaginary part\n",
      "  array = np.array(array, dtype=dtype, order=order, copy=copy)\n",
      "/home/jrking/anaconda/lib/python2.7/site-packages/sklearn/utils/validation.py:377: ComplexWarning: Casting complex values to real discards the imaginary part\n",
      "  array = np.array(array, dtype=dtype, order=order, copy=copy)\n",
      "/home/jrking/anaconda/lib/python2.7/site-packages/sklearn/utils/validation.py:377: ComplexWarning: Casting complex values to real discards the imaginary part\n",
      "  array = np.array(array, dtype=dtype, order=order, copy=copy)\n",
      "/home/jrking/anaconda/lib/python2.7/site-packages/sklearn/utils/validation.py:424: DataConversionWarning: Data with input dtype complex128 was converted to float64 by StandardScaler.\n",
      "  warnings.warn(msg, _DataConversionWarning)\n",
      "/home/jrking/anaconda/lib/python2.7/site-packages/sklearn/utils/validation.py:424: DataConversionWarning: Data with input dtype complex128 was converted to float64 by StandardScaler.\n",
      "  warnings.warn(msg, _DataConversionWarning)\n",
      "/home/jrking/anaconda/lib/python2.7/site-packages/sklearn/utils/validation.py:424: DataConversionWarning: Data with input dtype complex128 was converted to float64 by StandardScaler.\n",
      "  warnings.warn(msg, _DataConversionWarning)\n",
      "/home/jrking/anaconda/lib/python2.7/site-packages/sklearn/utils/validation.py:424: DataConversionWarning: Data with input dtype complex128 was converted to float64 by StandardScaler.\n",
      "  warnings.warn(msg, _DataConversionWarning)\n",
      "[Parallel(n_jobs=4)]: Done   1 out of   1 | elapsed:    0.7s remaining:    0.0s\n",
      "[Parallel(n_jobs=4)]: Done   1 out of   1 | elapsed:    0.7s finished\n",
      "/home/jrking/anaconda/lib/python2.7/site-packages/sklearn/utils/validation.py:377: ComplexWarning: Casting complex values to real discards the imaginary part\n",
      "  array = np.array(array, dtype=dtype, order=order, copy=copy)\n",
      "/home/jrking/anaconda/lib/python2.7/site-packages/sklearn/utils/validation.py:424: DataConversionWarning: Data with input dtype complex128 was converted to float64 by StandardScaler.\n",
      "  warnings.warn(msg, _DataConversionWarning)\n"
     ]
    },
    {
     "name": "stdout",
     "output_type": "stream",
     "text": [
      "The events passed to the Epochs constructor are not chronologically ordered.\n",
      "841 matching events found\n",
      "No baseline correction applied\n",
      "0 projection items activated\n",
      "0 bad epochs dropped\n"
     ]
    },
    {
     "name": "stderr",
     "output_type": "stream",
     "text": [
      "[Parallel(n_jobs=4)]: Done   2 out of   4 | elapsed:    0.0s remaining:    0.0s\n",
      "[Parallel(n_jobs=4)]: Done   3 out of   4 | elapsed:    0.0s remaining:    0.0s\n",
      "[Parallel(n_jobs=4)]: Done   1 out of   4 | elapsed:    0.0s remaining:    0.1s\n",
      "[Parallel(n_jobs=4)]: Done   4 out of   4 | elapsed:    0.0s finished\n",
      "[Parallel(n_jobs=4)]: Done   2 out of   4 | elapsed:    7.2s remaining:    7.2s\n",
      "[Parallel(n_jobs=4)]: Done   3 out of   4 | elapsed:    7.6s remaining:    2.5s\n",
      "[Parallel(n_jobs=4)]: Done   1 out of   4 | elapsed:    7.7s remaining:   23.0s\n",
      "[Parallel(n_jobs=4)]: Done   4 out of   4 | elapsed:    7.8s finished\n",
      "/home/jrking/anaconda/lib/python2.7/site-packages/sklearn/utils/validation.py:377: ComplexWarning: Casting complex values to real discards the imaginary part\n",
      "  array = np.array(array, dtype=dtype, order=order, copy=copy)\n",
      "/home/jrking/anaconda/lib/python2.7/site-packages/sklearn/utils/validation.py:377: ComplexWarning: Casting complex values to real discards the imaginary part\n",
      "  array = np.array(array, dtype=dtype, order=order, copy=copy)\n",
      "/home/jrking/anaconda/lib/python2.7/site-packages/sklearn/utils/validation.py:377: ComplexWarning: Casting complex values to real discards the imaginary part\n",
      "  array = np.array(array, dtype=dtype, order=order, copy=copy)\n",
      "/home/jrking/anaconda/lib/python2.7/site-packages/sklearn/utils/validation.py:377: ComplexWarning: Casting complex values to real discards the imaginary part\n",
      "  array = np.array(array, dtype=dtype, order=order, copy=copy)\n",
      "/home/jrking/anaconda/lib/python2.7/site-packages/sklearn/utils/validation.py:424: DataConversionWarning: Data with input dtype complex128 was converted to float64 by StandardScaler.\n",
      "  warnings.warn(msg, _DataConversionWarning)\n",
      "/home/jrking/anaconda/lib/python2.7/site-packages/sklearn/utils/validation.py:424: DataConversionWarning: Data with input dtype complex128 was converted to float64 by StandardScaler.\n",
      "  warnings.warn(msg, _DataConversionWarning)\n",
      "/home/jrking/anaconda/lib/python2.7/site-packages/sklearn/utils/validation.py:424: DataConversionWarning: Data with input dtype complex128 was converted to float64 by StandardScaler.\n",
      "  warnings.warn(msg, _DataConversionWarning)\n",
      "/home/jrking/anaconda/lib/python2.7/site-packages/sklearn/utils/validation.py:424: DataConversionWarning: Data with input dtype complex128 was converted to float64 by StandardScaler.\n",
      "  warnings.warn(msg, _DataConversionWarning)\n",
      "[Parallel(n_jobs=4)]: Done   1 out of   1 | elapsed:    1.8s remaining:    0.0s\n",
      "[Parallel(n_jobs=4)]: Done   1 out of   1 | elapsed:    1.8s finished\n",
      "/home/jrking/anaconda/lib/python2.7/site-packages/sklearn/utils/validation.py:377: ComplexWarning: Casting complex values to real discards the imaginary part\n",
      "  array = np.array(array, dtype=dtype, order=order, copy=copy)\n",
      "/home/jrking/anaconda/lib/python2.7/site-packages/sklearn/utils/validation.py:424: DataConversionWarning: Data with input dtype complex128 was converted to float64 by StandardScaler.\n",
      "  warnings.warn(msg, _DataConversionWarning)\n"
     ]
    },
    {
     "name": "stdout",
     "output_type": "stream",
     "text": [
      "The events passed to the Epochs constructor are not chronologically ordered.\n",
      "841 matching events found\n",
      "No baseline correction applied\n",
      "0 projection items activated\n",
      "0 bad epochs dropped\n"
     ]
    },
    {
     "name": "stderr",
     "output_type": "stream",
     "text": [
      "[Parallel(n_jobs=4)]: Done   2 out of   4 | elapsed:    0.0s remaining:    0.0s\n",
      "[Parallel(n_jobs=4)]: Done   3 out of   4 | elapsed:    0.0s remaining:    0.0s\n",
      "[Parallel(n_jobs=4)]: Done   1 out of   4 | elapsed:    0.1s remaining:    0.2s\n",
      "[Parallel(n_jobs=4)]: Done   4 out of   4 | elapsed:    0.1s finished\n",
      "[Parallel(n_jobs=4)]: Done   3 out of   4 | elapsed:    2.5s remaining:    0.8s\n",
      "[Parallel(n_jobs=4)]: Done   2 out of   4 | elapsed:    2.7s remaining:    2.7s\n",
      "[Parallel(n_jobs=4)]: Done   1 out of   4 | elapsed:    3.2s remaining:    9.6s\n",
      "[Parallel(n_jobs=4)]: Done   4 out of   4 | elapsed:    3.2s finished\n",
      "/home/jrking/anaconda/lib/python2.7/site-packages/sklearn/utils/validation.py:377: ComplexWarning: Casting complex values to real discards the imaginary part\n",
      "  array = np.array(array, dtype=dtype, order=order, copy=copy)\n",
      "/home/jrking/anaconda/lib/python2.7/site-packages/sklearn/utils/validation.py:377: ComplexWarning: Casting complex values to real discards the imaginary part\n",
      "  array = np.array(array, dtype=dtype, order=order, copy=copy)\n",
      "/home/jrking/anaconda/lib/python2.7/site-packages/sklearn/utils/validation.py:377: ComplexWarning: Casting complex values to real discards the imaginary part\n",
      "  array = np.array(array, dtype=dtype, order=order, copy=copy)\n",
      "/home/jrking/anaconda/lib/python2.7/site-packages/sklearn/utils/validation.py:377: ComplexWarning: Casting complex values to real discards the imaginary part\n",
      "  array = np.array(array, dtype=dtype, order=order, copy=copy)\n",
      "/home/jrking/anaconda/lib/python2.7/site-packages/sklearn/utils/validation.py:424: DataConversionWarning: Data with input dtype complex128 was converted to float64 by StandardScaler.\n",
      "  warnings.warn(msg, _DataConversionWarning)\n",
      "/home/jrking/anaconda/lib/python2.7/site-packages/sklearn/utils/validation.py:424: DataConversionWarning: Data with input dtype complex128 was converted to float64 by StandardScaler.\n",
      "  warnings.warn(msg, _DataConversionWarning)\n",
      "/home/jrking/anaconda/lib/python2.7/site-packages/sklearn/utils/validation.py:424: DataConversionWarning: Data with input dtype complex128 was converted to float64 by StandardScaler.\n",
      "  warnings.warn(msg, _DataConversionWarning)\n",
      "/home/jrking/anaconda/lib/python2.7/site-packages/sklearn/utils/validation.py:424: DataConversionWarning: Data with input dtype complex128 was converted to float64 by StandardScaler.\n",
      "  warnings.warn(msg, _DataConversionWarning)\n",
      "[Parallel(n_jobs=4)]: Done   1 out of   1 | elapsed:    0.8s remaining:    0.0s\n",
      "[Parallel(n_jobs=4)]: Done   1 out of   1 | elapsed:    0.8s finished\n",
      "/home/jrking/anaconda/lib/python2.7/site-packages/sklearn/utils/validation.py:377: ComplexWarning: Casting complex values to real discards the imaginary part\n",
      "  array = np.array(array, dtype=dtype, order=order, copy=copy)\n",
      "/home/jrking/anaconda/lib/python2.7/site-packages/sklearn/utils/validation.py:424: DataConversionWarning: Data with input dtype complex128 was converted to float64 by StandardScaler.\n",
      "  warnings.warn(msg, _DataConversionWarning)\n"
     ]
    },
    {
     "name": "stdout",
     "output_type": "stream",
     "text": [
      "The events passed to the Epochs constructor are not chronologically ordered.\n",
      "841 matching events found\n",
      "No baseline correction applied\n",
      "0 projection items activated\n",
      "0 bad epochs dropped\n"
     ]
    },
    {
     "name": "stderr",
     "output_type": "stream",
     "text": [
      "[Parallel(n_jobs=4)]: Done   1 out of   4 | elapsed:    0.0s remaining:    0.1s\n",
      "[Parallel(n_jobs=4)]: Done   3 out of   4 | elapsed:    0.0s remaining:    0.0s\n",
      "[Parallel(n_jobs=4)]: Done   2 out of   4 | elapsed:    0.0s remaining:    0.0s\n",
      "[Parallel(n_jobs=4)]: Done   4 out of   4 | elapsed:    0.0s finished\n",
      "[Parallel(n_jobs=4)]: Done   2 out of   4 | elapsed:    2.8s remaining:    2.8s\n",
      "[Parallel(n_jobs=4)]: Done   3 out of   4 | elapsed:    2.9s remaining:    1.0s\n",
      "[Parallel(n_jobs=4)]: Done   1 out of   4 | elapsed:    3.3s remaining:    9.9s\n",
      "[Parallel(n_jobs=4)]: Done   4 out of   4 | elapsed:    3.4s finished\n",
      "/home/jrking/anaconda/lib/python2.7/site-packages/sklearn/utils/validation.py:377: ComplexWarning: Casting complex values to real discards the imaginary part\n",
      "  array = np.array(array, dtype=dtype, order=order, copy=copy)\n",
      "/home/jrking/anaconda/lib/python2.7/site-packages/sklearn/utils/validation.py:377: ComplexWarning: Casting complex values to real discards the imaginary part\n",
      "  array = np.array(array, dtype=dtype, order=order, copy=copy)\n",
      "/home/jrking/anaconda/lib/python2.7/site-packages/sklearn/utils/validation.py:377: ComplexWarning: Casting complex values to real discards the imaginary part\n",
      "  array = np.array(array, dtype=dtype, order=order, copy=copy)\n",
      "/home/jrking/anaconda/lib/python2.7/site-packages/sklearn/utils/validation.py:377: ComplexWarning: Casting complex values to real discards the imaginary part\n",
      "  array = np.array(array, dtype=dtype, order=order, copy=copy)\n",
      "/home/jrking/anaconda/lib/python2.7/site-packages/sklearn/utils/validation.py:424: DataConversionWarning: Data with input dtype complex128 was converted to float64 by StandardScaler.\n",
      "  warnings.warn(msg, _DataConversionWarning)\n",
      "/home/jrking/anaconda/lib/python2.7/site-packages/sklearn/utils/validation.py:424: DataConversionWarning: Data with input dtype complex128 was converted to float64 by StandardScaler.\n",
      "  warnings.warn(msg, _DataConversionWarning)\n",
      "/home/jrking/anaconda/lib/python2.7/site-packages/sklearn/utils/validation.py:424: DataConversionWarning: Data with input dtype complex128 was converted to float64 by StandardScaler.\n",
      "  warnings.warn(msg, _DataConversionWarning)\n",
      "/home/jrking/anaconda/lib/python2.7/site-packages/sklearn/utils/validation.py:424: DataConversionWarning: Data with input dtype complex128 was converted to float64 by StandardScaler.\n",
      "  warnings.warn(msg, _DataConversionWarning)\n",
      "[Parallel(n_jobs=4)]: Done   1 out of   1 | elapsed:    0.7s remaining:    0.0s\n",
      "[Parallel(n_jobs=4)]: Done   1 out of   1 | elapsed:    0.7s finished\n",
      "/home/jrking/anaconda/lib/python2.7/site-packages/sklearn/utils/validation.py:377: ComplexWarning: Casting complex values to real discards the imaginary part\n",
      "  array = np.array(array, dtype=dtype, order=order, copy=copy)\n",
      "/home/jrking/anaconda/lib/python2.7/site-packages/sklearn/utils/validation.py:424: DataConversionWarning: Data with input dtype complex128 was converted to float64 by StandardScaler.\n",
      "  warnings.warn(msg, _DataConversionWarning)\n"
     ]
    },
    {
     "name": "stdout",
     "output_type": "stream",
     "text": [
      "The events passed to the Epochs constructor are not chronologically ordered.\n",
      "841 matching events found\n",
      "No baseline correction applied\n",
      "0 projection items activated\n",
      "0 bad epochs dropped\n"
     ]
    },
    {
     "name": "stderr",
     "output_type": "stream",
     "text": [
      "[Parallel(n_jobs=4)]: Done   1 out of   4 | elapsed:    0.0s remaining:    0.1s\n",
      "[Parallel(n_jobs=4)]: Done   2 out of   4 | elapsed:    0.0s remaining:    0.0s\n",
      "[Parallel(n_jobs=4)]: Done   3 out of   4 | elapsed:    0.0s remaining:    0.0s\n",
      "[Parallel(n_jobs=4)]: Done   4 out of   4 | elapsed:    0.0s finished\n",
      "[Parallel(n_jobs=4)]: Done   3 out of   4 | elapsed:    7.7s remaining:    2.6s\n",
      "[Parallel(n_jobs=4)]: Done   2 out of   4 | elapsed:    7.8s remaining:    7.8s\n",
      "[Parallel(n_jobs=4)]: Done   1 out of   4 | elapsed:    7.9s remaining:   23.7s\n",
      "[Parallel(n_jobs=4)]: Done   4 out of   4 | elapsed:    8.0s finished\n",
      "/home/jrking/anaconda/lib/python2.7/site-packages/sklearn/utils/validation.py:377: ComplexWarning: Casting complex values to real discards the imaginary part\n",
      "  array = np.array(array, dtype=dtype, order=order, copy=copy)\n",
      "/home/jrking/anaconda/lib/python2.7/site-packages/sklearn/utils/validation.py:377: ComplexWarning: Casting complex values to real discards the imaginary part\n",
      "  array = np.array(array, dtype=dtype, order=order, copy=copy)\n",
      "/home/jrking/anaconda/lib/python2.7/site-packages/sklearn/utils/validation.py:377: ComplexWarning: Casting complex values to real discards the imaginary part\n",
      "  array = np.array(array, dtype=dtype, order=order, copy=copy)\n",
      "/home/jrking/anaconda/lib/python2.7/site-packages/sklearn/utils/validation.py:377: ComplexWarning: Casting complex values to real discards the imaginary part\n",
      "  array = np.array(array, dtype=dtype, order=order, copy=copy)\n",
      "/home/jrking/anaconda/lib/python2.7/site-packages/sklearn/utils/validation.py:424: DataConversionWarning: Data with input dtype complex128 was converted to float64 by StandardScaler.\n",
      "  warnings.warn(msg, _DataConversionWarning)\n",
      "/home/jrking/anaconda/lib/python2.7/site-packages/sklearn/utils/validation.py:424: DataConversionWarning: Data with input dtype complex128 was converted to float64 by StandardScaler.\n",
      "  warnings.warn(msg, _DataConversionWarning)\n",
      "/home/jrking/anaconda/lib/python2.7/site-packages/sklearn/utils/validation.py:424: DataConversionWarning: Data with input dtype complex128 was converted to float64 by StandardScaler.\n",
      "  warnings.warn(msg, _DataConversionWarning)\n",
      "/home/jrking/anaconda/lib/python2.7/site-packages/sklearn/utils/validation.py:424: DataConversionWarning: Data with input dtype complex128 was converted to float64 by StandardScaler.\n",
      "  warnings.warn(msg, _DataConversionWarning)\n",
      "[Parallel(n_jobs=4)]: Done   1 out of   1 | elapsed:    1.6s remaining:    0.0s\n",
      "[Parallel(n_jobs=4)]: Done   1 out of   1 | elapsed:    1.6s finished\n",
      "/home/jrking/anaconda/lib/python2.7/site-packages/sklearn/utils/validation.py:377: ComplexWarning: Casting complex values to real discards the imaginary part\n",
      "  array = np.array(array, dtype=dtype, order=order, copy=copy)\n",
      "/home/jrking/anaconda/lib/python2.7/site-packages/sklearn/utils/validation.py:424: DataConversionWarning: Data with input dtype complex128 was converted to float64 by StandardScaler.\n",
      "  warnings.warn(msg, _DataConversionWarning)\n"
     ]
    },
    {
     "name": "stdout",
     "output_type": "stream",
     "text": [
      "The events passed to the Epochs constructor are not chronologically ordered.\n",
      "841 matching events found\n",
      "No baseline correction applied\n",
      "0 projection items activated\n",
      "0 bad epochs dropped\n"
     ]
    },
    {
     "name": "stderr",
     "output_type": "stream",
     "text": [
      "[Parallel(n_jobs=4)]: Done   2 out of   4 | elapsed:    0.0s remaining:    0.0s\n",
      "[Parallel(n_jobs=4)]: Done   1 out of   4 | elapsed:    0.0s remaining:    0.1s\n",
      "[Parallel(n_jobs=4)]: Done   3 out of   4 | elapsed:    0.1s remaining:    0.0s\n",
      "[Parallel(n_jobs=4)]: Done   4 out of   4 | elapsed:    0.1s finished\n",
      "[Parallel(n_jobs=4)]: Done   3 out of   4 | elapsed:    2.8s remaining:    0.9s\n",
      "[Parallel(n_jobs=4)]: Done   1 out of   4 | elapsed:    2.8s remaining:    8.5s\n",
      "[Parallel(n_jobs=4)]: Done   2 out of   4 | elapsed:    3.0s remaining:    3.0s\n",
      "[Parallel(n_jobs=4)]: Done   4 out of   4 | elapsed:    3.3s finished\n",
      "/home/jrking/anaconda/lib/python2.7/site-packages/sklearn/utils/validation.py:377: ComplexWarning: Casting complex values to real discards the imaginary part\n",
      "  array = np.array(array, dtype=dtype, order=order, copy=copy)\n",
      "/home/jrking/anaconda/lib/python2.7/site-packages/sklearn/utils/validation.py:377: ComplexWarning: Casting complex values to real discards the imaginary part\n",
      "  array = np.array(array, dtype=dtype, order=order, copy=copy)\n",
      "/home/jrking/anaconda/lib/python2.7/site-packages/sklearn/utils/validation.py:377: ComplexWarning: Casting complex values to real discards the imaginary part\n",
      "  array = np.array(array, dtype=dtype, order=order, copy=copy)\n",
      "/home/jrking/anaconda/lib/python2.7/site-packages/sklearn/utils/validation.py:377: ComplexWarning: Casting complex values to real discards the imaginary part\n",
      "  array = np.array(array, dtype=dtype, order=order, copy=copy)\n",
      "/home/jrking/anaconda/lib/python2.7/site-packages/sklearn/utils/validation.py:424: DataConversionWarning: Data with input dtype complex128 was converted to float64 by StandardScaler.\n",
      "  warnings.warn(msg, _DataConversionWarning)\n",
      "/home/jrking/anaconda/lib/python2.7/site-packages/sklearn/utils/validation.py:424: DataConversionWarning: Data with input dtype complex128 was converted to float64 by StandardScaler.\n",
      "  warnings.warn(msg, _DataConversionWarning)\n",
      "/home/jrking/anaconda/lib/python2.7/site-packages/sklearn/utils/validation.py:424: DataConversionWarning: Data with input dtype complex128 was converted to float64 by StandardScaler.\n",
      "  warnings.warn(msg, _DataConversionWarning)\n",
      "/home/jrking/anaconda/lib/python2.7/site-packages/sklearn/utils/validation.py:424: DataConversionWarning: Data with input dtype complex128 was converted to float64 by StandardScaler.\n",
      "  warnings.warn(msg, _DataConversionWarning)\n",
      "[Parallel(n_jobs=4)]: Done   1 out of   1 | elapsed:    0.9s remaining:    0.0s\n",
      "[Parallel(n_jobs=4)]: Done   1 out of   1 | elapsed:    0.9s finished\n",
      "/home/jrking/anaconda/lib/python2.7/site-packages/sklearn/utils/validation.py:377: ComplexWarning: Casting complex values to real discards the imaginary part\n",
      "  array = np.array(array, dtype=dtype, order=order, copy=copy)\n",
      "/home/jrking/anaconda/lib/python2.7/site-packages/sklearn/utils/validation.py:424: DataConversionWarning: Data with input dtype complex128 was converted to float64 by StandardScaler.\n",
      "  warnings.warn(msg, _DataConversionWarning)\n"
     ]
    },
    {
     "name": "stdout",
     "output_type": "stream",
     "text": [
      "The events passed to the Epochs constructor are not chronologically ordered.\n",
      "841 matching events found\n",
      "No baseline correction applied\n",
      "0 projection items activated\n",
      "0 bad epochs dropped\n"
     ]
    },
    {
     "name": "stderr",
     "output_type": "stream",
     "text": [
      "[Parallel(n_jobs=4)]: Done   1 out of   4 | elapsed:    0.0s remaining:    0.1s\n",
      "[Parallel(n_jobs=4)]: Done   2 out of   4 | elapsed:    0.0s remaining:    0.0s\n",
      "[Parallel(n_jobs=4)]: Done   3 out of   4 | elapsed:    0.0s remaining:    0.0s\n",
      "[Parallel(n_jobs=4)]: Done   4 out of   4 | elapsed:    0.0s finished\n",
      "[Parallel(n_jobs=4)]: Done   2 out of   4 | elapsed:    2.5s remaining:    2.5s\n",
      "[Parallel(n_jobs=4)]: Done   3 out of   4 | elapsed:    2.5s remaining:    0.8s\n",
      "[Parallel(n_jobs=4)]: Done   1 out of   4 | elapsed:    2.8s remaining:    8.4s\n",
      "[Parallel(n_jobs=4)]: Done   4 out of   4 | elapsed:    2.8s finished\n",
      "/home/jrking/anaconda/lib/python2.7/site-packages/sklearn/utils/validation.py:377: ComplexWarning: Casting complex values to real discards the imaginary part\n",
      "  array = np.array(array, dtype=dtype, order=order, copy=copy)\n",
      "/home/jrking/anaconda/lib/python2.7/site-packages/sklearn/utils/validation.py:377: ComplexWarning: Casting complex values to real discards the imaginary part\n",
      "  array = np.array(array, dtype=dtype, order=order, copy=copy)\n",
      "/home/jrking/anaconda/lib/python2.7/site-packages/sklearn/utils/validation.py:377: ComplexWarning: Casting complex values to real discards the imaginary part\n",
      "  array = np.array(array, dtype=dtype, order=order, copy=copy)\n",
      "/home/jrking/anaconda/lib/python2.7/site-packages/sklearn/utils/validation.py:377: ComplexWarning: Casting complex values to real discards the imaginary part\n",
      "  array = np.array(array, dtype=dtype, order=order, copy=copy)\n",
      "/home/jrking/anaconda/lib/python2.7/site-packages/sklearn/utils/validation.py:424: DataConversionWarning: Data with input dtype complex128 was converted to float64 by StandardScaler.\n",
      "  warnings.warn(msg, _DataConversionWarning)\n",
      "/home/jrking/anaconda/lib/python2.7/site-packages/sklearn/utils/validation.py:424: DataConversionWarning: Data with input dtype complex128 was converted to float64 by StandardScaler.\n",
      "  warnings.warn(msg, _DataConversionWarning)\n",
      "/home/jrking/anaconda/lib/python2.7/site-packages/sklearn/utils/validation.py:424: DataConversionWarning: Data with input dtype complex128 was converted to float64 by StandardScaler.\n",
      "  warnings.warn(msg, _DataConversionWarning)\n",
      "/home/jrking/anaconda/lib/python2.7/site-packages/sklearn/utils/validation.py:424: DataConversionWarning: Data with input dtype complex128 was converted to float64 by StandardScaler.\n",
      "  warnings.warn(msg, _DataConversionWarning)\n",
      "[Parallel(n_jobs=4)]: Done   1 out of   1 | elapsed:    0.8s remaining:    0.0s\n",
      "[Parallel(n_jobs=4)]: Done   1 out of   1 | elapsed:    0.8s finished\n",
      "/home/jrking/anaconda/lib/python2.7/site-packages/sklearn/utils/validation.py:377: ComplexWarning: Casting complex values to real discards the imaginary part\n",
      "  array = np.array(array, dtype=dtype, order=order, copy=copy)\n",
      "/home/jrking/anaconda/lib/python2.7/site-packages/sklearn/utils/validation.py:424: DataConversionWarning: Data with input dtype complex128 was converted to float64 by StandardScaler.\n",
      "  warnings.warn(msg, _DataConversionWarning)\n"
     ]
    },
    {
     "name": "stdout",
     "output_type": "stream",
     "text": [
      "The events passed to the Epochs constructor are not chronologically ordered.\n",
      "841 matching events found\n",
      "No baseline correction applied\n",
      "0 projection items activated\n",
      "0 bad epochs dropped\n"
     ]
    },
    {
     "name": "stderr",
     "output_type": "stream",
     "text": [
      "[Parallel(n_jobs=4)]: Done   1 out of   4 | elapsed:    0.0s remaining:    0.1s\n",
      "[Parallel(n_jobs=4)]: Done   2 out of   4 | elapsed:    0.0s remaining:    0.0s\n",
      "[Parallel(n_jobs=4)]: Done   3 out of   4 | elapsed:    0.0s remaining:    0.0s\n",
      "[Parallel(n_jobs=4)]: Done   4 out of   4 | elapsed:    0.0s finished\n",
      "[Parallel(n_jobs=4)]: Done   2 out of   4 | elapsed:    7.2s remaining:    7.2s\n",
      "[Parallel(n_jobs=4)]: Done   1 out of   4 | elapsed:    7.6s remaining:   22.7s\n",
      "[Parallel(n_jobs=4)]: Done   3 out of   4 | elapsed:    7.7s remaining:    2.6s\n",
      "[Parallel(n_jobs=4)]: Done   4 out of   4 | elapsed:    7.9s finished\n",
      "/home/jrking/anaconda/lib/python2.7/site-packages/sklearn/utils/validation.py:377: ComplexWarning: Casting complex values to real discards the imaginary part\n",
      "  array = np.array(array, dtype=dtype, order=order, copy=copy)\n",
      "/home/jrking/anaconda/lib/python2.7/site-packages/sklearn/utils/validation.py:377: ComplexWarning: Casting complex values to real discards the imaginary part\n",
      "  array = np.array(array, dtype=dtype, order=order, copy=copy)\n",
      "/home/jrking/anaconda/lib/python2.7/site-packages/sklearn/utils/validation.py:377: ComplexWarning: Casting complex values to real discards the imaginary part\n",
      "  array = np.array(array, dtype=dtype, order=order, copy=copy)\n",
      "/home/jrking/anaconda/lib/python2.7/site-packages/sklearn/utils/validation.py:377: ComplexWarning: Casting complex values to real discards the imaginary part\n",
      "  array = np.array(array, dtype=dtype, order=order, copy=copy)\n",
      "/home/jrking/anaconda/lib/python2.7/site-packages/sklearn/utils/validation.py:424: DataConversionWarning: Data with input dtype complex128 was converted to float64 by StandardScaler.\n",
      "  warnings.warn(msg, _DataConversionWarning)\n",
      "/home/jrking/anaconda/lib/python2.7/site-packages/sklearn/utils/validation.py:424: DataConversionWarning: Data with input dtype complex128 was converted to float64 by StandardScaler.\n",
      "  warnings.warn(msg, _DataConversionWarning)\n",
      "/home/jrking/anaconda/lib/python2.7/site-packages/sklearn/utils/validation.py:424: DataConversionWarning: Data with input dtype complex128 was converted to float64 by StandardScaler.\n",
      "  warnings.warn(msg, _DataConversionWarning)\n",
      "/home/jrking/anaconda/lib/python2.7/site-packages/sklearn/utils/validation.py:424: DataConversionWarning: Data with input dtype complex128 was converted to float64 by StandardScaler.\n",
      "  warnings.warn(msg, _DataConversionWarning)\n",
      "[Parallel(n_jobs=4)]: Done   1 out of   1 | elapsed:    1.7s remaining:    0.0s\n",
      "[Parallel(n_jobs=4)]: Done   1 out of   1 | elapsed:    1.7s finished\n",
      "/home/jrking/anaconda/lib/python2.7/site-packages/sklearn/utils/validation.py:377: ComplexWarning: Casting complex values to real discards the imaginary part\n",
      "  array = np.array(array, dtype=dtype, order=order, copy=copy)\n",
      "/home/jrking/anaconda/lib/python2.7/site-packages/sklearn/utils/validation.py:424: DataConversionWarning: Data with input dtype complex128 was converted to float64 by StandardScaler.\n",
      "  warnings.warn(msg, _DataConversionWarning)\n"
     ]
    },
    {
     "name": "stdout",
     "output_type": "stream",
     "text": [
      "The events passed to the Epochs constructor are not chronologically ordered.\n",
      "841 matching events found\n",
      "No baseline correction applied\n",
      "0 projection items activated\n",
      "0 bad epochs dropped\n"
     ]
    },
    {
     "name": "stderr",
     "output_type": "stream",
     "text": [
      "[Parallel(n_jobs=4)]: Done   3 out of   4 | elapsed:    0.0s remaining:    0.0s\n",
      "[Parallel(n_jobs=4)]: Done   2 out of   4 | elapsed:    0.0s remaining:    0.0s\n",
      "[Parallel(n_jobs=4)]: Done   1 out of   4 | elapsed:    0.1s remaining:    0.2s\n",
      "[Parallel(n_jobs=4)]: Done   4 out of   4 | elapsed:    0.1s finished\n",
      "[Parallel(n_jobs=4)]: Done   3 out of   4 | elapsed:    3.0s remaining:    1.0s\n",
      "[Parallel(n_jobs=4)]: Done   1 out of   4 | elapsed:    3.4s remaining:   10.3s\n",
      "[Parallel(n_jobs=4)]: Done   2 out of   4 | elapsed:    3.6s remaining:    3.6s\n",
      "[Parallel(n_jobs=4)]: Done   4 out of   4 | elapsed:    3.7s finished\n",
      "/home/jrking/anaconda/lib/python2.7/site-packages/sklearn/utils/validation.py:377: ComplexWarning: Casting complex values to real discards the imaginary part\n",
      "  array = np.array(array, dtype=dtype, order=order, copy=copy)\n",
      "/home/jrking/anaconda/lib/python2.7/site-packages/sklearn/utils/validation.py:377: ComplexWarning: Casting complex values to real discards the imaginary part\n",
      "  array = np.array(array, dtype=dtype, order=order, copy=copy)\n",
      "/home/jrking/anaconda/lib/python2.7/site-packages/sklearn/utils/validation.py:377: ComplexWarning: Casting complex values to real discards the imaginary part\n",
      "  array = np.array(array, dtype=dtype, order=order, copy=copy)\n",
      "/home/jrking/anaconda/lib/python2.7/site-packages/sklearn/utils/validation.py:377: ComplexWarning: Casting complex values to real discards the imaginary part\n",
      "  array = np.array(array, dtype=dtype, order=order, copy=copy)\n",
      "/home/jrking/anaconda/lib/python2.7/site-packages/sklearn/utils/validation.py:424: DataConversionWarning: Data with input dtype complex128 was converted to float64 by StandardScaler.\n",
      "  warnings.warn(msg, _DataConversionWarning)\n",
      "/home/jrking/anaconda/lib/python2.7/site-packages/sklearn/utils/validation.py:424: DataConversionWarning: Data with input dtype complex128 was converted to float64 by StandardScaler.\n",
      "  warnings.warn(msg, _DataConversionWarning)\n",
      "/home/jrking/anaconda/lib/python2.7/site-packages/sklearn/utils/validation.py:424: DataConversionWarning: Data with input dtype complex128 was converted to float64 by StandardScaler.\n",
      "  warnings.warn(msg, _DataConversionWarning)\n",
      "/home/jrking/anaconda/lib/python2.7/site-packages/sklearn/utils/validation.py:424: DataConversionWarning: Data with input dtype complex128 was converted to float64 by StandardScaler.\n",
      "  warnings.warn(msg, _DataConversionWarning)\n",
      "[Parallel(n_jobs=4)]: Done   1 out of   1 | elapsed:    1.6s remaining:    0.0s\n",
      "[Parallel(n_jobs=4)]: Done   1 out of   1 | elapsed:    1.6s finished\n",
      "/home/jrking/anaconda/lib/python2.7/site-packages/sklearn/utils/validation.py:377: ComplexWarning: Casting complex values to real discards the imaginary part\n",
      "  array = np.array(array, dtype=dtype, order=order, copy=copy)\n",
      "/home/jrking/anaconda/lib/python2.7/site-packages/sklearn/utils/validation.py:424: DataConversionWarning: Data with input dtype complex128 was converted to float64 by StandardScaler.\n",
      "  warnings.warn(msg, _DataConversionWarning)\n"
     ]
    },
    {
     "name": "stdout",
     "output_type": "stream",
     "text": [
      "The events passed to the Epochs constructor are not chronologically ordered.\n",
      "841 matching events found\n",
      "No baseline correction applied\n",
      "0 projection items activated\n",
      "0 bad epochs dropped\n"
     ]
    },
    {
     "name": "stderr",
     "output_type": "stream",
     "text": [
      "[Parallel(n_jobs=4)]: Done   1 out of   4 | elapsed:    0.0s remaining:    0.1s\n",
      "[Parallel(n_jobs=4)]: Done   2 out of   4 | elapsed:    0.0s remaining:    0.0s\n",
      "[Parallel(n_jobs=4)]: Done   3 out of   4 | elapsed:    0.0s remaining:    0.0s\n",
      "[Parallel(n_jobs=4)]: Done   4 out of   4 | elapsed:    0.0s finished\n",
      "[Parallel(n_jobs=4)]: Done   1 out of   4 | elapsed:    2.7s remaining:    8.0s\n",
      "[Parallel(n_jobs=4)]: Done   3 out of   4 | elapsed:    3.0s remaining:    1.0s\n",
      "[Parallel(n_jobs=4)]: Done   2 out of   4 | elapsed:    3.2s remaining:    3.2s\n",
      "[Parallel(n_jobs=4)]: Done   4 out of   4 | elapsed:    3.5s finished\n",
      "/home/jrking/anaconda/lib/python2.7/site-packages/sklearn/utils/validation.py:377: ComplexWarning: Casting complex values to real discards the imaginary part\n",
      "  array = np.array(array, dtype=dtype, order=order, copy=copy)\n",
      "/home/jrking/anaconda/lib/python2.7/site-packages/sklearn/utils/validation.py:377: ComplexWarning: Casting complex values to real discards the imaginary part\n",
      "  array = np.array(array, dtype=dtype, order=order, copy=copy)\n",
      "/home/jrking/anaconda/lib/python2.7/site-packages/sklearn/utils/validation.py:377: ComplexWarning: Casting complex values to real discards the imaginary part\n",
      "  array = np.array(array, dtype=dtype, order=order, copy=copy)\n",
      "/home/jrking/anaconda/lib/python2.7/site-packages/sklearn/utils/validation.py:377: ComplexWarning: Casting complex values to real discards the imaginary part\n",
      "  array = np.array(array, dtype=dtype, order=order, copy=copy)\n",
      "/home/jrking/anaconda/lib/python2.7/site-packages/sklearn/utils/validation.py:424: DataConversionWarning: Data with input dtype complex128 was converted to float64 by StandardScaler.\n",
      "  warnings.warn(msg, _DataConversionWarning)\n",
      "/home/jrking/anaconda/lib/python2.7/site-packages/sklearn/utils/validation.py:424: DataConversionWarning: Data with input dtype complex128 was converted to float64 by StandardScaler.\n",
      "  warnings.warn(msg, _DataConversionWarning)\n",
      "/home/jrking/anaconda/lib/python2.7/site-packages/sklearn/utils/validation.py:424: DataConversionWarning: Data with input dtype complex128 was converted to float64 by StandardScaler.\n",
      "  warnings.warn(msg, _DataConversionWarning)\n",
      "/home/jrking/anaconda/lib/python2.7/site-packages/sklearn/utils/validation.py:424: DataConversionWarning: Data with input dtype complex128 was converted to float64 by StandardScaler.\n",
      "  warnings.warn(msg, _DataConversionWarning)\n",
      "[Parallel(n_jobs=4)]: Done   1 out of   1 | elapsed:    0.9s remaining:    0.0s\n",
      "[Parallel(n_jobs=4)]: Done   1 out of   1 | elapsed:    0.9s finished\n",
      "/home/jrking/anaconda/lib/python2.7/site-packages/sklearn/utils/validation.py:377: ComplexWarning: Casting complex values to real discards the imaginary part\n",
      "  array = np.array(array, dtype=dtype, order=order, copy=copy)\n",
      "/home/jrking/anaconda/lib/python2.7/site-packages/sklearn/utils/validation.py:424: DataConversionWarning: Data with input dtype complex128 was converted to float64 by StandardScaler.\n",
      "  warnings.warn(msg, _DataConversionWarning)\n"
     ]
    },
    {
     "name": "stdout",
     "output_type": "stream",
     "text": [
      "The events passed to the Epochs constructor are not chronologically ordered.\n",
      "841 matching events found\n",
      "No baseline correction applied\n",
      "0 projection items activated\n",
      "0 bad epochs dropped\n"
     ]
    },
    {
     "name": "stderr",
     "output_type": "stream",
     "text": [
      "[Parallel(n_jobs=4)]: Done   2 out of   4 | elapsed:    0.0s remaining:    0.0s\n",
      "[Parallel(n_jobs=4)]: Done   1 out of   4 | elapsed:    0.0s remaining:    0.1s\n",
      "[Parallel(n_jobs=4)]: Done   3 out of   4 | elapsed:    0.0s remaining:    0.0s\n",
      "[Parallel(n_jobs=4)]: Done   4 out of   4 | elapsed:    0.0s finished\n",
      "[Parallel(n_jobs=4)]: Done   1 out of   4 | elapsed:    7.3s remaining:   22.0s\n",
      "[Parallel(n_jobs=4)]: Done   2 out of   4 | elapsed:    7.5s remaining:    7.5s\n",
      "[Parallel(n_jobs=4)]: Done   3 out of   4 | elapsed:    7.6s remaining:    2.5s\n",
      "[Parallel(n_jobs=4)]: Done   4 out of   4 | elapsed:    7.6s finished\n",
      "/home/jrking/anaconda/lib/python2.7/site-packages/sklearn/utils/validation.py:377: ComplexWarning: Casting complex values to real discards the imaginary part\n",
      "  array = np.array(array, dtype=dtype, order=order, copy=copy)\n",
      "/home/jrking/anaconda/lib/python2.7/site-packages/sklearn/utils/validation.py:377: ComplexWarning: Casting complex values to real discards the imaginary part\n",
      "  array = np.array(array, dtype=dtype, order=order, copy=copy)\n",
      "/home/jrking/anaconda/lib/python2.7/site-packages/sklearn/utils/validation.py:377: ComplexWarning: Casting complex values to real discards the imaginary part\n",
      "  array = np.array(array, dtype=dtype, order=order, copy=copy)\n",
      "/home/jrking/anaconda/lib/python2.7/site-packages/sklearn/utils/validation.py:377: ComplexWarning: Casting complex values to real discards the imaginary part\n",
      "  array = np.array(array, dtype=dtype, order=order, copy=copy)\n",
      "/home/jrking/anaconda/lib/python2.7/site-packages/sklearn/utils/validation.py:424: DataConversionWarning: Data with input dtype complex128 was converted to float64 by StandardScaler.\n",
      "  warnings.warn(msg, _DataConversionWarning)\n",
      "/home/jrking/anaconda/lib/python2.7/site-packages/sklearn/utils/validation.py:424: DataConversionWarning: Data with input dtype complex128 was converted to float64 by StandardScaler.\n",
      "  warnings.warn(msg, _DataConversionWarning)\n",
      "/home/jrking/anaconda/lib/python2.7/site-packages/sklearn/utils/validation.py:424: DataConversionWarning: Data with input dtype complex128 was converted to float64 by StandardScaler.\n",
      "  warnings.warn(msg, _DataConversionWarning)\n",
      "/home/jrking/anaconda/lib/python2.7/site-packages/sklearn/utils/validation.py:424: DataConversionWarning: Data with input dtype complex128 was converted to float64 by StandardScaler.\n",
      "  warnings.warn(msg, _DataConversionWarning)\n",
      "[Parallel(n_jobs=4)]: Done   1 out of   1 | elapsed:    1.7s remaining:    0.0s\n",
      "[Parallel(n_jobs=4)]: Done   1 out of   1 | elapsed:    1.7s finished\n",
      "/home/jrking/anaconda/lib/python2.7/site-packages/sklearn/utils/validation.py:377: ComplexWarning: Casting complex values to real discards the imaginary part\n",
      "  array = np.array(array, dtype=dtype, order=order, copy=copy)\n",
      "/home/jrking/anaconda/lib/python2.7/site-packages/sklearn/utils/validation.py:424: DataConversionWarning: Data with input dtype complex128 was converted to float64 by StandardScaler.\n",
      "  warnings.warn(msg, _DataConversionWarning)\n"
     ]
    },
    {
     "name": "stdout",
     "output_type": "stream",
     "text": [
      "The events passed to the Epochs constructor are not chronologically ordered.\n",
      "841 matching events found\n",
      "No baseline correction applied\n",
      "0 projection items activated\n",
      "0 bad epochs dropped\n"
     ]
    },
    {
     "name": "stderr",
     "output_type": "stream",
     "text": [
      "[Parallel(n_jobs=4)]: Done   1 out of   4 | elapsed:    0.1s remaining:    0.2s\n",
      "[Parallel(n_jobs=4)]: Done   3 out of   4 | elapsed:    0.1s remaining:    0.0s\n",
      "[Parallel(n_jobs=4)]: Done   2 out of   4 | elapsed:    0.1s remaining:    0.1s\n",
      "[Parallel(n_jobs=4)]: Done   4 out of   4 | elapsed:    0.1s finished\n",
      "[Parallel(n_jobs=4)]: Done   1 out of   4 | elapsed:    3.3s remaining:    9.8s\n",
      "[Parallel(n_jobs=4)]: Done   2 out of   4 | elapsed:    4.4s remaining:    4.4s\n",
      "[Parallel(n_jobs=4)]: Done   3 out of   4 | elapsed:    4.5s remaining:    1.5s\n",
      "[Parallel(n_jobs=4)]: Done   4 out of   4 | elapsed:    4.5s finished\n",
      "/home/jrking/anaconda/lib/python2.7/site-packages/sklearn/utils/validation.py:377: ComplexWarning: Casting complex values to real discards the imaginary part\n",
      "  array = np.array(array, dtype=dtype, order=order, copy=copy)\n",
      "/home/jrking/anaconda/lib/python2.7/site-packages/sklearn/utils/validation.py:377: ComplexWarning: Casting complex values to real discards the imaginary part\n",
      "  array = np.array(array, dtype=dtype, order=order, copy=copy)\n",
      "/home/jrking/anaconda/lib/python2.7/site-packages/sklearn/utils/validation.py:377: ComplexWarning: Casting complex values to real discards the imaginary part\n",
      "  array = np.array(array, dtype=dtype, order=order, copy=copy)\n",
      "/home/jrking/anaconda/lib/python2.7/site-packages/sklearn/utils/validation.py:377: ComplexWarning: Casting complex values to real discards the imaginary part\n",
      "  array = np.array(array, dtype=dtype, order=order, copy=copy)\n",
      "/home/jrking/anaconda/lib/python2.7/site-packages/sklearn/utils/validation.py:424: DataConversionWarning: Data with input dtype complex128 was converted to float64 by StandardScaler.\n",
      "  warnings.warn(msg, _DataConversionWarning)\n",
      "/home/jrking/anaconda/lib/python2.7/site-packages/sklearn/utils/validation.py:424: DataConversionWarning: Data with input dtype complex128 was converted to float64 by StandardScaler.\n",
      "  warnings.warn(msg, _DataConversionWarning)\n",
      "/home/jrking/anaconda/lib/python2.7/site-packages/sklearn/utils/validation.py:424: DataConversionWarning: Data with input dtype complex128 was converted to float64 by StandardScaler.\n",
      "  warnings.warn(msg, _DataConversionWarning)\n",
      "/home/jrking/anaconda/lib/python2.7/site-packages/sklearn/utils/validation.py:424: DataConversionWarning: Data with input dtype complex128 was converted to float64 by StandardScaler.\n",
      "  warnings.warn(msg, _DataConversionWarning)\n",
      "[Parallel(n_jobs=4)]: Done   1 out of   1 | elapsed:    0.7s remaining:    0.0s\n",
      "[Parallel(n_jobs=4)]: Done   1 out of   1 | elapsed:    0.8s finished\n",
      "/home/jrking/anaconda/lib/python2.7/site-packages/sklearn/utils/validation.py:377: ComplexWarning: Casting complex values to real discards the imaginary part\n",
      "  array = np.array(array, dtype=dtype, order=order, copy=copy)\n",
      "/home/jrking/anaconda/lib/python2.7/site-packages/sklearn/utils/validation.py:424: DataConversionWarning: Data with input dtype complex128 was converted to float64 by StandardScaler.\n",
      "  warnings.warn(msg, _DataConversionWarning)\n",
      "[Parallel(n_jobs=4)]: Done   2 out of   4 | elapsed:    0.0s remaining:    0.0s\n",
      "[Parallel(n_jobs=4)]: Done   3 out of   4 | elapsed:    0.0s remaining:    0.0s\n",
      "[Parallel(n_jobs=4)]: Done   1 out of   4 | elapsed:    0.0s remaining:    0.1s\n",
      "[Parallel(n_jobs=4)]: Done   4 out of   4 | elapsed:    0.0s finished\n"
     ]
    }
   ],
   "source": [
    "scores = decod_freqs(subjects[0])"
   ]
  },
  {
   "cell_type": "code",
   "execution_count": 11,
   "metadata": {
    "collapsed": false
   },
   "outputs": [
    {
     "data": {
      "text/plain": [
       "<matplotlib.colorbar.Colorbar at 0x7fcc8624bc10>"
      ]
     },
     "execution_count": 11,
     "metadata": {},
     "output_type": "execute_result"
    },
    {
     "data": {
      "image/png": "[encoded data removed]",
      "text/plain": [
       "<matplotlib.figure.Figure at 0x7fcc8624bb10>"
      ]
     },
     "metadata": {},
     "output_type": "display_data"
    }
   ],
   "source": [
    "times = np.arange(np.shape(scores)[0]) / 128. - .150\n",
    "freqs = np.arange(5., 20., 1.)\n",
    "plt.matshow(1-scores, origin='normal',\n",
    "            cmap='RdBu_r', vmin=0, vmax=1, aspect='auto',\n",
    "            extent=[times[0], times[-1], freqs[0], freqs[-1]])\n",
    "plt.colorbar()"
   ]
  }
 ],
 "metadata": {
  "kernelspec": {
   "display_name": "Python 2",
   "language": "python",
   "name": "python2"
  },
  "language_info": {
   "codemirror_mode": {
    "name": "ipython",
    "version": 2
   },
   "file_extension": ".py",
   "mimetype": "text/x-python",
   "name": "python",
   "nbconvert_exporter": "python",
   "pygments_lexer": "ipython2",
   "version": "2.7.11"
  }
 },
 "nbformat": 4,
 "nbformat_minor": 0
}
