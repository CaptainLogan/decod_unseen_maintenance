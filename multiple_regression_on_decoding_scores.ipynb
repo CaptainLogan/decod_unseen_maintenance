{
 "cells": [
  {
   "cell_type": "code",
   "execution_count": 2,
   "metadata": {
    "collapsed": false
   },
   "outputs": [
    {
     "name": "stdout",
     "output_type": "stream",
     "text": [
      "\n"
     ]
    },
    {
     "ename": "ImportError",
     "evalue": "No module named scripts.conditions",
     "output_type": "error",
     "traceback": [
      "\u001b[1;31m---------------------------------------------------------------------------\u001b[0m",
      "\u001b[1;31mImportError\u001b[0m                               Traceback (most recent call last)",
      "\u001b[1;32m<ipython-input-2-902330b63126>\u001b[0m in \u001b[0;36m<module>\u001b[1;34m()\u001b[0m\n\u001b[0;32m      7\u001b[0m \u001b[1;32mfrom\u001b[0m \u001b[0mjr\u001b[0m\u001b[1;33m.\u001b[0m\u001b[0mutils\u001b[0m \u001b[1;32mimport\u001b[0m \u001b[0malign_on_diag\u001b[0m\u001b[1;33m\u001b[0m\u001b[0m\n\u001b[0;32m      8\u001b[0m \u001b[1;32mfrom\u001b[0m \u001b[0mjr\u001b[0m \u001b[1;32mimport\u001b[0m \u001b[0mtile_memory_free\u001b[0m \u001b[1;32mas\u001b[0m \u001b[0mtile\u001b[0m\u001b[1;33m\u001b[0m\u001b[0m\n\u001b[1;32m----> 9\u001b[1;33m \u001b[1;32mfrom\u001b[0m \u001b[0mconfig\u001b[0m \u001b[1;32mimport\u001b[0m \u001b[0mpaths\u001b[0m\u001b[1;33m,\u001b[0m \u001b[0msubjects\u001b[0m\u001b[1;33m,\u001b[0m \u001b[0mtois\u001b[0m\u001b[1;33m\u001b[0m\u001b[0m\n\u001b[0m\u001b[0;32m     10\u001b[0m \u001b[1;32mfrom\u001b[0m \u001b[0mbase\u001b[0m \u001b[1;32mimport\u001b[0m \u001b[0mstats\u001b[0m\u001b[1;33m\u001b[0m\u001b[0m\n",
      "\u001b[1;32m/media/DATA/Pro/Projects/Paris/Orientation/Niccolo/Paris_orientation-decoding/scripts/config.py\u001b[0m in \u001b[0;36m<module>\u001b[1;34m()\u001b[0m\n\u001b[0;32m     71\u001b[0m \u001b[1;33m\u001b[0m\u001b[0m\n\u001b[0;32m     72\u001b[0m \u001b[1;31m# ###################### Define contrasts #####################\u001b[0m\u001b[1;33m\u001b[0m\u001b[1;33m\u001b[0m\u001b[0m\n\u001b[1;32m---> 73\u001b[1;33m \u001b[1;32mfrom\u001b[0m \u001b[0mscripts\u001b[0m\u001b[1;33m.\u001b[0m\u001b[0mconditions\u001b[0m \u001b[1;32mimport\u001b[0m \u001b[0manalyses\u001b[0m\u001b[1;33m,\u001b[0m \u001b[0msubscores\u001b[0m\u001b[1;33m,\u001b[0m \u001b[0manalyses_order2\u001b[0m\u001b[1;33m\u001b[0m\u001b[0m\n\u001b[0m\u001b[0;32m     74\u001b[0m \u001b[1;33m\u001b[0m\u001b[0m\n\u001b[0;32m     75\u001b[0m \u001b[1;31m# #############################################################################\u001b[0m\u001b[1;33m\u001b[0m\u001b[1;33m\u001b[0m\u001b[0m\n",
      "\u001b[1;31mImportError\u001b[0m: No module named scripts.conditions"
     ]
    }
   ],
   "source": [
    "\"\"\"Run control analyses related to the present vs absent decoding: does it\n",
    "covary with/is modulated by target contrast and target visibility?\"\"\"\n",
    "import pickle\n",
    "import numpy as np\n",
    "from jr.gat import get_diagonal_ypred, subscore\n",
    "from jr.stats import repeated_spearman\n",
    "from jr.utils import align_on_diag\n",
    "from jr import tile_memory_free as tile\n",
    "from config import paths, subjects, tois\n",
    "from base import stats"
   ]
  },
  {
   "cell_type": "code",
   "execution_count": null,
   "metadata": {
    "collapsed": true
   },
   "outputs": [],
   "source": [
    "# Load data\n",
    "subject = subjects[0]\n",
    "n_times = 154  # XXX the number of time samples in an epoch should be automatic\n",
    "fname = paths('decod', subject=subject, analysis='target_present')\n",
    "with open(fname, 'rb') as f:\n",
    "    gat, _, events_sel, events = pickle.load(f)\n",
    "events = events.iloc[events_sel].reset_index()\n",
    "times = gat.train_times_['times']\n",
    "# get single trial prediction on diagonal\n",
    "y_pred = np.array(gat.y_pred_)[:, :, :, 0]\n",
    "y_error = np.array([np.diag(y_pred[:, :, ii]) for ii in range(y_pred.shape[2])])\n",
    "# get single trial error\n",
    "y_error -= gat.y_true_[:, np.newaxis]\n",
    "# only consider present trials\n",
    "sel = np.where(events['target_present']==1)[0]\n",
    "y_error = y_error[sel]\n",
    "events = events.iloc[sel]\n",
    "events = events.reset_index()\n",
    "\n",
    "# remove not responded\n",
    "sel = np.intersect1d([np.where(~np.isnan(events['discrim_button']))[0], \n",
    "                      np.where(~np.isnan(events['detect_button']))[0]])\n",
    "y_error = y_error[sel]\n",
    "events = events.iloc[sel]\n",
    "events = events.reset_index()\n",
    "\n",
    "# XXX continue from here"
   ]
  },
  {
   "cell_type": "code",
   "execution_count": null,
   "metadata": {
    "collapsed": true
   },
   "outputs": [],
   "source": [
    "# run multiple regression on decoding predictions\n",
    "from sklearn.linear_model import LinearRegression\n",
    "\n",
    "regressor = np.array(events[['target_contrast', 'detect_button', 'discrim_correct']], dtype=float)\n",
    "\n",
    "clf = LinearRegression()\n",
    "coefs = np.zeros((n_times, regressor.shape[1]))\n",
    "for t in range(n_times):\n",
    "    clf.fit(y_error, regressor)\n",
    "    coefs[t, :] = clf.coefs_ "
   ]
  },
  {
   "cell_type": "code",
   "execution_count": null,
   "metadata": {
    "collapsed": true
   },
   "outputs": [],
   "source": [
    "\n",
    "# Gather data\n",
    "n_times = 154  # XXX the number of time samples in an epoch should be automatic\n",
    "contrast_list = [.5, .75, 1.]\n",
    "pas_list = np.arange(4.)\n",
    "\n",
    "# initialize results\n",
    "results = dict(\n",
    "    R_vis=np.nan * np.zeros((len(subjects), n_times, n_times)),\n",
    "    R_contrast=np.nan * np.zeros((len(subjects), n_times, n_times)),\n",
    "    AUC_pas=np.nan * np.zeros((4, len(subjects), n_times, n_times)),\n",
    "    AUC_pas_duration=np.nan * np.zeros((len(tois), len(pas_list),\n",
    "                                        len(subjects), n_times))\n",
    ")\n",
    "\n",
    "for s, subject in enumerate(subjects):\n",
    "    print s\n",
    "\n",
    "\n",
    "    # contrast effect: is there a correlation between the contrast of the\n",
    "    # target and our ability to decode its presence?\n",
    "    r = list()\n",
    "    for ii, pas in enumerate(pas_list):\n",
    "        key = 'detect_button == %s and target_present == True' % pas\n",
    "        subsel = subevents.query(key).index\n",
    "        if len(subsel) > 0:\n",
    "            # vectorize y_error and subselect trials according to PAS\n",
    "            X = np.reshape(y_error[subsel, :], [len(subsel), -1])\n",
    "            # correlate with contrast\n",
    "            y = np.array(subevents.target_contrast)[subsel]\n",
    "            r.append(repeated_spearman(X, y))\n",
    "    # matricize to get back to GAT\n",
    "    r = np.reshape(r, [len(pas_list), n_times, n_times])\n",
    "    # mean across trials\n",
    "    results['R_contrast'][s, :, :] = np.nanmean(r, axis=0)\n",
    "\n",
    "    # visibility effect: is there a correlation between the visibility of the\n",
    "    # target and our ability to decode its presence\n",
    "    r = list()\n",
    "    for ii, contrast in enumerate(contrast_list):\n",
    "        key = 'target_contrast == %s' % contrast\n",
    "        subsel = subevents.query(key).index\n",
    "        if len(subsel) > 0:\n",
    "            # vectorize y_error and subselect trials according to contrast\n",
    "            X = np.reshape(y_error[subsel, :], [len(subsel), -1])\n",
    "            # correlate with visibility\n",
    "            y = np.array(subevents.detect_button)[subsel]\n",
    "            r.append(repeated_spearman(X, y))\n",
    "    # matricize to get back to GAT\n",
    "    r = np.reshape(r, [len(contrast_list), n_times, n_times])\n",
    "    # mean across trials\n",
    "    results['R_vis'][s, :, :] = np.nanmean(r, axis=0)\n",
    "\n",
    "    # mean decoding seen unseen: Can we decode the presence of seen and unseen\n",
    "    # target?. We'll get the AUC from target present (seen or unseen subset)\n",
    "    # versus absent target (all vis)\n",
    "    for ii, pas in enumerate(pas_list):\n",
    "        key = 'detect_button == %s or target_present == False' % pas\n",
    "        subsel = subevents.query(key).index\n",
    "        if len(subsel) == 0:\n",
    "            continue\n",
    "        score = subscore(gat, subsel)\n",
    "        results['AUC_pas'][ii, s, :, :] = np.array(score)\n",
    "        # duration effect: are early and late estimators differentially able\n",
    "        # to generalizae the decoding of the target's presence over time?\n",
    "        score_align = align_on_diag(score)\n",
    "        for jj, toi in enumerate(tois):\n",
    "            results_pas = list()\n",
    "            toi_ = np.where((times >= toi[0]) & (times <= toi[1]))[0]\n",
    "            results['AUC_pas_duration'][jj, ii, s, :] = np.mean(\n",
    "                score_align[toi_, :], axis=0)\n",
    "\n",
    "results['times'] = times\n",
    "results['p_vis'] = stats(results['R_vis'])\n",
    "results['p_contrast'] = stats(results['R_contrast'])\n",
    "\n",
    "fname = paths('score', analysis='present_anova')\n",
    "with open(fname, 'wb') as f:\n",
    "    pickle.dump(results, f)\n"
   ]
  }
 ],
 "metadata": {
  "kernelspec": {
   "display_name": "Python 2",
   "language": "python",
   "name": "python2"
  },
  "language_info": {
   "codemirror_mode": {
    "name": "ipython",
    "version": 2
   },
   "file_extension": ".py",
   "mimetype": "text/x-python",
   "name": "python",
   "nbconvert_exporter": "python",
   "pygments_lexer": "ipython2",
   "version": "2.7.11"
  }
 },
 "nbformat": 4,
 "nbformat_minor": 0
}
