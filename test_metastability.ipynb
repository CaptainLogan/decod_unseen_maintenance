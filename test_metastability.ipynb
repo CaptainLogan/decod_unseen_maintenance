{
 "cells": [
  {
   "cell_type": "markdown",
   "metadata": {},
   "source": [
    "Reviewers have highlighted the fact that jittering processing stages could lead to generalization across time, especially in later stages.\n",
    "\n",
    "We ackowledge this issue, already mentionned in King & Dehaene (TICS 2014) and provide additional analyses to test its extent in the present dataset."
   ]
  },
  {
   "cell_type": "code",
   "execution_count": 1,
   "metadata": {
    "collapsed": true
   },
   "outputs": [],
   "source": [
    "%matplotlib inline\n",
    "import os\n",
    "os.chdir('/media/DATA/Pro/Projects/Paris/Orientation/Niccolo/Paris_orientation-decoding')"
   ]
  },
  {
   "cell_type": "code",
   "execution_count": 23,
   "metadata": {
    "collapsed": false
   },
   "outputs": [],
   "source": [
    "import numpy as np\n",
    "import matplotlib.pyplot as plt\n",
    "import pickle\n",
    "from mne.decoding import GeneralizationAcrossTime\n",
    "from jr.gat import scorer_auc\n",
    "from base import load_epochs_events, resample_epochs, decim\n",
    "from config import paths, subjects, preproc, analyses\n",
    "# Select target presence analysis: strongest SNR\n",
    "analysis = [ii for ii in analyses if ii['name'] == 'target_present'][0]"
   ]
  },
  {
   "cell_type": "markdown",
   "metadata": {},
   "source": [
    "# Simulations"
   ]
  },
  {
   "cell_type": "code",
   "execution_count": 3,
   "metadata": {
    "collapsed": true
   },
   "outputs": [],
   "source": [
    "n_trial, n_chan, n_time, n_subject, sfreq = 100, 20, 50, 1, 256.\n",
    "\n",
    "def simulate_source(n_source):\n",
    "    \"\"\"Set a random topography for each time point\"\"\"\n",
    "    return np.random.randn(n_chan, n_source)\n",
    "\n",
    "def simulate_dynamics(sources, n_source=50, latency=.010, jitter=0., onset=.020, snr=.5):\n",
    "    \"\"\"Simulate source response with jittering\"\"\"\n",
    "    # sensor data\n",
    "    n_chan, n_source = sources.shape\n",
    "    X = np.zeros((n_trial, n_chan, n_time))\n",
    "\n",
    "    # deal with variable source latencies and snr\n",
    "    latency = [latency] * n_source if isinstance(latency, float) else latency\n",
    "    snr = [snr] * n_source if isinstance(snr, float) else snr\n",
    "\n",
    "    for trial in range(n_trial):\n",
    "        # cumulative jitter across time\n",
    "        jitters = jitter * sfreq * np.arange(n_source) * np.random.randn()\n",
    "\n",
    "        # response start for each source in case of no jitter\n",
    "        starts = np.cumsum(latency) * sfreq\n",
    "        starts = np.array(starts + jitters, dtype=int)\n",
    "\n",
    "        # source activity: 0 until start+jitter, and lasts for latency samples.\n",
    "        activity = np.zeros((n_source, n_time))\n",
    "        for ii, (source, this_start, this_latency, this_snr) in enumerate(zip(\n",
    "                    sources, starts, latency, snr)):\n",
    "            # add onset to avoid start to ensure baseline\n",
    "            this_start += onset * sfreq\n",
    "            \n",
    "            # set source latency\n",
    "            sl = slice(this_start, this_start + this_latency * sfreq + 1)\n",
    "            \n",
    "            # set source strength\n",
    "            activity[ii, sl] = this_snr\n",
    "\n",
    "        # Sensor activity: channel mixture of sources\n",
    "        X[trial, :, :] = np.dot(sources, activity)\n",
    "    return X\n",
    "\n",
    "def simulate_data(n_source=50, latency=50, jitter=0, snr=.5):\n",
    "    \"\"\"Simulation pipeline for a given subject\"\"\"\n",
    "    from mne import EpochsArray, create_info\n",
    "\n",
    "    # Simulate dynamics\n",
    "    sources = simulate_source(n_source)\n",
    "    X = simulate_dynamics(sources, latency=latency, jitter=jitter, snr=snr)\n",
    "    \n",
    "    # simulate differential response in categorical conditions\n",
    "    y = np.random.randint(0, 2, n_trial)\n",
    "    events = np.zeros((n_trial, 3), int)\n",
    "    events[:, 2] = y\n",
    "    X[y==1, :, :] *= -1\n",
    "\n",
    "    # add noise\n",
    "    X += np.random.randn(*X.shape)\n",
    "\n",
    "    # format to mne epochs\n",
    "    info = create_info(ch_names=n_chan, sfreq=sfreq, ch_types='mag')\n",
    "    \n",
    "    return EpochsArray(data=X, events=events, info=info), y"
   ]
  },
  {
   "cell_type": "code",
   "execution_count": 16,
   "metadata": {
    "collapsed": false,
    "scrolled": true
   },
   "outputs": [
    {
     "name": "stderr",
     "output_type": "stream",
     "text": [
      "/home/jrking/anaconda/lib/python2.7/site-packages/ipykernel/__main__.py:36: DeprecationWarning: using a non-integer number instead of an integer will result in an error in the future\n",
      "/home/jrking/anaconda/lib/python2.7/site-packages/ipykernel/__main__.py:62: RuntimeWarning: The events passed to the Epochs constructor are not chronologically ordered.\n"
     ]
    },
    {
     "name": "stdout",
     "output_type": "stream",
     "text": [
      "The events passed to the Epochs constructor are not chronologically ordered.\n",
      "100 matching events found\n",
      "No baseline correction applied\n",
      "0 projection items activated\n",
      "0 bad epochs dropped\n",
      "joblib supports memapping pool but \"MNE_CACHE_DIR\" is not set in MNE-Python config. To enable it, use, e.g., mne.set_cache_dir('/tmp/shm'). This will store temporary files under /dev/shm and can result in large memory savings.\n",
      "joblib supports memapping pool but \"MNE_CACHE_DIR\" is not set in MNE-Python config. To enable it, use, e.g., mne.set_cache_dir('/tmp/shm'). This will store temporary files under /dev/shm and can result in large memory savings.\n"
     ]
    },
    {
     "name": "stderr",
     "output_type": "stream",
     "text": [
      "[Parallel(n_jobs=8)]: Done   8 out of   8 | elapsed:    0.4s finished\n"
     ]
    },
    {
     "name": "stdout",
     "output_type": "stream",
     "text": [
      "joblib supports memapping pool but \"MNE_CACHE_DIR\" is not set in MNE-Python config. To enable it, use, e.g., mne.set_cache_dir('/tmp/shm'). This will store temporary files under /dev/shm and can result in large memory savings.\n"
     ]
    },
    {
     "name": "stderr",
     "output_type": "stream",
     "text": [
      "[Parallel(n_jobs=8)]: Done   8 out of   8 | elapsed:    1.4s finished\n"
     ]
    },
    {
     "name": "stdout",
     "output_type": "stream",
     "text": [
      "The events passed to the Epochs constructor are not chronologically ordered.\n",
      "100 matching events found\n",
      "No baseline correction applied\n",
      "0 projection items activated\n",
      "0 bad epochs dropped\n",
      "joblib supports memapping pool but \"MNE_CACHE_DIR\" is not set in MNE-Python config. To enable it, use, e.g., mne.set_cache_dir('/tmp/shm'). This will store temporary files under /dev/shm and can result in large memory savings.\n"
     ]
    },
    {
     "name": "stderr",
     "output_type": "stream",
     "text": [
      "[Parallel(n_jobs=8)]: Done   8 out of   8 | elapsed:    0.2s finished\n"
     ]
    },
    {
     "name": "stdout",
     "output_type": "stream",
     "text": [
      "joblib supports memapping pool but \"MNE_CACHE_DIR\" is not set in MNE-Python config. To enable it, use, e.g., mne.set_cache_dir('/tmp/shm'). This will store temporary files under /dev/shm and can result in large memory savings.\n"
     ]
    },
    {
     "name": "stderr",
     "output_type": "stream",
     "text": [
      "[Parallel(n_jobs=8)]: Done   8 out of   8 | elapsed:    0.4s finished\n"
     ]
    },
    {
     "name": "stdout",
     "output_type": "stream",
     "text": [
      "joblib supports memapping pool but \"MNE_CACHE_DIR\" is not set in MNE-Python config. To enable it, use, e.g., mne.set_cache_dir('/tmp/shm'). This will store temporary files under /dev/shm and can result in large memory savings.\n"
     ]
    },
    {
     "name": "stderr",
     "output_type": "stream",
     "text": [
      "[Parallel(n_jobs=8)]: Done   8 out of   8 | elapsed:    1.2s finished\n"
     ]
    },
    {
     "name": "stdout",
     "output_type": "stream",
     "text": [
      "The events passed to the Epochs constructor are not chronologically ordered.\n",
      "100 matching events found\n",
      "No baseline correction applied\n",
      "0 projection items activated\n",
      "0 bad epochs dropped\n",
      "joblib supports memapping pool but \"MNE_CACHE_DIR\" is not set in MNE-Python config. To enable it, use, e.g., mne.set_cache_dir('/tmp/shm'). This will store temporary files under /dev/shm and can result in large memory savings.\n"
     ]
    },
    {
     "name": "stderr",
     "output_type": "stream",
     "text": [
      "[Parallel(n_jobs=8)]: Done   8 out of   8 | elapsed:    0.2s finished\n"
     ]
    },
    {
     "name": "stdout",
     "output_type": "stream",
     "text": [
      "joblib supports memapping pool but \"MNE_CACHE_DIR\" is not set in MNE-Python config. To enable it, use, e.g., mne.set_cache_dir('/tmp/shm'). This will store temporary files under /dev/shm and can result in large memory savings.\n"
     ]
    },
    {
     "name": "stderr",
     "output_type": "stream",
     "text": [
      "[Parallel(n_jobs=8)]: Done   8 out of   8 | elapsed:    0.4s finished\n"
     ]
    },
    {
     "name": "stdout",
     "output_type": "stream",
     "text": [
      "joblib supports memapping pool but \"MNE_CACHE_DIR\" is not set in MNE-Python config. To enable it, use, e.g., mne.set_cache_dir('/tmp/shm'). This will store temporary files under /dev/shm and can result in large memory savings.\n"
     ]
    },
    {
     "name": "stderr",
     "output_type": "stream",
     "text": [
      "[Parallel(n_jobs=8)]: Done   8 out of   8 | elapsed:    1.3s finished\n"
     ]
    },
    {
     "name": "stdout",
     "output_type": "stream",
     "text": [
      "The events passed to the Epochs constructor are not chronologically ordered.\n",
      "100 matching events found\n",
      "No baseline correction applied\n",
      "0 projection items activated\n",
      "0 bad epochs dropped\n",
      "joblib supports memapping pool but \"MNE_CACHE_DIR\" is not set in MNE-Python config. To enable it, use, e.g., mne.set_cache_dir('/tmp/shm'). This will store temporary files under /dev/shm and can result in large memory savings.\n"
     ]
    },
    {
     "name": "stderr",
     "output_type": "stream",
     "text": [
      "[Parallel(n_jobs=8)]: Done   8 out of   8 | elapsed:    0.2s finished\n"
     ]
    },
    {
     "name": "stdout",
     "output_type": "stream",
     "text": [
      "joblib supports memapping pool but \"MNE_CACHE_DIR\" is not set in MNE-Python config. To enable it, use, e.g., mne.set_cache_dir('/tmp/shm'). This will store temporary files under /dev/shm and can result in large memory savings.\n"
     ]
    },
    {
     "name": "stderr",
     "output_type": "stream",
     "text": [
      "[Parallel(n_jobs=8)]: Done   8 out of   8 | elapsed:    0.4s finished\n"
     ]
    },
    {
     "name": "stdout",
     "output_type": "stream",
     "text": [
      "joblib supports memapping pool but \"MNE_CACHE_DIR\" is not set in MNE-Python config. To enable it, use, e.g., mne.set_cache_dir('/tmp/shm'). This will store temporary files under /dev/shm and can result in large memory savings.\n"
     ]
    },
    {
     "name": "stderr",
     "output_type": "stream",
     "text": [
      "[Parallel(n_jobs=8)]: Done   8 out of   8 | elapsed:    1.3s finished\n",
      "[Parallel(n_jobs=8)]: Done   8 out of   8 | elapsed:    0.2s finished\n"
     ]
    },
    {
     "data": {
      "image/png": "[encoded data removed]",
      "text/plain": [
       "<matplotlib.figure.Figure at 0x7f5855a76910>"
      ]
     },
     "metadata": {},
     "output_type": "display_data"
    },
    {
     "data": {
      "image/png": "[encoded data removed]",
      "text/plain": [
       "<matplotlib.figure.Figure at 0x7f5855a51390>"
      ]
     },
     "metadata": {},
     "output_type": "display_data"
    },
    {
     "data": {
      "image/png": "[encoded data removed]",
      "text/plain": [
       "<matplotlib.figure.Figure at 0x7f5855a81c10>"
      ]
     },
     "metadata": {},
     "output_type": "display_data"
    },
    {
     "data": {
      "image/png": "[encoded data removed]",
      "text/plain": [
       "<matplotlib.figure.Figure at 0x7f5855770690>"
      ]
     },
     "metadata": {},
     "output_type": "display_data"
    }
   ],
   "source": [
    "# example of simulations\n",
    "scenari = dict(\n",
    "    stable=dict(n_source=1, latency=.500, jitter=0.),\n",
    "    dynamic_no_jitter=dict(n_source=50, latency=.01, jitter=0.),\n",
    "    dynamic_jitter=dict(n_source=50, latency=.01, jitter=.0025),\n",
    "    metastable=dict(n_source=50, jitter=.0,\n",
    "                    latency=np.linspace(.01, .50, 50),\n",
    "                    snr=np.r_[np.linspace(.5, .1, 5), [0] * 45])\n",
    ")\n",
    "\n",
    "for name, params in scenari.iteritems():\n",
    "    epochs, y = simulate_data(**params)\n",
    "    gat = GeneralizationAcrossTime(n_jobs=-1)\n",
    "    gat.fit(epochs, y)\n",
    "    gat.score(epochs, y)\n",
    "    fig = gat.plot(show=False, title=name)\n"
   ]
  },
  {
   "cell_type": "markdown",
   "metadata": {},
   "source": [
    "# FFT of GAT"
   ]
  },
  {
   "cell_type": "code",
   "execution_count": 30,
   "metadata": {
    "collapsed": false,
    "scrolled": true
   },
   "outputs": [
    {
     "name": "stderr",
     "output_type": "stream",
     "text": [
      "/home/jrking/anaconda/lib/python2.7/site-packages/ipykernel/__main__.py:36: DeprecationWarning: using a non-integer number instead of an integer will result in an error in the future\n",
      "/home/jrking/anaconda/lib/python2.7/site-packages/ipykernel/__main__.py:62: RuntimeWarning: The events passed to the Epochs constructor are not chronologically ordered.\n"
     ]
    },
    {
     "name": "stdout",
     "output_type": "stream",
     "text": [
      "The events passed to the Epochs constructor are not chronologically ordered.\n",
      "100 matching events found\n",
      "No baseline correction applied\n",
      "0 projection items activated\n",
      "0 bad epochs dropped\n",
      "joblib supports memapping pool but \"MNE_CACHE_DIR\" is not set in MNE-Python config. To enable it, use, e.g., mne.set_cache_dir('/tmp/shm'). This will store temporary files under /dev/shm and can result in large memory savings.\n",
      "joblib supports memapping pool but \"MNE_CACHE_DIR\" is not set in MNE-Python config. To enable it, use, e.g., mne.set_cache_dir('/tmp/shm'). This will store temporary files under /dev/shm and can result in large memory savings.\n"
     ]
    },
    {
     "name": "stderr",
     "output_type": "stream",
     "text": [
      "[Parallel(n_jobs=8)]: Done   8 out of   8 | elapsed:    0.4s finished\n"
     ]
    },
    {
     "name": "stdout",
     "output_type": "stream",
     "text": [
      "joblib supports memapping pool but \"MNE_CACHE_DIR\" is not set in MNE-Python config. To enable it, use, e.g., mne.set_cache_dir('/tmp/shm'). This will store temporary files under /dev/shm and can result in large memory savings.\n"
     ]
    },
    {
     "name": "stderr",
     "output_type": "stream",
     "text": [
      "[Parallel(n_jobs=8)]: Done   8 out of   8 | elapsed:    1.3s finished\n"
     ]
    },
    {
     "name": "stdout",
     "output_type": "stream",
     "text": [
      "100 matching events found\n",
      "No baseline correction applied\n",
      "0 projection items activated\n",
      "0 bad epochs dropped\n",
      "Effective window size : 0.195 (s)\n",
      "joblib supports memapping pool but \"MNE_CACHE_DIR\" is not set in MNE-Python config. To enable it, use, e.g., mne.set_cache_dir('/tmp/shm'). This will store temporary files under /dev/shm and can result in large memory savings.\n"
     ]
    },
    {
     "name": "stderr",
     "output_type": "stream",
     "text": [
      "[Parallel(n_jobs=8)]: Done   8 out of   8 | elapsed:    0.6s finished\n"
     ]
    },
    {
     "name": "stdout",
     "output_type": "stream",
     "text": [
      "joblib supports memapping pool but \"MNE_CACHE_DIR\" is not set in MNE-Python config. To enable it, use, e.g., mne.set_cache_dir('/tmp/shm'). This will store temporary files under /dev/shm and can result in large memory savings.\n"
     ]
    },
    {
     "name": "stderr",
     "output_type": "stream",
     "text": [
      "[Parallel(n_jobs=8)]: Done   8 out of   8 | elapsed:    0.0s finished\n",
      "[Parallel(n_jobs=8)]: Done   8 out of   8 | elapsed:    0.3s finished\n"
     ]
    }
   ],
   "source": [
    "def gat_fft(gat):\n",
    "    from mne.time_frequency import psd_welch\n",
    "    from mne import EpochsArray, create_info\n",
    "    # Transform GAT into epochs\n",
    "    y_pred = np.transpose(gat.y_pred_[..., 0], [2, 0, 1])  # trial, Train, test\n",
    "    info = create_info(y_pred.shape[1], sfreq, 'mag')\n",
    "    epochs = EpochsArray(y_pred, info=info)\n",
    "    # frequency\n",
    "    psds, freqs = psd_welch(epochs, n_jobs=-1)\n",
    "    # put back in gat\n",
    "    gat.y_pred_ = np.transpose(psds, [1, 2, 0])[..., np.newaxis]  # Train, test, trial\n",
    "    gat.test_times_['times'] = [freqs] * len(gat.y_pred_)\n",
    "    return gat\n",
    "\n",
    "epochs, y = simulate_data(**scenari['dynamic_no_jitter'])\n",
    "gat = GeneralizationAcrossTime(predict_method='predict_proba',\n",
    "                                scorer=scorer_auc, n_jobs=-1)\n",
    "gat.fit(epochs, y)\n",
    "gat.predict(epochs)\n",
    "gat.score(y=y)\n",
    "gat = gat_fft(gat)\n",
    "score = gat.score(y=y)"
   ]
  },
  {
   "cell_type": "code",
   "execution_count": 31,
   "metadata": {
    "collapsed": false
   },
   "outputs": [
    {
     "data": {
      "text/plain": [
       "<matplotlib.image.AxesImage at 0x7f58557702d0>"
      ]
     },
     "execution_count": 31,
     "metadata": {},
     "output_type": "execute_result"
    },
    {
     "data": {
      "image/png": "[encoded data removed]",
      "text/plain": [
       "<matplotlib.figure.Figure at 0x7f5855886350>"
      ]
     },
     "metadata": {},
     "output_type": "display_data"
    },
    {
     "data": {
      "image/png": "[encoded data removed]",
      "text/plain": [
       "<matplotlib.figure.Figure at 0x7f5855886d10>"
      ]
     },
     "metadata": {},
     "output_type": "display_data"
    }
   ],
   "source": [
    "gat.plot(show=False)\n",
    "plt.gca().set_aspect('auto')\n",
    "plt.matshow(np.mean(gat.y_pred_, axis=2).squeeze())"
   ]
  },
  {
   "cell_type": "code",
   "execution_count": 30,
   "metadata": {
    "collapsed": false,
    "scrolled": true
   },
   "outputs": [
    {
     "name": "stderr",
     "output_type": "stream",
     "text": [
      "/home/jrking/anaconda/lib/python2.7/site-packages/ipykernel/__main__.py:36: DeprecationWarning: using a non-integer number instead of an integer will result in an error in the future\n",
      "/home/jrking/anaconda/lib/python2.7/site-packages/ipykernel/__main__.py:62: RuntimeWarning: The events passed to the Epochs constructor are not chronologically ordered.\n"
     ]
    },
    {
     "name": "stdout",
     "output_type": "stream",
     "text": [
      "0\n",
      "The events passed to the Epochs constructor are not chronologically ordered.\n",
      "100 matching events found\n",
      "No baseline correction applied\n",
      "0 projection items activated\n",
      "0 bad epochs dropped\n"
     ]
    },
    {
     "name": "stderr",
     "output_type": "stream",
     "text": [
      "[Parallel(n_jobs=8)]: Done   1 out of   8 | elapsed:    0.3s remaining:    1.8s\n",
      "[Parallel(n_jobs=8)]: Done   4 out of   8 | elapsed:    0.3s remaining:    0.3s\n",
      "[Parallel(n_jobs=8)]: Done   2 out of   8 | elapsed:    0.3s remaining:    1.0s\n",
      "[Parallel(n_jobs=8)]: Done   6 out of   8 | elapsed:    0.4s remaining:    0.1s\n",
      "[Parallel(n_jobs=8)]: Done   8 out of   8 | elapsed:    0.4s finished\n",
      "[Parallel(n_jobs=8)]: Done   1 out of   2 | elapsed:    0.3s remaining:    0.3s\n",
      "[Parallel(n_jobs=8)]: Done   2 out of   3 | elapsed:    0.5s remaining:    0.2s\n",
      "[Parallel(n_jobs=8)]: Done   3 out of   4 | elapsed:    0.7s remaining:    0.2s\n",
      "[Parallel(n_jobs=8)]: Done   6 out of   8 | elapsed:    1.1s remaining:    0.4s\n",
      "[Parallel(n_jobs=8)]: Done   8 out of   8 | elapsed:    1.4s finished\n",
      "[Parallel(n_jobs=8)]: Done   6 out of   8 | elapsed:    0.4s remaining:    0.1s\n",
      "[Parallel(n_jobs=8)]: Done   4 out of   8 | elapsed:    0.4s remaining:    0.4s\n",
      "[Parallel(n_jobs=8)]: Done   1 out of   8 | elapsed:    0.4s remaining:    3.0s\n",
      "[Parallel(n_jobs=8)]: Done   2 out of   8 | elapsed:    0.5s remaining:    1.5s\n",
      "[Parallel(n_jobs=8)]: Done   8 out of   8 | elapsed:    0.5s finished\n"
     ]
    },
    {
     "name": "stdout",
     "output_type": "stream",
     "text": [
      "1\n",
      "The events passed to the Epochs constructor are not chronologically ordered.\n",
      "100 matching events found\n",
      "No baseline correction applied\n",
      "0 projection items activated\n",
      "0 bad epochs dropped\n"
     ]
    },
    {
     "name": "stderr",
     "output_type": "stream",
     "text": [
      "[Parallel(n_jobs=8)]: Done   4 out of   8 | elapsed:    0.2s remaining:    0.2s\n",
      "[Parallel(n_jobs=8)]: Done   1 out of   8 | elapsed:    0.3s remaining:    2.0s\n",
      "[Parallel(n_jobs=8)]: Done   2 out of   8 | elapsed:    0.3s remaining:    0.9s\n",
      "[Parallel(n_jobs=8)]: Done   6 out of   8 | elapsed:    0.4s remaining:    0.1s\n",
      "[Parallel(n_jobs=8)]: Done   8 out of   8 | elapsed:    0.4s finished\n",
      "[Parallel(n_jobs=8)]: Done   1 out of   3 | elapsed:    0.3s remaining:    0.7s\n",
      "[Parallel(n_jobs=8)]: Done   2 out of   4 | elapsed:    0.6s remaining:    0.6s\n",
      "[Parallel(n_jobs=8)]: Done   3 out of   5 | elapsed:    0.8s remaining:    0.5s\n",
      "[Parallel(n_jobs=8)]: Done   6 out of   8 | elapsed:    1.2s remaining:    0.4s\n",
      "[Parallel(n_jobs=8)]: Done   8 out of   8 | elapsed:    1.5s finished\n",
      "[Parallel(n_jobs=8)]: Done   4 out of   8 | elapsed:    0.4s remaining:    0.4s\n",
      "[Parallel(n_jobs=8)]: Done   6 out of   8 | elapsed:    0.4s remaining:    0.1s\n",
      "[Parallel(n_jobs=8)]: Done   2 out of   8 | elapsed:    0.4s remaining:    1.3s\n",
      "[Parallel(n_jobs=8)]: Done   1 out of   8 | elapsed:    0.5s remaining:    3.3s\n",
      "[Parallel(n_jobs=8)]: Done   8 out of   8 | elapsed:    0.5s finished\n"
     ]
    },
    {
     "name": "stdout",
     "output_type": "stream",
     "text": [
      "2\n",
      "The events passed to the Epochs constructor are not chronologically ordered.\n",
      "100 matching events found\n",
      "No baseline correction applied\n",
      "0 projection items activated\n",
      "0 bad epochs dropped\n"
     ]
    },
    {
     "name": "stderr",
     "output_type": "stream",
     "text": [
      "[Parallel(n_jobs=8)]: Done   2 out of   8 | elapsed:    0.2s remaining:    0.7s\n",
      "[Parallel(n_jobs=8)]: Done   1 out of   8 | elapsed:    0.3s remaining:    1.8s\n",
      "[Parallel(n_jobs=8)]: Done   4 out of   8 | elapsed:    0.3s remaining:    0.3s\n",
      "[Parallel(n_jobs=8)]: Done   6 out of   8 | elapsed:    0.4s remaining:    0.1s\n",
      "[Parallel(n_jobs=8)]: Done   8 out of   8 | elapsed:    0.4s finished\n",
      "[Parallel(n_jobs=8)]: Done   1 out of   3 | elapsed:    0.3s remaining:    0.6s\n",
      "[Parallel(n_jobs=8)]: Done   2 out of   4 | elapsed:    0.4s remaining:    0.4s\n",
      "[Parallel(n_jobs=8)]: Done   3 out of   5 | elapsed:    0.6s remaining:    0.4s\n",
      "[Parallel(n_jobs=8)]: Done   4 out of   6 | elapsed:    0.8s remaining:    0.4s\n",
      "[Parallel(n_jobs=8)]: Done   6 out of   8 | elapsed:    1.2s remaining:    0.4s\n",
      "[Parallel(n_jobs=8)]: Done   8 out of   8 | elapsed:    1.5s finished\n",
      "[Parallel(n_jobs=8)]: Done   4 out of   8 | elapsed:    0.4s remaining:    0.4s\n",
      "[Parallel(n_jobs=8)]: Done   1 out of   8 | elapsed:    0.4s remaining:    2.8s\n",
      "[Parallel(n_jobs=8)]: Done   6 out of   8 | elapsed:    0.4s remaining:    0.1s\n",
      "[Parallel(n_jobs=8)]: Done   2 out of   8 | elapsed:    0.5s remaining:    1.4s\n",
      "[Parallel(n_jobs=8)]: Done   8 out of   8 | elapsed:    0.5s finished\n"
     ]
    },
    {
     "name": "stdout",
     "output_type": "stream",
     "text": [
      "3\n",
      "The events passed to the Epochs constructor are not chronologically ordered.\n",
      "100 matching events found\n",
      "No baseline correction applied\n",
      "0 projection items activated\n",
      "0 bad epochs dropped\n"
     ]
    },
    {
     "name": "stderr",
     "output_type": "stream",
     "text": [
      "[Parallel(n_jobs=8)]: Done   4 out of   8 | elapsed:    0.2s remaining:    0.2s\n",
      "[Parallel(n_jobs=8)]: Done   1 out of   8 | elapsed:    0.3s remaining:    1.8s\n",
      "[Parallel(n_jobs=8)]: Done   6 out of   8 | elapsed:    0.3s remaining:    0.1s\n",
      "[Parallel(n_jobs=8)]: Done   2 out of   8 | elapsed:    0.3s remaining:    1.0s\n",
      "[Parallel(n_jobs=8)]: Done   8 out of   8 | elapsed:    0.4s finished\n",
      "[Parallel(n_jobs=8)]: Done   1 out of   3 | elapsed:    0.3s remaining:    0.7s\n",
      "[Parallel(n_jobs=8)]: Done   2 out of   4 | elapsed:    0.5s remaining:    0.5s\n",
      "[Parallel(n_jobs=8)]: Done   4 out of   8 | elapsed:    0.9s remaining:    0.9s\n",
      "[Parallel(n_jobs=8)]: Done   6 out of   8 | elapsed:    1.1s remaining:    0.4s\n",
      "[Parallel(n_jobs=8)]: Done   8 out of   8 | elapsed:    1.4s finished\n",
      "[Parallel(n_jobs=8)]: Done   4 out of   8 | elapsed:    0.4s remaining:    0.4s\n",
      "[Parallel(n_jobs=8)]: Done   6 out of   8 | elapsed:    0.5s remaining:    0.2s\n",
      "[Parallel(n_jobs=8)]: Done   1 out of   8 | elapsed:    0.5s remaining:    3.3s\n",
      "[Parallel(n_jobs=8)]: Done   2 out of   8 | elapsed:    0.5s remaining:    1.4s\n",
      "[Parallel(n_jobs=8)]: Done   8 out of   8 | elapsed:    0.5s finished\n"
     ]
    },
    {
     "name": "stdout",
     "output_type": "stream",
     "text": [
      "4\n",
      "The events passed to the Epochs constructor are not chronologically ordered.\n",
      "100 matching events found\n",
      "No baseline correction applied\n",
      "0 projection items activated\n",
      "0 bad epochs dropped\n"
     ]
    },
    {
     "name": "stderr",
     "output_type": "stream",
     "text": [
      "[Parallel(n_jobs=8)]: Done   1 out of   8 | elapsed:    0.2s remaining:    1.6s\n",
      "[Parallel(n_jobs=8)]: Done   4 out of   8 | elapsed:    0.3s remaining:    0.3s\n",
      "[Parallel(n_jobs=8)]: Done   6 out of   8 | elapsed:    0.3s remaining:    0.1s\n",
      "[Parallel(n_jobs=8)]: Done   2 out of   8 | elapsed:    0.3s remaining:    1.0s\n",
      "[Parallel(n_jobs=8)]: Done   8 out of   8 | elapsed:    0.4s finished\n",
      "[Parallel(n_jobs=8)]: Done   1 out of   2 | elapsed:    0.3s remaining:    0.3s\n",
      "[Parallel(n_jobs=8)]: Done   2 out of   3 | elapsed:    0.5s remaining:    0.2s\n",
      "[Parallel(n_jobs=8)]: Done   3 out of   4 | elapsed:    0.6s remaining:    0.2s\n",
      "[Parallel(n_jobs=8)]: Done   4 out of   6 | elapsed:    0.8s remaining:    0.4s\n",
      "[Parallel(n_jobs=8)]: Done   5 out of   7 | elapsed:    1.0s remaining:    0.4s\n",
      "[Parallel(n_jobs=8)]: Done   6 out of   8 | elapsed:    1.1s remaining:    0.4s\n",
      "[Parallel(n_jobs=8)]: Done   8 out of   8 | elapsed:    1.4s finished\n",
      "[Parallel(n_jobs=8)]: Done   1 out of   8 | elapsed:    0.4s remaining:    3.0s\n",
      "[Parallel(n_jobs=8)]: Done   6 out of   8 | elapsed:    0.4s remaining:    0.1s\n",
      "[Parallel(n_jobs=8)]: Done   4 out of   8 | elapsed:    0.5s remaining:    0.5s\n",
      "[Parallel(n_jobs=8)]: Done   2 out of   8 | elapsed:    0.5s remaining:    1.5s\n",
      "[Parallel(n_jobs=8)]: Done   8 out of   8 | elapsed:    0.5s finished\n"
     ]
    },
    {
     "name": "stdout",
     "output_type": "stream",
     "text": [
      "5\n",
      "The events passed to the Epochs constructor are not chronologically ordered.\n",
      "100 matching events found\n",
      "No baseline correction applied\n",
      "0 projection items activated\n",
      "0 bad epochs dropped\n"
     ]
    },
    {
     "name": "stderr",
     "output_type": "stream",
     "text": [
      "[Parallel(n_jobs=8)]: Done   1 out of   8 | elapsed:    0.3s remaining:    1.8s\n",
      "[Parallel(n_jobs=8)]: Done   2 out of   8 | elapsed:    0.3s remaining:    0.9s\n",
      "[Parallel(n_jobs=8)]: Done   6 out of   8 | elapsed:    0.4s remaining:    0.1s\n",
      "[Parallel(n_jobs=8)]: Done   4 out of   8 | elapsed:    0.4s remaining:    0.4s\n",
      "[Parallel(n_jobs=8)]: Done   8 out of   8 | elapsed:    0.4s finished\n",
      "[Parallel(n_jobs=8)]: Done   1 out of   5 | elapsed:    0.4s remaining:    1.6s\n",
      "[Parallel(n_jobs=8)]: Done   3 out of   7 | elapsed:    0.7s remaining:    0.9s\n",
      "[Parallel(n_jobs=8)]: Done   4 out of   8 | elapsed:    0.9s remaining:    0.9s\n",
      "[Parallel(n_jobs=8)]: Done   6 out of   8 | elapsed:    1.2s remaining:    0.4s\n",
      "[Parallel(n_jobs=8)]: Done   8 out of   8 | elapsed:    1.5s finished\n",
      "[Parallel(n_jobs=8)]: Done   1 out of   8 | elapsed:    0.4s remaining:    3.0s\n",
      "[Parallel(n_jobs=8)]: Done   6 out of   8 | elapsed:    0.4s remaining:    0.1s\n",
      "[Parallel(n_jobs=8)]: Done   4 out of   8 | elapsed:    0.5s remaining:    0.5s\n",
      "[Parallel(n_jobs=8)]: Done   2 out of   8 | elapsed:    0.5s remaining:    1.5s\n",
      "[Parallel(n_jobs=8)]: Done   8 out of   8 | elapsed:    0.5s finished\n"
     ]
    },
    {
     "name": "stdout",
     "output_type": "stream",
     "text": [
      "6\n",
      "The events passed to the Epochs constructor are not chronologically ordered.\n",
      "100 matching events found\n",
      "No baseline correction applied\n",
      "0 projection items activated\n",
      "0 bad epochs dropped\n"
     ]
    },
    {
     "name": "stderr",
     "output_type": "stream",
     "text": [
      "[Parallel(n_jobs=8)]: Done   1 out of   8 | elapsed:    0.2s remaining:    1.6s\n",
      "[Parallel(n_jobs=8)]: Done   2 out of   8 | elapsed:    0.3s remaining:    0.8s\n",
      "[Parallel(n_jobs=8)]: Done   4 out of   8 | elapsed:    0.3s remaining:    0.3s\n",
      "[Parallel(n_jobs=8)]: Done   6 out of   8 | elapsed:    0.3s remaining:    0.1s\n",
      "[Parallel(n_jobs=8)]: Done   8 out of   8 | elapsed:    0.4s finished\n",
      "[Parallel(n_jobs=8)]: Done   1 out of   5 | elapsed:    0.3s remaining:    1.3s\n",
      "[Parallel(n_jobs=8)]: Done   4 out of   8 | elapsed:    0.8s remaining:    0.8s\n",
      "[Parallel(n_jobs=8)]: Done   6 out of   8 | elapsed:    1.1s remaining:    0.4s\n",
      "[Parallel(n_jobs=8)]: Done   8 out of   8 | elapsed:    1.4s finished\n",
      "[Parallel(n_jobs=8)]: Done   6 out of   8 | elapsed:    0.4s remaining:    0.1s\n",
      "[Parallel(n_jobs=8)]: Done   2 out of   8 | elapsed:    0.4s remaining:    1.3s\n",
      "[Parallel(n_jobs=8)]: Done   1 out of   8 | elapsed:    0.5s remaining:    3.2s\n",
      "[Parallel(n_jobs=8)]: Done   4 out of   8 | elapsed:    0.5s remaining:    0.5s\n",
      "[Parallel(n_jobs=8)]: Done   8 out of   8 | elapsed:    0.5s finished\n"
     ]
    },
    {
     "name": "stdout",
     "output_type": "stream",
     "text": [
      "7\n",
      "The events passed to the Epochs constructor are not chronologically ordered.\n",
      "100 matching events found\n",
      "No baseline correction applied\n",
      "0 projection items activated\n",
      "0 bad epochs dropped\n"
     ]
    },
    {
     "name": "stderr",
     "output_type": "stream",
     "text": [
      "[Parallel(n_jobs=8)]: Done   1 out of   8 | elapsed:    0.2s remaining:    1.7s\n",
      "[Parallel(n_jobs=8)]: Done   2 out of   8 | elapsed:    0.3s remaining:    0.8s\n",
      "[Parallel(n_jobs=8)]: Done   6 out of   8 | elapsed:    0.3s remaining:    0.1s\n",
      "[Parallel(n_jobs=8)]: Done   4 out of   8 | elapsed:    0.4s remaining:    0.4s\n",
      "[Parallel(n_jobs=8)]: Done   8 out of   8 | elapsed:    0.4s finished\n",
      "[Parallel(n_jobs=8)]: Done   1 out of   8 | elapsed:    0.3s remaining:    2.3s\n",
      "[Parallel(n_jobs=8)]: Done   2 out of   8 | elapsed:    0.5s remaining:    1.4s\n",
      "[Parallel(n_jobs=8)]: Done   4 out of   8 | elapsed:    0.9s remaining:    0.9s\n",
      "[Parallel(n_jobs=8)]: Done   6 out of   8 | elapsed:    1.1s remaining:    0.4s\n",
      "[Parallel(n_jobs=8)]: Done   8 out of   8 | elapsed:    1.4s finished\n",
      "[Parallel(n_jobs=8)]: Done   1 out of   8 | elapsed:    0.4s remaining:    3.0s\n",
      "[Parallel(n_jobs=8)]: Done   4 out of   8 | elapsed:    0.4s remaining:    0.4s\n",
      "[Parallel(n_jobs=8)]: Done   6 out of   8 | elapsed:    0.5s remaining:    0.2s\n",
      "[Parallel(n_jobs=8)]: Done   2 out of   8 | elapsed:    0.5s remaining:    1.5s\n",
      "[Parallel(n_jobs=8)]: Done   8 out of   8 | elapsed:    0.5s finished\n"
     ]
    },
    {
     "name": "stdout",
     "output_type": "stream",
     "text": [
      "8\n",
      "The events passed to the Epochs constructor are not chronologically ordered.\n",
      "100 matching events found\n",
      "No baseline correction applied\n",
      "0 projection items activated\n",
      "0 bad epochs dropped\n"
     ]
    },
    {
     "name": "stderr",
     "output_type": "stream",
     "text": [
      "[Parallel(n_jobs=8)]: Done   1 out of   8 | elapsed:    0.2s remaining:    1.5s\n",
      "[Parallel(n_jobs=8)]: Done   2 out of   8 | elapsed:    0.3s remaining:    0.8s\n",
      "[Parallel(n_jobs=8)]: Done   6 out of   8 | elapsed:    0.3s remaining:    0.1s\n",
      "[Parallel(n_jobs=8)]: Done   4 out of   8 | elapsed:    0.4s remaining:    0.4s\n",
      "[Parallel(n_jobs=8)]: Done   8 out of   8 | elapsed:    0.4s finished\n",
      "[Parallel(n_jobs=8)]: Done   1 out of   3 | elapsed:    0.3s remaining:    0.6s\n",
      "[Parallel(n_jobs=8)]: Done   4 out of   8 | elapsed:    0.7s remaining:    0.7s\n",
      "[Parallel(n_jobs=8)]: Done   6 out of   8 | elapsed:    1.0s remaining:    0.3s\n",
      "[Parallel(n_jobs=8)]: Done   8 out of   8 | elapsed:    1.3s finished\n",
      "[Parallel(n_jobs=8)]: Done   6 out of   8 | elapsed:    0.4s remaining:    0.1s\n",
      "[Parallel(n_jobs=8)]: Done   1 out of   8 | elapsed:    0.4s remaining:    3.1s\n",
      "[Parallel(n_jobs=8)]: Done   2 out of   8 | elapsed:    0.5s remaining:    1.4s\n",
      "[Parallel(n_jobs=8)]: Done   4 out of   8 | elapsed:    0.5s remaining:    0.5s\n",
      "[Parallel(n_jobs=8)]: Done   8 out of   8 | elapsed:    0.5s finished\n"
     ]
    },
    {
     "name": "stdout",
     "output_type": "stream",
     "text": [
      "9\n",
      "The events passed to the Epochs constructor are not chronologically ordered.\n",
      "100 matching events found\n",
      "No baseline correction applied\n",
      "0 projection items activated\n",
      "0 bad epochs dropped\n"
     ]
    },
    {
     "name": "stderr",
     "output_type": "stream",
     "text": [
      "[Parallel(n_jobs=8)]: Done   1 out of   8 | elapsed:    0.2s remaining:    1.6s\n",
      "[Parallel(n_jobs=8)]: Done   2 out of   8 | elapsed:    0.3s remaining:    0.8s\n",
      "[Parallel(n_jobs=8)]: Done   4 out of   8 | elapsed:    0.3s remaining:    0.3s\n",
      "[Parallel(n_jobs=8)]: Done   6 out of   8 | elapsed:    0.3s remaining:    0.1s\n",
      "[Parallel(n_jobs=8)]: Done   8 out of   8 | elapsed:    0.4s finished\n",
      "[Parallel(n_jobs=8)]: Done   1 out of   4 | elapsed:    0.3s remaining:    1.0s\n",
      "[Parallel(n_jobs=8)]: Done   2 out of   6 | elapsed:    0.4s remaining:    0.9s\n",
      "[Parallel(n_jobs=8)]: Done   4 out of   8 | elapsed:    0.8s remaining:    0.8s\n",
      "[Parallel(n_jobs=8)]: Done   6 out of   8 | elapsed:    1.1s remaining:    0.4s\n",
      "[Parallel(n_jobs=8)]: Done   8 out of   8 | elapsed:    1.3s finished\n",
      "[Parallel(n_jobs=8)]: Done   4 out of   8 | elapsed:    0.4s remaining:    0.4s\n",
      "[Parallel(n_jobs=8)]: Done   2 out of   8 | elapsed:    0.4s remaining:    1.3s\n",
      "[Parallel(n_jobs=8)]: Done   6 out of   8 | elapsed:    0.4s remaining:    0.1s\n",
      "[Parallel(n_jobs=8)]: Done   1 out of   8 | elapsed:    0.5s remaining:    3.4s\n",
      "[Parallel(n_jobs=8)]: Done   8 out of   8 | elapsed:    0.5s finished\n"
     ]
    },
    {
     "name": "stdout",
     "output_type": "stream",
     "text": [
      "10\n",
      "The events passed to the Epochs constructor are not chronologically ordered.\n",
      "100 matching events found\n",
      "No baseline correction applied\n",
      "0 projection items activated\n",
      "0 bad epochs dropped\n"
     ]
    },
    {
     "name": "stderr",
     "output_type": "stream",
     "text": [
      "[Parallel(n_jobs=8)]: Done   4 out of   8 | elapsed:    0.3s remaining:    0.3s\n",
      "[Parallel(n_jobs=8)]: Done   2 out of   8 | elapsed:    0.3s remaining:    0.9s\n",
      "[Parallel(n_jobs=8)]: Done   6 out of   8 | elapsed:    0.3s remaining:    0.1s\n",
      "[Parallel(n_jobs=8)]: Done   1 out of   8 | elapsed:    0.4s remaining:    2.6s\n",
      "[Parallel(n_jobs=8)]: Done   8 out of   8 | elapsed:    0.4s finished\n",
      "[Parallel(n_jobs=8)]: Done   1 out of   2 | elapsed:    0.3s remaining:    0.3s\n",
      "[Parallel(n_jobs=8)]: Done   3 out of   5 | elapsed:    0.6s remaining:    0.4s\n",
      "[Parallel(n_jobs=8)]: Done   6 out of   8 | elapsed:    1.1s remaining:    0.4s\n",
      "[Parallel(n_jobs=8)]: Done   8 out of   8 | elapsed:    1.4s finished\n",
      "[Parallel(n_jobs=8)]: Done   4 out of   8 | elapsed:    0.4s remaining:    0.4s\n",
      "[Parallel(n_jobs=8)]: Done   6 out of   8 | elapsed:    0.4s remaining:    0.1s\n",
      "[Parallel(n_jobs=8)]: Done   1 out of   8 | elapsed:    0.4s remaining:    3.1s\n",
      "[Parallel(n_jobs=8)]: Done   2 out of   8 | elapsed:    0.5s remaining:    1.4s\n",
      "[Parallel(n_jobs=8)]: Done   8 out of   8 | elapsed:    0.5s finished\n"
     ]
    },
    {
     "name": "stdout",
     "output_type": "stream",
     "text": [
      "11\n",
      "The events passed to the Epochs constructor are not chronologically ordered.\n",
      "100 matching events found\n",
      "No baseline correction applied\n",
      "0 projection items activated\n",
      "0 bad epochs dropped\n"
     ]
    },
    {
     "name": "stderr",
     "output_type": "stream",
     "text": [
      "[Parallel(n_jobs=8)]: Done   1 out of   8 | elapsed:    0.3s remaining:    1.9s\n",
      "[Parallel(n_jobs=8)]: Done   4 out of   8 | elapsed:    0.3s remaining:    0.3s\n",
      "[Parallel(n_jobs=8)]: Done   2 out of   8 | elapsed:    0.3s remaining:    0.9s\n",
      "[Parallel(n_jobs=8)]: Done   6 out of   8 | elapsed:    0.3s remaining:    0.1s\n",
      "[Parallel(n_jobs=8)]: Done   8 out of   8 | elapsed:    0.4s finished\n",
      "[Parallel(n_jobs=8)]: Done   1 out of   3 | elapsed:    0.3s remaining:    0.6s\n",
      "[Parallel(n_jobs=8)]: Done   2 out of   4 | elapsed:    0.5s remaining:    0.5s\n",
      "[Parallel(n_jobs=8)]: Done   6 out of   8 | elapsed:    1.0s remaining:    0.3s\n",
      "[Parallel(n_jobs=8)]: Done   8 out of   8 | elapsed:    1.4s finished\n",
      "[Parallel(n_jobs=8)]: Done   1 out of   8 | elapsed:    0.4s remaining:    3.0s\n",
      "[Parallel(n_jobs=8)]: Done   4 out of   8 | elapsed:    0.4s remaining:    0.4s\n",
      "[Parallel(n_jobs=8)]: Done   6 out of   8 | elapsed:    0.5s remaining:    0.2s\n",
      "[Parallel(n_jobs=8)]: Done   2 out of   8 | elapsed:    0.5s remaining:    1.4s\n",
      "[Parallel(n_jobs=8)]: Done   8 out of   8 | elapsed:    0.5s finished\n"
     ]
    },
    {
     "name": "stdout",
     "output_type": "stream",
     "text": [
      "12\n",
      "The events passed to the Epochs constructor are not chronologically ordered.\n",
      "100 matching events found\n",
      "No baseline correction applied\n",
      "0 projection items activated\n",
      "0 bad epochs dropped\n"
     ]
    },
    {
     "name": "stderr",
     "output_type": "stream",
     "text": [
      "[Parallel(n_jobs=8)]: Done   4 out of   8 | elapsed:    0.2s remaining:    0.2s\n",
      "[Parallel(n_jobs=8)]: Done   2 out of   8 | elapsed:    0.3s remaining:    0.9s\n",
      "[Parallel(n_jobs=8)]: Done   1 out of   8 | elapsed:    0.3s remaining:    2.2s\n",
      "[Parallel(n_jobs=8)]: Done   6 out of   8 | elapsed:    0.4s remaining:    0.1s\n",
      "[Parallel(n_jobs=8)]: Done   8 out of   8 | elapsed:    0.4s finished\n",
      "[Parallel(n_jobs=8)]: Done   1 out of   4 | elapsed:    0.3s remaining:    1.0s\n",
      "[Parallel(n_jobs=8)]: Done   2 out of   8 | elapsed:    0.5s remaining:    1.5s\n",
      "[Parallel(n_jobs=8)]: Done   4 out of   8 | elapsed:    0.8s remaining:    0.8s\n",
      "[Parallel(n_jobs=8)]: Done   6 out of   8 | elapsed:    1.2s remaining:    0.4s\n",
      "[Parallel(n_jobs=8)]: Done   8 out of   8 | elapsed:    1.5s finished\n",
      "[Parallel(n_jobs=8)]: Done   4 out of   8 | elapsed:    0.4s remaining:    0.4s\n",
      "[Parallel(n_jobs=8)]: Done   6 out of   8 | elapsed:    0.4s remaining:    0.1s\n",
      "[Parallel(n_jobs=8)]: Done   1 out of   8 | elapsed:    0.4s remaining:    3.1s\n",
      "[Parallel(n_jobs=8)]: Done   2 out of   8 | elapsed:    0.5s remaining:    1.4s\n",
      "[Parallel(n_jobs=8)]: Done   8 out of   8 | elapsed:    0.5s finished\n"
     ]
    },
    {
     "name": "stdout",
     "output_type": "stream",
     "text": [
      "13\n",
      "The events passed to the Epochs constructor are not chronologically ordered.\n",
      "100 matching events found\n",
      "No baseline correction applied\n",
      "0 projection items activated\n",
      "0 bad epochs dropped\n"
     ]
    },
    {
     "name": "stderr",
     "output_type": "stream",
     "text": [
      "[Parallel(n_jobs=8)]: Done   2 out of   8 | elapsed:    0.3s remaining:    0.8s\n",
      "[Parallel(n_jobs=8)]: Done   4 out of   8 | elapsed:    0.3s remaining:    0.3s\n",
      "[Parallel(n_jobs=8)]: Done   6 out of   8 | elapsed:    0.3s remaining:    0.1s\n",
      "[Parallel(n_jobs=8)]: Done   1 out of   8 | elapsed:    0.4s remaining:    2.6s\n",
      "[Parallel(n_jobs=8)]: Done   8 out of   8 | elapsed:    0.4s finished\n",
      "[Parallel(n_jobs=8)]: Done   1 out of   2 | elapsed:    0.3s remaining:    0.3s\n",
      "[Parallel(n_jobs=8)]: Done   2 out of   3 | elapsed:    0.4s remaining:    0.2s\n",
      "[Parallel(n_jobs=8)]: Done   3 out of   5 | elapsed:    0.6s remaining:    0.4s\n",
      "[Parallel(n_jobs=8)]: Done   6 out of   8 | elapsed:    1.2s remaining:    0.4s\n",
      "[Parallel(n_jobs=8)]: Done   8 out of   8 | elapsed:    1.4s finished\n",
      "[Parallel(n_jobs=8)]: Done   4 out of   8 | elapsed:    0.4s remaining:    0.4s\n",
      "[Parallel(n_jobs=8)]: Done   2 out of   8 | elapsed:    0.5s remaining:    1.4s\n",
      "[Parallel(n_jobs=8)]: Done   1 out of   8 | elapsed:    0.5s remaining:    3.3s\n",
      "[Parallel(n_jobs=8)]: Done   6 out of   8 | elapsed:    0.5s remaining:    0.2s\n",
      "[Parallel(n_jobs=8)]: Done   8 out of   8 | elapsed:    0.5s finished\n"
     ]
    },
    {
     "name": "stdout",
     "output_type": "stream",
     "text": [
      "14\n",
      "The events passed to the Epochs constructor are not chronologically ordered.\n",
      "100 matching events found\n",
      "No baseline correction applied\n",
      "0 projection items activated\n",
      "0 bad epochs dropped\n"
     ]
    },
    {
     "name": "stderr",
     "output_type": "stream",
     "text": [
      "[Parallel(n_jobs=8)]: Done   2 out of   8 | elapsed:    0.3s remaining:    0.8s\n",
      "[Parallel(n_jobs=8)]: Done   1 out of   8 | elapsed:    0.3s remaining:    2.0s\n",
      "[Parallel(n_jobs=8)]: Done   4 out of   8 | elapsed:    0.3s remaining:    0.3s\n",
      "[Parallel(n_jobs=8)]: Done   6 out of   8 | elapsed:    0.3s remaining:    0.1s\n",
      "[Parallel(n_jobs=8)]: Done   8 out of   8 | elapsed:    0.4s finished\n",
      "[Parallel(n_jobs=8)]: Done   1 out of   2 | elapsed:    0.3s remaining:    0.3s\n",
      "[Parallel(n_jobs=8)]: Done   2 out of   4 | elapsed:    0.6s remaining:    0.6s\n",
      "[Parallel(n_jobs=8)]: Done   3 out of   7 | elapsed:    0.7s remaining:    1.0s\n",
      "[Parallel(n_jobs=8)]: Done   4 out of   8 | elapsed:    0.8s remaining:    0.8s\n",
      "[Parallel(n_jobs=8)]: Done   6 out of   8 | elapsed:    1.2s remaining:    0.4s\n",
      "[Parallel(n_jobs=8)]: Done   8 out of   8 | elapsed:    1.5s finished\n",
      "[Parallel(n_jobs=8)]: Done   4 out of   8 | elapsed:    0.4s remaining:    0.4s\n",
      "[Parallel(n_jobs=8)]: Done   2 out of   8 | elapsed:    0.4s remaining:    1.3s\n",
      "[Parallel(n_jobs=8)]: Done   6 out of   8 | elapsed:    0.5s remaining:    0.2s\n",
      "[Parallel(n_jobs=8)]: Done   1 out of   8 | elapsed:    0.5s remaining:    3.5s\n",
      "[Parallel(n_jobs=8)]: Done   8 out of   8 | elapsed:    0.5s finished\n"
     ]
    },
    {
     "name": "stdout",
     "output_type": "stream",
     "text": [
      "15\n",
      "The events passed to the Epochs constructor are not chronologically ordered.\n",
      "100 matching events found\n",
      "No baseline correction applied\n",
      "0 projection items activated\n",
      "0 bad epochs dropped\n"
     ]
    },
    {
     "name": "stderr",
     "output_type": "stream",
     "text": [
      "[Parallel(n_jobs=8)]: Done   4 out of   8 | elapsed:    0.2s remaining:    0.2s\n",
      "[Parallel(n_jobs=8)]: Done   2 out of   8 | elapsed:    0.3s remaining:    0.9s\n",
      "[Parallel(n_jobs=8)]: Done   1 out of   8 | elapsed:    0.3s remaining:    2.1s\n",
      "[Parallel(n_jobs=8)]: Done   6 out of   8 | elapsed:    0.3s remaining:    0.1s\n",
      "[Parallel(n_jobs=8)]: Done   8 out of   8 | elapsed:    0.4s finished\n",
      "[Parallel(n_jobs=8)]: Done   1 out of   3 | elapsed:    0.4s remaining:    0.7s\n",
      "[Parallel(n_jobs=8)]: Done   2 out of   4 | elapsed:    0.6s remaining:    0.6s\n",
      "[Parallel(n_jobs=8)]: Done   3 out of   5 | elapsed:    0.8s remaining:    0.5s\n",
      "[Parallel(n_jobs=8)]: Done   4 out of   8 | elapsed:    0.9s remaining:    0.9s\n",
      "[Parallel(n_jobs=8)]: Done   6 out of   8 | elapsed:    1.2s remaining:    0.4s\n",
      "[Parallel(n_jobs=8)]: Done   8 out of   8 | elapsed:    1.5s finished\n",
      "[Parallel(n_jobs=8)]: Done   4 out of   8 | elapsed:    0.4s remaining:    0.4s\n",
      "[Parallel(n_jobs=8)]: Done   6 out of   8 | elapsed:    0.4s remaining:    0.1s\n",
      "[Parallel(n_jobs=8)]: Done   1 out of   8 | elapsed:    0.4s remaining:    3.1s\n",
      "[Parallel(n_jobs=8)]: Done   2 out of   8 | elapsed:    0.5s remaining:    1.4s\n",
      "[Parallel(n_jobs=8)]: Done   8 out of   8 | elapsed:    0.5s finished\n"
     ]
    },
    {
     "name": "stdout",
     "output_type": "stream",
     "text": [
      "16\n",
      "The events passed to the Epochs constructor are not chronologically ordered.\n",
      "100 matching events found\n",
      "No baseline correction applied\n",
      "0 projection items activated\n",
      "0 bad epochs dropped\n"
     ]
    },
    {
     "name": "stderr",
     "output_type": "stream",
     "text": [
      "[Parallel(n_jobs=8)]: Done   2 out of   8 | elapsed:    0.3s remaining:    0.8s\n",
      "[Parallel(n_jobs=8)]: Done   4 out of   8 | elapsed:    0.3s remaining:    0.3s\n",
      "[Parallel(n_jobs=8)]: Done   1 out of   8 | elapsed:    0.3s remaining:    2.3s\n",
      "[Parallel(n_jobs=8)]: Done   6 out of   8 | elapsed:    0.3s remaining:    0.1s\n",
      "[Parallel(n_jobs=8)]: Done   8 out of   8 | elapsed:    0.4s finished\n",
      "[Parallel(n_jobs=8)]: Done   1 out of   3 | elapsed:    0.3s remaining:    0.6s\n",
      "[Parallel(n_jobs=8)]: Done   3 out of   7 | elapsed:    0.6s remaining:    0.8s\n",
      "[Parallel(n_jobs=8)]: Done   6 out of   8 | elapsed:    1.1s remaining:    0.4s\n",
      "[Parallel(n_jobs=8)]: Done   8 out of   8 | elapsed:    1.3s finished\n",
      "[Parallel(n_jobs=8)]: Done   4 out of   8 | elapsed:    0.4s remaining:    0.4s\n",
      "[Parallel(n_jobs=8)]: Done   6 out of   8 | elapsed:    0.4s remaining:    0.1s\n",
      "[Parallel(n_jobs=8)]: Done   2 out of   8 | elapsed:    0.4s remaining:    1.3s\n",
      "[Parallel(n_jobs=8)]: Done   1 out of   8 | elapsed:    0.5s remaining:    3.2s\n",
      "[Parallel(n_jobs=8)]: Done   8 out of   8 | elapsed:    0.5s finished\n"
     ]
    },
    {
     "name": "stdout",
     "output_type": "stream",
     "text": [
      "0\n",
      "The events passed to the Epochs constructor are not chronologically ordered.\n",
      "100 matching events found\n",
      "No baseline correction applied\n",
      "0 projection items activated\n",
      "0 bad epochs dropped\n"
     ]
    },
    {
     "name": "stderr",
     "output_type": "stream",
     "text": [
      "[Parallel(n_jobs=8)]: Done   1 out of   8 | elapsed:    0.3s remaining:    1.8s\n",
      "[Parallel(n_jobs=8)]: Done   6 out of   8 | elapsed:    0.3s remaining:    0.1s\n",
      "[Parallel(n_jobs=8)]: Done   4 out of   8 | elapsed:    0.3s remaining:    0.3s\n",
      "[Parallel(n_jobs=8)]: Done   2 out of   8 | elapsed:    0.4s remaining:    1.1s\n",
      "[Parallel(n_jobs=8)]: Done   8 out of   8 | elapsed:    0.4s finished\n",
      "[Parallel(n_jobs=8)]: Done   1 out of   2 | elapsed:    0.3s remaining:    0.3s\n",
      "[Parallel(n_jobs=8)]: Done   3 out of   7 | elapsed:    0.6s remaining:    0.8s\n",
      "[Parallel(n_jobs=8)]: Done   4 out of   8 | elapsed:    0.8s remaining:    0.8s\n",
      "[Parallel(n_jobs=8)]: Done   6 out of   8 | elapsed:    1.1s remaining:    0.4s\n",
      "[Parallel(n_jobs=8)]: Done   8 out of   8 | elapsed:    1.4s finished\n",
      "[Parallel(n_jobs=8)]: Done   4 out of   8 | elapsed:    0.4s remaining:    0.4s\n",
      "[Parallel(n_jobs=8)]: Done   1 out of   8 | elapsed:    0.4s remaining:    3.1s\n",
      "[Parallel(n_jobs=8)]: Done   6 out of   8 | elapsed:    0.5s remaining:    0.2s\n",
      "[Parallel(n_jobs=8)]: Done   2 out of   8 | elapsed:    0.5s remaining:    1.5s\n",
      "[Parallel(n_jobs=8)]: Done   8 out of   8 | elapsed:    0.5s finished\n"
     ]
    },
    {
     "name": "stdout",
     "output_type": "stream",
     "text": [
      "1\n",
      "The events passed to the Epochs constructor are not chronologically ordered.\n",
      "100 matching events found\n",
      "No baseline correction applied\n",
      "0 projection items activated\n",
      "0 bad epochs dropped\n"
     ]
    },
    {
     "name": "stderr",
     "output_type": "stream",
     "text": [
      "[Parallel(n_jobs=8)]: Done   4 out of   8 | elapsed:    0.2s remaining:    0.2s\n",
      "[Parallel(n_jobs=8)]: Done   1 out of   8 | elapsed:    0.2s remaining:    1.7s\n",
      "[Parallel(n_jobs=8)]: Done   2 out of   8 | elapsed:    0.3s remaining:    0.9s\n",
      "[Parallel(n_jobs=8)]: Done   6 out of   8 | elapsed:    0.3s remaining:    0.1s\n",
      "[Parallel(n_jobs=8)]: Done   8 out of   8 | elapsed:    0.4s finished\n",
      "[Parallel(n_jobs=8)]: Done   1 out of   3 | elapsed:    0.3s remaining:    0.6s\n",
      "[Parallel(n_jobs=8)]: Done   2 out of   8 | elapsed:    0.5s remaining:    1.4s\n",
      "[Parallel(n_jobs=8)]: Done   4 out of   8 | elapsed:    0.8s remaining:    0.8s\n",
      "[Parallel(n_jobs=8)]: Done   6 out of   8 | elapsed:    1.1s remaining:    0.4s\n",
      "[Parallel(n_jobs=8)]: Done   8 out of   8 | elapsed:    1.4s finished\n",
      "[Parallel(n_jobs=8)]: Done   4 out of   8 | elapsed:    0.4s remaining:    0.4s\n",
      "[Parallel(n_jobs=8)]: Done   6 out of   8 | elapsed:    0.4s remaining:    0.1s\n",
      "[Parallel(n_jobs=8)]: Done   1 out of   8 | elapsed:    0.4s remaining:    3.1s\n",
      "[Parallel(n_jobs=8)]: Done   2 out of   8 | elapsed:    0.5s remaining:    1.4s\n",
      "[Parallel(n_jobs=8)]: Done   8 out of   8 | elapsed:    0.5s finished\n"
     ]
    },
    {
     "name": "stdout",
     "output_type": "stream",
     "text": [
      "2\n",
      "The events passed to the Epochs constructor are not chronologically ordered.\n",
      "100 matching events found\n",
      "No baseline correction applied\n",
      "0 projection items activated\n",
      "0 bad epochs dropped\n"
     ]
    },
    {
     "name": "stderr",
     "output_type": "stream",
     "text": [
      "[Parallel(n_jobs=8)]: Done   2 out of   8 | elapsed:    0.2s remaining:    0.7s\n",
      "[Parallel(n_jobs=8)]: Done   4 out of   8 | elapsed:    0.3s remaining:    0.3s\n",
      "[Parallel(n_jobs=8)]: Done   6 out of   8 | elapsed:    0.4s remaining:    0.1s\n",
      "[Parallel(n_jobs=8)]: Done   1 out of   8 | elapsed:    0.4s remaining:    2.9s\n",
      "[Parallel(n_jobs=8)]: Done   8 out of   8 | elapsed:    0.4s finished\n",
      "[Parallel(n_jobs=8)]: Done   1 out of   5 | elapsed:    0.4s remaining:    1.6s\n",
      "[Parallel(n_jobs=8)]: Done   2 out of   6 | elapsed:    0.5s remaining:    1.0s\n",
      "[Parallel(n_jobs=8)]: Done   4 out of   8 | elapsed:    0.9s remaining:    0.9s\n",
      "[Parallel(n_jobs=8)]: Done   6 out of   8 | elapsed:    1.1s remaining:    0.4s\n",
      "[Parallel(n_jobs=8)]: Done   8 out of   8 | elapsed:    1.4s finished\n",
      "[Parallel(n_jobs=8)]: Done   6 out of   8 | elapsed:    0.4s remaining:    0.1s\n",
      "[Parallel(n_jobs=8)]: Done   2 out of   8 | elapsed:    0.4s remaining:    1.3s\n",
      "[Parallel(n_jobs=8)]: Done   4 out of   8 | elapsed:    0.4s remaining:    0.4s\n",
      "[Parallel(n_jobs=8)]: Done   1 out of   8 | elapsed:    0.5s remaining:    3.3s\n",
      "[Parallel(n_jobs=8)]: Done   8 out of   8 | elapsed:    0.5s finished\n"
     ]
    },
    {
     "name": "stdout",
     "output_type": "stream",
     "text": [
      "3\n",
      "The events passed to the Epochs constructor are not chronologically ordered.\n",
      "100 matching events found\n",
      "No baseline correction applied\n",
      "0 projection items activated\n",
      "0 bad epochs dropped\n"
     ]
    },
    {
     "name": "stderr",
     "output_type": "stream",
     "text": [
      "[Parallel(n_jobs=8)]: Done   1 out of   8 | elapsed:    0.3s remaining:    1.8s\n",
      "[Parallel(n_jobs=8)]: Done   2 out of   8 | elapsed:    0.3s remaining:    0.9s\n",
      "[Parallel(n_jobs=8)]: Done   6 out of   8 | elapsed:    0.3s remaining:    0.1s\n",
      "[Parallel(n_jobs=8)]: Done   4 out of   8 | elapsed:    0.4s remaining:    0.4s\n",
      "[Parallel(n_jobs=8)]: Done   8 out of   8 | elapsed:    0.4s finished\n",
      "[Parallel(n_jobs=8)]: Done   1 out of   4 | elapsed:    0.3s remaining:    0.9s\n",
      "[Parallel(n_jobs=8)]: Done   3 out of   7 | elapsed:    0.6s remaining:    0.8s\n",
      "[Parallel(n_jobs=8)]: Done   4 out of   8 | elapsed:    0.8s remaining:    0.8s\n",
      "[Parallel(n_jobs=8)]: Done   6 out of   8 | elapsed:    1.0s remaining:    0.3s\n",
      "[Parallel(n_jobs=8)]: Done   8 out of   8 | elapsed:    1.3s finished\n",
      "[Parallel(n_jobs=8)]: Done   6 out of   8 | elapsed:    0.4s remaining:    0.1s\n",
      "[Parallel(n_jobs=8)]: Done   1 out of   8 | elapsed:    0.4s remaining:    3.1s\n",
      "[Parallel(n_jobs=8)]: Done   2 out of   8 | elapsed:    0.5s remaining:    1.4s\n",
      "[Parallel(n_jobs=8)]: Done   4 out of   8 | elapsed:    0.5s remaining:    0.5s\n",
      "[Parallel(n_jobs=8)]: Done   8 out of   8 | elapsed:    0.5s finished\n"
     ]
    },
    {
     "name": "stdout",
     "output_type": "stream",
     "text": [
      "4\n",
      "The events passed to the Epochs constructor are not chronologically ordered.\n",
      "100 matching events found\n",
      "No baseline correction applied\n",
      "0 projection items activated\n",
      "0 bad epochs dropped\n"
     ]
    },
    {
     "name": "stderr",
     "output_type": "stream",
     "text": [
      "[Parallel(n_jobs=8)]: Done   4 out of   8 | elapsed:    0.3s remaining:    0.3s\n",
      "[Parallel(n_jobs=8)]: Done   1 out of   8 | elapsed:    0.3s remaining:    1.9s\n",
      "[Parallel(n_jobs=8)]: Done   2 out of   8 | elapsed:    0.3s remaining:    0.9s\n",
      "[Parallel(n_jobs=8)]: Done   6 out of   8 | elapsed:    0.4s remaining:    0.1s\n",
      "[Parallel(n_jobs=8)]: Done   8 out of   8 | elapsed:    0.4s finished\n",
      "[Parallel(n_jobs=8)]: Done   1 out of   3 | elapsed:    0.3s remaining:    0.7s\n",
      "[Parallel(n_jobs=8)]: Done   3 out of   7 | elapsed:    0.7s remaining:    0.9s\n",
      "[Parallel(n_jobs=8)]: Done   6 out of   8 | elapsed:    1.2s remaining:    0.4s\n",
      "[Parallel(n_jobs=8)]: Done   8 out of   8 | elapsed:    1.4s finished\n",
      "[Parallel(n_jobs=8)]: Done   6 out of   8 | elapsed:    0.4s remaining:    0.1s\n",
      "[Parallel(n_jobs=8)]: Done   2 out of   8 | elapsed:    0.4s remaining:    1.3s\n",
      "[Parallel(n_jobs=8)]: Done   1 out of   8 | elapsed:    0.4s remaining:    3.1s\n",
      "[Parallel(n_jobs=8)]: Done   4 out of   8 | elapsed:    0.5s remaining:    0.5s\n",
      "[Parallel(n_jobs=8)]: Done   8 out of   8 | elapsed:    0.5s finished\n"
     ]
    },
    {
     "name": "stdout",
     "output_type": "stream",
     "text": [
      "5\n",
      "The events passed to the Epochs constructor are not chronologically ordered.\n",
      "100 matching events found\n",
      "No baseline correction applied\n",
      "0 projection items activated\n",
      "0 bad epochs dropped\n"
     ]
    },
    {
     "name": "stderr",
     "output_type": "stream",
     "text": [
      "[Parallel(n_jobs=8)]: Done   4 out of   8 | elapsed:    0.2s remaining:    0.2s\n",
      "[Parallel(n_jobs=8)]: Done   6 out of   8 | elapsed:    0.3s remaining:    0.1s\n",
      "[Parallel(n_jobs=8)]: Done   2 out of   8 | elapsed:    0.3s remaining:    0.9s\n",
      "[Parallel(n_jobs=8)]: Done   1 out of   8 | elapsed:    0.3s remaining:    2.4s\n",
      "[Parallel(n_jobs=8)]: Done   8 out of   8 | elapsed:    0.4s finished\n",
      "[Parallel(n_jobs=8)]: Done   1 out of   4 | elapsed:    0.3s remaining:    0.9s\n",
      "[Parallel(n_jobs=8)]: Done   3 out of   5 | elapsed:    0.6s remaining:    0.4s\n",
      "[Parallel(n_jobs=8)]: Done   6 out of   8 | elapsed:    1.2s remaining:    0.4s\n",
      "[Parallel(n_jobs=8)]: Done   8 out of   8 | elapsed:    1.7s finished\n",
      "[Parallel(n_jobs=8)]: Done   4 out of   8 | elapsed:    0.4s remaining:    0.4s\n",
      "[Parallel(n_jobs=8)]: Done   6 out of   8 | elapsed:    0.4s remaining:    0.1s\n",
      "[Parallel(n_jobs=8)]: Done   1 out of   8 | elapsed:    0.4s remaining:    3.1s\n",
      "[Parallel(n_jobs=8)]: Done   2 out of   8 | elapsed:    0.5s remaining:    1.4s\n",
      "[Parallel(n_jobs=8)]: Done   8 out of   8 | elapsed:    0.5s finished\n"
     ]
    },
    {
     "name": "stdout",
     "output_type": "stream",
     "text": [
      "6\n",
      "The events passed to the Epochs constructor are not chronologically ordered.\n",
      "100 matching events found\n",
      "No baseline correction applied\n",
      "0 projection items activated\n",
      "0 bad epochs dropped\n"
     ]
    },
    {
     "name": "stderr",
     "output_type": "stream",
     "text": [
      "[Parallel(n_jobs=8)]: Done   1 out of   8 | elapsed:    0.2s remaining:    1.6s\n",
      "[Parallel(n_jobs=8)]: Done   4 out of   8 | elapsed:    0.3s remaining:    0.3s\n",
      "[Parallel(n_jobs=8)]: Done   2 out of   8 | elapsed:    0.3s remaining:    0.9s\n",
      "[Parallel(n_jobs=8)]: Done   6 out of   8 | elapsed:    0.4s remaining:    0.1s\n",
      "[Parallel(n_jobs=8)]: Done   8 out of   8 | elapsed:    0.4s finished\n",
      "[Parallel(n_jobs=8)]: Done   1 out of   3 | elapsed:    0.3s remaining:    0.6s\n",
      "[Parallel(n_jobs=8)]: Done   2 out of   6 | elapsed:    0.4s remaining:    0.8s\n",
      "[Parallel(n_jobs=8)]: Done   4 out of   8 | elapsed:    0.7s remaining:    0.7s\n",
      "[Parallel(n_jobs=8)]: Done   6 out of   8 | elapsed:    1.0s remaining:    0.3s\n",
      "[Parallel(n_jobs=8)]: Done   8 out of   8 | elapsed:    1.3s finished\n",
      "[Parallel(n_jobs=8)]: Done   4 out of   8 | elapsed:    0.4s remaining:    0.4s\n",
      "[Parallel(n_jobs=8)]: Done   6 out of   8 | elapsed:    0.4s remaining:    0.1s\n",
      "[Parallel(n_jobs=8)]: Done   2 out of   8 | elapsed:    0.4s remaining:    1.3s\n",
      "[Parallel(n_jobs=8)]: Done   1 out of   8 | elapsed:    0.5s remaining:    3.7s\n",
      "[Parallel(n_jobs=8)]: Done   8 out of   8 | elapsed:    0.5s finished\n"
     ]
    },
    {
     "name": "stdout",
     "output_type": "stream",
     "text": [
      "7\n",
      "The events passed to the Epochs constructor are not chronologically ordered.\n",
      "100 matching events found\n",
      "No baseline correction applied\n",
      "0 projection items activated\n",
      "0 bad epochs dropped\n"
     ]
    },
    {
     "name": "stderr",
     "output_type": "stream",
     "text": [
      "[Parallel(n_jobs=8)]: Done   4 out of   8 | elapsed:    0.2s remaining:    0.2s\n",
      "[Parallel(n_jobs=8)]: Done   1 out of   8 | elapsed:    0.2s remaining:    1.7s\n",
      "[Parallel(n_jobs=8)]: Done   2 out of   8 | elapsed:    0.3s remaining:    0.9s\n",
      "[Parallel(n_jobs=8)]: Done   6 out of   8 | elapsed:    0.4s remaining:    0.1s\n",
      "[Parallel(n_jobs=8)]: Done   8 out of   8 | elapsed:    0.4s finished\n",
      "[Parallel(n_jobs=8)]: Done   1 out of   3 | elapsed:    0.3s remaining:    0.6s\n",
      "[Parallel(n_jobs=8)]: Done   2 out of   6 | elapsed:    0.5s remaining:    1.0s\n",
      "[Parallel(n_jobs=8)]: Done   3 out of   7 | elapsed:    0.6s remaining:    0.9s\n",
      "[Parallel(n_jobs=8)]: Done   4 out of   8 | elapsed:    0.8s remaining:    0.8s\n",
      "[Parallel(n_jobs=8)]: Done   6 out of   8 | elapsed:    1.0s remaining:    0.3s\n",
      "[Parallel(n_jobs=8)]: Done   8 out of   8 | elapsed:    1.3s finished\n",
      "[Parallel(n_jobs=8)]: Done   6 out of   8 | elapsed:    0.4s remaining:    0.1s\n",
      "[Parallel(n_jobs=8)]: Done   1 out of   8 | elapsed:    0.4s remaining:    3.0s\n",
      "[Parallel(n_jobs=8)]: Done   2 out of   8 | elapsed:    0.5s remaining:    1.5s\n",
      "[Parallel(n_jobs=8)]: Done   4 out of   8 | elapsed:    0.5s remaining:    0.5s\n",
      "[Parallel(n_jobs=8)]: Done   8 out of   8 | elapsed:    0.5s finished\n"
     ]
    },
    {
     "name": "stdout",
     "output_type": "stream",
     "text": [
      "8\n",
      "The events passed to the Epochs constructor are not chronologically ordered.\n",
      "100 matching events found\n",
      "No baseline correction applied\n",
      "0 projection items activated\n",
      "0 bad epochs dropped\n"
     ]
    },
    {
     "name": "stderr",
     "output_type": "stream",
     "text": [
      "[Parallel(n_jobs=8)]: Done   1 out of   8 | elapsed:    0.2s remaining:    1.6s\n",
      "[Parallel(n_jobs=8)]: Done   4 out of   8 | elapsed:    0.3s remaining:    0.3s\n",
      "[Parallel(n_jobs=8)]: Done   2 out of   8 | elapsed:    0.3s remaining:    0.9s\n",
      "[Parallel(n_jobs=8)]: Done   6 out of   8 | elapsed:    0.3s remaining:    0.1s\n",
      "[Parallel(n_jobs=8)]: Done   8 out of   8 | elapsed:    0.4s finished\n",
      "[Parallel(n_jobs=8)]: Done   1 out of   2 | elapsed:    0.3s remaining:    0.3s\n",
      "[Parallel(n_jobs=8)]: Done   2 out of   3 | elapsed:    0.5s remaining:    0.2s\n",
      "[Parallel(n_jobs=8)]: Done   4 out of   8 | elapsed:    0.8s remaining:    0.8s\n",
      "[Parallel(n_jobs=8)]: Done   6 out of   8 | elapsed:    1.1s remaining:    0.4s\n",
      "[Parallel(n_jobs=8)]: Done   8 out of   8 | elapsed:    1.3s finished\n",
      "[Parallel(n_jobs=8)]: Done   4 out of   8 | elapsed:    0.4s remaining:    0.4s\n",
      "[Parallel(n_jobs=8)]: Done   6 out of   8 | elapsed:    0.4s remaining:    0.1s\n",
      "[Parallel(n_jobs=8)]: Done   1 out of   8 | elapsed:    0.4s remaining:    2.9s\n",
      "[Parallel(n_jobs=8)]: Done   2 out of   8 | elapsed:    0.4s remaining:    1.3s\n",
      "[Parallel(n_jobs=8)]: Done   8 out of   8 | elapsed:    0.5s finished\n"
     ]
    },
    {
     "name": "stdout",
     "output_type": "stream",
     "text": [
      "9\n",
      "The events passed to the Epochs constructor are not chronologically ordered.\n",
      "100 matching events found\n",
      "No baseline correction applied\n",
      "0 projection items activated\n",
      "0 bad epochs dropped\n"
     ]
    },
    {
     "name": "stderr",
     "output_type": "stream",
     "text": [
      "[Parallel(n_jobs=8)]: Done   1 out of   8 | elapsed:    0.2s remaining:    1.7s\n",
      "[Parallel(n_jobs=8)]: Done   4 out of   8 | elapsed:    0.3s remaining:    0.3s\n",
      "[Parallel(n_jobs=8)]: Done   2 out of   8 | elapsed:    0.3s remaining:    1.0s\n",
      "[Parallel(n_jobs=8)]: Done   6 out of   8 | elapsed:    0.4s remaining:    0.1s\n",
      "[Parallel(n_jobs=8)]: Done   8 out of   8 | elapsed:    0.4s finished\n",
      "[Parallel(n_jobs=8)]: Done   1 out of   4 | elapsed:    0.3s remaining:    0.9s\n",
      "[Parallel(n_jobs=8)]: Done   4 out of   8 | elapsed:    0.9s remaining:    0.9s\n",
      "[Parallel(n_jobs=8)]: Done   6 out of   8 | elapsed:    1.2s remaining:    0.4s\n",
      "[Parallel(n_jobs=8)]: Done   8 out of   8 | elapsed:    1.4s finished\n",
      "[Parallel(n_jobs=8)]: Done   6 out of   8 | elapsed:    0.4s remaining:    0.1s\n",
      "[Parallel(n_jobs=8)]: Done   1 out of   8 | elapsed:    0.4s remaining:    3.1s\n",
      "[Parallel(n_jobs=8)]: Done   2 out of   8 | elapsed:    0.5s remaining:    1.4s\n",
      "[Parallel(n_jobs=8)]: Done   4 out of   8 | elapsed:    0.5s remaining:    0.5s\n",
      "[Parallel(n_jobs=8)]: Done   8 out of   8 | elapsed:    0.5s finished\n"
     ]
    },
    {
     "name": "stdout",
     "output_type": "stream",
     "text": [
      "10\n",
      "The events passed to the Epochs constructor are not chronologically ordered.\n",
      "100 matching events found\n",
      "No baseline correction applied\n",
      "0 projection items activated\n",
      "0 bad epochs dropped\n"
     ]
    },
    {
     "name": "stderr",
     "output_type": "stream",
     "text": [
      "[Parallel(n_jobs=8)]: Done   1 out of   8 | elapsed:    0.2s remaining:    1.5s\n",
      "[Parallel(n_jobs=8)]: Done   4 out of   8 | elapsed:    0.3s remaining:    0.3s\n",
      "[Parallel(n_jobs=8)]: Done   6 out of   8 | elapsed:    0.3s remaining:    0.1s\n",
      "[Parallel(n_jobs=8)]: Done   2 out of   8 | elapsed:    0.3s remaining:    1.0s\n",
      "[Parallel(n_jobs=8)]: Done   8 out of   8 | elapsed:    0.4s finished\n",
      "[Parallel(n_jobs=8)]: Done   1 out of   3 | elapsed:    0.3s remaining:    0.6s\n",
      "[Parallel(n_jobs=8)]: Done   2 out of   3 | elapsed:    0.4s remaining:    0.2s\n",
      "[Parallel(n_jobs=8)]: Done   3 out of   5 | elapsed:    0.6s remaining:    0.4s\n",
      "[Parallel(n_jobs=8)]: Done   6 out of   8 | elapsed:    1.1s remaining:    0.4s\n",
      "[Parallel(n_jobs=8)]: Done   8 out of   8 | elapsed:    1.4s finished\n",
      "[Parallel(n_jobs=8)]: Done   4 out of   8 | elapsed:    0.4s remaining:    0.4s\n",
      "[Parallel(n_jobs=8)]: Done   6 out of   8 | elapsed:    0.4s remaining:    0.1s\n",
      "[Parallel(n_jobs=8)]: Done   1 out of   8 | elapsed:    0.4s remaining:    3.0s\n",
      "[Parallel(n_jobs=8)]: Done   2 out of   8 | elapsed:    0.5s remaining:    1.4s\n",
      "[Parallel(n_jobs=8)]: Done   8 out of   8 | elapsed:    0.5s finished\n"
     ]
    },
    {
     "name": "stdout",
     "output_type": "stream",
     "text": [
      "11\n",
      "The events passed to the Epochs constructor are not chronologically ordered.\n",
      "100 matching events found\n",
      "No baseline correction applied\n",
      "0 projection items activated\n",
      "0 bad epochs dropped\n"
     ]
    },
    {
     "name": "stderr",
     "output_type": "stream",
     "text": [
      "[Parallel(n_jobs=8)]: Done   1 out of   8 | elapsed:    0.2s remaining:    1.6s\n",
      "[Parallel(n_jobs=8)]: Done   4 out of   8 | elapsed:    0.2s remaining:    0.2s\n",
      "[Parallel(n_jobs=8)]: Done   6 out of   8 | elapsed:    0.3s remaining:    0.1s\n",
      "[Parallel(n_jobs=8)]: Done   2 out of   8 | elapsed:    0.3s remaining:    0.9s\n",
      "[Parallel(n_jobs=8)]: Done   8 out of   8 | elapsed:    0.4s finished\n",
      "[Parallel(n_jobs=8)]: Done   1 out of   3 | elapsed:    0.3s remaining:    0.6s\n",
      "[Parallel(n_jobs=8)]: Done   2 out of   3 | elapsed:    0.4s remaining:    0.2s\n",
      "[Parallel(n_jobs=8)]: Done   3 out of   5 | elapsed:    0.6s remaining:    0.4s\n",
      "[Parallel(n_jobs=8)]: Done   4 out of   8 | elapsed:    0.8s remaining:    0.8s\n",
      "[Parallel(n_jobs=8)]: Done   6 out of   8 | elapsed:    1.2s remaining:    0.4s\n",
      "[Parallel(n_jobs=8)]: Done   8 out of   8 | elapsed:    1.5s finished\n",
      "[Parallel(n_jobs=8)]: Done   4 out of   8 | elapsed:    0.4s remaining:    0.4s\n",
      "[Parallel(n_jobs=8)]: Done   1 out of   8 | elapsed:    0.4s remaining:    2.9s\n",
      "[Parallel(n_jobs=8)]: Done   6 out of   8 | elapsed:    0.4s remaining:    0.1s\n",
      "[Parallel(n_jobs=8)]: Done   2 out of   8 | elapsed:    0.5s remaining:    1.5s\n",
      "[Parallel(n_jobs=8)]: Done   8 out of   8 | elapsed:    0.5s finished\n"
     ]
    },
    {
     "name": "stdout",
     "output_type": "stream",
     "text": [
      "12\n",
      "The events passed to the Epochs constructor are not chronologically ordered.\n",
      "100 matching events found\n",
      "No baseline correction applied\n",
      "0 projection items activated\n",
      "0 bad epochs dropped\n"
     ]
    },
    {
     "name": "stderr",
     "output_type": "stream",
     "text": [
      "[Parallel(n_jobs=8)]: Done   1 out of   8 | elapsed:    0.2s remaining:    1.7s\n",
      "[Parallel(n_jobs=8)]: Done   6 out of   8 | elapsed:    0.3s remaining:    0.1s\n",
      "[Parallel(n_jobs=8)]: Done   2 out of   8 | elapsed:    0.3s remaining:    0.9s\n",
      "[Parallel(n_jobs=8)]: Done   4 out of   8 | elapsed:    0.4s remaining:    0.4s\n",
      "[Parallel(n_jobs=8)]: Done   8 out of   8 | elapsed:    0.4s finished\n",
      "[Parallel(n_jobs=8)]: Done   1 out of   4 | elapsed:    0.3s remaining:    0.9s\n",
      "[Parallel(n_jobs=8)]: Done   2 out of   4 | elapsed:    0.4s remaining:    0.4s\n",
      "[Parallel(n_jobs=8)]: Done   3 out of   7 | elapsed:    0.6s remaining:    0.8s\n",
      "[Parallel(n_jobs=8)]: Done   4 out of   8 | elapsed:    0.7s remaining:    0.7s\n",
      "[Parallel(n_jobs=8)]: Done   6 out of   8 | elapsed:    1.0s remaining:    0.3s\n",
      "[Parallel(n_jobs=8)]: Done   8 out of   8 | elapsed:    1.3s finished\n",
      "[Parallel(n_jobs=8)]: Done   4 out of   8 | elapsed:    0.4s remaining:    0.4s\n",
      "[Parallel(n_jobs=8)]: Done   6 out of   8 | elapsed:    0.4s remaining:    0.1s\n",
      "[Parallel(n_jobs=8)]: Done   2 out of   8 | elapsed:    0.4s remaining:    1.3s\n",
      "[Parallel(n_jobs=8)]: Done   1 out of   8 | elapsed:    0.5s remaining:    3.3s\n",
      "[Parallel(n_jobs=8)]: Done   8 out of   8 | elapsed:    0.5s finished\n"
     ]
    },
    {
     "name": "stdout",
     "output_type": "stream",
     "text": [
      "13\n",
      "The events passed to the Epochs constructor are not chronologically ordered.\n",
      "100 matching events found\n",
      "No baseline correction applied\n",
      "0 projection items activated\n",
      "0 bad epochs dropped\n"
     ]
    },
    {
     "name": "stderr",
     "output_type": "stream",
     "text": [
      "[Parallel(n_jobs=8)]: Done   4 out of   8 | elapsed:    0.2s remaining:    0.2s\n",
      "[Parallel(n_jobs=8)]: Done   1 out of   8 | elapsed:    0.3s remaining:    1.8s\n",
      "[Parallel(n_jobs=8)]: Done   2 out of   8 | elapsed:    0.3s remaining:    1.0s\n",
      "[Parallel(n_jobs=8)]: Done   6 out of   8 | elapsed:    0.4s remaining:    0.1s\n",
      "[Parallel(n_jobs=8)]: Done   8 out of   8 | elapsed:    0.4s finished\n",
      "[Parallel(n_jobs=8)]: Done   1 out of   6 | elapsed:    0.3s remaining:    1.6s\n",
      "[Parallel(n_jobs=8)]: Done   2 out of   6 | elapsed:    0.4s remaining:    0.8s\n",
      "[Parallel(n_jobs=8)]: Done   4 out of   8 | elapsed:    0.8s remaining:    0.8s\n",
      "[Parallel(n_jobs=8)]: Done   6 out of   8 | elapsed:    1.1s remaining:    0.4s\n",
      "[Parallel(n_jobs=8)]: Done   8 out of   8 | elapsed:    1.4s finished\n",
      "[Parallel(n_jobs=8)]: Done   6 out of   8 | elapsed:    0.4s remaining:    0.1s\n",
      "[Parallel(n_jobs=8)]: Done   1 out of   8 | elapsed:    0.4s remaining:    3.1s\n",
      "[Parallel(n_jobs=8)]: Done   2 out of   8 | elapsed:    0.5s remaining:    1.4s\n",
      "[Parallel(n_jobs=8)]: Done   4 out of   8 | elapsed:    0.5s remaining:    0.5s\n",
      "[Parallel(n_jobs=8)]: Done   8 out of   8 | elapsed:    0.5s finished\n"
     ]
    },
    {
     "name": "stdout",
     "output_type": "stream",
     "text": [
      "14\n",
      "The events passed to the Epochs constructor are not chronologically ordered.\n",
      "100 matching events found\n",
      "No baseline correction applied\n",
      "0 projection items activated\n",
      "0 bad epochs dropped\n"
     ]
    },
    {
     "name": "stderr",
     "output_type": "stream",
     "text": [
      "[Parallel(n_jobs=8)]: Done   1 out of   8 | elapsed:    0.2s remaining:    1.7s\n",
      "[Parallel(n_jobs=8)]: Done   2 out of   8 | elapsed:    0.3s remaining:    0.8s\n",
      "[Parallel(n_jobs=8)]: Done   6 out of   8 | elapsed:    0.3s remaining:    0.1s\n",
      "[Parallel(n_jobs=8)]: Done   4 out of   8 | elapsed:    0.4s remaining:    0.4s\n",
      "[Parallel(n_jobs=8)]: Done   8 out of   8 | elapsed:    0.4s finished\n",
      "[Parallel(n_jobs=8)]: Done   1 out of   3 | elapsed:    0.3s remaining:    0.6s\n",
      "[Parallel(n_jobs=8)]: Done   2 out of   3 | elapsed:    0.5s remaining:    0.2s\n",
      "[Parallel(n_jobs=8)]: Done   3 out of   4 | elapsed:    0.6s remaining:    0.2s\n",
      "[Parallel(n_jobs=8)]: Done   6 out of   8 | elapsed:    1.1s remaining:    0.4s\n",
      "[Parallel(n_jobs=8)]: Done   8 out of   8 | elapsed:    1.4s finished\n",
      "[Parallel(n_jobs=8)]: Done   4 out of   8 | elapsed:    0.4s remaining:    0.4s\n",
      "[Parallel(n_jobs=8)]: Done   6 out of   8 | elapsed:    0.4s remaining:    0.1s\n",
      "[Parallel(n_jobs=8)]: Done   1 out of   8 | elapsed:    0.4s remaining:    2.9s\n",
      "[Parallel(n_jobs=8)]: Done   2 out of   8 | elapsed:    0.4s remaining:    1.3s\n",
      "[Parallel(n_jobs=8)]: Done   8 out of   8 | elapsed:    0.5s finished\n"
     ]
    },
    {
     "name": "stdout",
     "output_type": "stream",
     "text": [
      "15\n",
      "The events passed to the Epochs constructor are not chronologically ordered.\n",
      "100 matching events found\n",
      "No baseline correction applied\n",
      "0 projection items activated\n",
      "0 bad epochs dropped\n"
     ]
    },
    {
     "name": "stderr",
     "output_type": "stream",
     "text": [
      "[Parallel(n_jobs=8)]: Done   1 out of   8 | elapsed:    0.2s remaining:    1.7s\n",
      "[Parallel(n_jobs=8)]: Done   2 out of   8 | elapsed:    0.3s remaining:    0.8s\n",
      "[Parallel(n_jobs=8)]: Done   4 out of   8 | elapsed:    0.3s remaining:    0.3s\n",
      "[Parallel(n_jobs=8)]: Done   6 out of   8 | elapsed:    0.4s remaining:    0.1s\n",
      "[Parallel(n_jobs=8)]: Done   8 out of   8 | elapsed:    0.4s finished\n",
      "[Parallel(n_jobs=8)]: Done   1 out of   4 | elapsed:    0.3s remaining:    1.0s\n",
      "[Parallel(n_jobs=8)]: Done   2 out of   8 | elapsed:    0.4s remaining:    1.3s\n",
      "[Parallel(n_jobs=8)]: Done   4 out of   8 | elapsed:    0.7s remaining:    0.7s\n",
      "[Parallel(n_jobs=8)]: Done   6 out of   8 | elapsed:    1.1s remaining:    0.4s\n",
      "[Parallel(n_jobs=8)]: Done   8 out of   8 | elapsed:    1.3s finished\n",
      "[Parallel(n_jobs=8)]: Done   6 out of   8 | elapsed:    0.4s remaining:    0.1s\n",
      "[Parallel(n_jobs=8)]: Done   4 out of   8 | elapsed:    0.4s remaining:    0.4s\n",
      "[Parallel(n_jobs=8)]: Done   2 out of   8 | elapsed:    0.4s remaining:    1.3s\n",
      "[Parallel(n_jobs=8)]: Done   1 out of   8 | elapsed:    0.5s remaining:    3.4s\n",
      "[Parallel(n_jobs=8)]: Done   8 out of   8 | elapsed:    0.5s finished\n"
     ]
    },
    {
     "name": "stdout",
     "output_type": "stream",
     "text": [
      "16\n",
      "The events passed to the Epochs constructor are not chronologically ordered.\n",
      "100 matching events found\n",
      "No baseline correction applied\n",
      "0 projection items activated\n",
      "0 bad epochs dropped\n"
     ]
    },
    {
     "name": "stderr",
     "output_type": "stream",
     "text": [
      "[Parallel(n_jobs=8)]: Done   6 out of   8 | elapsed:    0.2s remaining:    0.1s\n",
      "[Parallel(n_jobs=8)]: Done   2 out of   8 | elapsed:    0.3s remaining:    1.0s\n",
      "[Parallel(n_jobs=8)]: Done   1 out of   8 | elapsed:    0.4s remaining:    2.5s\n",
      "[Parallel(n_jobs=8)]: Done   4 out of   8 | elapsed:    0.4s remaining:    0.4s\n",
      "[Parallel(n_jobs=8)]: Done   8 out of   8 | elapsed:    0.4s finished\n",
      "[Parallel(n_jobs=8)]: Done   1 out of   3 | elapsed:    0.3s remaining:    0.6s\n",
      "[Parallel(n_jobs=8)]: Done   2 out of   3 | elapsed:    0.4s remaining:    0.2s\n",
      "[Parallel(n_jobs=8)]: Done   3 out of   5 | elapsed:    0.7s remaining:    0.5s\n",
      "[Parallel(n_jobs=8)]: Done   6 out of   8 | elapsed:    1.2s remaining:    0.4s\n",
      "[Parallel(n_jobs=8)]: Done   8 out of   8 | elapsed:    1.5s finished\n",
      "[Parallel(n_jobs=8)]: Done   4 out of   8 | elapsed:    0.4s remaining:    0.4s\n",
      "[Parallel(n_jobs=8)]: Done   6 out of   8 | elapsed:    0.4s remaining:    0.1s\n",
      "[Parallel(n_jobs=8)]: Done   2 out of   8 | elapsed:    0.4s remaining:    1.3s\n",
      "[Parallel(n_jobs=8)]: Done   1 out of   8 | elapsed:    0.4s remaining:    3.0s\n",
      "[Parallel(n_jobs=8)]: Done   8 out of   8 | elapsed:    0.5s finished\n"
     ]
    },
    {
     "data": {
      "image/png": "[encoded data removed]",
      "text/plain": [
       "<matplotlib.figure.Figure at 0x7f15e4698610>"
      ]
     },
     "metadata": {},
     "output_type": "display_data"
    },
    {
     "data": {
      "image/png": "[encoded data removed]",
      "text/plain": [
       "<matplotlib.figure.Figure at 0x7f15e82ea650>"
      ]
     },
     "metadata": {},
     "output_type": "display_data"
    },
    {
     "data": {
      "image/png": "[encoded data removed]",
      "text/plain": [
       "<matplotlib.figure.Figure at 0x7f15e4293190>"
      ]
     },
     "metadata": {},
     "output_type": "display_data"
    },
    {
     "data": {
      "image/png": "[encoded data removed]",
      "text/plain": [
       "<matplotlib.figure.Figure at 0x7f15e41bfc10>"
      ]
     },
     "metadata": {},
     "output_type": "display_data"
    }
   ],
   "source": [
    "# Example across multiple subjects\n",
    "scenari = dict(\n",
    "    jitter=dict(latency=.01, jitter=.0025),\n",
    "    metastable=dict(jitter=.0,\n",
    "                    latency=np.linspace(.01, .50, 50),\n",
    "                    snr=np.r_[np.linspace(.5, .1, 5), [0] * 45])\n",
    ")\n",
    "for name, params in scenari.iteritems():\n",
    "    scores = list()\n",
    "    for subject in range(17):\n",
    "        print subject\n",
    "        epochs, y = simulate_data(**params)\n",
    "        gat = GeneralizationAcrossTime(n_jobs=-1)\n",
    "        gat.fit(epochs, y)\n",
    "        score = gat.score(epochs, y)\n",
    "        scores.append(score)\n",
    "    gat.scores_ = np.mean(scores, axis=0)\n",
    "    gat.plot(show=False, title='dynamic jitter')\n",
    "    gat.plot_times([.050, .150], show=False, chance=.5)\n",
    "plt.show()"
   ]
  },
  {
   "cell_type": "markdown",
   "metadata": {},
   "source": [
    "# GAT on derivative"
   ]
  },
  {
   "cell_type": "code",
   "execution_count": 31,
   "metadata": {
    "collapsed": false,
    "scrolled": true
   },
   "outputs": [
    {
     "name": "stderr",
     "output_type": "stream",
     "text": [
      "/home/jrking/anaconda/lib/python2.7/site-packages/ipykernel/__main__.py:36: DeprecationWarning: using a non-integer number instead of an integer will result in an error in the future\n",
      "/home/jrking/anaconda/lib/python2.7/site-packages/ipykernel/__main__.py:62: RuntimeWarning: The events passed to the Epochs constructor are not chronologically ordered.\n"
     ]
    },
    {
     "name": "stdout",
     "output_type": "stream",
     "text": [
      "0\n",
      "The events passed to the Epochs constructor are not chronologically ordered.\n",
      "100 matching events found\n",
      "No baseline correction applied\n",
      "0 projection items activated\n",
      "0 bad epochs dropped\n"
     ]
    },
    {
     "name": "stderr",
     "output_type": "stream",
     "text": [
      "[Parallel(n_jobs=8)]: Done   4 out of   8 | elapsed:    0.2s remaining:    0.2s\n",
      "[Parallel(n_jobs=8)]: Done   1 out of   8 | elapsed:    0.2s remaining:    1.7s\n",
      "[Parallel(n_jobs=8)]: Done   2 out of   8 | elapsed:    0.3s remaining:    0.8s\n",
      "[Parallel(n_jobs=8)]: Done   6 out of   8 | elapsed:    0.3s remaining:    0.1s\n",
      "[Parallel(n_jobs=8)]: Done   8 out of   8 | elapsed:    0.4s finished\n",
      "[Parallel(n_jobs=8)]: Done   1 out of   7 | elapsed:    0.3s remaining:    2.1s\n",
      "[Parallel(n_jobs=8)]: Done   2 out of   8 | elapsed:    0.5s remaining:    1.6s\n",
      "[Parallel(n_jobs=8)]: Done   4 out of   8 | elapsed:    0.8s remaining:    0.8s\n",
      "[Parallel(n_jobs=8)]: Done   6 out of   8 | elapsed:    1.1s remaining:    0.4s\n",
      "[Parallel(n_jobs=8)]: Done   8 out of   8 | elapsed:    1.4s finished\n",
      "[Parallel(n_jobs=8)]: Done   2 out of   8 | elapsed:    0.4s remaining:    1.2s\n",
      "[Parallel(n_jobs=8)]: Done   1 out of   8 | elapsed:    0.5s remaining:    3.2s\n",
      "[Parallel(n_jobs=8)]: Done   4 out of   8 | elapsed:    0.5s remaining:    0.5s\n",
      "[Parallel(n_jobs=8)]: Done   6 out of   8 | elapsed:    0.5s remaining:    0.2s\n",
      "[Parallel(n_jobs=8)]: Done   8 out of   8 | elapsed:    0.6s finished\n"
     ]
    },
    {
     "name": "stdout",
     "output_type": "stream",
     "text": [
      "1\n",
      "The events passed to the Epochs constructor are not chronologically ordered.\n",
      "100 matching events found\n",
      "No baseline correction applied\n",
      "0 projection items activated\n",
      "0 bad epochs dropped\n"
     ]
    },
    {
     "name": "stderr",
     "output_type": "stream",
     "text": [
      "[Parallel(n_jobs=8)]: Done   2 out of   8 | elapsed:    0.3s remaining:    0.8s\n",
      "[Parallel(n_jobs=8)]: Done   4 out of   8 | elapsed:    0.3s remaining:    0.3s\n",
      "[Parallel(n_jobs=8)]: Done   6 out of   8 | elapsed:    0.3s remaining:    0.1s\n",
      "[Parallel(n_jobs=8)]: Done   1 out of   8 | elapsed:    0.3s remaining:    2.4s\n",
      "[Parallel(n_jobs=8)]: Done   8 out of   8 | elapsed:    0.4s finished\n",
      "[Parallel(n_jobs=8)]: Done   1 out of   4 | elapsed:    0.3s remaining:    0.8s\n",
      "[Parallel(n_jobs=8)]: Done   2 out of   6 | elapsed:    0.5s remaining:    0.9s\n",
      "[Parallel(n_jobs=8)]: Done   4 out of   8 | elapsed:    0.8s remaining:    0.8s\n",
      "[Parallel(n_jobs=8)]: Done   6 out of   8 | elapsed:    1.0s remaining:    0.3s\n",
      "[Parallel(n_jobs=8)]: Done   8 out of   8 | elapsed:    1.3s finished\n",
      "[Parallel(n_jobs=8)]: Done   4 out of   8 | elapsed:    0.4s remaining:    0.4s\n",
      "[Parallel(n_jobs=8)]: Done   1 out of   8 | elapsed:    0.4s remaining:    3.1s\n",
      "[Parallel(n_jobs=8)]: Done   2 out of   8 | elapsed:    0.5s remaining:    1.4s\n",
      "[Parallel(n_jobs=8)]: Done   6 out of   8 | elapsed:    0.5s remaining:    0.2s\n",
      "[Parallel(n_jobs=8)]: Done   8 out of   8 | elapsed:    0.5s finished\n"
     ]
    },
    {
     "name": "stdout",
     "output_type": "stream",
     "text": [
      "2\n",
      "The events passed to the Epochs constructor are not chronologically ordered.\n",
      "100 matching events found\n",
      "No baseline correction applied\n",
      "0 projection items activated\n",
      "0 bad epochs dropped\n"
     ]
    },
    {
     "name": "stderr",
     "output_type": "stream",
     "text": [
      "[Parallel(n_jobs=8)]: Done   1 out of   8 | elapsed:    0.2s remaining:    1.7s\n",
      "[Parallel(n_jobs=8)]: Done   4 out of   8 | elapsed:    0.3s remaining:    0.3s\n",
      "[Parallel(n_jobs=8)]: Done   2 out of   8 | elapsed:    0.3s remaining:    0.9s\n",
      "[Parallel(n_jobs=8)]: Done   6 out of   8 | elapsed:    0.3s remaining:    0.1s\n",
      "[Parallel(n_jobs=8)]: Done   8 out of   8 | elapsed:    0.4s finished\n",
      "[Parallel(n_jobs=8)]: Done   1 out of   4 | elapsed:    0.3s remaining:    0.9s\n",
      "[Parallel(n_jobs=8)]: Done   2 out of   6 | elapsed:    0.4s remaining:    0.9s\n",
      "[Parallel(n_jobs=8)]: Done   4 out of   8 | elapsed:    0.8s remaining:    0.8s\n",
      "[Parallel(n_jobs=8)]: Done   6 out of   8 | elapsed:    1.1s remaining:    0.4s\n",
      "[Parallel(n_jobs=8)]: Done   8 out of   8 | elapsed:    1.4s finished\n",
      "[Parallel(n_jobs=8)]: Done   4 out of   8 | elapsed:    0.4s remaining:    0.4s\n",
      "[Parallel(n_jobs=8)]: Done   6 out of   8 | elapsed:    0.4s remaining:    0.1s\n",
      "[Parallel(n_jobs=8)]: Done   1 out of   8 | elapsed:    0.4s remaining:    3.1s\n",
      "[Parallel(n_jobs=8)]: Done   2 out of   8 | elapsed:    0.5s remaining:    1.4s\n",
      "[Parallel(n_jobs=8)]: Done   8 out of   8 | elapsed:    0.5s finished\n"
     ]
    },
    {
     "name": "stdout",
     "output_type": "stream",
     "text": [
      "3\n",
      "The events passed to the Epochs constructor are not chronologically ordered.\n",
      "100 matching events found\n",
      "No baseline correction applied\n",
      "0 projection items activated\n",
      "0 bad epochs dropped\n"
     ]
    },
    {
     "name": "stderr",
     "output_type": "stream",
     "text": [
      "[Parallel(n_jobs=8)]: Done   1 out of   8 | elapsed:    0.2s remaining:    1.6s\n",
      "[Parallel(n_jobs=8)]: Done   2 out of   8 | elapsed:    0.3s remaining:    0.8s\n",
      "[Parallel(n_jobs=8)]: Done   4 out of   8 | elapsed:    0.3s remaining:    0.3s\n",
      "[Parallel(n_jobs=8)]: Done   6 out of   8 | elapsed:    0.3s remaining:    0.1s\n",
      "[Parallel(n_jobs=8)]: Done   8 out of   8 | elapsed:    0.4s finished\n",
      "[Parallel(n_jobs=8)]: Done   1 out of   3 | elapsed:    0.3s remaining:    0.6s\n",
      "[Parallel(n_jobs=8)]: Done   4 out of   8 | elapsed:    0.8s remaining:    0.8s\n",
      "[Parallel(n_jobs=8)]: Done   6 out of   8 | elapsed:    1.1s remaining:    0.4s\n",
      "[Parallel(n_jobs=8)]: Done   8 out of   8 | elapsed:    1.4s finished\n",
      "[Parallel(n_jobs=8)]: Done   6 out of   8 | elapsed:    0.4s remaining:    0.1s\n",
      "[Parallel(n_jobs=8)]: Done   2 out of   8 | elapsed:    0.4s remaining:    1.3s\n",
      "[Parallel(n_jobs=8)]: Done   4 out of   8 | elapsed:    0.4s remaining:    0.4s\n",
      "[Parallel(n_jobs=8)]: Done   1 out of   8 | elapsed:    0.5s remaining:    3.6s\n",
      "[Parallel(n_jobs=8)]: Done   8 out of   8 | elapsed:    0.5s finished\n"
     ]
    },
    {
     "name": "stdout",
     "output_type": "stream",
     "text": [
      "4\n",
      "The events passed to the Epochs constructor are not chronologically ordered.\n",
      "100 matching events found\n",
      "No baseline correction applied\n",
      "0 projection items activated\n",
      "0 bad epochs dropped\n"
     ]
    },
    {
     "name": "stderr",
     "output_type": "stream",
     "text": [
      "[Parallel(n_jobs=8)]: Done   2 out of   8 | elapsed:    0.3s remaining:    0.8s\n",
      "[Parallel(n_jobs=8)]: Done   4 out of   8 | elapsed:    0.3s remaining:    0.3s\n",
      "[Parallel(n_jobs=8)]: Done   1 out of   8 | elapsed:    0.3s remaining:    2.1s\n",
      "[Parallel(n_jobs=8)]: Done   6 out of   8 | elapsed:    0.3s remaining:    0.1s\n",
      "[Parallel(n_jobs=8)]: Done   8 out of   8 | elapsed:    0.4s finished\n",
      "[Parallel(n_jobs=8)]: Done   1 out of   2 | elapsed:    0.3s remaining:    0.3s\n",
      "[Parallel(n_jobs=8)]: Done   2 out of   4 | elapsed:    0.5s remaining:    0.5s\n",
      "[Parallel(n_jobs=8)]: Done   3 out of   4 | elapsed:    0.6s remaining:    0.2s\n",
      "[Parallel(n_jobs=8)]: Done   4 out of   6 | elapsed:    0.8s remaining:    0.4s\n",
      "[Parallel(n_jobs=8)]: Done   6 out of   8 | elapsed:    1.2s remaining:    0.4s\n",
      "[Parallel(n_jobs=8)]: Done   8 out of   8 | elapsed:    1.4s finished\n",
      "[Parallel(n_jobs=8)]: Done   4 out of   8 | elapsed:    0.4s remaining:    0.4s\n",
      "[Parallel(n_jobs=8)]: Done   6 out of   8 | elapsed:    0.4s remaining:    0.1s\n",
      "[Parallel(n_jobs=8)]: Done   2 out of   8 | elapsed:    0.5s remaining:    1.4s\n",
      "[Parallel(n_jobs=8)]: Done   1 out of   8 | elapsed:    0.5s remaining:    3.3s\n",
      "[Parallel(n_jobs=8)]: Done   8 out of   8 | elapsed:    0.5s finished\n"
     ]
    },
    {
     "name": "stdout",
     "output_type": "stream",
     "text": [
      "5\n",
      "The events passed to the Epochs constructor are not chronologically ordered.\n",
      "100 matching events found\n",
      "No baseline correction applied\n",
      "0 projection items activated\n",
      "0 bad epochs dropped\n"
     ]
    },
    {
     "name": "stderr",
     "output_type": "stream",
     "text": [
      "[Parallel(n_jobs=8)]: Done   2 out of   8 | elapsed:    0.2s remaining:    0.7s\n",
      "[Parallel(n_jobs=8)]: Done   1 out of   8 | elapsed:    0.3s remaining:    2.0s\n",
      "[Parallel(n_jobs=8)]: Done   6 out of   8 | elapsed:    0.3s remaining:    0.1s\n",
      "[Parallel(n_jobs=8)]: Done   4 out of   8 | elapsed:    0.4s remaining:    0.4s\n",
      "[Parallel(n_jobs=8)]: Done   8 out of   8 | elapsed:    0.4s finished\n",
      "[Parallel(n_jobs=8)]: Done   1 out of   2 | elapsed:    0.3s remaining:    0.3s\n",
      "[Parallel(n_jobs=8)]: Done   2 out of   4 | elapsed:    0.5s remaining:    0.5s\n",
      "[Parallel(n_jobs=8)]: Done   3 out of   5 | elapsed:    0.6s remaining:    0.4s\n",
      "[Parallel(n_jobs=8)]: Done   4 out of   6 | elapsed:    0.8s remaining:    0.4s\n",
      "[Parallel(n_jobs=8)]: Done   6 out of   8 | elapsed:    1.1s remaining:    0.4s\n",
      "[Parallel(n_jobs=8)]: Done   8 out of   8 | elapsed:    1.3s finished\n",
      "[Parallel(n_jobs=8)]: Done   6 out of   8 | elapsed:    0.4s remaining:    0.1s\n",
      "[Parallel(n_jobs=8)]: Done   4 out of   8 | elapsed:    0.4s remaining:    0.4s\n",
      "[Parallel(n_jobs=8)]: Done   2 out of   8 | elapsed:    0.5s remaining:    1.4s\n",
      "[Parallel(n_jobs=8)]: Done   1 out of   8 | elapsed:    0.5s remaining:    3.4s\n",
      "[Parallel(n_jobs=8)]: Done   8 out of   8 | elapsed:    0.5s finished\n"
     ]
    },
    {
     "name": "stdout",
     "output_type": "stream",
     "text": [
      "6\n",
      "The events passed to the Epochs constructor are not chronologically ordered.\n",
      "100 matching events found\n",
      "No baseline correction applied\n",
      "0 projection items activated\n",
      "0 bad epochs dropped\n"
     ]
    },
    {
     "name": "stderr",
     "output_type": "stream",
     "text": [
      "[Parallel(n_jobs=8)]: Done   1 out of   8 | elapsed:    0.3s remaining:    1.8s\n",
      "[Parallel(n_jobs=8)]: Done   6 out of   8 | elapsed:    0.3s remaining:    0.1s\n",
      "[Parallel(n_jobs=8)]: Done   2 out of   8 | elapsed:    0.3s remaining:    0.9s\n",
      "[Parallel(n_jobs=8)]: Done   4 out of   8 | elapsed:    0.4s remaining:    0.4s\n",
      "[Parallel(n_jobs=8)]: Done   8 out of   8 | elapsed:    0.4s finished\n",
      "[Parallel(n_jobs=8)]: Done   1 out of   3 | elapsed:    0.3s remaining:    0.6s\n",
      "[Parallel(n_jobs=8)]: Done   2 out of   6 | elapsed:    0.5s remaining:    1.0s\n",
      "[Parallel(n_jobs=8)]: Done   3 out of   7 | elapsed:    0.7s remaining:    0.9s\n",
      "[Parallel(n_jobs=8)]: Done   4 out of   8 | elapsed:    0.8s remaining:    0.8s\n",
      "[Parallel(n_jobs=8)]: Done   6 out of   8 | elapsed:    1.1s remaining:    0.4s\n",
      "[Parallel(n_jobs=8)]: Done   8 out of   8 | elapsed:    1.3s finished\n",
      "[Parallel(n_jobs=8)]: Done   4 out of   8 | elapsed:    0.4s remaining:    0.4s\n",
      "[Parallel(n_jobs=8)]: Done   6 out of   8 | elapsed:    0.4s remaining:    0.1s\n",
      "[Parallel(n_jobs=8)]: Done   1 out of   8 | elapsed:    0.4s remaining:    3.0s\n",
      "[Parallel(n_jobs=8)]: Done   2 out of   8 | elapsed:    0.4s remaining:    1.3s\n",
      "[Parallel(n_jobs=8)]: Done   8 out of   8 | elapsed:    0.5s finished\n"
     ]
    },
    {
     "name": "stdout",
     "output_type": "stream",
     "text": [
      "7\n",
      "The events passed to the Epochs constructor are not chronologically ordered.\n",
      "100 matching events found\n",
      "No baseline correction applied\n",
      "0 projection items activated\n",
      "0 bad epochs dropped\n"
     ]
    },
    {
     "name": "stderr",
     "output_type": "stream",
     "text": [
      "[Parallel(n_jobs=8)]: Done   1 out of   8 | elapsed:    0.2s remaining:    1.7s\n",
      "[Parallel(n_jobs=8)]: Done   2 out of   8 | elapsed:    0.3s remaining:    0.8s\n",
      "[Parallel(n_jobs=8)]: Done   4 out of   8 | elapsed:    0.3s remaining:    0.3s\n",
      "[Parallel(n_jobs=8)]: Done   6 out of   8 | elapsed:    0.3s remaining:    0.1s\n",
      "[Parallel(n_jobs=8)]: Done   8 out of   8 | elapsed:    0.4s finished\n",
      "[Parallel(n_jobs=8)]: Done   1 out of   3 | elapsed:    0.3s remaining:    0.7s\n",
      "[Parallel(n_jobs=8)]: Done   2 out of   3 | elapsed:    0.5s remaining:    0.2s\n",
      "[Parallel(n_jobs=8)]: Done   4 out of   8 | elapsed:    0.8s remaining:    0.8s\n",
      "[Parallel(n_jobs=8)]: Done   6 out of   8 | elapsed:    1.1s remaining:    0.4s\n",
      "[Parallel(n_jobs=8)]: Done   8 out of   8 | elapsed:    1.4s finished\n",
      "[Parallel(n_jobs=8)]: Done   4 out of   8 | elapsed:    0.4s remaining:    0.4s\n",
      "[Parallel(n_jobs=8)]: Done   1 out of   8 | elapsed:    0.5s remaining:    3.2s\n",
      "[Parallel(n_jobs=8)]: Done   6 out of   8 | elapsed:    0.5s remaining:    0.2s\n",
      "[Parallel(n_jobs=8)]: Done   2 out of   8 | elapsed:    0.5s remaining:    1.5s\n",
      "[Parallel(n_jobs=8)]: Done   8 out of   8 | elapsed:    0.5s finished\n"
     ]
    },
    {
     "name": "stdout",
     "output_type": "stream",
     "text": [
      "8\n",
      "The events passed to the Epochs constructor are not chronologically ordered.\n",
      "100 matching events found\n",
      "No baseline correction applied\n",
      "0 projection items activated\n",
      "0 bad epochs dropped\n"
     ]
    },
    {
     "name": "stderr",
     "output_type": "stream",
     "text": [
      "[Parallel(n_jobs=8)]: Done   4 out of   8 | elapsed:    0.3s remaining:    0.3s\n",
      "[Parallel(n_jobs=8)]: Done   6 out of   8 | elapsed:    0.3s remaining:    0.1s\n",
      "[Parallel(n_jobs=8)]: Done   1 out of   8 | elapsed:    0.3s remaining:    2.4s\n",
      "[Parallel(n_jobs=8)]: Done   2 out of   8 | elapsed:    0.4s remaining:    1.2s\n",
      "[Parallel(n_jobs=8)]: Done   8 out of   8 | elapsed:    0.4s finished\n",
      "[Parallel(n_jobs=8)]: Done   1 out of   2 | elapsed:    0.3s remaining:    0.3s\n",
      "[Parallel(n_jobs=8)]: Done   4 out of   8 | elapsed:    0.8s remaining:    0.8s\n",
      "[Parallel(n_jobs=8)]: Done   6 out of   8 | elapsed:    1.1s remaining:    0.4s\n",
      "[Parallel(n_jobs=8)]: Done   8 out of   8 | elapsed:    1.4s finished\n",
      "[Parallel(n_jobs=8)]: Done   4 out of   8 | elapsed:    0.4s remaining:    0.4s\n",
      "[Parallel(n_jobs=8)]: Done   2 out of   8 | elapsed:    0.5s remaining:    1.4s\n",
      "[Parallel(n_jobs=8)]: Done   6 out of   8 | elapsed:    0.5s remaining:    0.2s\n",
      "[Parallel(n_jobs=8)]: Done   1 out of   8 | elapsed:    0.5s remaining:    3.7s\n",
      "[Parallel(n_jobs=8)]: Done   8 out of   8 | elapsed:    0.5s finished\n"
     ]
    },
    {
     "name": "stdout",
     "output_type": "stream",
     "text": [
      "9\n",
      "The events passed to the Epochs constructor are not chronologically ordered.\n",
      "100 matching events found\n",
      "No baseline correction applied\n",
      "0 projection items activated\n",
      "0 bad epochs dropped\n"
     ]
    },
    {
     "name": "stderr",
     "output_type": "stream",
     "text": [
      "[Parallel(n_jobs=8)]: Done   1 out of   8 | elapsed:    0.2s remaining:    1.7s\n",
      "[Parallel(n_jobs=8)]: Done   2 out of   8 | elapsed:    0.3s remaining:    1.0s\n",
      "[Parallel(n_jobs=8)]: Done   6 out of   8 | elapsed:    0.4s remaining:    0.1s\n",
      "[Parallel(n_jobs=8)]: Done   4 out of   8 | elapsed:    0.4s remaining:    0.4s\n",
      "[Parallel(n_jobs=8)]: Done   8 out of   8 | elapsed:    0.4s finished\n",
      "[Parallel(n_jobs=8)]: Done   1 out of   4 | elapsed:    0.3s remaining:    0.9s\n",
      "[Parallel(n_jobs=8)]: Done   3 out of   5 | elapsed:    0.7s remaining:    0.4s\n",
      "[Parallel(n_jobs=8)]: Done   4 out of   6 | elapsed:    0.8s remaining:    0.4s\n",
      "[Parallel(n_jobs=8)]: Done   6 out of   8 | elapsed:    1.2s remaining:    0.4s\n",
      "[Parallel(n_jobs=8)]: Done   8 out of   8 | elapsed:    1.4s finished\n",
      "[Parallel(n_jobs=8)]: Done   6 out of   8 | elapsed:    0.4s remaining:    0.1s\n",
      "[Parallel(n_jobs=8)]: Done   4 out of   8 | elapsed:    0.4s remaining:    0.4s\n",
      "[Parallel(n_jobs=8)]: Done   1 out of   8 | elapsed:    0.4s remaining:    3.1s\n",
      "[Parallel(n_jobs=8)]: Done   2 out of   8 | elapsed:    0.5s remaining:    1.5s\n",
      "[Parallel(n_jobs=8)]: Done   8 out of   8 | elapsed:    0.5s finished\n"
     ]
    },
    {
     "name": "stdout",
     "output_type": "stream",
     "text": [
      "10\n",
      "The events passed to the Epochs constructor are not chronologically ordered.\n",
      "100 matching events found\n",
      "No baseline correction applied\n",
      "0 projection items activated\n",
      "0 bad epochs dropped\n"
     ]
    },
    {
     "name": "stderr",
     "output_type": "stream",
     "text": [
      "[Parallel(n_jobs=8)]: Done   2 out of   8 | elapsed:    0.3s remaining:    0.8s\n",
      "[Parallel(n_jobs=8)]: Done   1 out of   8 | elapsed:    0.3s remaining:    2.1s\n",
      "[Parallel(n_jobs=8)]: Done   4 out of   8 | elapsed:    0.4s remaining:    0.4s\n",
      "[Parallel(n_jobs=8)]: Done   6 out of   8 | elapsed:    0.4s remaining:    0.1s\n",
      "[Parallel(n_jobs=8)]: Done   8 out of   8 | elapsed:    0.4s finished\n",
      "[Parallel(n_jobs=8)]: Done   1 out of   2 | elapsed:    0.3s remaining:    0.3s\n",
      "[Parallel(n_jobs=8)]: Done   2 out of   6 | elapsed:    0.5s remaining:    0.9s\n",
      "[Parallel(n_jobs=8)]: Done   3 out of   7 | elapsed:    0.6s remaining:    0.8s\n",
      "[Parallel(n_jobs=8)]: Done   4 out of   8 | elapsed:    0.8s remaining:    0.8s\n",
      "[Parallel(n_jobs=8)]: Done   6 out of   8 | elapsed:    1.1s remaining:    0.4s\n",
      "[Parallel(n_jobs=8)]: Done   8 out of   8 | elapsed:    1.3s finished\n",
      "[Parallel(n_jobs=8)]: Done   4 out of   8 | elapsed:    0.4s remaining:    0.4s\n",
      "[Parallel(n_jobs=8)]: Done   6 out of   8 | elapsed:    0.4s remaining:    0.1s\n",
      "[Parallel(n_jobs=8)]: Done   2 out of   8 | elapsed:    0.5s remaining:    1.4s\n",
      "[Parallel(n_jobs=8)]: Done   1 out of   8 | elapsed:    0.5s remaining:    3.4s\n",
      "[Parallel(n_jobs=8)]: Done   8 out of   8 | elapsed:    0.5s finished\n"
     ]
    },
    {
     "name": "stdout",
     "output_type": "stream",
     "text": [
      "11\n",
      "The events passed to the Epochs constructor are not chronologically ordered.\n",
      "100 matching events found\n",
      "No baseline correction applied\n",
      "0 projection items activated\n",
      "0 bad epochs dropped\n"
     ]
    },
    {
     "name": "stderr",
     "output_type": "stream",
     "text": [
      "[Parallel(n_jobs=8)]: Done   4 out of   8 | elapsed:    0.3s remaining:    0.3s\n",
      "[Parallel(n_jobs=8)]: Done   1 out of   8 | elapsed:    0.3s remaining:    2.1s\n",
      "[Parallel(n_jobs=8)]: Done   6 out of   8 | elapsed:    0.4s remaining:    0.1s\n",
      "[Parallel(n_jobs=8)]: Done   2 out of   8 | elapsed:    0.4s remaining:    1.2s\n",
      "[Parallel(n_jobs=8)]: Done   8 out of   8 | elapsed:    0.4s finished\n",
      "[Parallel(n_jobs=8)]: Done   1 out of   4 | elapsed:    0.3s remaining:    0.9s\n",
      "[Parallel(n_jobs=8)]: Done   2 out of   6 | elapsed:    0.5s remaining:    1.0s\n",
      "[Parallel(n_jobs=8)]: Done   4 out of   8 | elapsed:    0.9s remaining:    0.9s\n",
      "[Parallel(n_jobs=8)]: Done   6 out of   8 | elapsed:    1.2s remaining:    0.4s\n",
      "[Parallel(n_jobs=8)]: Done   8 out of   8 | elapsed:    1.5s finished\n",
      "[Parallel(n_jobs=8)]: Done   4 out of   8 | elapsed:    0.4s remaining:    0.4s\n",
      "[Parallel(n_jobs=8)]: Done   1 out of   8 | elapsed:    0.4s remaining:    3.1s\n",
      "[Parallel(n_jobs=8)]: Done   2 out of   8 | elapsed:    0.5s remaining:    1.4s\n",
      "[Parallel(n_jobs=8)]: Done   6 out of   8 | elapsed:    0.5s remaining:    0.2s\n",
      "[Parallel(n_jobs=8)]: Done   8 out of   8 | elapsed:    0.5s finished\n"
     ]
    },
    {
     "name": "stdout",
     "output_type": "stream",
     "text": [
      "12\n",
      "The events passed to the Epochs constructor are not chronologically ordered.\n",
      "100 matching events found\n",
      "No baseline correction applied\n",
      "0 projection items activated\n",
      "0 bad epochs dropped\n"
     ]
    },
    {
     "name": "stderr",
     "output_type": "stream",
     "text": [
      "[Parallel(n_jobs=8)]: Done   2 out of   8 | elapsed:    0.3s remaining:    0.8s\n",
      "[Parallel(n_jobs=8)]: Done   1 out of   8 | elapsed:    0.3s remaining:    2.0s\n",
      "[Parallel(n_jobs=8)]: Done   4 out of   8 | elapsed:    0.3s remaining:    0.3s\n",
      "[Parallel(n_jobs=8)]: Done   6 out of   8 | elapsed:    0.4s remaining:    0.1s\n",
      "[Parallel(n_jobs=8)]: Done   8 out of   8 | elapsed:    0.4s finished\n",
      "[Parallel(n_jobs=8)]: Done   1 out of   7 | elapsed:    0.3s remaining:    1.7s\n",
      "[Parallel(n_jobs=8)]: Done   2 out of   8 | elapsed:    0.5s remaining:    1.4s\n",
      "[Parallel(n_jobs=8)]: Done   4 out of   8 | elapsed:    0.8s remaining:    0.8s\n",
      "[Parallel(n_jobs=8)]: Done   6 out of   8 | elapsed:    1.1s remaining:    0.4s\n",
      "[Parallel(n_jobs=8)]: Done   8 out of   8 | elapsed:    1.4s finished\n",
      "[Parallel(n_jobs=8)]: Done   4 out of   8 | elapsed:    0.4s remaining:    0.4s\n",
      "[Parallel(n_jobs=8)]: Done   2 out of   8 | elapsed:    0.5s remaining:    1.4s\n",
      "[Parallel(n_jobs=8)]: Done   6 out of   8 | elapsed:    0.5s remaining:    0.2s\n",
      "[Parallel(n_jobs=8)]: Done   1 out of   8 | elapsed:    0.5s remaining:    3.6s\n",
      "[Parallel(n_jobs=8)]: Done   8 out of   8 | elapsed:    0.5s finished\n"
     ]
    },
    {
     "name": "stdout",
     "output_type": "stream",
     "text": [
      "13\n",
      "The events passed to the Epochs constructor are not chronologically ordered.\n",
      "100 matching events found\n",
      "No baseline correction applied\n",
      "0 projection items activated\n",
      "0 bad epochs dropped\n"
     ]
    },
    {
     "name": "stderr",
     "output_type": "stream",
     "text": [
      "[Parallel(n_jobs=8)]: Done   1 out of   8 | elapsed:    0.2s remaining:    1.7s\n",
      "[Parallel(n_jobs=8)]: Done   6 out of   8 | elapsed:    0.3s remaining:    0.1s\n",
      "[Parallel(n_jobs=8)]: Done   4 out of   8 | elapsed:    0.3s remaining:    0.3s\n",
      "[Parallel(n_jobs=8)]: Done   2 out of   8 | elapsed:    0.4s remaining:    1.1s\n",
      "[Parallel(n_jobs=8)]: Done   8 out of   8 | elapsed:    0.4s finished\n",
      "[Parallel(n_jobs=8)]: Done   1 out of   4 | elapsed:    0.4s remaining:    1.2s\n",
      "[Parallel(n_jobs=8)]: Done   4 out of   8 | elapsed:    1.0s remaining:    1.0s\n",
      "[Parallel(n_jobs=8)]: Done   6 out of   8 | elapsed:    1.3s remaining:    0.4s\n",
      "[Parallel(n_jobs=8)]: Done   8 out of   8 | elapsed:    1.5s finished\n",
      "[Parallel(n_jobs=8)]: Done   6 out of   8 | elapsed:    0.4s remaining:    0.1s\n",
      "[Parallel(n_jobs=8)]: Done   1 out of   8 | elapsed:    0.4s remaining:    3.1s\n",
      "[Parallel(n_jobs=8)]: Done   4 out of   8 | elapsed:    0.5s remaining:    0.5s\n",
      "[Parallel(n_jobs=8)]: Done   2 out of   8 | elapsed:    0.5s remaining:    1.5s\n",
      "[Parallel(n_jobs=8)]: Done   8 out of   8 | elapsed:    0.5s finished\n"
     ]
    },
    {
     "name": "stdout",
     "output_type": "stream",
     "text": [
      "14\n",
      "The events passed to the Epochs constructor are not chronologically ordered.\n",
      "100 matching events found\n",
      "No baseline correction applied\n",
      "0 projection items activated\n",
      "0 bad epochs dropped\n"
     ]
    },
    {
     "name": "stderr",
     "output_type": "stream",
     "text": [
      "[Parallel(n_jobs=8)]: Done   2 out of   8 | elapsed:    0.3s remaining:    1.0s\n",
      "[Parallel(n_jobs=8)]: Done   4 out of   8 | elapsed:    0.4s remaining:    0.4s\n",
      "[Parallel(n_jobs=8)]: Done   6 out of   8 | elapsed:    0.4s remaining:    0.1s\n",
      "[Parallel(n_jobs=8)]: Done   1 out of   8 | elapsed:    0.5s remaining:    3.2s\n",
      "[Parallel(n_jobs=8)]: Done   8 out of   8 | elapsed:    0.5s finished\n",
      "[Parallel(n_jobs=8)]: Done   1 out of   3 | elapsed:    0.3s remaining:    0.6s\n",
      "[Parallel(n_jobs=8)]: Done   3 out of   7 | elapsed:    0.7s remaining:    0.9s\n",
      "[Parallel(n_jobs=8)]: Done   4 out of   8 | elapsed:    0.8s remaining:    0.8s\n",
      "[Parallel(n_jobs=8)]: Done   6 out of   8 | elapsed:    1.2s remaining:    0.4s\n",
      "[Parallel(n_jobs=8)]: Done   8 out of   8 | elapsed:    1.5s finished\n",
      "[Parallel(n_jobs=8)]: Done   2 out of   8 | elapsed:    0.4s remaining:    1.3s\n",
      "[Parallel(n_jobs=8)]: Done   1 out of   8 | elapsed:    0.5s remaining:    3.2s\n",
      "[Parallel(n_jobs=8)]: Done   6 out of   8 | elapsed:    0.5s remaining:    0.2s\n",
      "[Parallel(n_jobs=8)]: Done   4 out of   8 | elapsed:    0.5s remaining:    0.5s\n",
      "[Parallel(n_jobs=8)]: Done   8 out of   8 | elapsed:    0.5s finished\n"
     ]
    },
    {
     "name": "stdout",
     "output_type": "stream",
     "text": [
      "15\n",
      "The events passed to the Epochs constructor are not chronologically ordered.\n",
      "100 matching events found\n",
      "No baseline correction applied\n",
      "0 projection items activated\n",
      "0 bad epochs dropped\n"
     ]
    },
    {
     "name": "stderr",
     "output_type": "stream",
     "text": [
      "[Parallel(n_jobs=8)]: Done   1 out of   8 | elapsed:    0.2s remaining:    1.7s\n",
      "[Parallel(n_jobs=8)]: Done   4 out of   8 | elapsed:    0.3s remaining:    0.3s\n",
      "[Parallel(n_jobs=8)]: Done   6 out of   8 | elapsed:    0.3s remaining:    0.1s\n",
      "[Parallel(n_jobs=8)]: Done   2 out of   8 | elapsed:    0.4s remaining:    1.2s\n",
      "[Parallel(n_jobs=8)]: Done   8 out of   8 | elapsed:    0.4s finished\n",
      "[Parallel(n_jobs=8)]: Done   1 out of   2 | elapsed:    0.3s remaining:    0.3s\n",
      "[Parallel(n_jobs=8)]: Done   2 out of   3 | elapsed:    0.4s remaining:    0.2s\n",
      "[Parallel(n_jobs=8)]: Done   3 out of   5 | elapsed:    0.7s remaining:    0.5s\n",
      "[Parallel(n_jobs=8)]: Done   4 out of   6 | elapsed:    0.8s remaining:    0.4s\n",
      "[Parallel(n_jobs=8)]: Done   5 out of   7 | elapsed:    1.0s remaining:    0.4s\n",
      "[Parallel(n_jobs=8)]: Done   6 out of   8 | elapsed:    1.2s remaining:    0.4s\n",
      "[Parallel(n_jobs=8)]: Done   8 out of   8 | elapsed:    1.6s finished\n",
      "[Parallel(n_jobs=8)]: Done   1 out of   8 | elapsed:    0.4s remaining:    3.1s\n",
      "[Parallel(n_jobs=8)]: Done   4 out of   8 | elapsed:    0.5s remaining:    0.5s\n",
      "[Parallel(n_jobs=8)]: Done   2 out of   8 | elapsed:    0.5s remaining:    1.5s\n",
      "[Parallel(n_jobs=8)]: Done   6 out of   8 | elapsed:    0.5s remaining:    0.2s\n",
      "[Parallel(n_jobs=8)]: Done   8 out of   8 | elapsed:    0.5s finished\n"
     ]
    },
    {
     "name": "stdout",
     "output_type": "stream",
     "text": [
      "16\n",
      "The events passed to the Epochs constructor are not chronologically ordered.\n",
      "100 matching events found\n",
      "No baseline correction applied\n",
      "0 projection items activated\n",
      "0 bad epochs dropped\n"
     ]
    },
    {
     "name": "stderr",
     "output_type": "stream",
     "text": [
      "[Parallel(n_jobs=8)]: Done   1 out of   8 | elapsed:    0.3s remaining:    1.9s\n",
      "[Parallel(n_jobs=8)]: Done   4 out of   8 | elapsed:    0.3s remaining:    0.3s\n",
      "[Parallel(n_jobs=8)]: Done   2 out of   8 | elapsed:    0.4s remaining:    1.1s\n",
      "[Parallel(n_jobs=8)]: Done   6 out of   8 | elapsed:    0.4s remaining:    0.1s\n",
      "[Parallel(n_jobs=8)]: Done   8 out of   8 | elapsed:    0.4s finished\n",
      "[Parallel(n_jobs=8)]: Done   1 out of   3 | elapsed:    0.4s remaining:    0.8s\n",
      "[Parallel(n_jobs=8)]: Done   2 out of   3 | elapsed:    0.5s remaining:    0.2s\n",
      "[Parallel(n_jobs=8)]: Done   3 out of   5 | elapsed:    0.7s remaining:    0.5s\n",
      "[Parallel(n_jobs=8)]: Done   5 out of   7 | elapsed:    0.9s remaining:    0.4s\n",
      "[Parallel(n_jobs=8)]: Done   6 out of   8 | elapsed:    1.1s remaining:    0.4s\n",
      "[Parallel(n_jobs=8)]: Done   8 out of   8 | elapsed:    1.4s finished\n",
      "[Parallel(n_jobs=8)]: Done   6 out of   8 | elapsed:    0.4s remaining:    0.1s\n",
      "[Parallel(n_jobs=8)]: Done   4 out of   8 | elapsed:    0.4s remaining:    0.4s\n",
      "[Parallel(n_jobs=8)]: Done   1 out of   8 | elapsed:    0.4s remaining:    3.1s\n",
      "[Parallel(n_jobs=8)]: Done   2 out of   8 | elapsed:    0.5s remaining:    1.5s\n",
      "[Parallel(n_jobs=8)]: Done   8 out of   8 | elapsed:    0.5s finished\n"
     ]
    },
    {
     "name": "stdout",
     "output_type": "stream",
     "text": [
      "0\n",
      "The events passed to the Epochs constructor are not chronologically ordered.\n",
      "100 matching events found\n",
      "No baseline correction applied\n",
      "0 projection items activated\n",
      "0 bad epochs dropped\n"
     ]
    },
    {
     "name": "stderr",
     "output_type": "stream",
     "text": [
      "[Parallel(n_jobs=8)]: Done   4 out of   8 | elapsed:    0.2s remaining:    0.2s\n",
      "[Parallel(n_jobs=8)]: Done   2 out of   8 | elapsed:    0.3s remaining:    0.9s\n",
      "[Parallel(n_jobs=8)]: Done   6 out of   8 | elapsed:    0.4s remaining:    0.1s\n",
      "[Parallel(n_jobs=8)]: Done   1 out of   8 | elapsed:    0.4s remaining:    2.7s\n",
      "[Parallel(n_jobs=8)]: Done   8 out of   8 | elapsed:    0.5s finished\n",
      "[Parallel(n_jobs=8)]: Done   1 out of   3 | elapsed:    0.4s remaining:    0.7s\n",
      "[Parallel(n_jobs=8)]: Done   2 out of   4 | elapsed:    0.5s remaining:    0.5s\n",
      "[Parallel(n_jobs=8)]: Done   4 out of   8 | elapsed:    0.8s remaining:    0.8s\n",
      "[Parallel(n_jobs=8)]: Done   6 out of   8 | elapsed:    1.2s remaining:    0.4s\n",
      "[Parallel(n_jobs=8)]: Done   8 out of   8 | elapsed:    1.4s finished\n",
      "[Parallel(n_jobs=8)]: Done   6 out of   8 | elapsed:    0.4s remaining:    0.1s\n",
      "[Parallel(n_jobs=8)]: Done   1 out of   8 | elapsed:    0.4s remaining:    3.1s\n",
      "[Parallel(n_jobs=8)]: Done   4 out of   8 | elapsed:    0.5s remaining:    0.5s\n",
      "[Parallel(n_jobs=8)]: Done   2 out of   8 | elapsed:    0.5s remaining:    1.5s\n",
      "[Parallel(n_jobs=8)]: Done   8 out of   8 | elapsed:    0.5s finished\n"
     ]
    },
    {
     "name": "stdout",
     "output_type": "stream",
     "text": [
      "1\n",
      "The events passed to the Epochs constructor are not chronologically ordered.\n",
      "100 matching events found\n",
      "No baseline correction applied\n",
      "0 projection items activated\n",
      "0 bad epochs dropped\n"
     ]
    },
    {
     "name": "stderr",
     "output_type": "stream",
     "text": [
      "[Parallel(n_jobs=8)]: Done   1 out of   8 | elapsed:    0.2s remaining:    1.7s\n",
      "[Parallel(n_jobs=8)]: Done   4 out of   8 | elapsed:    0.3s remaining:    0.3s\n",
      "[Parallel(n_jobs=8)]: Done   2 out of   8 | elapsed:    0.3s remaining:    1.0s\n",
      "[Parallel(n_jobs=8)]: Done   6 out of   8 | elapsed:    0.4s remaining:    0.1s\n",
      "[Parallel(n_jobs=8)]: Done   8 out of   8 | elapsed:    0.4s finished\n",
      "[Parallel(n_jobs=8)]: Done   1 out of   2 | elapsed:    0.3s remaining:    0.3s\n",
      "[Parallel(n_jobs=8)]: Done   2 out of   3 | elapsed:    0.5s remaining:    0.2s\n",
      "[Parallel(n_jobs=8)]: Done   3 out of   5 | elapsed:    0.7s remaining:    0.5s\n",
      "[Parallel(n_jobs=8)]: Done   5 out of   7 | elapsed:    0.9s remaining:    0.4s\n",
      "[Parallel(n_jobs=8)]: Done   6 out of   8 | elapsed:    1.1s remaining:    0.4s\n",
      "[Parallel(n_jobs=8)]: Done   8 out of   8 | elapsed:    1.4s finished\n",
      "[Parallel(n_jobs=8)]: Done   4 out of   8 | elapsed:    0.4s remaining:    0.4s\n",
      "[Parallel(n_jobs=8)]: Done   2 out of   8 | elapsed:    0.4s remaining:    1.3s\n",
      "[Parallel(n_jobs=8)]: Done   6 out of   8 | elapsed:    0.5s remaining:    0.2s\n",
      "[Parallel(n_jobs=8)]: Done   1 out of   8 | elapsed:    0.5s remaining:    3.3s\n",
      "[Parallel(n_jobs=8)]: Done   8 out of   8 | elapsed:    0.5s finished\n"
     ]
    },
    {
     "name": "stdout",
     "output_type": "stream",
     "text": [
      "2\n",
      "The events passed to the Epochs constructor are not chronologically ordered.\n",
      "100 matching events found\n",
      "No baseline correction applied\n",
      "0 projection items activated\n",
      "0 bad epochs dropped\n"
     ]
    },
    {
     "name": "stderr",
     "output_type": "stream",
     "text": [
      "[Parallel(n_jobs=8)]: Done   2 out of   8 | elapsed:    0.3s remaining:    1.0s\n",
      "[Parallel(n_jobs=8)]: Done   1 out of   8 | elapsed:    0.3s remaining:    2.4s\n",
      "[Parallel(n_jobs=8)]: Done   4 out of   8 | elapsed:    0.4s remaining:    0.4s\n",
      "[Parallel(n_jobs=8)]: Done   6 out of   8 | elapsed:    0.5s remaining:    0.2s\n",
      "[Parallel(n_jobs=8)]: Done   8 out of   8 | elapsed:    0.5s finished\n",
      "[Parallel(n_jobs=8)]: Done   1 out of   4 | elapsed:    0.4s remaining:    1.1s\n",
      "[Parallel(n_jobs=8)]: Done   2 out of   4 | elapsed:    0.5s remaining:    0.5s\n",
      "[Parallel(n_jobs=8)]: Done   4 out of   8 | elapsed:    0.8s remaining:    0.8s\n",
      "[Parallel(n_jobs=8)]: Done   6 out of   8 | elapsed:    1.1s remaining:    0.4s\n",
      "[Parallel(n_jobs=8)]: Done   8 out of   8 | elapsed:    1.4s finished\n",
      "[Parallel(n_jobs=8)]: Done   4 out of   8 | elapsed:    0.4s remaining:    0.4s\n",
      "[Parallel(n_jobs=8)]: Done   6 out of   8 | elapsed:    0.4s remaining:    0.1s\n",
      "[Parallel(n_jobs=8)]: Done   2 out of   8 | elapsed:    0.5s remaining:    1.4s\n",
      "[Parallel(n_jobs=8)]: Done   1 out of   8 | elapsed:    0.5s remaining:    3.7s\n",
      "[Parallel(n_jobs=8)]: Done   8 out of   8 | elapsed:    0.5s finished\n"
     ]
    },
    {
     "name": "stdout",
     "output_type": "stream",
     "text": [
      "3\n",
      "The events passed to the Epochs constructor are not chronologically ordered.\n",
      "100 matching events found\n",
      "No baseline correction applied\n",
      "0 projection items activated\n",
      "0 bad epochs dropped\n"
     ]
    },
    {
     "name": "stderr",
     "output_type": "stream",
     "text": [
      "[Parallel(n_jobs=8)]: Done   1 out of   8 | elapsed:    0.2s remaining:    1.7s\n",
      "[Parallel(n_jobs=8)]: Done   4 out of   8 | elapsed:    0.3s remaining:    0.3s\n",
      "[Parallel(n_jobs=8)]: Done   6 out of   8 | elapsed:    0.3s remaining:    0.1s\n",
      "[Parallel(n_jobs=8)]: Done   2 out of   8 | elapsed:    0.4s remaining:    1.2s\n",
      "[Parallel(n_jobs=8)]: Done   8 out of   8 | elapsed:    0.4s finished\n",
      "[Parallel(n_jobs=8)]: Done   1 out of   4 | elapsed:    0.4s remaining:    1.1s\n",
      "[Parallel(n_jobs=8)]: Done   2 out of   8 | elapsed:    0.5s remaining:    1.4s\n",
      "[Parallel(n_jobs=8)]: Done   4 out of   8 | elapsed:    0.8s remaining:    0.8s\n",
      "[Parallel(n_jobs=8)]: Done   6 out of   8 | elapsed:    1.1s remaining:    0.4s\n",
      "[Parallel(n_jobs=8)]: Done   8 out of   8 | elapsed:    1.4s finished\n",
      "[Parallel(n_jobs=8)]: Done   6 out of   8 | elapsed:    0.4s remaining:    0.1s\n",
      "[Parallel(n_jobs=8)]: Done   4 out of   8 | elapsed:    0.5s remaining:    0.5s\n",
      "[Parallel(n_jobs=8)]: Done   1 out of   8 | elapsed:    0.5s remaining:    3.4s\n",
      "[Parallel(n_jobs=8)]: Done   2 out of   8 | elapsed:    0.5s remaining:    1.5s\n",
      "[Parallel(n_jobs=8)]: Done   8 out of   8 | elapsed:    0.5s finished\n"
     ]
    },
    {
     "name": "stdout",
     "output_type": "stream",
     "text": [
      "4\n",
      "The events passed to the Epochs constructor are not chronologically ordered.\n",
      "100 matching events found\n",
      "No baseline correction applied\n",
      "0 projection items activated\n",
      "0 bad epochs dropped\n"
     ]
    },
    {
     "name": "stderr",
     "output_type": "stream",
     "text": [
      "[Parallel(n_jobs=8)]: Done   1 out of   8 | elapsed:    0.3s remaining:    2.0s\n",
      "[Parallel(n_jobs=8)]: Done   2 out of   8 | elapsed:    0.3s remaining:    0.9s\n",
      "[Parallel(n_jobs=8)]: Done   6 out of   8 | elapsed:    0.3s remaining:    0.1s\n",
      "[Parallel(n_jobs=8)]: Done   4 out of   8 | elapsed:    0.4s remaining:    0.4s\n",
      "[Parallel(n_jobs=8)]: Done   8 out of   8 | elapsed:    0.4s finished\n",
      "[Parallel(n_jobs=8)]: Done   1 out of   3 | elapsed:    0.3s remaining:    0.7s\n",
      "[Parallel(n_jobs=8)]: Done   2 out of   4 | elapsed:    0.5s remaining:    0.5s\n",
      "[Parallel(n_jobs=8)]: Done   4 out of   8 | elapsed:    0.8s remaining:    0.8s\n",
      "[Parallel(n_jobs=8)]: Done   6 out of   8 | elapsed:    1.1s remaining:    0.4s\n",
      "[Parallel(n_jobs=8)]: Done   8 out of   8 | elapsed:    1.4s finished\n",
      "[Parallel(n_jobs=8)]: Done   4 out of   8 | elapsed:    0.4s remaining:    0.4s\n",
      "[Parallel(n_jobs=8)]: Done   1 out of   8 | elapsed:    0.4s remaining:    3.1s\n",
      "[Parallel(n_jobs=8)]: Done   6 out of   8 | elapsed:    0.5s remaining:    0.2s\n",
      "[Parallel(n_jobs=8)]: Done   2 out of   8 | elapsed:    0.5s remaining:    1.5s\n",
      "[Parallel(n_jobs=8)]: Done   8 out of   8 | elapsed:    0.5s finished\n"
     ]
    },
    {
     "name": "stdout",
     "output_type": "stream",
     "text": [
      "5\n",
      "The events passed to the Epochs constructor are not chronologically ordered.\n",
      "100 matching events found\n",
      "No baseline correction applied\n",
      "0 projection items activated\n",
      "0 bad epochs dropped\n"
     ]
    },
    {
     "name": "stderr",
     "output_type": "stream",
     "text": [
      "[Parallel(n_jobs=8)]: Done   1 out of   8 | elapsed:    0.3s remaining:    1.8s\n",
      "[Parallel(n_jobs=8)]: Done   2 out of   8 | elapsed:    0.3s remaining:    0.9s\n",
      "[Parallel(n_jobs=8)]: Done   4 out of   8 | elapsed:    0.3s remaining:    0.3s\n",
      "[Parallel(n_jobs=8)]: Done   6 out of   8 | elapsed:    0.4s remaining:    0.1s\n",
      "[Parallel(n_jobs=8)]: Done   8 out of   8 | elapsed:    0.4s finished\n",
      "[Parallel(n_jobs=8)]: Done   1 out of   3 | elapsed:    0.4s remaining:    0.8s\n",
      "[Parallel(n_jobs=8)]: Done   2 out of   3 | elapsed:    0.5s remaining:    0.3s\n",
      "[Parallel(n_jobs=8)]: Done   6 out of   8 | elapsed:    1.2s remaining:    0.4s\n",
      "[Parallel(n_jobs=8)]: Done   8 out of   8 | elapsed:    1.5s finished\n",
      "[Parallel(n_jobs=8)]: Done   6 out of   8 | elapsed:    0.4s remaining:    0.1s\n",
      "[Parallel(n_jobs=8)]: Done   2 out of   8 | elapsed:    0.4s remaining:    1.3s\n",
      "[Parallel(n_jobs=8)]: Done   1 out of   8 | elapsed:    0.5s remaining:    3.3s\n",
      "[Parallel(n_jobs=8)]: Done   4 out of   8 | elapsed:    0.5s remaining:    0.5s\n",
      "[Parallel(n_jobs=8)]: Done   8 out of   8 | elapsed:    0.5s finished\n"
     ]
    },
    {
     "name": "stdout",
     "output_type": "stream",
     "text": [
      "6\n",
      "The events passed to the Epochs constructor are not chronologically ordered.\n",
      "100 matching events found\n",
      "No baseline correction applied\n",
      "0 projection items activated\n",
      "0 bad epochs dropped\n"
     ]
    },
    {
     "name": "stderr",
     "output_type": "stream",
     "text": [
      "[Parallel(n_jobs=8)]: Done   4 out of   8 | elapsed:    0.2s remaining:    0.2s\n",
      "[Parallel(n_jobs=8)]: Done   1 out of   8 | elapsed:    0.3s remaining:    1.9s\n",
      "[Parallel(n_jobs=8)]: Done   2 out of   8 | elapsed:    0.3s remaining:    0.9s\n",
      "[Parallel(n_jobs=8)]: Done   6 out of   8 | elapsed:    0.4s remaining:    0.1s\n",
      "[Parallel(n_jobs=8)]: Done   8 out of   8 | elapsed:    0.4s finished\n",
      "[Parallel(n_jobs=8)]: Done   1 out of   4 | elapsed:    0.3s remaining:    1.0s\n",
      "[Parallel(n_jobs=8)]: Done   2 out of   8 | elapsed:    0.5s remaining:    1.5s\n",
      "[Parallel(n_jobs=8)]: Done   4 out of   8 | elapsed:    0.9s remaining:    0.9s\n",
      "[Parallel(n_jobs=8)]: Done   6 out of   8 | elapsed:    1.2s remaining:    0.4s\n",
      "[Parallel(n_jobs=8)]: Done   8 out of   8 | elapsed:    1.6s finished\n",
      "[Parallel(n_jobs=8)]: Done   4 out of   8 | elapsed:    0.4s remaining:    0.4s\n",
      "[Parallel(n_jobs=8)]: Done   1 out of   8 | elapsed:    0.4s remaining:    3.1s\n",
      "[Parallel(n_jobs=8)]: Done   6 out of   8 | elapsed:    0.5s remaining:    0.2s\n",
      "[Parallel(n_jobs=8)]: Done   2 out of   8 | elapsed:    0.5s remaining:    1.4s\n",
      "[Parallel(n_jobs=8)]: Done   8 out of   8 | elapsed:    0.5s finished\n"
     ]
    },
    {
     "name": "stdout",
     "output_type": "stream",
     "text": [
      "7\n",
      "The events passed to the Epochs constructor are not chronologically ordered.\n",
      "100 matching events found\n",
      "No baseline correction applied\n",
      "0 projection items activated\n",
      "0 bad epochs dropped\n"
     ]
    },
    {
     "name": "stderr",
     "output_type": "stream",
     "text": [
      "[Parallel(n_jobs=8)]: Done   1 out of   8 | elapsed:    0.2s remaining:    1.6s\n",
      "[Parallel(n_jobs=8)]: Done   2 out of   8 | elapsed:    0.3s remaining:    0.9s\n",
      "[Parallel(n_jobs=8)]: Done   6 out of   8 | elapsed:    0.3s remaining:    0.1s\n",
      "[Parallel(n_jobs=8)]: Done   4 out of   8 | elapsed:    0.4s remaining:    0.4s\n",
      "[Parallel(n_jobs=8)]: Done   8 out of   8 | elapsed:    0.4s finished\n",
      "[Parallel(n_jobs=8)]: Done   1 out of   4 | elapsed:    0.3s remaining:    1.0s\n",
      "[Parallel(n_jobs=8)]: Done   2 out of   6 | elapsed:    0.5s remaining:    1.0s\n",
      "[Parallel(n_jobs=8)]: Done   4 out of   8 | elapsed:    0.8s remaining:    0.8s\n",
      "[Parallel(n_jobs=8)]: Done   6 out of   8 | elapsed:    1.1s remaining:    0.4s\n",
      "[Parallel(n_jobs=8)]: Done   8 out of   8 | elapsed:    1.4s finished\n",
      "[Parallel(n_jobs=8)]: Done   6 out of   8 | elapsed:    0.4s remaining:    0.1s\n",
      "[Parallel(n_jobs=8)]: Done   2 out of   8 | elapsed:    0.5s remaining:    1.4s\n",
      "[Parallel(n_jobs=8)]: Done   4 out of   8 | elapsed:    0.5s remaining:    0.5s\n",
      "[Parallel(n_jobs=8)]: Done   1 out of   8 | elapsed:    0.5s remaining:    3.6s\n",
      "[Parallel(n_jobs=8)]: Done   8 out of   8 | elapsed:    0.5s finished\n"
     ]
    },
    {
     "name": "stdout",
     "output_type": "stream",
     "text": [
      "8\n",
      "The events passed to the Epochs constructor are not chronologically ordered.\n",
      "100 matching events found\n",
      "No baseline correction applied\n",
      "0 projection items activated\n",
      "0 bad epochs dropped\n"
     ]
    },
    {
     "name": "stderr",
     "output_type": "stream",
     "text": [
      "[Parallel(n_jobs=8)]: Done   2 out of   8 | elapsed:    0.3s remaining:    0.8s\n",
      "[Parallel(n_jobs=8)]: Done   1 out of   8 | elapsed:    0.3s remaining:    2.0s\n",
      "[Parallel(n_jobs=8)]: Done   4 out of   8 | elapsed:    0.3s remaining:    0.3s\n",
      "[Parallel(n_jobs=8)]: Done   6 out of   8 | elapsed:    0.3s remaining:    0.1s\n",
      "[Parallel(n_jobs=8)]: Done   8 out of   8 | elapsed:    0.4s finished\n",
      "[Parallel(n_jobs=8)]: Done   1 out of   3 | elapsed:    0.3s remaining:    0.6s\n",
      "[Parallel(n_jobs=8)]: Done   4 out of   8 | elapsed:    0.9s remaining:    0.9s\n",
      "[Parallel(n_jobs=8)]: Done   6 out of   8 | elapsed:    1.2s remaining:    0.4s\n",
      "[Parallel(n_jobs=8)]: Done   8 out of   8 | elapsed:    1.5s finished\n",
      "[Parallel(n_jobs=8)]: Done   2 out of   8 | elapsed:    0.4s remaining:    1.3s\n",
      "[Parallel(n_jobs=8)]: Done   1 out of   8 | elapsed:    0.4s remaining:    3.1s\n",
      "[Parallel(n_jobs=8)]: Done   4 out of   8 | elapsed:    0.5s remaining:    0.5s\n",
      "[Parallel(n_jobs=8)]: Done   6 out of   8 | elapsed:    0.5s remaining:    0.2s\n",
      "[Parallel(n_jobs=8)]: Done   8 out of   8 | elapsed:    0.5s finished\n"
     ]
    },
    {
     "name": "stdout",
     "output_type": "stream",
     "text": [
      "9\n",
      "The events passed to the Epochs constructor are not chronologically ordered.\n",
      "100 matching events found\n",
      "No baseline correction applied\n",
      "0 projection items activated\n",
      "0 bad epochs dropped\n"
     ]
    },
    {
     "name": "stderr",
     "output_type": "stream",
     "text": [
      "[Parallel(n_jobs=8)]: Done   2 out of   8 | elapsed:    0.3s remaining:    0.8s\n",
      "[Parallel(n_jobs=8)]: Done   1 out of   8 | elapsed:    0.3s remaining:    2.1s\n",
      "[Parallel(n_jobs=8)]: Done   4 out of   8 | elapsed:    0.3s remaining:    0.3s\n",
      "[Parallel(n_jobs=8)]: Done   6 out of   8 | elapsed:    0.3s remaining:    0.1s\n",
      "[Parallel(n_jobs=8)]: Done   8 out of   8 | elapsed:    0.4s finished\n",
      "[Parallel(n_jobs=8)]: Done   1 out of   4 | elapsed:    0.4s remaining:    1.3s\n",
      "[Parallel(n_jobs=8)]: Done   4 out of   8 | elapsed:    1.1s remaining:    1.1s\n",
      "[Parallel(n_jobs=8)]: Done   6 out of   8 | elapsed:    1.4s remaining:    0.5s\n",
      "[Parallel(n_jobs=8)]: Done   8 out of   8 | elapsed:    1.6s finished\n",
      "[Parallel(n_jobs=8)]: Done   4 out of   8 | elapsed:    0.4s remaining:    0.4s\n",
      "[Parallel(n_jobs=8)]: Done   1 out of   8 | elapsed:    0.5s remaining:    3.3s\n",
      "[Parallel(n_jobs=8)]: Done   6 out of   8 | elapsed:    0.5s remaining:    0.2s\n",
      "[Parallel(n_jobs=8)]: Done   2 out of   8 | elapsed:    0.5s remaining:    1.6s\n",
      "[Parallel(n_jobs=8)]: Done   8 out of   8 | elapsed:    0.5s finished\n"
     ]
    },
    {
     "name": "stdout",
     "output_type": "stream",
     "text": [
      "10\n",
      "The events passed to the Epochs constructor are not chronologically ordered.\n",
      "100 matching events found\n",
      "No baseline correction applied\n",
      "0 projection items activated\n",
      "0 bad epochs dropped\n"
     ]
    },
    {
     "name": "stderr",
     "output_type": "stream",
     "text": [
      "[Parallel(n_jobs=8)]: Done   1 out of   8 | elapsed:    0.2s remaining:    1.7s\n",
      "[Parallel(n_jobs=8)]: Done   2 out of   8 | elapsed:    0.3s remaining:    1.0s\n",
      "[Parallel(n_jobs=8)]: Done   4 out of   8 | elapsed:    0.3s remaining:    0.3s\n",
      "[Parallel(n_jobs=8)]: Done   6 out of   8 | elapsed:    0.4s remaining:    0.1s\n",
      "[Parallel(n_jobs=8)]: Done   8 out of   8 | elapsed:    0.4s finished\n",
      "[Parallel(n_jobs=8)]: Done   1 out of   2 | elapsed:    0.3s remaining:    0.3s\n",
      "[Parallel(n_jobs=8)]: Done   2 out of   6 | elapsed:    0.5s remaining:    1.0s\n",
      "[Parallel(n_jobs=8)]: Done   4 out of   8 | elapsed:    0.8s remaining:    0.8s\n",
      "[Parallel(n_jobs=8)]: Done   6 out of   8 | elapsed:    1.2s remaining:    0.4s\n",
      "[Parallel(n_jobs=8)]: Done   8 out of   8 | elapsed:    1.4s finished\n",
      "[Parallel(n_jobs=8)]: Done   4 out of   8 | elapsed:    0.4s remaining:    0.4s\n",
      "[Parallel(n_jobs=8)]: Done   6 out of   8 | elapsed:    0.4s remaining:    0.1s\n",
      "[Parallel(n_jobs=8)]: Done   2 out of   8 | elapsed:    0.5s remaining:    1.5s\n",
      "[Parallel(n_jobs=8)]: Done   1 out of   8 | elapsed:    0.5s remaining:    3.5s\n",
      "[Parallel(n_jobs=8)]: Done   8 out of   8 | elapsed:    0.5s finished\n"
     ]
    },
    {
     "name": "stdout",
     "output_type": "stream",
     "text": [
      "11\n",
      "The events passed to the Epochs constructor are not chronologically ordered.\n",
      "100 matching events found\n",
      "No baseline correction applied\n",
      "0 projection items activated\n",
      "0 bad epochs dropped\n"
     ]
    },
    {
     "name": "stderr",
     "output_type": "stream",
     "text": [
      "[Parallel(n_jobs=8)]: Done   2 out of   8 | elapsed:    0.3s remaining:    0.8s\n",
      "[Parallel(n_jobs=8)]: Done   1 out of   8 | elapsed:    0.3s remaining:    2.1s\n",
      "[Parallel(n_jobs=8)]: Done   4 out of   8 | elapsed:    0.3s remaining:    0.3s\n",
      "[Parallel(n_jobs=8)]: Done   6 out of   8 | elapsed:    0.4s remaining:    0.1s\n",
      "[Parallel(n_jobs=8)]: Done   8 out of   8 | elapsed:    0.5s finished\n",
      "[Parallel(n_jobs=8)]: Done   1 out of   3 | elapsed:    0.3s remaining:    0.7s\n",
      "[Parallel(n_jobs=8)]: Done   2 out of   3 | elapsed:    0.5s remaining:    0.2s\n",
      "[Parallel(n_jobs=8)]: Done   3 out of   5 | elapsed:    0.7s remaining:    0.5s\n",
      "[Parallel(n_jobs=8)]: Done   4 out of   8 | elapsed:    0.9s remaining:    0.9s\n",
      "[Parallel(n_jobs=8)]: Done   6 out of   8 | elapsed:    1.2s remaining:    0.4s\n",
      "[Parallel(n_jobs=8)]: Done   8 out of   8 | elapsed:    1.5s finished\n",
      "[Parallel(n_jobs=8)]: Done   1 out of   8 | elapsed:    0.5s remaining:    3.4s\n",
      "[Parallel(n_jobs=8)]: Done   6 out of   8 | elapsed:    0.5s remaining:    0.2s\n",
      "[Parallel(n_jobs=8)]: Done   4 out of   8 | elapsed:    0.5s remaining:    0.5s\n",
      "[Parallel(n_jobs=8)]: Done   2 out of   8 | elapsed:    0.5s remaining:    1.6s\n",
      "[Parallel(n_jobs=8)]: Done   8 out of   8 | elapsed:    0.6s finished\n"
     ]
    },
    {
     "name": "stdout",
     "output_type": "stream",
     "text": [
      "12\n",
      "The events passed to the Epochs constructor are not chronologically ordered.\n",
      "100 matching events found\n",
      "No baseline correction applied\n",
      "0 projection items activated\n",
      "0 bad epochs dropped\n"
     ]
    },
    {
     "name": "stderr",
     "output_type": "stream",
     "text": [
      "[Parallel(n_jobs=8)]: Done   1 out of   8 | elapsed:    0.2s remaining:    1.7s\n",
      "[Parallel(n_jobs=8)]: Done   4 out of   8 | elapsed:    0.3s remaining:    0.3s\n",
      "[Parallel(n_jobs=8)]: Done   2 out of   8 | elapsed:    0.3s remaining:    1.0s\n",
      "[Parallel(n_jobs=8)]: Done   6 out of   8 | elapsed:    0.4s remaining:    0.1s\n",
      "[Parallel(n_jobs=8)]: Done   8 out of   8 | elapsed:    0.4s finished\n",
      "[Parallel(n_jobs=8)]: Done   1 out of   3 | elapsed:    0.4s remaining:    0.8s\n",
      "[Parallel(n_jobs=8)]: Done   2 out of   6 | elapsed:    0.6s remaining:    1.1s\n",
      "[Parallel(n_jobs=8)]: Done   4 out of   8 | elapsed:    1.0s remaining:    1.0s\n",
      "[Parallel(n_jobs=8)]: Done   6 out of   8 | elapsed:    1.4s remaining:    0.5s\n",
      "[Parallel(n_jobs=8)]: Done   8 out of   8 | elapsed:    1.6s finished\n",
      "[Parallel(n_jobs=8)]: Done   4 out of   8 | elapsed:    0.4s remaining:    0.4s\n",
      "[Parallel(n_jobs=8)]: Done   6 out of   8 | elapsed:    0.4s remaining:    0.1s\n",
      "[Parallel(n_jobs=8)]: Done   2 out of   8 | elapsed:    0.5s remaining:    1.4s\n",
      "[Parallel(n_jobs=8)]: Done   1 out of   8 | elapsed:    0.6s remaining:    4.1s\n",
      "[Parallel(n_jobs=8)]: Done   8 out of   8 | elapsed:    0.6s finished\n"
     ]
    },
    {
     "name": "stdout",
     "output_type": "stream",
     "text": [
      "13\n",
      "The events passed to the Epochs constructor are not chronologically ordered.\n",
      "100 matching events found\n",
      "No baseline correction applied\n",
      "0 projection items activated\n",
      "0 bad epochs dropped\n"
     ]
    },
    {
     "name": "stderr",
     "output_type": "stream",
     "text": [
      "[Parallel(n_jobs=8)]: Done   1 out of   8 | elapsed:    0.2s remaining:    1.7s\n",
      "[Parallel(n_jobs=8)]: Done   6 out of   8 | elapsed:    0.3s remaining:    0.1s\n",
      "[Parallel(n_jobs=8)]: Done   2 out of   8 | elapsed:    0.3s remaining:    1.0s\n",
      "[Parallel(n_jobs=8)]: Done   4 out of   8 | elapsed:    0.4s remaining:    0.4s\n",
      "[Parallel(n_jobs=8)]: Done   8 out of   8 | elapsed:    0.4s finished\n",
      "[Parallel(n_jobs=8)]: Done   1 out of   3 | elapsed:    0.3s remaining:    0.5s\n",
      "[Parallel(n_jobs=8)]: Done   2 out of   6 | elapsed:    0.5s remaining:    1.1s\n",
      "[Parallel(n_jobs=8)]: Done   4 out of   8 | elapsed:    0.9s remaining:    0.9s\n",
      "[Parallel(n_jobs=8)]: Done   6 out of   8 | elapsed:    1.3s remaining:    0.4s\n",
      "[Parallel(n_jobs=8)]: Done   8 out of   8 | elapsed:    1.5s finished\n",
      "[Parallel(n_jobs=8)]: Done   4 out of   8 | elapsed:    0.4s remaining:    0.4s\n",
      "[Parallel(n_jobs=8)]: Done   6 out of   8 | elapsed:    0.4s remaining:    0.1s\n",
      "[Parallel(n_jobs=8)]: Done   2 out of   8 | elapsed:    0.5s remaining:    1.4s\n",
      "[Parallel(n_jobs=8)]: Done   1 out of   8 | elapsed:    0.5s remaining:    3.4s\n",
      "[Parallel(n_jobs=8)]: Done   8 out of   8 | elapsed:    0.5s finished\n"
     ]
    },
    {
     "name": "stdout",
     "output_type": "stream",
     "text": [
      "14\n",
      "The events passed to the Epochs constructor are not chronologically ordered.\n",
      "100 matching events found\n",
      "No baseline correction applied\n",
      "0 projection items activated\n",
      "0 bad epochs dropped\n"
     ]
    },
    {
     "name": "stderr",
     "output_type": "stream",
     "text": [
      "[Parallel(n_jobs=8)]: Done   4 out of   8 | elapsed:    0.2s remaining:    0.2s\n",
      "[Parallel(n_jobs=8)]: Done   1 out of   8 | elapsed:    0.3s remaining:    2.0s\n",
      "[Parallel(n_jobs=8)]: Done   6 out of   8 | elapsed:    0.3s remaining:    0.1s\n",
      "[Parallel(n_jobs=8)]: Done   2 out of   8 | elapsed:    0.4s remaining:    1.1s\n",
      "[Parallel(n_jobs=8)]: Done   8 out of   8 | elapsed:    0.4s finished\n",
      "[Parallel(n_jobs=8)]: Done   1 out of   3 | elapsed:    0.3s remaining:    0.6s\n",
      "[Parallel(n_jobs=8)]: Done   4 out of   8 | elapsed:    0.9s remaining:    0.9s\n",
      "[Parallel(n_jobs=8)]: Done   6 out of   8 | elapsed:    1.2s remaining:    0.4s\n",
      "[Parallel(n_jobs=8)]: Done   8 out of   8 | elapsed:    1.5s finished\n",
      "[Parallel(n_jobs=8)]: Done   4 out of   8 | elapsed:    0.4s remaining:    0.4s\n",
      "[Parallel(n_jobs=8)]: Done   2 out of   8 | elapsed:    0.5s remaining:    1.4s\n",
      "[Parallel(n_jobs=8)]: Done   1 out of   8 | elapsed:    0.5s remaining:    3.5s\n",
      "[Parallel(n_jobs=8)]: Done   6 out of   8 | elapsed:    0.6s remaining:    0.2s\n",
      "[Parallel(n_jobs=8)]: Done   8 out of   8 | elapsed:    0.6s finished\n"
     ]
    },
    {
     "name": "stdout",
     "output_type": "stream",
     "text": [
      "15\n",
      "The events passed to the Epochs constructor are not chronologically ordered.\n",
      "100 matching events found\n",
      "No baseline correction applied\n",
      "0 projection items activated\n",
      "0 bad epochs dropped\n"
     ]
    },
    {
     "name": "stderr",
     "output_type": "stream",
     "text": [
      "[Parallel(n_jobs=8)]: Done   1 out of   8 | elapsed:    0.3s remaining:    2.0s\n",
      "[Parallel(n_jobs=8)]: Done   2 out of   8 | elapsed:    0.3s remaining:    1.0s\n",
      "[Parallel(n_jobs=8)]: Done   4 out of   8 | elapsed:    0.3s remaining:    0.3s\n",
      "[Parallel(n_jobs=8)]: Done   6 out of   8 | elapsed:    0.4s remaining:    0.1s\n",
      "[Parallel(n_jobs=8)]: Done   8 out of   8 | elapsed:    0.4s finished\n",
      "[Parallel(n_jobs=8)]: Done   1 out of   6 | elapsed:    0.3s remaining:    1.6s\n",
      "[Parallel(n_jobs=8)]: Done   2 out of   8 | elapsed:    0.6s remaining:    1.7s\n",
      "[Parallel(n_jobs=8)]: Done   4 out of   8 | elapsed:    1.0s remaining:    1.0s\n",
      "[Parallel(n_jobs=8)]: Done   6 out of   8 | elapsed:    1.3s remaining:    0.4s\n",
      "[Parallel(n_jobs=8)]: Done   8 out of   8 | elapsed:    1.7s finished\n",
      "[Parallel(n_jobs=8)]: Done   6 out of   8 | elapsed:    0.4s remaining:    0.1s\n",
      "[Parallel(n_jobs=8)]: Done   4 out of   8 | elapsed:    0.4s remaining:    0.4s\n",
      "[Parallel(n_jobs=8)]: Done   2 out of   8 | elapsed:    0.5s remaining:    1.4s\n",
      "[Parallel(n_jobs=8)]: Done   1 out of   8 | elapsed:    0.5s remaining:    3.4s\n",
      "[Parallel(n_jobs=8)]: Done   8 out of   8 | elapsed:    0.5s finished\n"
     ]
    },
    {
     "name": "stdout",
     "output_type": "stream",
     "text": [
      "16\n",
      "The events passed to the Epochs constructor are not chronologically ordered.\n",
      "100 matching events found\n",
      "No baseline correction applied\n",
      "0 projection items activated\n",
      "0 bad epochs dropped\n"
     ]
    },
    {
     "name": "stderr",
     "output_type": "stream",
     "text": [
      "[Parallel(n_jobs=8)]: Done   4 out of   8 | elapsed:    0.3s remaining:    0.3s\n",
      "[Parallel(n_jobs=8)]: Done   2 out of   8 | elapsed:    0.4s remaining:    1.1s\n",
      "[Parallel(n_jobs=8)]: Done   1 out of   8 | elapsed:    0.4s remaining:    2.8s\n",
      "[Parallel(n_jobs=8)]: Done   6 out of   8 | elapsed:    0.4s remaining:    0.1s\n",
      "[Parallel(n_jobs=8)]: Done   8 out of   8 | elapsed:    0.4s finished\n",
      "[Parallel(n_jobs=8)]: Done   1 out of   4 | elapsed:    0.3s remaining:    0.8s\n",
      "[Parallel(n_jobs=8)]: Done   4 out of   8 | elapsed:    0.9s remaining:    0.9s\n",
      "[Parallel(n_jobs=8)]: Done   6 out of   8 | elapsed:    1.2s remaining:    0.4s\n",
      "[Parallel(n_jobs=8)]: Done   8 out of   8 | elapsed:    1.6s finished\n",
      "[Parallel(n_jobs=8)]: Done   4 out of   8 | elapsed:    0.5s remaining:    0.5s\n",
      "[Parallel(n_jobs=8)]: Done   2 out of   8 | elapsed:    0.5s remaining:    1.5s\n",
      "[Parallel(n_jobs=8)]: Done   1 out of   8 | elapsed:    0.5s remaining:    3.7s\n",
      "[Parallel(n_jobs=8)]: Done   6 out of   8 | elapsed:    0.5s remaining:    0.2s\n",
      "[Parallel(n_jobs=8)]: Done   8 out of   8 | elapsed:    0.5s finished\n"
     ]
    },
    {
     "data": {
      "image/png": "[encoded data removed]",
      "text/plain": [
       "<matplotlib.figure.Figure at 0x7f15e4462d90>"
      ]
     },
     "metadata": {},
     "output_type": "display_data"
    },
    {
     "data": {
      "image/png": "[encoded data removed]",
      "text/plain": [
       "<matplotlib.figure.Figure at 0x7f15e43c4a10>"
      ]
     },
     "metadata": {},
     "output_type": "display_data"
    },
    {
     "data": {
      "image/png": "[encoded data removed]",
      "text/plain": [
       "<matplotlib.figure.Figure at 0x7f15e4538190>"
      ]
     },
     "metadata": {},
     "output_type": "display_data"
    },
    {
     "data": {
      "image/png": "[encoded data removed]",
      "text/plain": [
       "<matplotlib.figure.Figure at 0x7f15e4377710>"
      ]
     },
     "metadata": {},
     "output_type": "display_data"
    }
   ],
   "source": [
    "# Example across multiple subjects\n",
    "scenari = dict(\n",
    "    jitter=dict(latency=.01, jitter=.0025),\n",
    "    metastable=dict(jitter=.0,\n",
    "                    latency=np.linspace(.01, .50, 50),\n",
    "                    snr=np.r_[np.linspace(.5, .1, 5), [0] * 45])\n",
    ")\n",
    "for name, params in scenari.iteritems():\n",
    "    scores = list()\n",
    "    for subject in range(17):\n",
    "        print subject\n",
    "        epochs, y = simulate_data(**params)\n",
    "        epochs._data[:, :, 1:] = epochs._data[:, :, 1:] - epochs._data[:, :, :-1]\n",
    "        gat = GeneralizationAcrossTime(n_jobs=-1)\n",
    "        gat.fit(epochs, y)\n",
    "        score = gat.score(epochs, y)\n",
    "        scores.append(score)\n",
    "    gat.scores_ = np.mean(scores, axis=0)\n",
    "    gat.plot(show=False, title='dynamic jitter')\n",
    "    gat.plot_times([.050, .150], show=False, chance=.5)\n",
    "plt.show()"
   ]
  },
  {
   "cell_type": "markdown",
   "metadata": {},
   "source": [
    "# Trying to filter"
   ]
  },
  {
   "cell_type": "code",
   "execution_count": 24,
   "metadata": {
    "collapsed": false
   },
   "outputs": [],
   "source": [
    "# Main pipeline\n",
    "\n",
    "def gat_scores(epochs, y, freqs=[None, None]):\n",
    "    from mne.filter import band_pass_filter, high_pass_filter, low_pass_filter\n",
    "        \n",
    "    # Filter data\n",
    "    if freqs[0] is not None and freqs[1] is not None:\n",
    "        epochs._data = band_pass_filter(\n",
    "            epochs._data, Fs=epochs.info['sfreq'],\n",
    "            Fp0=freqs[0], Fp1=freqs[1])\n",
    "    elif freqs[0] is None and freqs[1] is not None:\n",
    "        epochs._data = low_pass_filter(\n",
    "            epochs._data, Fs=epochs.info['sfreq'],\n",
    "            Fp=freqs[1])\n",
    "    elif freqs[1] is None and freqs[0] is not None:\n",
    "        epochs._data = high_pass_filter(\n",
    "            epochs._data, Fs=epochs.info['sfreq'],\n",
    "            Fp=freqs[0])\n",
    "    \n",
    "    # Downsample for speed purposes\n",
    "    epochs.decimate(3, copy=False)\n",
    "    \n",
    "    # Apply analysis\n",
    "    gat = GeneralizationAcrossTime(clf=analysis['clf'],\n",
    "                                   cv=analysis['cv'],\n",
    "                                   scorer=analysis['scorer'],\n",
    "                                   n_jobs=-1)\n",
    "    gat.fit(epochs, y)\n",
    "    scores = gat.score(epochs, y)\n",
    "    \n",
    "    return gat\n",
    "\n",
    "def quantify_metastability():\n",
    "    # XXX todo\n",
    "    pass"
   ]
  },
  {
   "cell_type": "code",
   "execution_count": 27,
   "metadata": {
    "collapsed": false,
    "scrolled": true
   },
   "outputs": [
    {
     "name": "stderr",
     "output_type": "stream",
     "text": [
      "/home/jrking/anaconda/lib/python2.7/site-packages/ipykernel/__main__.py:36: DeprecationWarning: using a non-integer number instead of an integer will result in an error in the future\n",
      "/home/jrking/anaconda/lib/python2.7/site-packages/ipykernel/__main__.py:62: RuntimeWarning: The events passed to the Epochs constructor are not chronologically ordered.\n"
     ]
    },
    {
     "name": "stdout",
     "output_type": "stream",
     "text": [
      "0\n",
      "The events passed to the Epochs constructor are not chronologically ordered.\n",
      "100 matching events found\n",
      "No baseline correction applied\n",
      "0 projection items activated\n",
      "0 bad epochs dropped\n",
      "Attenuation at stop frequency 10.5Hz is only 5.2dB.\n"
     ]
    },
    {
     "name": "stderr",
     "output_type": "stream",
     "text": [
      "/home/jrking/anaconda/lib/python2.7/site-packages/ipykernel/__main__.py:14: RuntimeWarning: Attenuation at stop frequency 10.5Hz is only 5.2dB.\n",
      "/home/jrking/anaconda/lib/python2.7/site-packages/ipykernel/__main__.py:21: RuntimeWarning: The measurement information indicates a low-pass frequency of 128 Hz. The decim=3 parameter will result in a sampling frequency of 85.3333 Hz, which can cause aliasing artifacts.\n"
     ]
    },
    {
     "name": "stdout",
     "output_type": "stream",
     "text": [
      "The measurement information indicates a low-pass frequency of 128 Hz. The decim=3 parameter will result in a sampling frequency of 85.3333 Hz, which can cause aliasing artifacts.\n"
     ]
    },
    {
     "name": "stderr",
     "output_type": "stream",
     "text": [
      "[Parallel(n_jobs=8)]: Done   2 out of   8 | elapsed:    0.1s remaining:    0.3s\n",
      "[Parallel(n_jobs=8)]: Done   4 out of   8 | elapsed:    0.1s remaining:    0.1s\n",
      "[Parallel(n_jobs=8)]: Done   1 out of   8 | elapsed:    0.2s remaining:    1.2s\n",
      "[Parallel(n_jobs=8)]: Done   6 out of   8 | elapsed:    0.2s remaining:    0.1s\n",
      "[Parallel(n_jobs=8)]: Done   8 out of   8 | elapsed:    0.2s finished\n",
      "[Parallel(n_jobs=8)]: Done   1 out of   4 | elapsed:    0.2s remaining:    0.5s\n",
      "[Parallel(n_jobs=8)]: Done   2 out of   6 | elapsed:    0.3s remaining:    0.5s\n",
      "[Parallel(n_jobs=8)]: Done   3 out of   7 | elapsed:    0.3s remaining:    0.5s\n",
      "[Parallel(n_jobs=8)]: Done   4 out of   8 | elapsed:    0.4s remaining:    0.4s\n",
      "[Parallel(n_jobs=8)]: Done   6 out of   8 | elapsed:    0.6s remaining:    0.2s\n",
      "[Parallel(n_jobs=8)]: Done   8 out of   8 | elapsed:    0.7s finished\n",
      "[Parallel(n_jobs=8)]: Done   2 out of   8 | elapsed:    0.4s remaining:    1.3s\n",
      "[Parallel(n_jobs=8)]: Done   4 out of   8 | elapsed:    0.4s remaining:    0.4s\n",
      "[Parallel(n_jobs=8)]: Done   6 out of   8 | elapsed:    0.5s remaining:    0.2s\n",
      "[Parallel(n_jobs=8)]: Done   1 out of   8 | elapsed:    0.6s remaining:    4.0s\n",
      "[Parallel(n_jobs=8)]: Done   8 out of   8 | elapsed:    0.6s finished\n"
     ]
    },
    {
     "name": "stdout",
     "output_type": "stream",
     "text": [
      "1\n",
      "The events passed to the Epochs constructor are not chronologically ordered.\n",
      "100 matching events found\n",
      "No baseline correction applied\n",
      "0 projection items activated\n",
      "0 bad epochs dropped\n",
      "Attenuation at stop frequency 10.5Hz is only 5.2dB.\n",
      "The measurement information indicates a low-pass frequency of 128 Hz. The decim=3 parameter will result in a sampling frequency of 85.3333 Hz, which can cause aliasing artifacts.\n"
     ]
    },
    {
     "name": "stderr",
     "output_type": "stream",
     "text": [
      "[Parallel(n_jobs=8)]: Done   2 out of   8 | elapsed:    0.1s remaining:    0.4s\n",
      "[Parallel(n_jobs=8)]: Done   4 out of   8 | elapsed:    0.1s remaining:    0.1s\n",
      "[Parallel(n_jobs=8)]: Done   6 out of   8 | elapsed:    0.2s remaining:    0.1s\n",
      "[Parallel(n_jobs=8)]: Done   1 out of   8 | elapsed:    0.2s remaining:    1.4s\n",
      "[Parallel(n_jobs=8)]: Done   8 out of   8 | elapsed:    0.2s finished\n",
      "[Parallel(n_jobs=8)]: Done   1 out of   4 | elapsed:    0.1s remaining:    0.4s\n",
      "[Parallel(n_jobs=8)]: Done   4 out of   8 | elapsed:    0.4s remaining:    0.4s\n",
      "[Parallel(n_jobs=8)]: Done   6 out of   8 | elapsed:    0.6s remaining:    0.2s\n",
      "[Parallel(n_jobs=8)]: Done   8 out of   8 | elapsed:    0.7s finished\n",
      "[Parallel(n_jobs=8)]: Done   2 out of   8 | elapsed:    0.4s remaining:    1.2s\n",
      "[Parallel(n_jobs=8)]: Done   4 out of   8 | elapsed:    0.4s remaining:    0.4s\n",
      "[Parallel(n_jobs=8)]: Done   6 out of   8 | elapsed:    0.4s remaining:    0.1s\n",
      "[Parallel(n_jobs=8)]: Done   1 out of   8 | elapsed:    0.6s remaining:    4.0s\n",
      "[Parallel(n_jobs=8)]: Done   8 out of   8 | elapsed:    0.6s finished\n"
     ]
    },
    {
     "name": "stdout",
     "output_type": "stream",
     "text": [
      "2\n",
      "The events passed to the Epochs constructor are not chronologically ordered.\n",
      "100 matching events found\n",
      "No baseline correction applied\n",
      "0 projection items activated\n",
      "0 bad epochs dropped\n",
      "Attenuation at stop frequency 10.5Hz is only 5.2dB.\n",
      "The measurement information indicates a low-pass frequency of 128 Hz. The decim=3 parameter will result in a sampling frequency of 85.3333 Hz, which can cause aliasing artifacts.\n"
     ]
    },
    {
     "name": "stderr",
     "output_type": "stream",
     "text": [
      "[Parallel(n_jobs=8)]: Done   2 out of   8 | elapsed:    0.1s remaining:    0.4s\n",
      "[Parallel(n_jobs=8)]: Done   4 out of   8 | elapsed:    0.1s remaining:    0.1s\n",
      "[Parallel(n_jobs=8)]: Done   1 out of   8 | elapsed:    0.2s remaining:    1.2s\n",
      "[Parallel(n_jobs=8)]: Done   6 out of   8 | elapsed:    0.2s remaining:    0.1s\n",
      "[Parallel(n_jobs=8)]: Done   8 out of   8 | elapsed:    0.2s finished\n",
      "[Parallel(n_jobs=8)]: Done   1 out of   5 | elapsed:    0.2s remaining:    0.7s\n",
      "[Parallel(n_jobs=8)]: Done   2 out of   6 | elapsed:    0.3s remaining:    0.6s\n",
      "[Parallel(n_jobs=8)]: Done   4 out of   8 | elapsed:    0.5s remaining:    0.5s\n",
      "[Parallel(n_jobs=8)]: Done   6 out of   8 | elapsed:    0.6s remaining:    0.2s\n",
      "[Parallel(n_jobs=8)]: Done   8 out of   8 | elapsed:    0.8s finished\n",
      "[Parallel(n_jobs=8)]: Done   2 out of   8 | elapsed:    0.4s remaining:    1.2s\n",
      "[Parallel(n_jobs=8)]: Done   4 out of   8 | elapsed:    0.4s remaining:    0.4s\n",
      "[Parallel(n_jobs=8)]: Done   6 out of   8 | elapsed:    0.5s remaining:    0.2s\n",
      "[Parallel(n_jobs=8)]: Done   1 out of   8 | elapsed:    0.5s remaining:    3.8s\n",
      "[Parallel(n_jobs=8)]: Done   8 out of   8 | elapsed:    0.5s finished\n"
     ]
    },
    {
     "name": "stdout",
     "output_type": "stream",
     "text": [
      "3\n",
      "The events passed to the Epochs constructor are not chronologically ordered.\n",
      "100 matching events found\n",
      "No baseline correction applied\n",
      "0 projection items activated\n",
      "0 bad epochs dropped\n",
      "Attenuation at stop frequency 10.5Hz is only 5.2dB.\n",
      "The measurement information indicates a low-pass frequency of 128 Hz. The decim=3 parameter will result in a sampling frequency of 85.3333 Hz, which can cause aliasing artifacts.\n"
     ]
    },
    {
     "name": "stderr",
     "output_type": "stream",
     "text": [
      "[Parallel(n_jobs=8)]: Done   2 out of   8 | elapsed:    0.1s remaining:    0.4s\n",
      "[Parallel(n_jobs=8)]: Done   4 out of   8 | elapsed:    0.2s remaining:    0.2s\n",
      "[Parallel(n_jobs=8)]: Done   1 out of   8 | elapsed:    0.2s remaining:    1.5s\n",
      "[Parallel(n_jobs=8)]: Done   6 out of   8 | elapsed:    0.2s remaining:    0.1s\n",
      "[Parallel(n_jobs=8)]: Done   8 out of   8 | elapsed:    0.2s finished\n",
      "[Parallel(n_jobs=8)]: Done   1 out of   5 | elapsed:    0.2s remaining:    0.8s\n",
      "[Parallel(n_jobs=8)]: Done   4 out of   8 | elapsed:    0.4s remaining:    0.4s\n",
      "[Parallel(n_jobs=8)]: Done   6 out of   8 | elapsed:    0.6s remaining:    0.2s\n",
      "[Parallel(n_jobs=8)]: Done   8 out of   8 | elapsed:    0.7s finished\n",
      "[Parallel(n_jobs=8)]: Done   6 out of   8 | elapsed:    0.4s remaining:    0.1s\n",
      "[Parallel(n_jobs=8)]: Done   4 out of   8 | elapsed:    0.4s remaining:    0.4s\n",
      "[Parallel(n_jobs=8)]: Done   2 out of   8 | elapsed:    0.5s remaining:    1.4s\n",
      "[Parallel(n_jobs=8)]: Done   1 out of   8 | elapsed:    0.5s remaining:    3.8s\n",
      "[Parallel(n_jobs=8)]: Done   8 out of   8 | elapsed:    0.6s finished\n"
     ]
    },
    {
     "name": "stdout",
     "output_type": "stream",
     "text": [
      "4\n",
      "The events passed to the Epochs constructor are not chronologically ordered.\n",
      "100 matching events found\n",
      "No baseline correction applied\n",
      "0 projection items activated\n",
      "0 bad epochs dropped\n",
      "Attenuation at stop frequency 10.5Hz is only 5.2dB.\n",
      "The measurement information indicates a low-pass frequency of 128 Hz. The decim=3 parameter will result in a sampling frequency of 85.3333 Hz, which can cause aliasing artifacts.\n"
     ]
    },
    {
     "name": "stderr",
     "output_type": "stream",
     "text": [
      "[Parallel(n_jobs=8)]: Done   2 out of   8 | elapsed:    0.1s remaining:    0.4s\n",
      "[Parallel(n_jobs=8)]: Done   4 out of   8 | elapsed:    0.2s remaining:    0.2s\n",
      "[Parallel(n_jobs=8)]: Done   1 out of   8 | elapsed:    0.2s remaining:    1.3s\n",
      "[Parallel(n_jobs=8)]: Done   6 out of   8 | elapsed:    0.2s remaining:    0.1s\n",
      "[Parallel(n_jobs=8)]: Done   8 out of   8 | elapsed:    0.2s finished\n",
      "[Parallel(n_jobs=8)]: Done   1 out of   6 | elapsed:    0.2s remaining:    0.8s\n",
      "[Parallel(n_jobs=8)]: Done   4 out of   8 | elapsed:    0.4s remaining:    0.4s\n",
      "[Parallel(n_jobs=8)]: Done   6 out of   8 | elapsed:    0.6s remaining:    0.2s\n",
      "[Parallel(n_jobs=8)]: Done   8 out of   8 | elapsed:    0.8s finished\n",
      "[Parallel(n_jobs=8)]: Done   6 out of   8 | elapsed:    0.5s remaining:    0.2s\n",
      "[Parallel(n_jobs=8)]: Done   4 out of   8 | elapsed:    0.5s remaining:    0.5s\n",
      "[Parallel(n_jobs=8)]: Done   2 out of   8 | elapsed:    0.5s remaining:    1.5s\n",
      "[Parallel(n_jobs=8)]: Done   1 out of   8 | elapsed:    0.6s remaining:    4.4s\n",
      "[Parallel(n_jobs=8)]: Done   8 out of   8 | elapsed:    0.6s finished\n"
     ]
    },
    {
     "name": "stdout",
     "output_type": "stream",
     "text": [
      "5\n",
      "The events passed to the Epochs constructor are not chronologically ordered.\n",
      "100 matching events found\n",
      "No baseline correction applied\n",
      "0 projection items activated\n",
      "0 bad epochs dropped\n",
      "Attenuation at stop frequency 10.5Hz is only 5.2dB.\n",
      "The measurement information indicates a low-pass frequency of 128 Hz. The decim=3 parameter will result in a sampling frequency of 85.3333 Hz, which can cause aliasing artifacts.\n"
     ]
    },
    {
     "name": "stderr",
     "output_type": "stream",
     "text": [
      "[Parallel(n_jobs=8)]: Done   2 out of   8 | elapsed:    0.1s remaining:    0.4s\n",
      "[Parallel(n_jobs=8)]: Done   4 out of   8 | elapsed:    0.1s remaining:    0.1s\n",
      "[Parallel(n_jobs=8)]: Done   1 out of   8 | elapsed:    0.2s remaining:    1.2s\n",
      "[Parallel(n_jobs=8)]: Done   6 out of   8 | elapsed:    0.2s remaining:    0.1s\n",
      "[Parallel(n_jobs=8)]: Done   8 out of   8 | elapsed:    0.2s finished\n",
      "[Parallel(n_jobs=8)]: Done   1 out of   4 | elapsed:    0.2s remaining:    0.5s\n",
      "[Parallel(n_jobs=8)]: Done   2 out of   6 | elapsed:    0.3s remaining:    0.6s\n",
      "[Parallel(n_jobs=8)]: Done   3 out of   7 | elapsed:    0.4s remaining:    0.5s\n",
      "[Parallel(n_jobs=8)]: Done   6 out of   8 | elapsed:    0.6s remaining:    0.2s\n",
      "[Parallel(n_jobs=8)]: Done   8 out of   8 | elapsed:    0.8s finished\n",
      "[Parallel(n_jobs=8)]: Done   4 out of   8 | elapsed:    0.4s remaining:    0.4s\n",
      "[Parallel(n_jobs=8)]: Done   2 out of   8 | elapsed:    0.5s remaining:    1.4s\n",
      "[Parallel(n_jobs=8)]: Done   6 out of   8 | elapsed:    0.5s remaining:    0.2s\n",
      "[Parallel(n_jobs=8)]: Done   1 out of   8 | elapsed:    0.7s remaining:    4.8s\n",
      "[Parallel(n_jobs=8)]: Done   8 out of   8 | elapsed:    0.7s finished\n"
     ]
    },
    {
     "name": "stdout",
     "output_type": "stream",
     "text": [
      "6\n",
      "The events passed to the Epochs constructor are not chronologically ordered.\n",
      "100 matching events found\n",
      "No baseline correction applied\n",
      "0 projection items activated\n",
      "0 bad epochs dropped\n",
      "Attenuation at stop frequency 10.5Hz is only 5.2dB.\n",
      "The measurement information indicates a low-pass frequency of 128 Hz. The decim=3 parameter will result in a sampling frequency of 85.3333 Hz, which can cause aliasing artifacts.\n"
     ]
    },
    {
     "name": "stderr",
     "output_type": "stream",
     "text": [
      "[Parallel(n_jobs=8)]: Done   4 out of   8 | elapsed:    0.1s remaining:    0.1s\n",
      "[Parallel(n_jobs=8)]: Done   2 out of   8 | elapsed:    0.2s remaining:    0.5s\n",
      "[Parallel(n_jobs=8)]: Done   6 out of   8 | elapsed:    0.2s remaining:    0.1s\n",
      "[Parallel(n_jobs=8)]: Done   1 out of   8 | elapsed:    0.2s remaining:    1.4s\n",
      "[Parallel(n_jobs=8)]: Done   8 out of   8 | elapsed:    0.2s finished\n",
      "[Parallel(n_jobs=8)]: Done   1 out of   8 | elapsed:    0.2s remaining:    1.4s\n",
      "[Parallel(n_jobs=8)]: Done   2 out of   8 | elapsed:    0.3s remaining:    0.9s\n",
      "[Parallel(n_jobs=8)]: Done   4 out of   8 | elapsed:    0.4s remaining:    0.4s\n",
      "[Parallel(n_jobs=8)]: Done   6 out of   8 | elapsed:    0.6s remaining:    0.2s\n",
      "[Parallel(n_jobs=8)]: Done   8 out of   8 | elapsed:    0.7s finished\n",
      "[Parallel(n_jobs=8)]: Done   2 out of   8 | elapsed:    0.4s remaining:    1.3s\n",
      "[Parallel(n_jobs=8)]: Done   6 out of   8 | elapsed:    0.4s remaining:    0.1s\n",
      "[Parallel(n_jobs=8)]: Done   4 out of   8 | elapsed:    0.5s remaining:    0.5s\n",
      "[Parallel(n_jobs=8)]: Done   1 out of   8 | elapsed:    0.6s remaining:    4.1s\n",
      "[Parallel(n_jobs=8)]: Done   8 out of   8 | elapsed:    0.6s finished\n"
     ]
    },
    {
     "name": "stdout",
     "output_type": "stream",
     "text": [
      "7\n",
      "The events passed to the Epochs constructor are not chronologically ordered.\n",
      "100 matching events found\n",
      "No baseline correction applied\n",
      "0 projection items activated\n",
      "0 bad epochs dropped\n",
      "Attenuation at stop frequency 10.5Hz is only 5.2dB.\n",
      "The measurement information indicates a low-pass frequency of 128 Hz. The decim=3 parameter will result in a sampling frequency of 85.3333 Hz, which can cause aliasing artifacts.\n"
     ]
    },
    {
     "name": "stderr",
     "output_type": "stream",
     "text": [
      "[Parallel(n_jobs=8)]: Done   2 out of   8 | elapsed:    0.1s remaining:    0.4s\n",
      "[Parallel(n_jobs=8)]: Done   4 out of   8 | elapsed:    0.2s remaining:    0.2s\n",
      "[Parallel(n_jobs=8)]: Done   1 out of   8 | elapsed:    0.2s remaining:    1.3s\n",
      "[Parallel(n_jobs=8)]: Done   6 out of   8 | elapsed:    0.2s remaining:    0.1s\n",
      "[Parallel(n_jobs=8)]: Done   8 out of   8 | elapsed:    0.2s finished\n",
      "[Parallel(n_jobs=8)]: Done   1 out of   4 | elapsed:    0.2s remaining:    0.5s\n",
      "[Parallel(n_jobs=8)]: Done   2 out of   6 | elapsed:    0.3s remaining:    0.5s\n",
      "[Parallel(n_jobs=8)]: Done   3 out of   7 | elapsed:    0.4s remaining:    0.5s\n",
      "[Parallel(n_jobs=8)]: Done   6 out of   8 | elapsed:    0.6s remaining:    0.2s\n",
      "[Parallel(n_jobs=8)]: Done   8 out of   8 | elapsed:    0.8s finished\n",
      "[Parallel(n_jobs=8)]: Done   6 out of   8 | elapsed:    0.4s remaining:    0.1s\n",
      "[Parallel(n_jobs=8)]: Done   2 out of   8 | elapsed:    0.4s remaining:    1.3s\n",
      "[Parallel(n_jobs=8)]: Done   4 out of   8 | elapsed:    0.5s remaining:    0.5s\n",
      "[Parallel(n_jobs=8)]: Done   1 out of   8 | elapsed:    0.5s remaining:    3.8s\n",
      "[Parallel(n_jobs=8)]: Done   8 out of   8 | elapsed:    0.5s finished\n"
     ]
    },
    {
     "name": "stdout",
     "output_type": "stream",
     "text": [
      "8\n",
      "The events passed to the Epochs constructor are not chronologically ordered.\n",
      "100 matching events found\n",
      "No baseline correction applied\n",
      "0 projection items activated\n",
      "0 bad epochs dropped\n",
      "Attenuation at stop frequency 10.5Hz is only 5.2dB.\n",
      "The measurement information indicates a low-pass frequency of 128 Hz. The decim=3 parameter will result in a sampling frequency of 85.3333 Hz, which can cause aliasing artifacts.\n"
     ]
    },
    {
     "name": "stderr",
     "output_type": "stream",
     "text": [
      "[Parallel(n_jobs=8)]: Done   4 out of   8 | elapsed:    0.2s remaining:    0.2s\n",
      "[Parallel(n_jobs=8)]: Done   2 out of   8 | elapsed:    0.2s remaining:    0.5s\n",
      "[Parallel(n_jobs=8)]: Done   1 out of   8 | elapsed:    0.2s remaining:    1.4s\n",
      "[Parallel(n_jobs=8)]: Done   6 out of   8 | elapsed:    0.2s remaining:    0.1s\n",
      "[Parallel(n_jobs=8)]: Done   8 out of   8 | elapsed:    0.2s finished\n",
      "[Parallel(n_jobs=8)]: Done   1 out of   4 | elapsed:    0.2s remaining:    0.5s\n",
      "[Parallel(n_jobs=8)]: Done   2 out of   8 | elapsed:    0.3s remaining:    0.9s\n",
      "[Parallel(n_jobs=8)]: Done   4 out of   8 | elapsed:    0.5s remaining:    0.5s\n",
      "[Parallel(n_jobs=8)]: Done   6 out of   8 | elapsed:    0.7s remaining:    0.2s\n",
      "[Parallel(n_jobs=8)]: Done   8 out of   8 | elapsed:    0.9s finished\n",
      "[Parallel(n_jobs=8)]: Done   6 out of   8 | elapsed:    0.5s remaining:    0.2s\n",
      "[Parallel(n_jobs=8)]: Done   2 out of   8 | elapsed:    0.5s remaining:    1.6s\n",
      "[Parallel(n_jobs=8)]: Done   1 out of   8 | elapsed:    0.6s remaining:    4.2s\n",
      "[Parallel(n_jobs=8)]: Done   4 out of   8 | elapsed:    0.6s remaining:    0.6s\n",
      "[Parallel(n_jobs=8)]: Done   8 out of   8 | elapsed:    0.6s finished\n"
     ]
    },
    {
     "name": "stdout",
     "output_type": "stream",
     "text": [
      "9\n",
      "The events passed to the Epochs constructor are not chronologically ordered.\n",
      "100 matching events found\n",
      "No baseline correction applied\n",
      "0 projection items activated\n",
      "0 bad epochs dropped\n",
      "Attenuation at stop frequency 10.5Hz is only 5.2dB.\n",
      "The measurement information indicates a low-pass frequency of 128 Hz. The decim=3 parameter will result in a sampling frequency of 85.3333 Hz, which can cause aliasing artifacts.\n"
     ]
    },
    {
     "name": "stderr",
     "output_type": "stream",
     "text": [
      "[Parallel(n_jobs=8)]: Done   2 out of   8 | elapsed:    0.1s remaining:    0.4s\n",
      "[Parallel(n_jobs=8)]: Done   4 out of   8 | elapsed:    0.2s remaining:    0.2s\n",
      "[Parallel(n_jobs=8)]: Done   1 out of   8 | elapsed:    0.2s remaining:    1.3s\n",
      "[Parallel(n_jobs=8)]: Done   6 out of   8 | elapsed:    0.2s remaining:    0.1s\n",
      "[Parallel(n_jobs=8)]: Done   8 out of   8 | elapsed:    0.2s finished\n",
      "[Parallel(n_jobs=8)]: Done   1 out of   4 | elapsed:    0.2s remaining:    0.5s\n",
      "[Parallel(n_jobs=8)]: Done   2 out of   4 | elapsed:    0.3s remaining:    0.3s\n",
      "[Parallel(n_jobs=8)]: Done   4 out of   6 | elapsed:    0.5s remaining:    0.2s\n",
      "[Parallel(n_jobs=8)]: Done   6 out of   8 | elapsed:    0.7s remaining:    0.2s\n",
      "[Parallel(n_jobs=8)]: Done   8 out of   8 | elapsed:    0.8s finished\n",
      "[Parallel(n_jobs=8)]: Done   6 out of   8 | elapsed:    0.4s remaining:    0.1s\n",
      "[Parallel(n_jobs=8)]: Done   4 out of   8 | elapsed:    0.5s remaining:    0.5s\n",
      "[Parallel(n_jobs=8)]: Done   2 out of   8 | elapsed:    0.6s remaining:    1.7s\n",
      "[Parallel(n_jobs=8)]: Done   1 out of   8 | elapsed:    0.6s remaining:    4.1s\n",
      "[Parallel(n_jobs=8)]: Done   8 out of   8 | elapsed:    0.6s finished\n"
     ]
    },
    {
     "name": "stdout",
     "output_type": "stream",
     "text": [
      "10\n",
      "The events passed to the Epochs constructor are not chronologically ordered.\n",
      "100 matching events found\n",
      "No baseline correction applied\n",
      "0 projection items activated\n",
      "0 bad epochs dropped\n",
      "Attenuation at stop frequency 10.5Hz is only 5.2dB.\n",
      "The measurement information indicates a low-pass frequency of 128 Hz. The decim=3 parameter will result in a sampling frequency of 85.3333 Hz, which can cause aliasing artifacts.\n"
     ]
    },
    {
     "name": "stderr",
     "output_type": "stream",
     "text": [
      "[Parallel(n_jobs=8)]: Done   2 out of   8 | elapsed:    0.1s remaining:    0.4s\n",
      "[Parallel(n_jobs=8)]: Done   4 out of   8 | elapsed:    0.2s remaining:    0.2s\n",
      "[Parallel(n_jobs=8)]: Done   6 out of   8 | elapsed:    0.2s remaining:    0.1s\n",
      "[Parallel(n_jobs=8)]: Done   1 out of   8 | elapsed:    0.2s remaining:    1.4s\n",
      "[Parallel(n_jobs=8)]: Done   8 out of   8 | elapsed:    0.2s finished\n",
      "[Parallel(n_jobs=8)]: Done   1 out of   8 | elapsed:    0.2s remaining:    1.3s\n",
      "[Parallel(n_jobs=8)]: Done   2 out of   8 | elapsed:    0.3s remaining:    0.8s\n",
      "[Parallel(n_jobs=8)]: Done   4 out of   8 | elapsed:    0.4s remaining:    0.4s\n",
      "[Parallel(n_jobs=8)]: Done   6 out of   8 | elapsed:    0.6s remaining:    0.2s\n",
      "[Parallel(n_jobs=8)]: Done   8 out of   8 | elapsed:    0.7s finished\n",
      "[Parallel(n_jobs=8)]: Done   6 out of   8 | elapsed:    0.5s remaining:    0.2s\n",
      "[Parallel(n_jobs=8)]: Done   2 out of   8 | elapsed:    0.5s remaining:    1.6s\n",
      "[Parallel(n_jobs=8)]: Done   4 out of   8 | elapsed:    0.5s remaining:    0.5s\n",
      "[Parallel(n_jobs=8)]: Done   1 out of   8 | elapsed:    0.6s remaining:    4.2s\n",
      "[Parallel(n_jobs=8)]: Done   8 out of   8 | elapsed:    0.6s finished\n"
     ]
    },
    {
     "name": "stdout",
     "output_type": "stream",
     "text": [
      "11\n",
      "The events passed to the Epochs constructor are not chronologically ordered.\n",
      "100 matching events found\n",
      "No baseline correction applied\n",
      "0 projection items activated\n",
      "0 bad epochs dropped\n",
      "Attenuation at stop frequency 10.5Hz is only 5.2dB.\n",
      "The measurement information indicates a low-pass frequency of 128 Hz. The decim=3 parameter will result in a sampling frequency of 85.3333 Hz, which can cause aliasing artifacts.\n"
     ]
    },
    {
     "name": "stderr",
     "output_type": "stream",
     "text": [
      "[Parallel(n_jobs=8)]: Done   2 out of   8 | elapsed:    0.1s remaining:    0.4s\n",
      "[Parallel(n_jobs=8)]: Done   4 out of   8 | elapsed:    0.2s remaining:    0.2s\n",
      "[Parallel(n_jobs=8)]: Done   1 out of   8 | elapsed:    0.2s remaining:    1.6s\n",
      "[Parallel(n_jobs=8)]: Done   6 out of   8 | elapsed:    0.2s remaining:    0.1s\n",
      "[Parallel(n_jobs=8)]: Done   8 out of   8 | elapsed:    0.2s finished\n",
      "[Parallel(n_jobs=8)]: Done   1 out of   4 | elapsed:    0.2s remaining:    0.5s\n",
      "[Parallel(n_jobs=8)]: Done   2 out of   6 | elapsed:    0.2s remaining:    0.5s\n",
      "[Parallel(n_jobs=8)]: Done   4 out of   8 | elapsed:    0.4s remaining:    0.4s\n",
      "[Parallel(n_jobs=8)]: Done   6 out of   8 | elapsed:    0.6s remaining:    0.2s\n",
      "[Parallel(n_jobs=8)]: Done   8 out of   8 | elapsed:    0.7s finished\n",
      "[Parallel(n_jobs=8)]: Done   4 out of   8 | elapsed:    0.5s remaining:    0.5s\n",
      "[Parallel(n_jobs=8)]: Done   6 out of   8 | elapsed:    0.5s remaining:    0.2s\n",
      "[Parallel(n_jobs=8)]: Done   2 out of   8 | elapsed:    0.5s remaining:    1.6s\n",
      "[Parallel(n_jobs=8)]: Done   1 out of   8 | elapsed:    0.6s remaining:    4.5s\n",
      "[Parallel(n_jobs=8)]: Done   8 out of   8 | elapsed:    0.6s finished\n"
     ]
    },
    {
     "name": "stdout",
     "output_type": "stream",
     "text": [
      "12\n",
      "The events passed to the Epochs constructor are not chronologically ordered.\n",
      "100 matching events found\n",
      "No baseline correction applied\n",
      "0 projection items activated\n",
      "0 bad epochs dropped\n",
      "Attenuation at stop frequency 10.5Hz is only 5.2dB.\n",
      "The measurement information indicates a low-pass frequency of 128 Hz. The decim=3 parameter will result in a sampling frequency of 85.3333 Hz, which can cause aliasing artifacts.\n"
     ]
    },
    {
     "name": "stderr",
     "output_type": "stream",
     "text": [
      "[Parallel(n_jobs=8)]: Done   2 out of   8 | elapsed:    0.1s remaining:    0.4s\n",
      "[Parallel(n_jobs=8)]: Done   4 out of   8 | elapsed:    0.2s remaining:    0.2s\n",
      "[Parallel(n_jobs=8)]: Done   1 out of   8 | elapsed:    0.2s remaining:    1.4s\n",
      "[Parallel(n_jobs=8)]: Done   6 out of   8 | elapsed:    0.2s remaining:    0.1s\n",
      "[Parallel(n_jobs=8)]: Done   8 out of   8 | elapsed:    0.2s finished\n",
      "[Parallel(n_jobs=8)]: Done   1 out of   3 | elapsed:    0.2s remaining:    0.3s\n",
      "[Parallel(n_jobs=8)]: Done   3 out of   5 | elapsed:    0.3s remaining:    0.2s\n",
      "[Parallel(n_jobs=8)]: Done   4 out of   6 | elapsed:    0.4s remaining:    0.2s\n",
      "[Parallel(n_jobs=8)]: Done   5 out of   7 | elapsed:    0.5s remaining:    0.2s\n",
      "[Parallel(n_jobs=8)]: Done   6 out of   8 | elapsed:    0.6s remaining:    0.2s\n",
      "[Parallel(n_jobs=8)]: Done   8 out of   8 | elapsed:    0.7s finished\n",
      "[Parallel(n_jobs=8)]: Done   4 out of   8 | elapsed:    0.4s remaining:    0.4s\n",
      "[Parallel(n_jobs=8)]: Done   2 out of   8 | elapsed:    0.4s remaining:    1.3s\n",
      "[Parallel(n_jobs=8)]: Done   6 out of   8 | elapsed:    0.5s remaining:    0.2s\n",
      "[Parallel(n_jobs=8)]: Done   1 out of   8 | elapsed:    0.6s remaining:    4.2s\n",
      "[Parallel(n_jobs=8)]: Done   8 out of   8 | elapsed:    0.6s finished\n"
     ]
    },
    {
     "name": "stdout",
     "output_type": "stream",
     "text": [
      "13\n",
      "The events passed to the Epochs constructor are not chronologically ordered.\n",
      "100 matching events found\n",
      "No baseline correction applied\n",
      "0 projection items activated\n",
      "0 bad epochs dropped\n",
      "Attenuation at stop frequency 10.5Hz is only 5.2dB.\n",
      "The measurement information indicates a low-pass frequency of 128 Hz. The decim=3 parameter will result in a sampling frequency of 85.3333 Hz, which can cause aliasing artifacts.\n"
     ]
    },
    {
     "name": "stderr",
     "output_type": "stream",
     "text": [
      "[Parallel(n_jobs=8)]: Done   2 out of   8 | elapsed:    0.1s remaining:    0.4s\n",
      "[Parallel(n_jobs=8)]: Done   4 out of   8 | elapsed:    0.2s remaining:    0.2s\n",
      "[Parallel(n_jobs=8)]: Done   1 out of   8 | elapsed:    0.2s remaining:    1.4s\n",
      "[Parallel(n_jobs=8)]: Done   6 out of   8 | elapsed:    0.2s remaining:    0.1s\n",
      "[Parallel(n_jobs=8)]: Done   8 out of   8 | elapsed:    0.2s finished\n",
      "[Parallel(n_jobs=8)]: Done   1 out of   4 | elapsed:    0.1s remaining:    0.4s\n",
      "[Parallel(n_jobs=8)]: Done   4 out of   8 | elapsed:    0.4s remaining:    0.4s\n",
      "[Parallel(n_jobs=8)]: Done   6 out of   8 | elapsed:    0.6s remaining:    0.2s\n",
      "[Parallel(n_jobs=8)]: Done   8 out of   8 | elapsed:    0.7s finished\n",
      "[Parallel(n_jobs=8)]: Done   2 out of   8 | elapsed:    0.4s remaining:    1.3s\n",
      "[Parallel(n_jobs=8)]: Done   4 out of   8 | elapsed:    0.4s remaining:    0.4s\n",
      "[Parallel(n_jobs=8)]: Done   6 out of   8 | elapsed:    0.5s remaining:    0.2s\n",
      "[Parallel(n_jobs=8)]: Done   1 out of   8 | elapsed:    0.6s remaining:    4.0s\n",
      "[Parallel(n_jobs=8)]: Done   8 out of   8 | elapsed:    0.6s finished\n"
     ]
    },
    {
     "name": "stdout",
     "output_type": "stream",
     "text": [
      "14\n",
      "The events passed to the Epochs constructor are not chronologically ordered.\n",
      "100 matching events found\n",
      "No baseline correction applied\n",
      "0 projection items activated\n",
      "0 bad epochs dropped\n",
      "Attenuation at stop frequency 10.5Hz is only 5.2dB.\n",
      "The measurement information indicates a low-pass frequency of 128 Hz. The decim=3 parameter will result in a sampling frequency of 85.3333 Hz, which can cause aliasing artifacts.\n"
     ]
    },
    {
     "name": "stderr",
     "output_type": "stream",
     "text": [
      "[Parallel(n_jobs=8)]: Done   2 out of   8 | elapsed:    0.1s remaining:    0.4s\n",
      "[Parallel(n_jobs=8)]: Done   4 out of   8 | elapsed:    0.2s remaining:    0.2s\n",
      "[Parallel(n_jobs=8)]: Done   1 out of   8 | elapsed:    0.2s remaining:    1.6s\n",
      "[Parallel(n_jobs=8)]: Done   6 out of   8 | elapsed:    0.2s remaining:    0.1s\n",
      "[Parallel(n_jobs=8)]: Done   8 out of   8 | elapsed:    0.2s finished\n",
      "[Parallel(n_jobs=8)]: Done   1 out of   6 | elapsed:    0.2s remaining:    1.0s\n",
      "[Parallel(n_jobs=8)]: Done   4 out of   8 | elapsed:    0.4s remaining:    0.4s\n",
      "[Parallel(n_jobs=8)]: Done   6 out of   8 | elapsed:    0.6s remaining:    0.2s\n",
      "[Parallel(n_jobs=8)]: Done   8 out of   8 | elapsed:    0.8s finished\n",
      "[Parallel(n_jobs=8)]: Done   2 out of   8 | elapsed:    0.5s remaining:    1.4s\n",
      "[Parallel(n_jobs=8)]: Done   6 out of   8 | elapsed:    0.5s remaining:    0.2s\n",
      "[Parallel(n_jobs=8)]: Done   4 out of   8 | elapsed:    0.5s remaining:    0.5s\n",
      "[Parallel(n_jobs=8)]: Done   1 out of   8 | elapsed:    0.6s remaining:    4.0s\n",
      "[Parallel(n_jobs=8)]: Done   8 out of   8 | elapsed:    0.6s finished\n"
     ]
    },
    {
     "name": "stdout",
     "output_type": "stream",
     "text": [
      "15\n",
      "The events passed to the Epochs constructor are not chronologically ordered.\n",
      "100 matching events found\n",
      "No baseline correction applied\n",
      "0 projection items activated\n",
      "0 bad epochs dropped\n",
      "Attenuation at stop frequency 10.5Hz is only 5.2dB.\n",
      "The measurement information indicates a low-pass frequency of 128 Hz. The decim=3 parameter will result in a sampling frequency of 85.3333 Hz, which can cause aliasing artifacts.\n"
     ]
    },
    {
     "name": "stderr",
     "output_type": "stream",
     "text": [
      "[Parallel(n_jobs=8)]: Done   2 out of   8 | elapsed:    0.1s remaining:    0.4s\n",
      "[Parallel(n_jobs=8)]: Done   4 out of   8 | elapsed:    0.2s remaining:    0.2s\n",
      "[Parallel(n_jobs=8)]: Done   1 out of   8 | elapsed:    0.2s remaining:    1.5s\n",
      "[Parallel(n_jobs=8)]: Done   6 out of   8 | elapsed:    0.2s remaining:    0.1s\n",
      "[Parallel(n_jobs=8)]: Done   8 out of   8 | elapsed:    0.2s finished\n",
      "[Parallel(n_jobs=8)]: Done   1 out of   3 | elapsed:    0.2s remaining:    0.3s\n",
      "[Parallel(n_jobs=8)]: Done   2 out of   4 | elapsed:    0.2s remaining:    0.2s\n",
      "[Parallel(n_jobs=8)]: Done   4 out of   8 | elapsed:    0.4s remaining:    0.4s\n",
      "[Parallel(n_jobs=8)]: Done   6 out of   8 | elapsed:    0.6s remaining:    0.2s\n",
      "[Parallel(n_jobs=8)]: Done   8 out of   8 | elapsed:    0.8s finished\n",
      "[Parallel(n_jobs=8)]: Done   4 out of   8 | elapsed:    0.4s remaining:    0.4s\n",
      "[Parallel(n_jobs=8)]: Done   6 out of   8 | elapsed:    0.5s remaining:    0.2s\n",
      "[Parallel(n_jobs=8)]: Done   2 out of   8 | elapsed:    0.5s remaining:    1.5s\n",
      "[Parallel(n_jobs=8)]: Done   1 out of   8 | elapsed:    0.6s remaining:    4.2s\n",
      "[Parallel(n_jobs=8)]: Done   8 out of   8 | elapsed:    0.6s finished\n"
     ]
    },
    {
     "name": "stdout",
     "output_type": "stream",
     "text": [
      "16\n",
      "The events passed to the Epochs constructor are not chronologically ordered.\n",
      "100 matching events found\n",
      "No baseline correction applied\n",
      "0 projection items activated\n",
      "0 bad epochs dropped\n",
      "Attenuation at stop frequency 10.5Hz is only 5.2dB.\n",
      "The measurement information indicates a low-pass frequency of 128 Hz. The decim=3 parameter will result in a sampling frequency of 85.3333 Hz, which can cause aliasing artifacts.\n"
     ]
    },
    {
     "name": "stderr",
     "output_type": "stream",
     "text": [
      "[Parallel(n_jobs=8)]: Done   2 out of   8 | elapsed:    0.1s remaining:    0.4s\n",
      "[Parallel(n_jobs=8)]: Done   4 out of   8 | elapsed:    0.2s remaining:    0.2s\n",
      "[Parallel(n_jobs=8)]: Done   1 out of   8 | elapsed:    0.2s remaining:    1.3s\n",
      "[Parallel(n_jobs=8)]: Done   6 out of   8 | elapsed:    0.2s remaining:    0.1s\n",
      "[Parallel(n_jobs=8)]: Done   8 out of   8 | elapsed:    0.2s finished\n",
      "[Parallel(n_jobs=8)]: Done   1 out of   4 | elapsed:    0.1s remaining:    0.4s\n",
      "[Parallel(n_jobs=8)]: Done   2 out of   8 | elapsed:    0.3s remaining:    0.8s\n",
      "[Parallel(n_jobs=8)]: Done   4 out of   8 | elapsed:    0.4s remaining:    0.4s\n",
      "[Parallel(n_jobs=8)]: Done   6 out of   8 | elapsed:    0.6s remaining:    0.2s\n",
      "[Parallel(n_jobs=8)]: Done   8 out of   8 | elapsed:    0.7s finished\n",
      "[Parallel(n_jobs=8)]: Done   6 out of   8 | elapsed:    0.4s remaining:    0.1s\n",
      "[Parallel(n_jobs=8)]: Done   2 out of   8 | elapsed:    0.5s remaining:    1.5s\n",
      "[Parallel(n_jobs=8)]: Done   4 out of   8 | elapsed:    0.5s remaining:    0.5s\n",
      "[Parallel(n_jobs=8)]: Done   1 out of   8 | elapsed:    0.6s remaining:    4.1s\n",
      "[Parallel(n_jobs=8)]: Done   8 out of   8 | elapsed:    0.6s finished\n"
     ]
    },
    {
     "name": "stdout",
     "output_type": "stream",
     "text": [
      "Cannot find chance level from scorer_auc, specify chance level\n",
      "0\n",
      "The events passed to the Epochs constructor are not chronologically ordered.\n",
      "100 matching events found\n",
      "No baseline correction applied\n",
      "0 projection items activated\n",
      "0 bad epochs dropped\n",
      "Attenuation at stop frequency 10.5Hz is only 5.2dB.\n",
      "The measurement information indicates a low-pass frequency of 128 Hz. The decim=3 parameter will result in a sampling frequency of 85.3333 Hz, which can cause aliasing artifacts.\n"
     ]
    },
    {
     "name": "stderr",
     "output_type": "stream",
     "text": [
      "/home/jrking/anaconda/lib/python2.7/site-packages/ipykernel/__main__.py:17: RuntimeWarning: Cannot find chance level from scorer_auc, specify chance level\n",
      "[Parallel(n_jobs=8)]: Done   2 out of   8 | elapsed:    0.1s remaining:    0.4s\n",
      "[Parallel(n_jobs=8)]: Done   1 out of   8 | elapsed:    0.2s remaining:    1.2s\n",
      "[Parallel(n_jobs=8)]: Done   4 out of   8 | elapsed:    0.2s remaining:    0.2s\n",
      "[Parallel(n_jobs=8)]: Done   6 out of   8 | elapsed:    0.2s remaining:    0.1s\n",
      "[Parallel(n_jobs=8)]: Done   8 out of   8 | elapsed:    0.2s finished\n",
      "[Parallel(n_jobs=8)]: Done   1 out of   8 | elapsed:    0.2s remaining:    1.6s\n",
      "[Parallel(n_jobs=8)]: Done   2 out of   8 | elapsed:    0.3s remaining:    0.9s\n",
      "[Parallel(n_jobs=8)]: Done   4 out of   8 | elapsed:    0.6s remaining:    0.6s\n",
      "[Parallel(n_jobs=8)]: Done   6 out of   8 | elapsed:    0.9s remaining:    0.3s\n",
      "[Parallel(n_jobs=8)]: Done   8 out of   8 | elapsed:    1.1s finished\n",
      "[Parallel(n_jobs=8)]: Done   6 out of   8 | elapsed:    0.4s remaining:    0.1s\n",
      "[Parallel(n_jobs=8)]: Done   2 out of   8 | elapsed:    0.5s remaining:    1.5s\n",
      "[Parallel(n_jobs=8)]: Done   4 out of   8 | elapsed:    0.5s remaining:    0.5s\n",
      "[Parallel(n_jobs=8)]: Done   1 out of   8 | elapsed:    0.6s remaining:    4.0s\n",
      "[Parallel(n_jobs=8)]: Done   8 out of   8 | elapsed:    0.6s finished\n"
     ]
    },
    {
     "name": "stdout",
     "output_type": "stream",
     "text": [
      "1\n",
      "The events passed to the Epochs constructor are not chronologically ordered.\n",
      "100 matching events found\n",
      "No baseline correction applied\n",
      "0 projection items activated\n",
      "0 bad epochs dropped\n",
      "Attenuation at stop frequency 10.5Hz is only 5.2dB.\n",
      "The measurement information indicates a low-pass frequency of 128 Hz. The decim=3 parameter will result in a sampling frequency of 85.3333 Hz, which can cause aliasing artifacts.\n"
     ]
    },
    {
     "name": "stderr",
     "output_type": "stream",
     "text": [
      "[Parallel(n_jobs=8)]: Done   2 out of   8 | elapsed:    0.1s remaining:    0.4s\n",
      "[Parallel(n_jobs=8)]: Done   4 out of   8 | elapsed:    0.2s remaining:    0.2s\n",
      "[Parallel(n_jobs=8)]: Done   1 out of   8 | elapsed:    0.2s remaining:    1.4s\n",
      "[Parallel(n_jobs=8)]: Done   6 out of   8 | elapsed:    0.3s remaining:    0.1s\n",
      "[Parallel(n_jobs=8)]: Done   8 out of   8 | elapsed:    0.3s finished\n",
      "[Parallel(n_jobs=8)]: Done   1 out of   3 | elapsed:    0.2s remaining:    0.4s\n",
      "[Parallel(n_jobs=8)]: Done   2 out of   4 | elapsed:    0.2s remaining:    0.2s\n",
      "[Parallel(n_jobs=8)]: Done   4 out of   6 | elapsed:    0.4s remaining:    0.2s\n",
      "[Parallel(n_jobs=8)]: Done   6 out of   8 | elapsed:    0.6s remaining:    0.2s\n",
      "[Parallel(n_jobs=8)]: Done   8 out of   8 | elapsed:    0.7s finished\n",
      "[Parallel(n_jobs=8)]: Done   6 out of   8 | elapsed:    0.5s remaining:    0.2s\n",
      "[Parallel(n_jobs=8)]: Done   2 out of   8 | elapsed:    0.5s remaining:    1.4s\n",
      "[Parallel(n_jobs=8)]: Done   4 out of   8 | elapsed:    0.5s remaining:    0.5s\n",
      "[Parallel(n_jobs=8)]: Done   1 out of   8 | elapsed:    0.6s remaining:    4.5s\n",
      "[Parallel(n_jobs=8)]: Done   8 out of   8 | elapsed:    0.6s finished\n"
     ]
    },
    {
     "name": "stdout",
     "output_type": "stream",
     "text": [
      "2\n",
      "The events passed to the Epochs constructor are not chronologically ordered.\n",
      "100 matching events found\n",
      "No baseline correction applied\n",
      "0 projection items activated\n",
      "0 bad epochs dropped\n",
      "Attenuation at stop frequency 10.5Hz is only 5.2dB.\n",
      "The measurement information indicates a low-pass frequency of 128 Hz. The decim=3 parameter will result in a sampling frequency of 85.3333 Hz, which can cause aliasing artifacts.\n"
     ]
    },
    {
     "name": "stderr",
     "output_type": "stream",
     "text": [
      "[Parallel(n_jobs=8)]: Done   4 out of   8 | elapsed:    0.2s remaining:    0.2s\n",
      "[Parallel(n_jobs=8)]: Done   2 out of   8 | elapsed:    0.2s remaining:    0.5s\n",
      "[Parallel(n_jobs=8)]: Done   1 out of   8 | elapsed:    0.2s remaining:    1.5s\n",
      "[Parallel(n_jobs=8)]: Done   6 out of   8 | elapsed:    0.2s remaining:    0.1s\n",
      "[Parallel(n_jobs=8)]: Done   8 out of   8 | elapsed:    0.2s finished\n",
      "[Parallel(n_jobs=8)]: Done   1 out of   7 | elapsed:    0.2s remaining:    1.1s\n",
      "[Parallel(n_jobs=8)]: Done   2 out of   8 | elapsed:    0.3s remaining:    0.9s\n",
      "[Parallel(n_jobs=8)]: Done   4 out of   8 | elapsed:    0.5s remaining:    0.5s\n",
      "[Parallel(n_jobs=8)]: Done   6 out of   8 | elapsed:    0.7s remaining:    0.2s\n",
      "[Parallel(n_jobs=8)]: Done   8 out of   8 | elapsed:    0.8s finished\n",
      "[Parallel(n_jobs=8)]: Done   6 out of   8 | elapsed:    0.5s remaining:    0.2s\n",
      "[Parallel(n_jobs=8)]: Done   2 out of   8 | elapsed:    0.5s remaining:    1.5s\n",
      "[Parallel(n_jobs=8)]: Done   4 out of   8 | elapsed:    0.5s remaining:    0.5s\n",
      "[Parallel(n_jobs=8)]: Done   1 out of   8 | elapsed:    0.6s remaining:    4.4s\n",
      "[Parallel(n_jobs=8)]: Done   8 out of   8 | elapsed:    0.6s finished\n"
     ]
    },
    {
     "name": "stdout",
     "output_type": "stream",
     "text": [
      "3\n",
      "The events passed to the Epochs constructor are not chronologically ordered.\n",
      "100 matching events found\n",
      "No baseline correction applied\n",
      "0 projection items activated\n",
      "0 bad epochs dropped\n",
      "Attenuation at stop frequency 10.5Hz is only 5.2dB.\n",
      "The measurement information indicates a low-pass frequency of 128 Hz. The decim=3 parameter will result in a sampling frequency of 85.3333 Hz, which can cause aliasing artifacts.\n"
     ]
    },
    {
     "name": "stderr",
     "output_type": "stream",
     "text": [
      "[Parallel(n_jobs=8)]: Done   2 out of   8 | elapsed:    0.2s remaining:    0.6s\n",
      "[Parallel(n_jobs=8)]: Done   4 out of   8 | elapsed:    0.2s remaining:    0.2s\n",
      "[Parallel(n_jobs=8)]: Done   1 out of   8 | elapsed:    0.2s remaining:    1.6s\n",
      "[Parallel(n_jobs=8)]: Done   6 out of   8 | elapsed:    0.2s remaining:    0.1s\n",
      "[Parallel(n_jobs=8)]: Done   8 out of   8 | elapsed:    0.3s finished\n",
      "[Parallel(n_jobs=8)]: Done   1 out of   2 | elapsed:    0.1s remaining:    0.1s\n",
      "[Parallel(n_jobs=8)]: Done   3 out of   5 | elapsed:    0.3s remaining:    0.2s\n",
      "[Parallel(n_jobs=8)]: Done   6 out of   8 | elapsed:    0.6s remaining:    0.2s\n",
      "[Parallel(n_jobs=8)]: Done   8 out of   8 | elapsed:    0.7s finished\n",
      "[Parallel(n_jobs=8)]: Done   2 out of   8 | elapsed:    0.4s remaining:    1.3s\n",
      "[Parallel(n_jobs=8)]: Done   6 out of   8 | elapsed:    0.5s remaining:    0.2s\n",
      "[Parallel(n_jobs=8)]: Done   4 out of   8 | elapsed:    0.5s remaining:    0.5s\n",
      "[Parallel(n_jobs=8)]: Done   1 out of   8 | elapsed:    0.6s remaining:    4.1s\n",
      "[Parallel(n_jobs=8)]: Done   8 out of   8 | elapsed:    0.6s finished\n"
     ]
    },
    {
     "name": "stdout",
     "output_type": "stream",
     "text": [
      "4\n",
      "The events passed to the Epochs constructor are not chronologically ordered.\n",
      "100 matching events found\n",
      "No baseline correction applied\n",
      "0 projection items activated\n",
      "0 bad epochs dropped\n",
      "Attenuation at stop frequency 10.5Hz is only 5.2dB.\n",
      "The measurement information indicates a low-pass frequency of 128 Hz. The decim=3 parameter will result in a sampling frequency of 85.3333 Hz, which can cause aliasing artifacts.\n"
     ]
    },
    {
     "name": "stderr",
     "output_type": "stream",
     "text": [
      "[Parallel(n_jobs=8)]: Done   2 out of   8 | elapsed:    0.1s remaining:    0.4s\n",
      "[Parallel(n_jobs=8)]: Done   1 out of   8 | elapsed:    0.2s remaining:    1.1s\n",
      "[Parallel(n_jobs=8)]: Done   4 out of   8 | elapsed:    0.2s remaining:    0.2s\n",
      "[Parallel(n_jobs=8)]: Done   6 out of   8 | elapsed:    0.2s remaining:    0.1s\n",
      "[Parallel(n_jobs=8)]: Done   8 out of   8 | elapsed:    0.2s finished\n",
      "[Parallel(n_jobs=8)]: Done   1 out of   6 | elapsed:    0.2s remaining:    1.0s\n",
      "[Parallel(n_jobs=8)]: Done   2 out of   8 | elapsed:    0.3s remaining:    0.9s\n",
      "[Parallel(n_jobs=8)]: Done   4 out of   8 | elapsed:    0.4s remaining:    0.4s\n",
      "[Parallel(n_jobs=8)]: Done   6 out of   8 | elapsed:    0.6s remaining:    0.2s\n",
      "[Parallel(n_jobs=8)]: Done   8 out of   8 | elapsed:    0.7s finished\n",
      "[Parallel(n_jobs=8)]: Done   4 out of   8 | elapsed:    0.4s remaining:    0.4s\n",
      "[Parallel(n_jobs=8)]: Done   2 out of   8 | elapsed:    0.4s remaining:    1.3s\n",
      "[Parallel(n_jobs=8)]: Done   6 out of   8 | elapsed:    0.5s remaining:    0.2s\n",
      "[Parallel(n_jobs=8)]: Done   1 out of   8 | elapsed:    0.6s remaining:    3.9s\n",
      "[Parallel(n_jobs=8)]: Done   8 out of   8 | elapsed:    0.6s finished\n"
     ]
    },
    {
     "name": "stdout",
     "output_type": "stream",
     "text": [
      "5\n",
      "The events passed to the Epochs constructor are not chronologically ordered.\n",
      "100 matching events found\n",
      "No baseline correction applied\n",
      "0 projection items activated\n",
      "0 bad epochs dropped\n",
      "Attenuation at stop frequency 10.5Hz is only 5.2dB.\n",
      "The measurement information indicates a low-pass frequency of 128 Hz. The decim=3 parameter will result in a sampling frequency of 85.3333 Hz, which can cause aliasing artifacts.\n"
     ]
    },
    {
     "name": "stderr",
     "output_type": "stream",
     "text": [
      "[Parallel(n_jobs=8)]: Done   2 out of   8 | elapsed:    0.1s remaining:    0.4s\n",
      "[Parallel(n_jobs=8)]: Done   4 out of   8 | elapsed:    0.1s remaining:    0.1s\n",
      "[Parallel(n_jobs=8)]: Done   1 out of   8 | elapsed:    0.2s remaining:    1.3s\n",
      "[Parallel(n_jobs=8)]: Done   6 out of   8 | elapsed:    0.2s remaining:    0.1s\n",
      "[Parallel(n_jobs=8)]: Done   8 out of   8 | elapsed:    0.2s finished\n",
      "[Parallel(n_jobs=8)]: Done   1 out of   3 | elapsed:    0.2s remaining:    0.3s\n",
      "[Parallel(n_jobs=8)]: Done   4 out of   8 | elapsed:    0.4s remaining:    0.4s\n",
      "[Parallel(n_jobs=8)]: Done   6 out of   8 | elapsed:    0.6s remaining:    0.2s\n",
      "[Parallel(n_jobs=8)]: Done   8 out of   8 | elapsed:    0.7s finished\n",
      "[Parallel(n_jobs=8)]: Done   2 out of   8 | elapsed:    0.4s remaining:    1.3s\n",
      "[Parallel(n_jobs=8)]: Done   4 out of   8 | elapsed:    0.5s remaining:    0.5s\n",
      "[Parallel(n_jobs=8)]: Done   6 out of   8 | elapsed:    0.5s remaining:    0.2s\n",
      "[Parallel(n_jobs=8)]: Done   1 out of   8 | elapsed:    0.7s remaining:    4.8s\n",
      "[Parallel(n_jobs=8)]: Done   8 out of   8 | elapsed:    0.7s finished\n"
     ]
    },
    {
     "name": "stdout",
     "output_type": "stream",
     "text": [
      "6\n",
      "The events passed to the Epochs constructor are not chronologically ordered.\n",
      "100 matching events found\n",
      "No baseline correction applied\n",
      "0 projection items activated\n",
      "0 bad epochs dropped\n",
      "Attenuation at stop frequency 10.5Hz is only 5.2dB.\n",
      "The measurement information indicates a low-pass frequency of 128 Hz. The decim=3 parameter will result in a sampling frequency of 85.3333 Hz, which can cause aliasing artifacts.\n"
     ]
    },
    {
     "name": "stderr",
     "output_type": "stream",
     "text": [
      "[Parallel(n_jobs=8)]: Done   2 out of   8 | elapsed:    0.1s remaining:    0.4s\n",
      "[Parallel(n_jobs=8)]: Done   4 out of   8 | elapsed:    0.2s remaining:    0.2s\n",
      "[Parallel(n_jobs=8)]: Done   6 out of   8 | elapsed:    0.2s remaining:    0.1s\n",
      "[Parallel(n_jobs=8)]: Done   1 out of   8 | elapsed:    0.2s remaining:    1.5s\n",
      "[Parallel(n_jobs=8)]: Done   8 out of   8 | elapsed:    0.2s finished\n",
      "[Parallel(n_jobs=8)]: Done   1 out of   8 | elapsed:    0.3s remaining:    1.8s\n",
      "[Parallel(n_jobs=8)]: Done   2 out of   8 | elapsed:    0.3s remaining:    1.0s\n",
      "[Parallel(n_jobs=8)]: Done   4 out of   8 | elapsed:    0.7s remaining:    0.7s\n",
      "[Parallel(n_jobs=8)]: Done   6 out of   8 | elapsed:    0.8s remaining:    0.3s\n",
      "[Parallel(n_jobs=8)]: Done   8 out of   8 | elapsed:    1.0s finished\n",
      "[Parallel(n_jobs=8)]: Done   4 out of   8 | elapsed:    0.6s remaining:    0.6s\n",
      "[Parallel(n_jobs=8)]: Done   6 out of   8 | elapsed:    0.6s remaining:    0.2s\n",
      "[Parallel(n_jobs=8)]: Done   2 out of   8 | elapsed:    0.6s remaining:    1.8s\n",
      "[Parallel(n_jobs=8)]: Done   1 out of   8 | elapsed:    0.8s remaining:    5.3s\n",
      "[Parallel(n_jobs=8)]: Done   8 out of   8 | elapsed:    0.8s finished\n"
     ]
    },
    {
     "name": "stdout",
     "output_type": "stream",
     "text": [
      "7\n",
      "The events passed to the Epochs constructor are not chronologically ordered.\n",
      "100 matching events found\n",
      "No baseline correction applied\n",
      "0 projection items activated\n",
      "0 bad epochs dropped\n",
      "Attenuation at stop frequency 10.5Hz is only 5.2dB.\n",
      "The measurement information indicates a low-pass frequency of 128 Hz. The decim=3 parameter will result in a sampling frequency of 85.3333 Hz, which can cause aliasing artifacts.\n"
     ]
    },
    {
     "name": "stderr",
     "output_type": "stream",
     "text": [
      "[Parallel(n_jobs=8)]: Done   2 out of   8 | elapsed:    0.1s remaining:    0.4s\n",
      "[Parallel(n_jobs=8)]: Done   1 out of   8 | elapsed:    0.2s remaining:    1.2s\n",
      "[Parallel(n_jobs=8)]: Done   6 out of   8 | elapsed:    0.2s remaining:    0.1s\n",
      "[Parallel(n_jobs=8)]: Done   4 out of   8 | elapsed:    0.2s remaining:    0.2s\n",
      "[Parallel(n_jobs=8)]: Done   8 out of   8 | elapsed:    0.2s finished\n",
      "[Parallel(n_jobs=8)]: Done   1 out of   5 | elapsed:    0.2s remaining:    0.6s\n",
      "[Parallel(n_jobs=8)]: Done   4 out of   8 | elapsed:    0.5s remaining:    0.5s\n",
      "[Parallel(n_jobs=8)]: Done   6 out of   8 | elapsed:    0.6s remaining:    0.2s\n",
      "[Parallel(n_jobs=8)]: Done   8 out of   8 | elapsed:    0.8s finished\n",
      "[Parallel(n_jobs=8)]: Done   4 out of   8 | elapsed:    0.4s remaining:    0.4s\n",
      "[Parallel(n_jobs=8)]: Done   6 out of   8 | elapsed:    0.5s remaining:    0.2s\n",
      "[Parallel(n_jobs=8)]: Done   2 out of   8 | elapsed:    0.5s remaining:    1.5s\n",
      "[Parallel(n_jobs=8)]: Done   1 out of   8 | elapsed:    0.6s remaining:    4.1s\n",
      "[Parallel(n_jobs=8)]: Done   8 out of   8 | elapsed:    0.6s finished\n"
     ]
    },
    {
     "name": "stdout",
     "output_type": "stream",
     "text": [
      "8\n",
      "The events passed to the Epochs constructor are not chronologically ordered.\n",
      "100 matching events found\n",
      "No baseline correction applied\n",
      "0 projection items activated\n",
      "0 bad epochs dropped\n",
      "Attenuation at stop frequency 10.5Hz is only 5.2dB.\n",
      "The measurement information indicates a low-pass frequency of 128 Hz. The decim=3 parameter will result in a sampling frequency of 85.3333 Hz, which can cause aliasing artifacts.\n"
     ]
    },
    {
     "name": "stderr",
     "output_type": "stream",
     "text": [
      "[Parallel(n_jobs=8)]: Done   2 out of   8 | elapsed:    0.1s remaining:    0.4s\n",
      "[Parallel(n_jobs=8)]: Done   4 out of   8 | elapsed:    0.2s remaining:    0.2s\n",
      "[Parallel(n_jobs=8)]: Done   1 out of   8 | elapsed:    0.2s remaining:    1.2s\n",
      "[Parallel(n_jobs=8)]: Done   6 out of   8 | elapsed:    0.2s remaining:    0.1s\n",
      "[Parallel(n_jobs=8)]: Done   8 out of   8 | elapsed:    0.2s finished\n",
      "[Parallel(n_jobs=8)]: Done   1 out of   5 | elapsed:    0.2s remaining:    0.7s\n",
      "[Parallel(n_jobs=8)]: Done   3 out of   7 | elapsed:    0.3s remaining:    0.5s\n",
      "[Parallel(n_jobs=8)]: Done   4 out of   8 | elapsed:    0.4s remaining:    0.4s\n",
      "[Parallel(n_jobs=8)]: Done   6 out of   8 | elapsed:    0.6s remaining:    0.2s\n",
      "[Parallel(n_jobs=8)]: Done   8 out of   8 | elapsed:    0.7s finished\n",
      "[Parallel(n_jobs=8)]: Done   4 out of   8 | elapsed:    0.5s remaining:    0.5s\n",
      "[Parallel(n_jobs=8)]: Done   6 out of   8 | elapsed:    0.5s remaining:    0.2s\n",
      "[Parallel(n_jobs=8)]: Done   2 out of   8 | elapsed:    0.5s remaining:    1.4s\n",
      "[Parallel(n_jobs=8)]: Done   1 out of   8 | elapsed:    0.6s remaining:    4.3s\n",
      "[Parallel(n_jobs=8)]: Done   8 out of   8 | elapsed:    0.6s finished\n"
     ]
    },
    {
     "name": "stdout",
     "output_type": "stream",
     "text": [
      "9\n",
      "The events passed to the Epochs constructor are not chronologically ordered.\n",
      "100 matching events found\n",
      "No baseline correction applied\n",
      "0 projection items activated\n",
      "0 bad epochs dropped\n",
      "Attenuation at stop frequency 10.5Hz is only 5.2dB.\n",
      "The measurement information indicates a low-pass frequency of 128 Hz. The decim=3 parameter will result in a sampling frequency of 85.3333 Hz, which can cause aliasing artifacts.\n"
     ]
    },
    {
     "name": "stderr",
     "output_type": "stream",
     "text": [
      "[Parallel(n_jobs=8)]: Done   2 out of   8 | elapsed:    0.1s remaining:    0.4s\n",
      "[Parallel(n_jobs=8)]: Done   4 out of   8 | elapsed:    0.2s remaining:    0.2s\n",
      "[Parallel(n_jobs=8)]: Done   1 out of   8 | elapsed:    0.2s remaining:    1.3s\n",
      "[Parallel(n_jobs=8)]: Done   6 out of   8 | elapsed:    0.2s remaining:    0.1s\n",
      "[Parallel(n_jobs=8)]: Done   8 out of   8 | elapsed:    0.2s finished\n",
      "[Parallel(n_jobs=8)]: Done   1 out of   3 | elapsed:    0.2s remaining:    0.3s\n",
      "[Parallel(n_jobs=8)]: Done   2 out of   3 | elapsed:    0.2s remaining:    0.1s\n",
      "[Parallel(n_jobs=8)]: Done   6 out of   8 | elapsed:    0.6s remaining:    0.2s\n",
      "[Parallel(n_jobs=8)]: Done   8 out of   8 | elapsed:    0.7s finished\n",
      "[Parallel(n_jobs=8)]: Done   2 out of   8 | elapsed:    0.4s remaining:    1.3s\n",
      "[Parallel(n_jobs=8)]: Done   4 out of   8 | elapsed:    0.5s remaining:    0.5s\n",
      "[Parallel(n_jobs=8)]: Done   6 out of   8 | elapsed:    0.5s remaining:    0.2s\n",
      "[Parallel(n_jobs=8)]: Done   1 out of   8 | elapsed:    0.6s remaining:    4.0s\n",
      "[Parallel(n_jobs=8)]: Done   8 out of   8 | elapsed:    0.6s finished\n"
     ]
    },
    {
     "name": "stdout",
     "output_type": "stream",
     "text": [
      "10\n",
      "The events passed to the Epochs constructor are not chronologically ordered.\n",
      "100 matching events found\n",
      "No baseline correction applied\n",
      "0 projection items activated\n",
      "0 bad epochs dropped\n",
      "Attenuation at stop frequency 10.5Hz is only 5.2dB.\n",
      "The measurement information indicates a low-pass frequency of 128 Hz. The decim=3 parameter will result in a sampling frequency of 85.3333 Hz, which can cause aliasing artifacts.\n"
     ]
    },
    {
     "name": "stderr",
     "output_type": "stream",
     "text": [
      "[Parallel(n_jobs=8)]: Done   2 out of   8 | elapsed:    0.1s remaining:    0.4s\n",
      "[Parallel(n_jobs=8)]: Done   4 out of   8 | elapsed:    0.1s remaining:    0.1s\n",
      "[Parallel(n_jobs=8)]: Done   6 out of   8 | elapsed:    0.2s remaining:    0.1s\n",
      "[Parallel(n_jobs=8)]: Done   1 out of   8 | elapsed:    0.2s remaining:    1.6s\n",
      "[Parallel(n_jobs=8)]: Done   8 out of   8 | elapsed:    0.2s finished\n",
      "[Parallel(n_jobs=8)]: Done   1 out of   4 | elapsed:    0.2s remaining:    0.6s\n",
      "[Parallel(n_jobs=8)]: Done   3 out of   5 | elapsed:    0.4s remaining:    0.2s\n",
      "[Parallel(n_jobs=8)]: Done   6 out of   8 | elapsed:    0.6s remaining:    0.2s\n",
      "[Parallel(n_jobs=8)]: Done   8 out of   8 | elapsed:    0.7s finished\n",
      "[Parallel(n_jobs=8)]: Done   4 out of   8 | elapsed:    0.5s remaining:    0.5s\n",
      "[Parallel(n_jobs=8)]: Done   2 out of   8 | elapsed:    0.5s remaining:    1.5s\n",
      "[Parallel(n_jobs=8)]: Done   6 out of   8 | elapsed:    0.5s remaining:    0.2s\n",
      "[Parallel(n_jobs=8)]: Done   1 out of   8 | elapsed:    0.6s remaining:    4.0s\n",
      "[Parallel(n_jobs=8)]: Done   8 out of   8 | elapsed:    0.6s finished\n"
     ]
    },
    {
     "name": "stdout",
     "output_type": "stream",
     "text": [
      "11\n",
      "The events passed to the Epochs constructor are not chronologically ordered.\n",
      "100 matching events found\n",
      "No baseline correction applied\n",
      "0 projection items activated\n",
      "0 bad epochs dropped\n",
      "Attenuation at stop frequency 10.5Hz is only 5.2dB.\n",
      "The measurement information indicates a low-pass frequency of 128 Hz. The decim=3 parameter will result in a sampling frequency of 85.3333 Hz, which can cause aliasing artifacts.\n"
     ]
    },
    {
     "name": "stderr",
     "output_type": "stream",
     "text": [
      "[Parallel(n_jobs=8)]: Done   2 out of   8 | elapsed:    0.1s remaining:    0.4s\n",
      "[Parallel(n_jobs=8)]: Done   4 out of   8 | elapsed:    0.2s remaining:    0.2s\n",
      "[Parallel(n_jobs=8)]: Done   6 out of   8 | elapsed:    0.2s remaining:    0.1s\n",
      "[Parallel(n_jobs=8)]: Done   1 out of   8 | elapsed:    0.2s remaining:    1.7s\n",
      "[Parallel(n_jobs=8)]: Done   8 out of   8 | elapsed:    0.3s finished\n",
      "[Parallel(n_jobs=8)]: Done   1 out of   3 | elapsed:    0.2s remaining:    0.4s\n",
      "[Parallel(n_jobs=8)]: Done   2 out of   4 | elapsed:    0.3s remaining:    0.3s\n",
      "[Parallel(n_jobs=8)]: Done   3 out of   4 | elapsed:    0.4s remaining:    0.1s\n",
      "[Parallel(n_jobs=8)]: Done   6 out of   8 | elapsed:    0.7s remaining:    0.2s\n",
      "[Parallel(n_jobs=8)]: Done   8 out of   8 | elapsed:    0.9s finished\n",
      "[Parallel(n_jobs=8)]: Done   2 out of   8 | elapsed:    0.4s remaining:    1.3s\n",
      "[Parallel(n_jobs=8)]: Done   6 out of   8 | elapsed:    0.5s remaining:    0.2s\n",
      "[Parallel(n_jobs=8)]: Done   4 out of   8 | elapsed:    0.5s remaining:    0.5s\n",
      "[Parallel(n_jobs=8)]: Done   1 out of   8 | elapsed:    0.6s remaining:    4.1s\n",
      "[Parallel(n_jobs=8)]: Done   8 out of   8 | elapsed:    0.6s finished\n"
     ]
    },
    {
     "name": "stdout",
     "output_type": "stream",
     "text": [
      "12\n",
      "The events passed to the Epochs constructor are not chronologically ordered.\n",
      "100 matching events found\n",
      "No baseline correction applied\n",
      "0 projection items activated\n",
      "0 bad epochs dropped\n",
      "Attenuation at stop frequency 10.5Hz is only 5.2dB.\n",
      "The measurement information indicates a low-pass frequency of 128 Hz. The decim=3 parameter will result in a sampling frequency of 85.3333 Hz, which can cause aliasing artifacts.\n"
     ]
    },
    {
     "name": "stderr",
     "output_type": "stream",
     "text": [
      "[Parallel(n_jobs=8)]: Done   4 out of   8 | elapsed:    0.1s remaining:    0.1s\n",
      "[Parallel(n_jobs=8)]: Done   2 out of   8 | elapsed:    0.2s remaining:    0.5s\n",
      "[Parallel(n_jobs=8)]: Done   6 out of   8 | elapsed:    0.2s remaining:    0.1s\n",
      "[Parallel(n_jobs=8)]: Done   1 out of   8 | elapsed:    0.2s remaining:    1.3s\n",
      "[Parallel(n_jobs=8)]: Done   8 out of   8 | elapsed:    0.2s finished\n",
      "[Parallel(n_jobs=8)]: Done   1 out of   4 | elapsed:    0.2s remaining:    0.5s\n",
      "[Parallel(n_jobs=8)]: Done   4 out of   8 | elapsed:    0.5s remaining:    0.5s\n",
      "[Parallel(n_jobs=8)]: Done   6 out of   8 | elapsed:    0.6s remaining:    0.2s\n",
      "[Parallel(n_jobs=8)]: Done   8 out of   8 | elapsed:    0.8s finished\n",
      "[Parallel(n_jobs=8)]: Done   6 out of   8 | elapsed:    0.5s remaining:    0.2s\n",
      "[Parallel(n_jobs=8)]: Done   4 out of   8 | elapsed:    0.5s remaining:    0.5s\n",
      "[Parallel(n_jobs=8)]: Done   2 out of   8 | elapsed:    0.5s remaining:    1.5s\n",
      "[Parallel(n_jobs=8)]: Done   1 out of   8 | elapsed:    0.6s remaining:    4.1s\n",
      "[Parallel(n_jobs=8)]: Done   8 out of   8 | elapsed:    0.6s finished\n"
     ]
    },
    {
     "name": "stdout",
     "output_type": "stream",
     "text": [
      "13\n",
      "The events passed to the Epochs constructor are not chronologically ordered.\n",
      "100 matching events found\n",
      "No baseline correction applied\n",
      "0 projection items activated\n",
      "0 bad epochs dropped\n",
      "Attenuation at stop frequency 10.5Hz is only 5.2dB.\n",
      "The measurement information indicates a low-pass frequency of 128 Hz. The decim=3 parameter will result in a sampling frequency of 85.3333 Hz, which can cause aliasing artifacts.\n"
     ]
    },
    {
     "name": "stderr",
     "output_type": "stream",
     "text": [
      "[Parallel(n_jobs=8)]: Done   2 out of   8 | elapsed:    0.1s remaining:    0.4s\n",
      "[Parallel(n_jobs=8)]: Done   1 out of   8 | elapsed:    0.2s remaining:    1.1s\n",
      "[Parallel(n_jobs=8)]: Done   4 out of   8 | elapsed:    0.2s remaining:    0.2s\n",
      "[Parallel(n_jobs=8)]: Done   6 out of   8 | elapsed:    0.2s remaining:    0.1s\n",
      "[Parallel(n_jobs=8)]: Done   8 out of   8 | elapsed:    0.2s finished\n",
      "[Parallel(n_jobs=8)]: Done   1 out of   4 | elapsed:    0.2s remaining:    0.6s\n",
      "[Parallel(n_jobs=8)]: Done   4 out of   8 | elapsed:    0.5s remaining:    0.5s\n",
      "[Parallel(n_jobs=8)]: Done   6 out of   8 | elapsed:    0.7s remaining:    0.2s\n",
      "[Parallel(n_jobs=8)]: Done   8 out of   8 | elapsed:    0.8s finished\n",
      "[Parallel(n_jobs=8)]: Done   4 out of   8 | elapsed:    0.4s remaining:    0.4s\n",
      "[Parallel(n_jobs=8)]: Done   6 out of   8 | elapsed:    0.5s remaining:    0.2s\n",
      "[Parallel(n_jobs=8)]: Done   2 out of   8 | elapsed:    0.5s remaining:    1.4s\n",
      "[Parallel(n_jobs=8)]: Done   1 out of   8 | elapsed:    0.6s remaining:    4.3s\n",
      "[Parallel(n_jobs=8)]: Done   8 out of   8 | elapsed:    0.6s finished\n"
     ]
    },
    {
     "name": "stdout",
     "output_type": "stream",
     "text": [
      "14\n",
      "The events passed to the Epochs constructor are not chronologically ordered.\n",
      "100 matching events found\n",
      "No baseline correction applied\n",
      "0 projection items activated\n",
      "0 bad epochs dropped\n",
      "Attenuation at stop frequency 10.5Hz is only 5.2dB.\n",
      "The measurement information indicates a low-pass frequency of 128 Hz. The decim=3 parameter will result in a sampling frequency of 85.3333 Hz, which can cause aliasing artifacts.\n"
     ]
    },
    {
     "name": "stderr",
     "output_type": "stream",
     "text": [
      "[Parallel(n_jobs=8)]: Done   2 out of   8 | elapsed:    0.1s remaining:    0.4s\n",
      "[Parallel(n_jobs=8)]: Done   4 out of   8 | elapsed:    0.2s remaining:    0.2s\n",
      "[Parallel(n_jobs=8)]: Done   1 out of   8 | elapsed:    0.2s remaining:    1.3s\n",
      "[Parallel(n_jobs=8)]: Done   6 out of   8 | elapsed:    0.2s remaining:    0.1s\n",
      "[Parallel(n_jobs=8)]: Done   8 out of   8 | elapsed:    0.2s finished\n",
      "[Parallel(n_jobs=8)]: Done   1 out of   3 | elapsed:    0.2s remaining:    0.4s\n",
      "[Parallel(n_jobs=8)]: Done   4 out of   8 | elapsed:    0.4s remaining:    0.4s\n",
      "[Parallel(n_jobs=8)]: Done   6 out of   8 | elapsed:    0.6s remaining:    0.2s\n",
      "[Parallel(n_jobs=8)]: Done   8 out of   8 | elapsed:    0.7s finished\n",
      "[Parallel(n_jobs=8)]: Done   2 out of   8 | elapsed:    0.4s remaining:    1.3s\n",
      "[Parallel(n_jobs=8)]: Done   6 out of   8 | elapsed:    0.5s remaining:    0.2s\n",
      "[Parallel(n_jobs=8)]: Done   4 out of   8 | elapsed:    0.5s remaining:    0.5s\n",
      "[Parallel(n_jobs=8)]: Done   1 out of   8 | elapsed:    0.6s remaining:    4.2s\n",
      "[Parallel(n_jobs=8)]: Done   8 out of   8 | elapsed:    0.6s finished\n"
     ]
    },
    {
     "name": "stdout",
     "output_type": "stream",
     "text": [
      "15\n",
      "The events passed to the Epochs constructor are not chronologically ordered.\n",
      "100 matching events found\n",
      "No baseline correction applied\n",
      "0 projection items activated\n",
      "0 bad epochs dropped\n",
      "Attenuation at stop frequency 10.5Hz is only 5.2dB.\n",
      "The measurement information indicates a low-pass frequency of 128 Hz. The decim=3 parameter will result in a sampling frequency of 85.3333 Hz, which can cause aliasing artifacts.\n"
     ]
    },
    {
     "name": "stderr",
     "output_type": "stream",
     "text": [
      "[Parallel(n_jobs=8)]: Done   2 out of   8 | elapsed:    0.2s remaining:    0.5s\n",
      "[Parallel(n_jobs=8)]: Done   1 out of   8 | elapsed:    0.2s remaining:    1.3s\n",
      "[Parallel(n_jobs=8)]: Done   6 out of   8 | elapsed:    0.2s remaining:    0.1s\n",
      "[Parallel(n_jobs=8)]: Done   4 out of   8 | elapsed:    0.2s remaining:    0.2s\n",
      "[Parallel(n_jobs=8)]: Done   8 out of   8 | elapsed:    0.2s finished\n",
      "[Parallel(n_jobs=8)]: Done   1 out of   6 | elapsed:    0.2s remaining:    1.0s\n",
      "[Parallel(n_jobs=8)]: Done   2 out of   6 | elapsed:    0.3s remaining:    0.6s\n",
      "[Parallel(n_jobs=8)]: Done   4 out of   8 | elapsed:    0.4s remaining:    0.4s\n",
      "[Parallel(n_jobs=8)]: Done   6 out of   8 | elapsed:    0.6s remaining:    0.2s\n",
      "[Parallel(n_jobs=8)]: Done   8 out of   8 | elapsed:    0.7s finished\n",
      "[Parallel(n_jobs=8)]: Done   6 out of   8 | elapsed:    0.4s remaining:    0.1s\n",
      "[Parallel(n_jobs=8)]: Done   2 out of   8 | elapsed:    0.5s remaining:    1.4s\n",
      "[Parallel(n_jobs=8)]: Done   4 out of   8 | elapsed:    0.5s remaining:    0.5s\n",
      "[Parallel(n_jobs=8)]: Done   1 out of   8 | elapsed:    0.6s remaining:    4.1s\n",
      "[Parallel(n_jobs=8)]: Done   8 out of   8 | elapsed:    0.6s finished\n"
     ]
    },
    {
     "name": "stdout",
     "output_type": "stream",
     "text": [
      "16\n",
      "The events passed to the Epochs constructor are not chronologically ordered.\n",
      "100 matching events found\n",
      "No baseline correction applied\n",
      "0 projection items activated\n",
      "0 bad epochs dropped\n",
      "Attenuation at stop frequency 10.5Hz is only 5.2dB.\n",
      "The measurement information indicates a low-pass frequency of 128 Hz. The decim=3 parameter will result in a sampling frequency of 85.3333 Hz, which can cause aliasing artifacts.\n"
     ]
    },
    {
     "name": "stderr",
     "output_type": "stream",
     "text": [
      "[Parallel(n_jobs=8)]: Done   2 out of   8 | elapsed:    0.1s remaining:    0.4s\n",
      "[Parallel(n_jobs=8)]: Done   1 out of   8 | elapsed:    0.1s remaining:    1.0s\n",
      "[Parallel(n_jobs=8)]: Done   4 out of   8 | elapsed:    0.2s remaining:    0.2s\n",
      "[Parallel(n_jobs=8)]: Done   6 out of   8 | elapsed:    0.2s remaining:    0.1s\n",
      "[Parallel(n_jobs=8)]: Done   8 out of   8 | elapsed:    0.2s finished\n",
      "[Parallel(n_jobs=8)]: Done   1 out of   8 | elapsed:    0.3s remaining:    2.0s\n",
      "[Parallel(n_jobs=8)]: Done   2 out of   8 | elapsed:    0.4s remaining:    1.2s\n",
      "[Parallel(n_jobs=8)]: Done   4 out of   8 | elapsed:    0.6s remaining:    0.6s\n",
      "[Parallel(n_jobs=8)]: Done   6 out of   8 | elapsed:    0.8s remaining:    0.3s\n",
      "[Parallel(n_jobs=8)]: Done   8 out of   8 | elapsed:    1.0s finished\n",
      "[Parallel(n_jobs=8)]: Done   2 out of   8 | elapsed:    0.5s remaining:    1.4s\n",
      "[Parallel(n_jobs=8)]: Done   6 out of   8 | elapsed:    0.5s remaining:    0.2s\n",
      "[Parallel(n_jobs=8)]: Done   4 out of   8 | elapsed:    0.5s remaining:    0.5s\n",
      "[Parallel(n_jobs=8)]: Done   1 out of   8 | elapsed:    0.6s remaining:    3.9s\n",
      "[Parallel(n_jobs=8)]: Done   8 out of   8 | elapsed:    0.6s finished\n"
     ]
    },
    {
     "name": "stdout",
     "output_type": "stream",
     "text": [
      "Cannot find chance level from scorer_auc, specify chance level\n"
     ]
    },
    {
     "data": {
      "image/png": "[encoded data removed]",
      "text/plain": [
       "<matplotlib.figure.Figure at 0x7f15e82a8e50>"
      ]
     },
     "metadata": {},
     "output_type": "display_data"
    },
    {
     "data": {
      "image/png": "[encoded data removed]",
      "text/plain": [
       "<matplotlib.figure.Figure at 0x7f15e4564ad0>"
      ]
     },
     "metadata": {},
     "output_type": "display_data"
    },
    {
     "data": {
      "image/png": "[encoded data removed]",
      "text/plain": [
       "<matplotlib.figure.Figure at 0x7f15e404b3d0>"
      ]
     },
     "metadata": {},
     "output_type": "display_data"
    },
    {
     "data": {
      "image/png": "[encoded data removed]",
      "text/plain": [
       "<matplotlib.figure.Figure at 0x7f15e41b5ed0>"
      ]
     },
     "metadata": {},
     "output_type": "display_data"
    }
   ],
   "source": [
    "# Example across multiple subjects\n",
    "scenari = dict(\n",
    "    jitter=dict(latency=.01, jitter=.0025),\n",
    "    metastable=dict(jitter=.0,\n",
    "                    latency=np.linspace(.01, .50, 50),\n",
    "                    snr=np.r_[np.linspace(.5, .1, 5), [0] * 45])\n",
    ")\n",
    "for name, params in scenari.iteritems():\n",
    "    scores = list()\n",
    "    for subject in range(17):\n",
    "        print subject\n",
    "        epochs, y = simulate_data(**params)\n",
    "        gat = gat_scores(epochs, y, [None, 10.])\n",
    "        scores.append(gat.scores_)\n",
    "    gat.scores_ = np.mean(scores, axis=0)\n",
    "    gat.plot(show=False, title=name)\n",
    "    gat.plot_times([.050, .150], show=False)"
   ]
  },
  {
   "cell_type": "code",
   "execution_count": 29,
   "metadata": {
    "collapsed": false
   },
   "outputs": [],
   "source": [
    "plt.show()"
   ]
  },
  {
   "cell_type": "code",
   "execution_count": 32,
   "metadata": {
    "collapsed": false,
    "scrolled": true
   },
   "outputs": [
    {
     "name": "stderr",
     "output_type": "stream",
     "text": [
      "/home/jrking/anaconda/lib/python2.7/site-packages/ipykernel/__main__.py:36: DeprecationWarning: using a non-integer number instead of an integer will result in an error in the future\n",
      "/home/jrking/anaconda/lib/python2.7/site-packages/ipykernel/__main__.py:62: RuntimeWarning: The events passed to the Epochs constructor are not chronologically ordered.\n"
     ]
    },
    {
     "name": "stdout",
     "output_type": "stream",
     "text": [
      "0\n",
      "The events passed to the Epochs constructor are not chronologically ordered.\n",
      "100 matching events found\n",
      "No baseline correction applied\n",
      "0 projection items activated\n",
      "0 bad epochs dropped\n",
      "Attenuation at stop frequency 9.5Hz is only 5.1dB.\n"
     ]
    },
    {
     "name": "stderr",
     "output_type": "stream",
     "text": [
      "/home/jrking/anaconda/lib/python2.7/site-packages/ipykernel/__main__.py:18: RuntimeWarning: Attenuation at stop frequency 9.5Hz is only 5.1dB.\n",
      "/home/jrking/anaconda/lib/python2.7/site-packages/ipykernel/__main__.py:21: RuntimeWarning: The measurement information indicates a low-pass frequency of 128 Hz. The decim=3 parameter will result in a sampling frequency of 85.3333 Hz, which can cause aliasing artifacts.\n"
     ]
    },
    {
     "name": "stdout",
     "output_type": "stream",
     "text": [
      "The measurement information indicates a low-pass frequency of 128 Hz. The decim=3 parameter will result in a sampling frequency of 85.3333 Hz, which can cause aliasing artifacts.\n"
     ]
    },
    {
     "name": "stderr",
     "output_type": "stream",
     "text": [
      "[Parallel(n_jobs=8)]: Done   2 out of   8 | elapsed:    0.1s remaining:    0.3s\n",
      "[Parallel(n_jobs=8)]: Done   4 out of   8 | elapsed:    0.2s remaining:    0.2s\n",
      "[Parallel(n_jobs=8)]: Done   1 out of   8 | elapsed:    0.2s remaining:    1.3s\n",
      "[Parallel(n_jobs=8)]: Done   6 out of   8 | elapsed:    0.2s remaining:    0.1s\n",
      "[Parallel(n_jobs=8)]: Done   8 out of   8 | elapsed:    0.2s finished\n",
      "[Parallel(n_jobs=8)]: Done   1 out of   3 | elapsed:    0.1s remaining:    0.3s\n",
      "[Parallel(n_jobs=8)]: Done   2 out of   4 | elapsed:    0.3s remaining:    0.3s\n",
      "[Parallel(n_jobs=8)]: Done   3 out of   7 | elapsed:    0.4s remaining:    0.5s\n",
      "[Parallel(n_jobs=8)]: Done   4 out of   8 | elapsed:    0.5s remaining:    0.5s\n",
      "[Parallel(n_jobs=8)]: Done   6 out of   8 | elapsed:    0.6s remaining:    0.2s\n",
      "[Parallel(n_jobs=8)]: Done   8 out of   8 | elapsed:    0.7s finished\n",
      "[Parallel(n_jobs=8)]: Done   4 out of   8 | elapsed:    0.5s remaining:    0.5s\n",
      "[Parallel(n_jobs=8)]: Done   2 out of   8 | elapsed:    0.5s remaining:    1.5s\n",
      "[Parallel(n_jobs=8)]: Done   6 out of   8 | elapsed:    0.5s remaining:    0.2s\n",
      "[Parallel(n_jobs=8)]: Done   1 out of   8 | elapsed:    0.6s remaining:    4.3s\n",
      "[Parallel(n_jobs=8)]: Done   8 out of   8 | elapsed:    0.6s finished\n"
     ]
    },
    {
     "name": "stdout",
     "output_type": "stream",
     "text": [
      "1\n",
      "The events passed to the Epochs constructor are not chronologically ordered.\n",
      "100 matching events found\n",
      "No baseline correction applied\n",
      "0 projection items activated\n",
      "0 bad epochs dropped\n",
      "Attenuation at stop frequency 9.5Hz is only 5.1dB.\n",
      "The measurement information indicates a low-pass frequency of 128 Hz. The decim=3 parameter will result in a sampling frequency of 85.3333 Hz, which can cause aliasing artifacts.\n"
     ]
    },
    {
     "name": "stderr",
     "output_type": "stream",
     "text": [
      "[Parallel(n_jobs=8)]: Done   2 out of   8 | elapsed:    0.1s remaining:    0.4s\n",
      "[Parallel(n_jobs=8)]: Done   6 out of   8 | elapsed:    0.2s remaining:    0.1s\n",
      "[Parallel(n_jobs=8)]: Done   4 out of   8 | elapsed:    0.2s remaining:    0.2s\n",
      "[Parallel(n_jobs=8)]: Done   1 out of   8 | elapsed:    0.2s remaining:    1.7s\n",
      "[Parallel(n_jobs=8)]: Done   8 out of   8 | elapsed:    0.2s finished\n",
      "[Parallel(n_jobs=8)]: Done   1 out of   2 | elapsed:    0.2s remaining:    0.2s\n",
      "[Parallel(n_jobs=8)]: Done   2 out of   3 | elapsed:    0.2s remaining:    0.1s\n",
      "[Parallel(n_jobs=8)]: Done   3 out of   5 | elapsed:    0.3s remaining:    0.2s\n",
      "[Parallel(n_jobs=8)]: Done   4 out of   8 | elapsed:    0.4s remaining:    0.4s\n",
      "[Parallel(n_jobs=8)]: Done   6 out of   8 | elapsed:    0.6s remaining:    0.2s\n",
      "[Parallel(n_jobs=8)]: Done   8 out of   8 | elapsed:    0.7s finished\n",
      "[Parallel(n_jobs=8)]: Done   2 out of   8 | elapsed:    0.4s remaining:    1.3s\n",
      "[Parallel(n_jobs=8)]: Done   6 out of   8 | elapsed:    0.4s remaining:    0.1s\n",
      "[Parallel(n_jobs=8)]: Done   4 out of   8 | elapsed:    0.5s remaining:    0.5s\n",
      "[Parallel(n_jobs=8)]: Done   1 out of   8 | elapsed:    0.6s remaining:    4.2s\n",
      "[Parallel(n_jobs=8)]: Done   8 out of   8 | elapsed:    0.6s finished\n"
     ]
    },
    {
     "name": "stdout",
     "output_type": "stream",
     "text": [
      "2\n",
      "The events passed to the Epochs constructor are not chronologically ordered.\n",
      "100 matching events found\n",
      "No baseline correction applied\n",
      "0 projection items activated\n",
      "0 bad epochs dropped\n",
      "Attenuation at stop frequency 9.5Hz is only 5.1dB.\n",
      "The measurement information indicates a low-pass frequency of 128 Hz. The decim=3 parameter will result in a sampling frequency of 85.3333 Hz, which can cause aliasing artifacts.\n"
     ]
    },
    {
     "name": "stderr",
     "output_type": "stream",
     "text": [
      "[Parallel(n_jobs=8)]: Done   2 out of   8 | elapsed:    0.1s remaining:    0.4s\n",
      "[Parallel(n_jobs=8)]: Done   1 out of   8 | elapsed:    0.2s remaining:    1.2s\n",
      "[Parallel(n_jobs=8)]: Done   6 out of   8 | elapsed:    0.2s remaining:    0.1s\n",
      "[Parallel(n_jobs=8)]: Done   4 out of   8 | elapsed:    0.2s remaining:    0.2s\n",
      "[Parallel(n_jobs=8)]: Done   8 out of   8 | elapsed:    0.2s finished\n",
      "[Parallel(n_jobs=8)]: Done   1 out of   6 | elapsed:    0.2s remaining:    0.9s\n",
      "[Parallel(n_jobs=8)]: Done   4 out of   8 | elapsed:    0.4s remaining:    0.4s\n",
      "[Parallel(n_jobs=8)]: Done   6 out of   8 | elapsed:    0.6s remaining:    0.2s\n",
      "[Parallel(n_jobs=8)]: Done   8 out of   8 | elapsed:    0.7s finished\n",
      "[Parallel(n_jobs=8)]: Done   2 out of   8 | elapsed:    0.5s remaining:    1.4s\n",
      "[Parallel(n_jobs=8)]: Done   6 out of   8 | elapsed:    0.5s remaining:    0.2s\n",
      "[Parallel(n_jobs=8)]: Done   4 out of   8 | elapsed:    0.6s remaining:    0.6s\n",
      "[Parallel(n_jobs=8)]: Done   1 out of   8 | elapsed:    0.6s remaining:    4.3s\n",
      "[Parallel(n_jobs=8)]: Done   8 out of   8 | elapsed:    0.6s finished\n"
     ]
    },
    {
     "name": "stdout",
     "output_type": "stream",
     "text": [
      "3\n",
      "The events passed to the Epochs constructor are not chronologically ordered.\n",
      "100 matching events found\n",
      "No baseline correction applied\n",
      "0 projection items activated\n",
      "0 bad epochs dropped\n",
      "Attenuation at stop frequency 9.5Hz is only 5.1dB.\n",
      "The measurement information indicates a low-pass frequency of 128 Hz. The decim=3 parameter will result in a sampling frequency of 85.3333 Hz, which can cause aliasing artifacts.\n"
     ]
    },
    {
     "name": "stderr",
     "output_type": "stream",
     "text": [
      "[Parallel(n_jobs=8)]: Done   2 out of   8 | elapsed:    0.1s remaining:    0.4s\n",
      "[Parallel(n_jobs=8)]: Done   4 out of   8 | elapsed:    0.2s remaining:    0.2s\n",
      "[Parallel(n_jobs=8)]: Done   6 out of   8 | elapsed:    0.2s remaining:    0.1s\n",
      "[Parallel(n_jobs=8)]: Done   1 out of   8 | elapsed:    0.2s remaining:    1.7s\n",
      "[Parallel(n_jobs=8)]: Done   8 out of   8 | elapsed:    0.2s finished\n",
      "[Parallel(n_jobs=8)]: Done   1 out of   4 | elapsed:    0.2s remaining:    0.5s\n",
      "[Parallel(n_jobs=8)]: Done   2 out of   6 | elapsed:    0.3s remaining:    0.5s\n",
      "[Parallel(n_jobs=8)]: Done   3 out of   7 | elapsed:    0.3s remaining:    0.4s\n",
      "[Parallel(n_jobs=8)]: Done   4 out of   8 | elapsed:    0.4s remaining:    0.4s\n",
      "[Parallel(n_jobs=8)]: Done   6 out of   8 | elapsed:    0.6s remaining:    0.2s\n",
      "[Parallel(n_jobs=8)]: Done   8 out of   8 | elapsed:    0.7s finished\n",
      "[Parallel(n_jobs=8)]: Done   4 out of   8 | elapsed:    0.5s remaining:    0.5s\n",
      "[Parallel(n_jobs=8)]: Done   6 out of   8 | elapsed:    0.5s remaining:    0.2s\n",
      "[Parallel(n_jobs=8)]: Done   2 out of   8 | elapsed:    0.5s remaining:    1.4s\n",
      "[Parallel(n_jobs=8)]: Done   1 out of   8 | elapsed:    0.7s remaining:    4.6s\n",
      "[Parallel(n_jobs=8)]: Done   8 out of   8 | elapsed:    0.7s finished\n"
     ]
    },
    {
     "name": "stdout",
     "output_type": "stream",
     "text": [
      "4\n",
      "The events passed to the Epochs constructor are not chronologically ordered.\n",
      "100 matching events found\n",
      "No baseline correction applied\n",
      "0 projection items activated\n",
      "0 bad epochs dropped\n",
      "Attenuation at stop frequency 9.5Hz is only 5.1dB.\n",
      "The measurement information indicates a low-pass frequency of 128 Hz. The decim=3 parameter will result in a sampling frequency of 85.3333 Hz, which can cause aliasing artifacts.\n"
     ]
    },
    {
     "name": "stderr",
     "output_type": "stream",
     "text": [
      "[Parallel(n_jobs=8)]: Done   2 out of   8 | elapsed:    0.1s remaining:    0.4s\n",
      "[Parallel(n_jobs=8)]: Done   6 out of   8 | elapsed:    0.2s remaining:    0.1s\n",
      "[Parallel(n_jobs=8)]: Done   1 out of   8 | elapsed:    0.2s remaining:    1.4s\n",
      "[Parallel(n_jobs=8)]: Done   4 out of   8 | elapsed:    0.2s remaining:    0.2s\n",
      "[Parallel(n_jobs=8)]: Done   8 out of   8 | elapsed:    0.2s finished\n",
      "[Parallel(n_jobs=8)]: Done   1 out of   6 | elapsed:    0.2s remaining:    0.9s\n",
      "[Parallel(n_jobs=8)]: Done   2 out of   6 | elapsed:    0.3s remaining:    0.6s\n",
      "[Parallel(n_jobs=8)]: Done   6 out of   8 | elapsed:    0.6s remaining:    0.2s\n",
      "[Parallel(n_jobs=8)]: Done   8 out of   8 | elapsed:    0.8s finished\n",
      "[Parallel(n_jobs=8)]: Done   4 out of   8 | elapsed:    0.4s remaining:    0.4s\n",
      "[Parallel(n_jobs=8)]: Done   6 out of   8 | elapsed:    0.4s remaining:    0.1s\n",
      "[Parallel(n_jobs=8)]: Done   2 out of   8 | elapsed:    0.5s remaining:    1.4s\n",
      "[Parallel(n_jobs=8)]: Done   1 out of   8 | elapsed:    0.6s remaining:    4.2s\n",
      "[Parallel(n_jobs=8)]: Done   8 out of   8 | elapsed:    0.6s finished\n"
     ]
    },
    {
     "name": "stdout",
     "output_type": "stream",
     "text": [
      "5\n",
      "The events passed to the Epochs constructor are not chronologically ordered.\n",
      "100 matching events found\n",
      "No baseline correction applied\n",
      "0 projection items activated\n",
      "0 bad epochs dropped\n",
      "Attenuation at stop frequency 9.5Hz is only 5.1dB.\n",
      "The measurement information indicates a low-pass frequency of 128 Hz. The decim=3 parameter will result in a sampling frequency of 85.3333 Hz, which can cause aliasing artifacts.\n"
     ]
    },
    {
     "name": "stderr",
     "output_type": "stream",
     "text": [
      "[Parallel(n_jobs=8)]: Done   2 out of   8 | elapsed:    0.1s remaining:    0.4s\n",
      "[Parallel(n_jobs=8)]: Done   4 out of   8 | elapsed:    0.2s remaining:    0.2s\n",
      "[Parallel(n_jobs=8)]: Done   1 out of   8 | elapsed:    0.2s remaining:    1.6s\n",
      "[Parallel(n_jobs=8)]: Done   6 out of   8 | elapsed:    0.2s remaining:    0.1s\n",
      "[Parallel(n_jobs=8)]: Done   8 out of   8 | elapsed:    0.2s finished\n",
      "[Parallel(n_jobs=8)]: Done   1 out of   3 | elapsed:    0.2s remaining:    0.4s\n",
      "[Parallel(n_jobs=8)]: Done   2 out of   4 | elapsed:    0.2s remaining:    0.2s\n",
      "[Parallel(n_jobs=8)]: Done   3 out of   5 | elapsed:    0.3s remaining:    0.2s\n",
      "[Parallel(n_jobs=8)]: Done   4 out of   8 | elapsed:    0.4s remaining:    0.4s\n",
      "[Parallel(n_jobs=8)]: Done   6 out of   8 | elapsed:    0.6s remaining:    0.2s\n",
      "[Parallel(n_jobs=8)]: Done   8 out of   8 | elapsed:    0.7s finished\n",
      "[Parallel(n_jobs=8)]: Done   6 out of   8 | elapsed:    0.5s remaining:    0.2s\n",
      "[Parallel(n_jobs=8)]: Done   2 out of   8 | elapsed:    0.5s remaining:    1.5s\n",
      "[Parallel(n_jobs=8)]: Done   4 out of   8 | elapsed:    0.5s remaining:    0.5s\n",
      "[Parallel(n_jobs=8)]: Done   1 out of   8 | elapsed:    0.6s remaining:    4.2s\n",
      "[Parallel(n_jobs=8)]: Done   8 out of   8 | elapsed:    0.6s finished\n"
     ]
    },
    {
     "name": "stdout",
     "output_type": "stream",
     "text": [
      "6\n",
      "The events passed to the Epochs constructor are not chronologically ordered.\n",
      "100 matching events found\n",
      "No baseline correction applied\n",
      "0 projection items activated\n",
      "0 bad epochs dropped\n",
      "Attenuation at stop frequency 9.5Hz is only 5.1dB.\n",
      "The measurement information indicates a low-pass frequency of 128 Hz. The decim=3 parameter will result in a sampling frequency of 85.3333 Hz, which can cause aliasing artifacts.\n"
     ]
    },
    {
     "name": "stderr",
     "output_type": "stream",
     "text": [
      "[Parallel(n_jobs=8)]: Done   2 out of   8 | elapsed:    0.1s remaining:    0.4s\n",
      "[Parallel(n_jobs=8)]: Done   1 out of   8 | elapsed:    0.2s remaining:    1.1s\n",
      "[Parallel(n_jobs=8)]: Done   4 out of   8 | elapsed:    0.2s remaining:    0.2s\n",
      "[Parallel(n_jobs=8)]: Done   6 out of   8 | elapsed:    0.2s remaining:    0.1s\n",
      "[Parallel(n_jobs=8)]: Done   8 out of   8 | elapsed:    0.2s finished\n",
      "[Parallel(n_jobs=8)]: Done   1 out of   2 | elapsed:    0.1s remaining:    0.1s\n",
      "[Parallel(n_jobs=8)]: Done   2 out of   4 | elapsed:    0.2s remaining:    0.2s\n",
      "[Parallel(n_jobs=8)]: Done   6 out of   8 | elapsed:    0.6s remaining:    0.2s\n",
      "[Parallel(n_jobs=8)]: Done   8 out of   8 | elapsed:    0.7s finished\n",
      "[Parallel(n_jobs=8)]: Done   4 out of   8 | elapsed:    0.4s remaining:    0.4s\n",
      "[Parallel(n_jobs=8)]: Done   2 out of   8 | elapsed:    0.5s remaining:    1.4s\n",
      "[Parallel(n_jobs=8)]: Done   6 out of   8 | elapsed:    0.5s remaining:    0.2s\n",
      "[Parallel(n_jobs=8)]: Done   1 out of   8 | elapsed:    0.6s remaining:    4.0s\n",
      "[Parallel(n_jobs=8)]: Done   8 out of   8 | elapsed:    0.6s finished\n"
     ]
    },
    {
     "name": "stdout",
     "output_type": "stream",
     "text": [
      "7\n",
      "The events passed to the Epochs constructor are not chronologically ordered.\n",
      "100 matching events found\n",
      "No baseline correction applied\n",
      "0 projection items activated\n",
      "0 bad epochs dropped\n",
      "Attenuation at stop frequency 9.5Hz is only 5.1dB.\n",
      "The measurement information indicates a low-pass frequency of 128 Hz. The decim=3 parameter will result in a sampling frequency of 85.3333 Hz, which can cause aliasing artifacts.\n"
     ]
    },
    {
     "name": "stderr",
     "output_type": "stream",
     "text": [
      "[Parallel(n_jobs=8)]: Done   2 out of   8 | elapsed:    0.1s remaining:    0.4s\n",
      "[Parallel(n_jobs=8)]: Done   4 out of   8 | elapsed:    0.2s remaining:    0.2s\n",
      "[Parallel(n_jobs=8)]: Done   1 out of   8 | elapsed:    0.2s remaining:    1.2s\n",
      "[Parallel(n_jobs=8)]: Done   6 out of   8 | elapsed:    0.2s remaining:    0.1s\n",
      "[Parallel(n_jobs=8)]: Done   8 out of   8 | elapsed:    0.2s finished\n",
      "[Parallel(n_jobs=8)]: Done   1 out of   5 | elapsed:    0.2s remaining:    0.8s\n",
      "[Parallel(n_jobs=8)]: Done   3 out of   5 | elapsed:    0.3s remaining:    0.2s\n",
      "[Parallel(n_jobs=8)]: Done   6 out of   8 | elapsed:    0.6s remaining:    0.2s\n",
      "[Parallel(n_jobs=8)]: Done   8 out of   8 | elapsed:    0.8s finished\n",
      "[Parallel(n_jobs=8)]: Done   4 out of   8 | elapsed:    0.4s remaining:    0.4s\n",
      "[Parallel(n_jobs=8)]: Done   6 out of   8 | elapsed:    0.4s remaining:    0.1s\n",
      "[Parallel(n_jobs=8)]: Done   2 out of   8 | elapsed:    0.5s remaining:    1.4s\n",
      "[Parallel(n_jobs=8)]: Done   1 out of   8 | elapsed:    0.6s remaining:    4.0s\n",
      "[Parallel(n_jobs=8)]: Done   8 out of   8 | elapsed:    0.6s finished\n"
     ]
    },
    {
     "name": "stdout",
     "output_type": "stream",
     "text": [
      "8\n",
      "The events passed to the Epochs constructor are not chronologically ordered.\n",
      "100 matching events found\n",
      "No baseline correction applied\n",
      "0 projection items activated\n",
      "0 bad epochs dropped\n",
      "Attenuation at stop frequency 9.5Hz is only 5.1dB.\n",
      "The measurement information indicates a low-pass frequency of 128 Hz. The decim=3 parameter will result in a sampling frequency of 85.3333 Hz, which can cause aliasing artifacts.\n"
     ]
    },
    {
     "name": "stderr",
     "output_type": "stream",
     "text": [
      "[Parallel(n_jobs=8)]: Done   4 out of   8 | elapsed:    0.1s remaining:    0.1s\n",
      "[Parallel(n_jobs=8)]: Done   2 out of   8 | elapsed:    0.2s remaining:    0.5s\n",
      "[Parallel(n_jobs=8)]: Done   6 out of   8 | elapsed:    0.2s remaining:    0.1s\n",
      "[Parallel(n_jobs=8)]: Done   1 out of   8 | elapsed:    0.2s remaining:    1.3s\n",
      "[Parallel(n_jobs=8)]: Done   8 out of   8 | elapsed:    0.2s finished\n",
      "[Parallel(n_jobs=8)]: Done   1 out of   3 | elapsed:    0.1s remaining:    0.3s\n",
      "[Parallel(n_jobs=8)]: Done   4 out of   8 | elapsed:    0.4s remaining:    0.4s\n",
      "[Parallel(n_jobs=8)]: Done   6 out of   8 | elapsed:    0.6s remaining:    0.2s\n",
      "[Parallel(n_jobs=8)]: Done   8 out of   8 | elapsed:    0.7s finished\n",
      "[Parallel(n_jobs=8)]: Done   2 out of   8 | elapsed:    0.4s remaining:    1.3s\n",
      "[Parallel(n_jobs=8)]: Done   6 out of   8 | elapsed:    0.5s remaining:    0.2s\n",
      "[Parallel(n_jobs=8)]: Done   4 out of   8 | elapsed:    0.5s remaining:    0.5s\n",
      "[Parallel(n_jobs=8)]: Done   1 out of   8 | elapsed:    0.6s remaining:    4.0s\n",
      "[Parallel(n_jobs=8)]: Done   8 out of   8 | elapsed:    0.6s finished\n"
     ]
    },
    {
     "name": "stdout",
     "output_type": "stream",
     "text": [
      "9\n",
      "The events passed to the Epochs constructor are not chronologically ordered.\n",
      "100 matching events found\n",
      "No baseline correction applied\n",
      "0 projection items activated\n",
      "0 bad epochs dropped\n",
      "Attenuation at stop frequency 9.5Hz is only 5.1dB.\n",
      "The measurement information indicates a low-pass frequency of 128 Hz. The decim=3 parameter will result in a sampling frequency of 85.3333 Hz, which can cause aliasing artifacts.\n"
     ]
    },
    {
     "name": "stderr",
     "output_type": "stream",
     "text": [
      "[Parallel(n_jobs=8)]: Done   2 out of   8 | elapsed:    0.1s remaining:    0.4s\n",
      "[Parallel(n_jobs=8)]: Done   4 out of   8 | elapsed:    0.2s remaining:    0.2s\n",
      "[Parallel(n_jobs=8)]: Done   1 out of   8 | elapsed:    0.2s remaining:    1.3s\n",
      "[Parallel(n_jobs=8)]: Done   6 out of   8 | elapsed:    0.2s remaining:    0.1s\n",
      "[Parallel(n_jobs=8)]: Done   8 out of   8 | elapsed:    0.2s finished\n",
      "[Parallel(n_jobs=8)]: Done   1 out of   3 | elapsed:    0.2s remaining:    0.3s\n",
      "[Parallel(n_jobs=8)]: Done   2 out of   6 | elapsed:    0.3s remaining:    0.5s\n",
      "[Parallel(n_jobs=8)]: Done   3 out of   7 | elapsed:    0.4s remaining:    0.5s\n",
      "[Parallel(n_jobs=8)]: Done   4 out of   8 | elapsed:    0.5s remaining:    0.5s\n",
      "[Parallel(n_jobs=8)]: Done   6 out of   8 | elapsed:    0.6s remaining:    0.2s\n",
      "[Parallel(n_jobs=8)]: Done   8 out of   8 | elapsed:    0.7s finished\n",
      "[Parallel(n_jobs=8)]: Done   2 out of   8 | elapsed:    0.4s remaining:    1.2s\n",
      "[Parallel(n_jobs=8)]: Done   4 out of   8 | elapsed:    0.5s remaining:    0.5s\n",
      "[Parallel(n_jobs=8)]: Done   6 out of   8 | elapsed:    0.5s remaining:    0.2s\n",
      "[Parallel(n_jobs=8)]: Done   1 out of   8 | elapsed:    0.6s remaining:    3.9s\n",
      "[Parallel(n_jobs=8)]: Done   8 out of   8 | elapsed:    0.6s finished\n"
     ]
    },
    {
     "name": "stdout",
     "output_type": "stream",
     "text": [
      "10\n",
      "The events passed to the Epochs constructor are not chronologically ordered.\n",
      "100 matching events found\n",
      "No baseline correction applied\n",
      "0 projection items activated\n",
      "0 bad epochs dropped\n",
      "Attenuation at stop frequency 9.5Hz is only 5.1dB.\n",
      "The measurement information indicates a low-pass frequency of 128 Hz. The decim=3 parameter will result in a sampling frequency of 85.3333 Hz, which can cause aliasing artifacts.\n"
     ]
    },
    {
     "name": "stderr",
     "output_type": "stream",
     "text": [
      "[Parallel(n_jobs=8)]: Done   2 out of   8 | elapsed:    0.1s remaining:    0.4s\n",
      "[Parallel(n_jobs=8)]: Done   1 out of   8 | elapsed:    0.2s remaining:    1.2s\n",
      "[Parallel(n_jobs=8)]: Done   6 out of   8 | elapsed:    0.2s remaining:    0.1s\n",
      "[Parallel(n_jobs=8)]: Done   4 out of   8 | elapsed:    0.2s remaining:    0.2s\n",
      "[Parallel(n_jobs=8)]: Done   8 out of   8 | elapsed:    0.2s finished\n",
      "[Parallel(n_jobs=8)]: Done   1 out of   4 | elapsed:    0.2s remaining:    0.5s\n",
      "[Parallel(n_jobs=8)]: Done   2 out of   4 | elapsed:    0.2s remaining:    0.2s\n",
      "[Parallel(n_jobs=8)]: Done   6 out of   8 | elapsed:    0.6s remaining:    0.2s\n",
      "[Parallel(n_jobs=8)]: Done   8 out of   8 | elapsed:    0.7s finished\n",
      "[Parallel(n_jobs=8)]: Done   2 out of   8 | elapsed:    0.5s remaining:    1.4s\n",
      "[Parallel(n_jobs=8)]: Done   4 out of   8 | elapsed:    0.5s remaining:    0.5s\n",
      "[Parallel(n_jobs=8)]: Done   6 out of   8 | elapsed:    0.6s remaining:    0.2s\n",
      "[Parallel(n_jobs=8)]: Done   1 out of   8 | elapsed:    0.6s remaining:    4.3s\n",
      "[Parallel(n_jobs=8)]: Done   8 out of   8 | elapsed:    0.6s finished\n"
     ]
    },
    {
     "name": "stdout",
     "output_type": "stream",
     "text": [
      "11\n",
      "The events passed to the Epochs constructor are not chronologically ordered.\n",
      "100 matching events found\n",
      "No baseline correction applied\n",
      "0 projection items activated\n",
      "0 bad epochs dropped\n",
      "Attenuation at stop frequency 9.5Hz is only 5.1dB.\n",
      "The measurement information indicates a low-pass frequency of 128 Hz. The decim=3 parameter will result in a sampling frequency of 85.3333 Hz, which can cause aliasing artifacts.\n"
     ]
    },
    {
     "name": "stderr",
     "output_type": "stream",
     "text": [
      "[Parallel(n_jobs=8)]: Done   2 out of   8 | elapsed:    0.1s remaining:    0.4s\n",
      "[Parallel(n_jobs=8)]: Done   4 out of   8 | elapsed:    0.2s remaining:    0.2s\n",
      "[Parallel(n_jobs=8)]: Done   1 out of   8 | elapsed:    0.2s remaining:    1.3s\n",
      "[Parallel(n_jobs=8)]: Done   6 out of   8 | elapsed:    0.2s remaining:    0.1s\n",
      "[Parallel(n_jobs=8)]: Done   8 out of   8 | elapsed:    0.2s finished\n",
      "[Parallel(n_jobs=8)]: Done   1 out of   3 | elapsed:    0.2s remaining:    0.3s\n",
      "[Parallel(n_jobs=8)]: Done   3 out of   7 | elapsed:    0.4s remaining:    0.5s\n",
      "[Parallel(n_jobs=8)]: Done   4 out of   8 | elapsed:    0.5s remaining:    0.5s\n",
      "[Parallel(n_jobs=8)]: Done   6 out of   8 | elapsed:    0.6s remaining:    0.2s\n",
      "[Parallel(n_jobs=8)]: Done   8 out of   8 | elapsed:    0.8s finished\n",
      "[Parallel(n_jobs=8)]: Done   2 out of   8 | elapsed:    0.5s remaining:    1.4s\n",
      "[Parallel(n_jobs=8)]: Done   4 out of   8 | elapsed:    0.5s remaining:    0.5s\n",
      "[Parallel(n_jobs=8)]: Done   6 out of   8 | elapsed:    0.5s remaining:    0.2s\n",
      "[Parallel(n_jobs=8)]: Done   1 out of   8 | elapsed:    0.6s remaining:    4.1s\n",
      "[Parallel(n_jobs=8)]: Done   8 out of   8 | elapsed:    0.6s finished\n"
     ]
    },
    {
     "name": "stdout",
     "output_type": "stream",
     "text": [
      "12\n",
      "The events passed to the Epochs constructor are not chronologically ordered.\n",
      "100 matching events found\n",
      "No baseline correction applied\n",
      "0 projection items activated\n",
      "0 bad epochs dropped\n",
      "Attenuation at stop frequency 9.5Hz is only 5.1dB.\n",
      "The measurement information indicates a low-pass frequency of 128 Hz. The decim=3 parameter will result in a sampling frequency of 85.3333 Hz, which can cause aliasing artifacts.\n"
     ]
    },
    {
     "name": "stderr",
     "output_type": "stream",
     "text": [
      "[Parallel(n_jobs=8)]: Done   2 out of   8 | elapsed:    0.1s remaining:    0.4s\n",
      "[Parallel(n_jobs=8)]: Done   4 out of   8 | elapsed:    0.2s remaining:    0.2s\n",
      "[Parallel(n_jobs=8)]: Done   1 out of   8 | elapsed:    0.2s remaining:    1.2s\n",
      "[Parallel(n_jobs=8)]: Done   6 out of   8 | elapsed:    0.2s remaining:    0.1s\n",
      "[Parallel(n_jobs=8)]: Done   8 out of   8 | elapsed:    0.2s finished\n",
      "[Parallel(n_jobs=8)]: Done   1 out of   4 | elapsed:    0.1s remaining:    0.4s\n",
      "[Parallel(n_jobs=8)]: Done   3 out of   7 | elapsed:    0.3s remaining:    0.4s\n",
      "[Parallel(n_jobs=8)]: Done   4 out of   8 | elapsed:    0.4s remaining:    0.4s\n",
      "[Parallel(n_jobs=8)]: Done   6 out of   8 | elapsed:    0.6s remaining:    0.2s\n",
      "[Parallel(n_jobs=8)]: Done   8 out of   8 | elapsed:    0.7s finished\n",
      "[Parallel(n_jobs=8)]: Done   4 out of   8 | elapsed:    0.4s remaining:    0.4s\n",
      "[Parallel(n_jobs=8)]: Done   2 out of   8 | elapsed:    0.5s remaining:    1.4s\n",
      "[Parallel(n_jobs=8)]: Done   6 out of   8 | elapsed:    0.5s remaining:    0.2s\n",
      "[Parallel(n_jobs=8)]: Done   1 out of   8 | elapsed:    0.6s remaining:    4.0s\n",
      "[Parallel(n_jobs=8)]: Done   8 out of   8 | elapsed:    0.6s finished\n"
     ]
    },
    {
     "name": "stdout",
     "output_type": "stream",
     "text": [
      "13\n",
      "The events passed to the Epochs constructor are not chronologically ordered.\n",
      "100 matching events found\n",
      "No baseline correction applied\n",
      "0 projection items activated\n",
      "0 bad epochs dropped\n",
      "Attenuation at stop frequency 9.5Hz is only 5.1dB.\n",
      "The measurement information indicates a low-pass frequency of 128 Hz. The decim=3 parameter will result in a sampling frequency of 85.3333 Hz, which can cause aliasing artifacts.\n"
     ]
    },
    {
     "name": "stderr",
     "output_type": "stream",
     "text": [
      "[Parallel(n_jobs=8)]: Done   2 out of   8 | elapsed:    0.1s remaining:    0.4s\n",
      "[Parallel(n_jobs=8)]: Done   4 out of   8 | elapsed:    0.1s remaining:    0.1s\n",
      "[Parallel(n_jobs=8)]: Done   1 out of   8 | elapsed:    0.2s remaining:    1.2s\n",
      "[Parallel(n_jobs=8)]: Done   6 out of   8 | elapsed:    0.2s remaining:    0.1s\n",
      "[Parallel(n_jobs=8)]: Done   8 out of   8 | elapsed:    0.2s finished\n",
      "[Parallel(n_jobs=8)]: Done   1 out of   4 | elapsed:    0.2s remaining:    0.5s\n",
      "[Parallel(n_jobs=8)]: Done   2 out of   6 | elapsed:    0.3s remaining:    0.5s\n",
      "[Parallel(n_jobs=8)]: Done   4 out of   8 | elapsed:    0.4s remaining:    0.4s\n",
      "[Parallel(n_jobs=8)]: Done   6 out of   8 | elapsed:    0.6s remaining:    0.2s\n",
      "[Parallel(n_jobs=8)]: Done   8 out of   8 | elapsed:    0.7s finished\n",
      "[Parallel(n_jobs=8)]: Done   4 out of   8 | elapsed:    0.4s remaining:    0.4s\n",
      "[Parallel(n_jobs=8)]: Done   6 out of   8 | elapsed:    0.5s remaining:    0.2s\n",
      "[Parallel(n_jobs=8)]: Done   2 out of   8 | elapsed:    0.5s remaining:    1.4s\n",
      "[Parallel(n_jobs=8)]: Done   1 out of   8 | elapsed:    0.6s remaining:    3.9s\n",
      "[Parallel(n_jobs=8)]: Done   8 out of   8 | elapsed:    0.6s finished\n"
     ]
    },
    {
     "name": "stdout",
     "output_type": "stream",
     "text": [
      "14\n",
      "The events passed to the Epochs constructor are not chronologically ordered.\n",
      "100 matching events found\n",
      "No baseline correction applied\n",
      "0 projection items activated\n",
      "0 bad epochs dropped\n",
      "Attenuation at stop frequency 9.5Hz is only 5.1dB.\n",
      "The measurement information indicates a low-pass frequency of 128 Hz. The decim=3 parameter will result in a sampling frequency of 85.3333 Hz, which can cause aliasing artifacts.\n"
     ]
    },
    {
     "name": "stderr",
     "output_type": "stream",
     "text": [
      "[Parallel(n_jobs=8)]: Done   2 out of   8 | elapsed:    0.1s remaining:    0.4s\n",
      "[Parallel(n_jobs=8)]: Done   1 out of   8 | elapsed:    0.2s remaining:    1.2s\n",
      "[Parallel(n_jobs=8)]: Done   6 out of   8 | elapsed:    0.2s remaining:    0.1s\n",
      "[Parallel(n_jobs=8)]: Done   4 out of   8 | elapsed:    0.2s remaining:    0.2s\n",
      "[Parallel(n_jobs=8)]: Done   8 out of   8 | elapsed:    0.2s finished\n",
      "[Parallel(n_jobs=8)]: Done   1 out of   3 | elapsed:    0.2s remaining:    0.3s\n",
      "[Parallel(n_jobs=8)]: Done   2 out of   3 | elapsed:    0.2s remaining:    0.1s\n",
      "[Parallel(n_jobs=8)]: Done   3 out of   5 | elapsed:    0.3s remaining:    0.2s\n",
      "[Parallel(n_jobs=8)]: Done   4 out of   8 | elapsed:    0.4s remaining:    0.4s\n",
      "[Parallel(n_jobs=8)]: Done   6 out of   8 | elapsed:    0.6s remaining:    0.2s\n",
      "[Parallel(n_jobs=8)]: Done   8 out of   8 | elapsed:    0.7s finished\n",
      "[Parallel(n_jobs=8)]: Done   2 out of   8 | elapsed:    0.4s remaining:    1.3s\n",
      "[Parallel(n_jobs=8)]: Done   4 out of   8 | elapsed:    0.5s remaining:    0.5s\n",
      "[Parallel(n_jobs=8)]: Done   6 out of   8 | elapsed:    0.6s remaining:    0.2s\n",
      "[Parallel(n_jobs=8)]: Done   1 out of   8 | elapsed:    0.6s remaining:    4.2s\n",
      "[Parallel(n_jobs=8)]: Done   8 out of   8 | elapsed:    0.6s finished\n"
     ]
    },
    {
     "name": "stdout",
     "output_type": "stream",
     "text": [
      "15\n",
      "The events passed to the Epochs constructor are not chronologically ordered.\n",
      "100 matching events found\n",
      "No baseline correction applied\n",
      "0 projection items activated\n",
      "0 bad epochs dropped\n",
      "Attenuation at stop frequency 9.5Hz is only 5.1dB.\n",
      "The measurement information indicates a low-pass frequency of 128 Hz. The decim=3 parameter will result in a sampling frequency of 85.3333 Hz, which can cause aliasing artifacts.\n"
     ]
    },
    {
     "name": "stderr",
     "output_type": "stream",
     "text": [
      "[Parallel(n_jobs=8)]: Done   2 out of   8 | elapsed:    0.1s remaining:    0.4s\n",
      "[Parallel(n_jobs=8)]: Done   1 out of   8 | elapsed:    0.2s remaining:    1.1s\n",
      "[Parallel(n_jobs=8)]: Done   4 out of   8 | elapsed:    0.2s remaining:    0.2s\n",
      "[Parallel(n_jobs=8)]: Done   6 out of   8 | elapsed:    0.2s remaining:    0.1s\n",
      "[Parallel(n_jobs=8)]: Done   8 out of   8 | elapsed:    0.2s finished\n",
      "[Parallel(n_jobs=8)]: Done   1 out of   5 | elapsed:    0.2s remaining:    1.0s\n",
      "[Parallel(n_jobs=8)]: Done   4 out of   8 | elapsed:    0.6s remaining:    0.6s\n",
      "[Parallel(n_jobs=8)]: Done   6 out of   8 | elapsed:    0.8s remaining:    0.3s\n",
      "[Parallel(n_jobs=8)]: Done   8 out of   8 | elapsed:    0.9s finished\n",
      "[Parallel(n_jobs=8)]: Done   6 out of   8 | elapsed:    0.5s remaining:    0.2s\n",
      "[Parallel(n_jobs=8)]: Done   2 out of   8 | elapsed:    0.5s remaining:    1.4s\n",
      "[Parallel(n_jobs=8)]: Done   4 out of   8 | elapsed:    0.5s remaining:    0.5s\n",
      "[Parallel(n_jobs=8)]: Done   1 out of   8 | elapsed:    0.6s remaining:    4.0s\n",
      "[Parallel(n_jobs=8)]: Done   8 out of   8 | elapsed:    0.6s finished\n"
     ]
    },
    {
     "name": "stdout",
     "output_type": "stream",
     "text": [
      "16\n",
      "The events passed to the Epochs constructor are not chronologically ordered.\n",
      "100 matching events found\n",
      "No baseline correction applied\n",
      "0 projection items activated\n",
      "0 bad epochs dropped\n",
      "Attenuation at stop frequency 9.5Hz is only 5.1dB.\n",
      "The measurement information indicates a low-pass frequency of 128 Hz. The decim=3 parameter will result in a sampling frequency of 85.3333 Hz, which can cause aliasing artifacts.\n"
     ]
    },
    {
     "name": "stderr",
     "output_type": "stream",
     "text": [
      "[Parallel(n_jobs=8)]: Done   2 out of   8 | elapsed:    0.1s remaining:    0.4s\n",
      "[Parallel(n_jobs=8)]: Done   6 out of   8 | elapsed:    0.2s remaining:    0.1s\n",
      "[Parallel(n_jobs=8)]: Done   4 out of   8 | elapsed:    0.2s remaining:    0.2s\n",
      "[Parallel(n_jobs=8)]: Done   1 out of   8 | elapsed:    0.2s remaining:    1.5s\n",
      "[Parallel(n_jobs=8)]: Done   8 out of   8 | elapsed:    0.2s finished\n",
      "[Parallel(n_jobs=8)]: Done   1 out of   4 | elapsed:    0.2s remaining:    0.5s\n",
      "[Parallel(n_jobs=8)]: Done   2 out of   6 | elapsed:    0.4s remaining:    0.8s\n",
      "[Parallel(n_jobs=8)]: Done   4 out of   8 | elapsed:    0.5s remaining:    0.5s\n",
      "[Parallel(n_jobs=8)]: Done   6 out of   8 | elapsed:    0.7s remaining:    0.2s\n",
      "[Parallel(n_jobs=8)]: Done   8 out of   8 | elapsed:    0.8s finished\n",
      "[Parallel(n_jobs=8)]: Done   6 out of   8 | elapsed:    0.4s remaining:    0.1s\n",
      "[Parallel(n_jobs=8)]: Done   2 out of   8 | elapsed:    0.5s remaining:    1.4s\n",
      "[Parallel(n_jobs=8)]: Done   4 out of   8 | elapsed:    0.5s remaining:    0.5s\n",
      "[Parallel(n_jobs=8)]: Done   1 out of   8 | elapsed:    0.6s remaining:    4.1s\n",
      "[Parallel(n_jobs=8)]: Done   8 out of   8 | elapsed:    0.6s finished\n"
     ]
    },
    {
     "name": "stdout",
     "output_type": "stream",
     "text": [
      "Cannot find chance level from scorer_auc, specify chance level\n",
      "0\n",
      "The events passed to the Epochs constructor are not chronologically ordered.\n",
      "100 matching events found\n",
      "No baseline correction applied\n",
      "0 projection items activated\n",
      "0 bad epochs dropped\n",
      "Attenuation at stop frequency 9.5Hz is only 5.1dB.\n",
      "The measurement information indicates a low-pass frequency of 128 Hz. The decim=3 parameter will result in a sampling frequency of 85.3333 Hz, which can cause aliasing artifacts.\n"
     ]
    },
    {
     "name": "stderr",
     "output_type": "stream",
     "text": [
      "/home/jrking/anaconda/lib/python2.7/site-packages/ipykernel/__main__.py:17: RuntimeWarning: Cannot find chance level from scorer_auc, specify chance level\n",
      "[Parallel(n_jobs=8)]: Done   2 out of   8 | elapsed:    0.1s remaining:    0.4s\n",
      "[Parallel(n_jobs=8)]: Done   4 out of   8 | elapsed:    0.2s remaining:    0.2s\n",
      "[Parallel(n_jobs=8)]: Done   1 out of   8 | elapsed:    0.2s remaining:    1.3s\n",
      "[Parallel(n_jobs=8)]: Done   6 out of   8 | elapsed:    0.2s remaining:    0.1s\n",
      "[Parallel(n_jobs=8)]: Done   8 out of   8 | elapsed:    0.2s finished\n",
      "[Parallel(n_jobs=8)]: Done   1 out of   3 | elapsed:    0.2s remaining:    0.3s\n",
      "[Parallel(n_jobs=8)]: Done   2 out of   6 | elapsed:    0.3s remaining:    0.5s\n",
      "[Parallel(n_jobs=8)]: Done   4 out of   8 | elapsed:    0.4s remaining:    0.4s\n",
      "[Parallel(n_jobs=8)]: Done   6 out of   8 | elapsed:    0.6s remaining:    0.2s\n",
      "[Parallel(n_jobs=8)]: Done   8 out of   8 | elapsed:    0.7s finished\n",
      "[Parallel(n_jobs=8)]: Done   4 out of   8 | elapsed:    0.4s remaining:    0.4s\n",
      "[Parallel(n_jobs=8)]: Done   2 out of   8 | elapsed:    0.4s remaining:    1.3s\n",
      "[Parallel(n_jobs=8)]: Done   6 out of   8 | elapsed:    0.5s remaining:    0.2s\n",
      "[Parallel(n_jobs=8)]: Done   1 out of   8 | elapsed:    0.6s remaining:    4.1s\n",
      "[Parallel(n_jobs=8)]: Done   8 out of   8 | elapsed:    0.6s finished\n"
     ]
    },
    {
     "name": "stdout",
     "output_type": "stream",
     "text": [
      "1\n",
      "The events passed to the Epochs constructor are not chronologically ordered.\n",
      "100 matching events found\n",
      "No baseline correction applied\n",
      "0 projection items activated\n",
      "0 bad epochs dropped\n",
      "Attenuation at stop frequency 9.5Hz is only 5.1dB.\n",
      "The measurement information indicates a low-pass frequency of 128 Hz. The decim=3 parameter will result in a sampling frequency of 85.3333 Hz, which can cause aliasing artifacts.\n"
     ]
    },
    {
     "name": "stderr",
     "output_type": "stream",
     "text": [
      "[Parallel(n_jobs=8)]: Done   2 out of   8 | elapsed:    0.1s remaining:    0.4s\n",
      "[Parallel(n_jobs=8)]: Done   4 out of   8 | elapsed:    0.1s remaining:    0.1s\n",
      "[Parallel(n_jobs=8)]: Done   1 out of   8 | elapsed:    0.2s remaining:    1.3s\n",
      "[Parallel(n_jobs=8)]: Done   6 out of   8 | elapsed:    0.2s remaining:    0.1s\n",
      "[Parallel(n_jobs=8)]: Done   8 out of   8 | elapsed:    0.2s finished\n",
      "[Parallel(n_jobs=8)]: Done   1 out of   2 | elapsed:    0.1s remaining:    0.1s\n",
      "[Parallel(n_jobs=8)]: Done   2 out of   3 | elapsed:    0.2s remaining:    0.1s\n",
      "[Parallel(n_jobs=8)]: Done   3 out of   4 | elapsed:    0.3s remaining:    0.1s\n",
      "[Parallel(n_jobs=8)]: Done   4 out of   6 | elapsed:    0.4s remaining:    0.2s\n",
      "[Parallel(n_jobs=8)]: Done   8 out of   8 | elapsed:    0.7s finished\n",
      "[Parallel(n_jobs=8)]: Done   4 out of   8 | elapsed:    0.4s remaining:    0.4s\n",
      "[Parallel(n_jobs=8)]: Done   2 out of   8 | elapsed:    0.4s remaining:    1.3s\n",
      "[Parallel(n_jobs=8)]: Done   6 out of   8 | elapsed:    0.5s remaining:    0.2s\n",
      "[Parallel(n_jobs=8)]: Done   1 out of   8 | elapsed:    0.6s remaining:    3.9s\n",
      "[Parallel(n_jobs=8)]: Done   8 out of   8 | elapsed:    0.6s finished\n"
     ]
    },
    {
     "name": "stdout",
     "output_type": "stream",
     "text": [
      "2\n",
      "The events passed to the Epochs constructor are not chronologically ordered.\n",
      "100 matching events found\n",
      "No baseline correction applied\n",
      "0 projection items activated\n",
      "0 bad epochs dropped\n",
      "Attenuation at stop frequency 9.5Hz is only 5.1dB.\n",
      "The measurement information indicates a low-pass frequency of 128 Hz. The decim=3 parameter will result in a sampling frequency of 85.3333 Hz, which can cause aliasing artifacts.\n"
     ]
    },
    {
     "name": "stderr",
     "output_type": "stream",
     "text": [
      "[Parallel(n_jobs=8)]: Done   2 out of   8 | elapsed:    0.1s remaining:    0.4s\n",
      "[Parallel(n_jobs=8)]: Done   4 out of   8 | elapsed:    0.2s remaining:    0.2s\n",
      "[Parallel(n_jobs=8)]: Done   1 out of   8 | elapsed:    0.2s remaining:    1.3s\n",
      "[Parallel(n_jobs=8)]: Done   6 out of   8 | elapsed:    0.2s remaining:    0.1s\n",
      "[Parallel(n_jobs=8)]: Done   8 out of   8 | elapsed:    0.2s finished\n",
      "[Parallel(n_jobs=8)]: Done   1 out of   3 | elapsed:    0.2s remaining:    0.3s\n",
      "[Parallel(n_jobs=8)]: Done   2 out of   4 | elapsed:    0.2s remaining:    0.2s\n",
      "[Parallel(n_jobs=8)]: Done   4 out of   8 | elapsed:    0.4s remaining:    0.4s\n",
      "[Parallel(n_jobs=8)]: Done   6 out of   8 | elapsed:    0.5s remaining:    0.2s\n",
      "[Parallel(n_jobs=8)]: Done   8 out of   8 | elapsed:    0.7s finished\n",
      "[Parallel(n_jobs=8)]: Done   2 out of   8 | elapsed:    0.5s remaining:    1.5s\n",
      "[Parallel(n_jobs=8)]: Done   4 out of   8 | elapsed:    0.5s remaining:    0.5s\n",
      "[Parallel(n_jobs=8)]: Done   6 out of   8 | elapsed:    0.6s remaining:    0.2s\n",
      "[Parallel(n_jobs=8)]: Done   1 out of   8 | elapsed:    0.6s remaining:    4.3s\n",
      "[Parallel(n_jobs=8)]: Done   8 out of   8 | elapsed:    0.6s finished\n"
     ]
    },
    {
     "name": "stdout",
     "output_type": "stream",
     "text": [
      "3\n",
      "The events passed to the Epochs constructor are not chronologically ordered.\n",
      "100 matching events found\n",
      "No baseline correction applied\n",
      "0 projection items activated\n",
      "0 bad epochs dropped\n",
      "Attenuation at stop frequency 9.5Hz is only 5.1dB.\n",
      "The measurement information indicates a low-pass frequency of 128 Hz. The decim=3 parameter will result in a sampling frequency of 85.3333 Hz, which can cause aliasing artifacts.\n"
     ]
    },
    {
     "name": "stderr",
     "output_type": "stream",
     "text": [
      "[Parallel(n_jobs=8)]: Done   2 out of   8 | elapsed:    0.1s remaining:    0.4s\n",
      "[Parallel(n_jobs=8)]: Done   4 out of   8 | elapsed:    0.2s remaining:    0.2s\n",
      "[Parallel(n_jobs=8)]: Done   6 out of   8 | elapsed:    0.2s remaining:    0.1s\n",
      "[Parallel(n_jobs=8)]: Done   1 out of   8 | elapsed:    0.2s remaining:    1.4s\n",
      "[Parallel(n_jobs=8)]: Done   8 out of   8 | elapsed:    0.2s finished\n",
      "[Parallel(n_jobs=8)]: Done   1 out of   2 | elapsed:    0.1s remaining:    0.1s\n",
      "[Parallel(n_jobs=8)]: Done   2 out of   3 | elapsed:    0.3s remaining:    0.1s\n",
      "[Parallel(n_jobs=8)]: Done   3 out of   5 | elapsed:    0.3s remaining:    0.2s\n",
      "[Parallel(n_jobs=8)]: Done   6 out of   8 | elapsed:    0.6s remaining:    0.2s\n",
      "[Parallel(n_jobs=8)]: Done   8 out of   8 | elapsed:    0.7s finished\n",
      "[Parallel(n_jobs=8)]: Done   2 out of   8 | elapsed:    0.5s remaining:    1.4s\n",
      "[Parallel(n_jobs=8)]: Done   6 out of   8 | elapsed:    0.5s remaining:    0.2s\n",
      "[Parallel(n_jobs=8)]: Done   4 out of   8 | elapsed:    0.5s remaining:    0.5s\n",
      "[Parallel(n_jobs=8)]: Done   1 out of   8 | elapsed:    0.6s remaining:    4.1s\n",
      "[Parallel(n_jobs=8)]: Done   8 out of   8 | elapsed:    0.6s finished\n"
     ]
    },
    {
     "name": "stdout",
     "output_type": "stream",
     "text": [
      "4\n",
      "The events passed to the Epochs constructor are not chronologically ordered.\n",
      "100 matching events found\n",
      "No baseline correction applied\n",
      "0 projection items activated\n",
      "0 bad epochs dropped\n",
      "Attenuation at stop frequency 9.5Hz is only 5.1dB.\n",
      "The measurement information indicates a low-pass frequency of 128 Hz. The decim=3 parameter will result in a sampling frequency of 85.3333 Hz, which can cause aliasing artifacts.\n"
     ]
    },
    {
     "name": "stderr",
     "output_type": "stream",
     "text": [
      "[Parallel(n_jobs=8)]: Done   2 out of   8 | elapsed:    0.1s remaining:    0.4s\n",
      "[Parallel(n_jobs=8)]: Done   1 out of   8 | elapsed:    0.2s remaining:    1.2s\n",
      "[Parallel(n_jobs=8)]: Done   6 out of   8 | elapsed:    0.2s remaining:    0.1s\n",
      "[Parallel(n_jobs=8)]: Done   4 out of   8 | elapsed:    0.2s remaining:    0.2s\n",
      "[Parallel(n_jobs=8)]: Done   8 out of   8 | elapsed:    0.2s finished\n",
      "[Parallel(n_jobs=8)]: Done   1 out of   8 | elapsed:    0.2s remaining:    1.1s\n",
      "[Parallel(n_jobs=8)]: Done   2 out of   8 | elapsed:    0.2s remaining:    0.6s\n",
      "[Parallel(n_jobs=8)]: Done   4 out of   8 | elapsed:    0.4s remaining:    0.4s\n",
      "[Parallel(n_jobs=8)]: Done   6 out of   8 | elapsed:    0.6s remaining:    0.2s\n",
      "[Parallel(n_jobs=8)]: Done   8 out of   8 | elapsed:    0.7s finished\n",
      "[Parallel(n_jobs=8)]: Done   2 out of   8 | elapsed:    0.4s remaining:    1.3s\n",
      "[Parallel(n_jobs=8)]: Done   6 out of   8 | elapsed:    0.5s remaining:    0.2s\n",
      "[Parallel(n_jobs=8)]: Done   4 out of   8 | elapsed:    0.5s remaining:    0.5s\n",
      "[Parallel(n_jobs=8)]: Done   1 out of   8 | elapsed:    0.6s remaining:    4.0s\n",
      "[Parallel(n_jobs=8)]: Done   8 out of   8 | elapsed:    0.6s finished\n"
     ]
    },
    {
     "name": "stdout",
     "output_type": "stream",
     "text": [
      "5\n",
      "The events passed to the Epochs constructor are not chronologically ordered.\n",
      "100 matching events found\n",
      "No baseline correction applied\n",
      "0 projection items activated\n",
      "0 bad epochs dropped\n",
      "Attenuation at stop frequency 9.5Hz is only 5.1dB.\n",
      "The measurement information indicates a low-pass frequency of 128 Hz. The decim=3 parameter will result in a sampling frequency of 85.3333 Hz, which can cause aliasing artifacts.\n"
     ]
    },
    {
     "name": "stderr",
     "output_type": "stream",
     "text": [
      "[Parallel(n_jobs=8)]: Done   2 out of   8 | elapsed:    0.1s remaining:    0.4s\n",
      "[Parallel(n_jobs=8)]: Done   4 out of   8 | elapsed:    0.2s remaining:    0.2s\n",
      "[Parallel(n_jobs=8)]: Done   1 out of   8 | elapsed:    0.2s remaining:    1.2s\n",
      "[Parallel(n_jobs=8)]: Done   6 out of   8 | elapsed:    0.2s remaining:    0.1s\n",
      "[Parallel(n_jobs=8)]: Done   8 out of   8 | elapsed:    0.2s finished\n",
      "[Parallel(n_jobs=8)]: Done   1 out of   2 | elapsed:    0.2s remaining:    0.2s\n",
      "[Parallel(n_jobs=8)]: Done   2 out of   4 | elapsed:    0.3s remaining:    0.3s\n",
      "[Parallel(n_jobs=8)]: Done   3 out of   5 | elapsed:    0.3s remaining:    0.2s\n",
      "[Parallel(n_jobs=8)]: Done   6 out of   8 | elapsed:    0.6s remaining:    0.2s\n",
      "[Parallel(n_jobs=8)]: Done   8 out of   8 | elapsed:    0.7s finished\n",
      "[Parallel(n_jobs=8)]: Done   6 out of   8 | elapsed:    0.5s remaining:    0.2s\n",
      "[Parallel(n_jobs=8)]: Done   4 out of   8 | elapsed:    0.5s remaining:    0.5s\n",
      "[Parallel(n_jobs=8)]: Done   2 out of   8 | elapsed:    0.5s remaining:    1.6s\n",
      "[Parallel(n_jobs=8)]: Done   1 out of   8 | elapsed:    0.6s remaining:    4.2s\n",
      "[Parallel(n_jobs=8)]: Done   8 out of   8 | elapsed:    0.6s finished\n"
     ]
    },
    {
     "name": "stdout",
     "output_type": "stream",
     "text": [
      "6\n",
      "The events passed to the Epochs constructor are not chronologically ordered.\n",
      "100 matching events found\n",
      "No baseline correction applied\n",
      "0 projection items activated\n",
      "0 bad epochs dropped\n",
      "Attenuation at stop frequency 9.5Hz is only 5.1dB.\n",
      "The measurement information indicates a low-pass frequency of 128 Hz. The decim=3 parameter will result in a sampling frequency of 85.3333 Hz, which can cause aliasing artifacts.\n"
     ]
    },
    {
     "name": "stderr",
     "output_type": "stream",
     "text": [
      "[Parallel(n_jobs=8)]: Done   2 out of   8 | elapsed:    0.2s remaining:    0.5s\n",
      "[Parallel(n_jobs=8)]: Done   1 out of   8 | elapsed:    0.2s remaining:    1.2s\n",
      "[Parallel(n_jobs=8)]: Done   4 out of   8 | elapsed:    0.2s remaining:    0.2s\n",
      "[Parallel(n_jobs=8)]: Done   6 out of   8 | elapsed:    0.2s remaining:    0.1s\n",
      "[Parallel(n_jobs=8)]: Done   8 out of   8 | elapsed:    0.2s finished\n",
      "[Parallel(n_jobs=8)]: Done   1 out of   2 | elapsed:    0.2s remaining:    0.2s\n",
      "[Parallel(n_jobs=8)]: Done   2 out of   3 | elapsed:    0.3s remaining:    0.1s\n",
      "[Parallel(n_jobs=8)]: Done   4 out of   8 | elapsed:    0.4s remaining:    0.4s\n",
      "[Parallel(n_jobs=8)]: Done   6 out of   8 | elapsed:    0.6s remaining:    0.2s\n",
      "[Parallel(n_jobs=8)]: Done   8 out of   8 | elapsed:    0.7s finished\n",
      "[Parallel(n_jobs=8)]: Done   2 out of   8 | elapsed:    0.4s remaining:    1.3s\n",
      "[Parallel(n_jobs=8)]: Done   4 out of   8 | elapsed:    0.5s remaining:    0.5s\n",
      "[Parallel(n_jobs=8)]: Done   6 out of   8 | elapsed:    0.6s remaining:    0.2s\n",
      "[Parallel(n_jobs=8)]: Done   1 out of   8 | elapsed:    0.6s remaining:    4.0s\n",
      "[Parallel(n_jobs=8)]: Done   8 out of   8 | elapsed:    0.6s finished\n"
     ]
    },
    {
     "name": "stdout",
     "output_type": "stream",
     "text": [
      "7\n",
      "The events passed to the Epochs constructor are not chronologically ordered.\n",
      "100 matching events found\n",
      "No baseline correction applied\n",
      "0 projection items activated\n",
      "0 bad epochs dropped\n",
      "Attenuation at stop frequency 9.5Hz is only 5.1dB.\n",
      "The measurement information indicates a low-pass frequency of 128 Hz. The decim=3 parameter will result in a sampling frequency of 85.3333 Hz, which can cause aliasing artifacts.\n"
     ]
    },
    {
     "name": "stderr",
     "output_type": "stream",
     "text": [
      "[Parallel(n_jobs=8)]: Done   2 out of   8 | elapsed:    0.1s remaining:    0.4s\n",
      "[Parallel(n_jobs=8)]: Done   4 out of   8 | elapsed:    0.2s remaining:    0.2s\n",
      "[Parallel(n_jobs=8)]: Done   1 out of   8 | elapsed:    0.2s remaining:    1.4s\n",
      "[Parallel(n_jobs=8)]: Done   6 out of   8 | elapsed:    0.2s remaining:    0.1s\n",
      "[Parallel(n_jobs=8)]: Done   8 out of   8 | elapsed:    0.2s finished\n",
      "[Parallel(n_jobs=8)]: Done   1 out of   5 | elapsed:    0.2s remaining:    0.8s\n",
      "[Parallel(n_jobs=8)]: Done   2 out of   6 | elapsed:    0.3s remaining:    0.6s\n",
      "[Parallel(n_jobs=8)]: Done   4 out of   8 | elapsed:    0.5s remaining:    0.5s\n",
      "[Parallel(n_jobs=8)]: Done   6 out of   8 | elapsed:    0.6s remaining:    0.2s\n",
      "[Parallel(n_jobs=8)]: Done   8 out of   8 | elapsed:    0.8s finished\n",
      "[Parallel(n_jobs=8)]: Done   4 out of   8 | elapsed:    0.5s remaining:    0.5s\n",
      "[Parallel(n_jobs=8)]: Done   2 out of   8 | elapsed:    0.5s remaining:    1.5s\n",
      "[Parallel(n_jobs=8)]: Done   6 out of   8 | elapsed:    0.5s remaining:    0.2s\n",
      "[Parallel(n_jobs=8)]: Done   1 out of   8 | elapsed:    0.6s remaining:    4.3s\n",
      "[Parallel(n_jobs=8)]: Done   8 out of   8 | elapsed:    0.6s finished\n"
     ]
    },
    {
     "name": "stdout",
     "output_type": "stream",
     "text": [
      "8\n",
      "The events passed to the Epochs constructor are not chronologically ordered.\n",
      "100 matching events found\n",
      "No baseline correction applied\n",
      "0 projection items activated\n",
      "0 bad epochs dropped\n",
      "Attenuation at stop frequency 9.5Hz is only 5.1dB.\n",
      "The measurement information indicates a low-pass frequency of 128 Hz. The decim=3 parameter will result in a sampling frequency of 85.3333 Hz, which can cause aliasing artifacts.\n"
     ]
    },
    {
     "name": "stderr",
     "output_type": "stream",
     "text": [
      "[Parallel(n_jobs=8)]: Done   4 out of   8 | elapsed:    0.1s remaining:    0.1s\n",
      "[Parallel(n_jobs=8)]: Done   2 out of   8 | elapsed:    0.2s remaining:    0.5s\n",
      "[Parallel(n_jobs=8)]: Done   6 out of   8 | elapsed:    0.2s remaining:    0.1s\n",
      "[Parallel(n_jobs=8)]: Done   1 out of   8 | elapsed:    0.2s remaining:    1.6s\n",
      "[Parallel(n_jobs=8)]: Done   8 out of   8 | elapsed:    0.2s finished\n",
      "[Parallel(n_jobs=8)]: Done   1 out of   5 | elapsed:    0.2s remaining:    0.7s\n",
      "[Parallel(n_jobs=8)]: Done   2 out of   6 | elapsed:    0.3s remaining:    0.5s\n",
      "[Parallel(n_jobs=8)]: Done   4 out of   8 | elapsed:    0.4s remaining:    0.4s\n",
      "[Parallel(n_jobs=8)]: Done   6 out of   8 | elapsed:    0.6s remaining:    0.2s\n",
      "[Parallel(n_jobs=8)]: Done   8 out of   8 | elapsed:    0.7s finished\n",
      "[Parallel(n_jobs=8)]: Done   2 out of   8 | elapsed:    0.5s remaining:    1.4s\n",
      "[Parallel(n_jobs=8)]: Done   4 out of   8 | elapsed:    0.5s remaining:    0.5s\n",
      "[Parallel(n_jobs=8)]: Done   6 out of   8 | elapsed:    0.5s remaining:    0.2s\n",
      "[Parallel(n_jobs=8)]: Done   1 out of   8 | elapsed:    0.6s remaining:    4.1s\n",
      "[Parallel(n_jobs=8)]: Done   8 out of   8 | elapsed:    0.7s finished\n"
     ]
    },
    {
     "name": "stdout",
     "output_type": "stream",
     "text": [
      "9\n",
      "The events passed to the Epochs constructor are not chronologically ordered.\n",
      "100 matching events found\n",
      "No baseline correction applied\n",
      "0 projection items activated\n",
      "0 bad epochs dropped\n",
      "Attenuation at stop frequency 9.5Hz is only 5.1dB.\n",
      "The measurement information indicates a low-pass frequency of 128 Hz. The decim=3 parameter will result in a sampling frequency of 85.3333 Hz, which can cause aliasing artifacts.\n"
     ]
    },
    {
     "name": "stderr",
     "output_type": "stream",
     "text": [
      "[Parallel(n_jobs=8)]: Done   2 out of   8 | elapsed:    0.1s remaining:    0.3s\n",
      "[Parallel(n_jobs=8)]: Done   1 out of   8 | elapsed:    0.2s remaining:    1.2s\n",
      "[Parallel(n_jobs=8)]: Done   4 out of   8 | elapsed:    0.2s remaining:    0.2s\n",
      "[Parallel(n_jobs=8)]: Done   6 out of   8 | elapsed:    0.2s remaining:    0.1s\n",
      "[Parallel(n_jobs=8)]: Done   8 out of   8 | elapsed:    0.2s finished\n",
      "[Parallel(n_jobs=8)]: Done   1 out of   3 | elapsed:    0.2s remaining:    0.3s\n",
      "[Parallel(n_jobs=8)]: Done   4 out of   8 | elapsed:    0.5s remaining:    0.5s\n",
      "[Parallel(n_jobs=8)]: Done   6 out of   8 | elapsed:    0.6s remaining:    0.2s\n",
      "[Parallel(n_jobs=8)]: Done   8 out of   8 | elapsed:    0.8s finished\n",
      "[Parallel(n_jobs=8)]: Done   2 out of   8 | elapsed:    0.4s remaining:    1.3s\n",
      "[Parallel(n_jobs=8)]: Done   4 out of   8 | elapsed:    0.5s remaining:    0.5s\n",
      "[Parallel(n_jobs=8)]: Done   6 out of   8 | elapsed:    0.5s remaining:    0.2s\n",
      "[Parallel(n_jobs=8)]: Done   1 out of   8 | elapsed:    0.6s remaining:    4.4s\n",
      "[Parallel(n_jobs=8)]: Done   8 out of   8 | elapsed:    0.6s finished\n"
     ]
    },
    {
     "name": "stdout",
     "output_type": "stream",
     "text": [
      "10\n",
      "The events passed to the Epochs constructor are not chronologically ordered.\n",
      "100 matching events found\n",
      "No baseline correction applied\n",
      "0 projection items activated\n",
      "0 bad epochs dropped\n",
      "Attenuation at stop frequency 9.5Hz is only 5.1dB.\n",
      "The measurement information indicates a low-pass frequency of 128 Hz. The decim=3 parameter will result in a sampling frequency of 85.3333 Hz, which can cause aliasing artifacts.\n"
     ]
    },
    {
     "name": "stderr",
     "output_type": "stream",
     "text": [
      "[Parallel(n_jobs=8)]: Done   2 out of   8 | elapsed:    0.1s remaining:    0.4s\n",
      "[Parallel(n_jobs=8)]: Done   4 out of   8 | elapsed:    0.2s remaining:    0.2s\n",
      "[Parallel(n_jobs=8)]: Done   1 out of   8 | elapsed:    0.2s remaining:    1.4s\n",
      "[Parallel(n_jobs=8)]: Done   6 out of   8 | elapsed:    0.2s remaining:    0.1s\n",
      "[Parallel(n_jobs=8)]: Done   8 out of   8 | elapsed:    0.2s finished\n",
      "[Parallel(n_jobs=8)]: Done   1 out of   3 | elapsed:    0.2s remaining:    0.4s\n",
      "[Parallel(n_jobs=8)]: Done   2 out of   4 | elapsed:    0.3s remaining:    0.3s\n",
      "[Parallel(n_jobs=8)]: Done   4 out of   8 | elapsed:    0.5s remaining:    0.5s\n",
      "[Parallel(n_jobs=8)]: Done   6 out of   8 | elapsed:    0.7s remaining:    0.2s\n",
      "[Parallel(n_jobs=8)]: Done   8 out of   8 | elapsed:    0.8s finished\n",
      "[Parallel(n_jobs=8)]: Done   2 out of   8 | elapsed:    0.4s remaining:    1.3s\n",
      "[Parallel(n_jobs=8)]: Done   6 out of   8 | elapsed:    0.4s remaining:    0.1s\n",
      "[Parallel(n_jobs=8)]: Done   4 out of   8 | elapsed:    0.5s remaining:    0.5s\n",
      "[Parallel(n_jobs=8)]: Done   1 out of   8 | elapsed:    0.6s remaining:    4.1s\n",
      "[Parallel(n_jobs=8)]: Done   8 out of   8 | elapsed:    0.6s finished\n"
     ]
    },
    {
     "name": "stdout",
     "output_type": "stream",
     "text": [
      "11\n",
      "The events passed to the Epochs constructor are not chronologically ordered.\n",
      "100 matching events found\n",
      "No baseline correction applied\n",
      "0 projection items activated\n",
      "0 bad epochs dropped\n",
      "Attenuation at stop frequency 9.5Hz is only 5.1dB.\n",
      "The measurement information indicates a low-pass frequency of 128 Hz. The decim=3 parameter will result in a sampling frequency of 85.3333 Hz, which can cause aliasing artifacts.\n"
     ]
    },
    {
     "name": "stderr",
     "output_type": "stream",
     "text": [
      "[Parallel(n_jobs=8)]: Done   2 out of   8 | elapsed:    0.1s remaining:    0.4s\n",
      "[Parallel(n_jobs=8)]: Done   1 out of   8 | elapsed:    0.2s remaining:    1.1s\n",
      "[Parallel(n_jobs=8)]: Done   4 out of   8 | elapsed:    0.2s remaining:    0.2s\n",
      "[Parallel(n_jobs=8)]: Done   6 out of   8 | elapsed:    0.2s remaining:    0.1s\n",
      "[Parallel(n_jobs=8)]: Done   8 out of   8 | elapsed:    0.3s finished\n",
      "[Parallel(n_jobs=8)]: Done   1 out of   3 | elapsed:    0.1s remaining:    0.3s\n",
      "[Parallel(n_jobs=8)]: Done   4 out of   8 | elapsed:    0.5s remaining:    0.5s\n",
      "[Parallel(n_jobs=8)]: Done   6 out of   8 | elapsed:    0.7s remaining:    0.2s\n",
      "[Parallel(n_jobs=8)]: Done   8 out of   8 | elapsed:    0.9s finished\n",
      "[Parallel(n_jobs=8)]: Done   6 out of   8 | elapsed:    0.5s remaining:    0.2s\n",
      "[Parallel(n_jobs=8)]: Done   4 out of   8 | elapsed:    0.5s remaining:    0.5s\n",
      "[Parallel(n_jobs=8)]: Done   2 out of   8 | elapsed:    0.5s remaining:    1.6s\n",
      "[Parallel(n_jobs=8)]: Done   1 out of   8 | elapsed:    0.7s remaining:    4.7s\n",
      "[Parallel(n_jobs=8)]: Done   8 out of   8 | elapsed:    0.7s finished\n"
     ]
    },
    {
     "name": "stdout",
     "output_type": "stream",
     "text": [
      "12\n",
      "The events passed to the Epochs constructor are not chronologically ordered.\n",
      "100 matching events found\n",
      "No baseline correction applied\n",
      "0 projection items activated\n",
      "0 bad epochs dropped\n",
      "Attenuation at stop frequency 9.5Hz is only 5.1dB.\n",
      "The measurement information indicates a low-pass frequency of 128 Hz. The decim=3 parameter will result in a sampling frequency of 85.3333 Hz, which can cause aliasing artifacts.\n"
     ]
    },
    {
     "name": "stderr",
     "output_type": "stream",
     "text": [
      "[Parallel(n_jobs=8)]: Done   4 out of   8 | elapsed:    0.1s remaining:    0.1s\n",
      "[Parallel(n_jobs=8)]: Done   2 out of   8 | elapsed:    0.2s remaining:    0.5s\n",
      "[Parallel(n_jobs=8)]: Done   1 out of   8 | elapsed:    0.2s remaining:    1.3s\n",
      "[Parallel(n_jobs=8)]: Done   6 out of   8 | elapsed:    0.2s remaining:    0.1s\n",
      "[Parallel(n_jobs=8)]: Done   8 out of   8 | elapsed:    0.2s finished\n",
      "[Parallel(n_jobs=8)]: Done   1 out of   4 | elapsed:    0.2s remaining:    0.5s\n",
      "[Parallel(n_jobs=8)]: Done   2 out of   6 | elapsed:    0.2s remaining:    0.4s\n",
      "[Parallel(n_jobs=8)]: Done   4 out of   8 | elapsed:    0.4s remaining:    0.4s\n",
      "[Parallel(n_jobs=8)]: Done   6 out of   8 | elapsed:    0.6s remaining:    0.2s\n",
      "[Parallel(n_jobs=8)]: Done   8 out of   8 | elapsed:    0.7s finished\n",
      "[Parallel(n_jobs=8)]: Done   4 out of   8 | elapsed:    0.4s remaining:    0.4s\n",
      "[Parallel(n_jobs=8)]: Done   6 out of   8 | elapsed:    0.4s remaining:    0.1s\n",
      "[Parallel(n_jobs=8)]: Done   2 out of   8 | elapsed:    0.5s remaining:    1.4s\n",
      "[Parallel(n_jobs=8)]: Done   1 out of   8 | elapsed:    0.6s remaining:    4.3s\n",
      "[Parallel(n_jobs=8)]: Done   8 out of   8 | elapsed:    0.6s finished\n"
     ]
    },
    {
     "name": "stdout",
     "output_type": "stream",
     "text": [
      "13\n",
      "The events passed to the Epochs constructor are not chronologically ordered.\n",
      "100 matching events found\n",
      "No baseline correction applied\n",
      "0 projection items activated\n",
      "0 bad epochs dropped\n",
      "Attenuation at stop frequency 9.5Hz is only 5.1dB.\n",
      "The measurement information indicates a low-pass frequency of 128 Hz. The decim=3 parameter will result in a sampling frequency of 85.3333 Hz, which can cause aliasing artifacts.\n"
     ]
    },
    {
     "name": "stderr",
     "output_type": "stream",
     "text": [
      "[Parallel(n_jobs=8)]: Done   2 out of   8 | elapsed:    0.1s remaining:    0.4s\n",
      "[Parallel(n_jobs=8)]: Done   4 out of   8 | elapsed:    0.2s remaining:    0.2s\n",
      "[Parallel(n_jobs=8)]: Done   6 out of   8 | elapsed:    0.2s remaining:    0.1s\n",
      "[Parallel(n_jobs=8)]: Done   1 out of   8 | elapsed:    0.2s remaining:    1.6s\n",
      "[Parallel(n_jobs=8)]: Done   8 out of   8 | elapsed:    0.2s finished\n",
      "[Parallel(n_jobs=8)]: Done   1 out of   2 | elapsed:    0.1s remaining:    0.1s\n",
      "[Parallel(n_jobs=8)]: Done   2 out of   4 | elapsed:    0.3s remaining:    0.3s\n",
      "[Parallel(n_jobs=8)]: Done   3 out of   5 | elapsed:    0.5s remaining:    0.3s\n",
      "[Parallel(n_jobs=8)]: Done   6 out of   8 | elapsed:    0.7s remaining:    0.2s\n",
      "[Parallel(n_jobs=8)]: Done   8 out of   8 | elapsed:    0.8s finished\n",
      "[Parallel(n_jobs=8)]: Done   4 out of   8 | elapsed:    0.4s remaining:    0.4s\n",
      "[Parallel(n_jobs=8)]: Done   2 out of   8 | elapsed:    0.5s remaining:    1.4s\n",
      "[Parallel(n_jobs=8)]: Done   6 out of   8 | elapsed:    0.5s remaining:    0.2s\n",
      "[Parallel(n_jobs=8)]: Done   1 out of   8 | elapsed:    0.6s remaining:    4.2s\n",
      "[Parallel(n_jobs=8)]: Done   8 out of   8 | elapsed:    0.6s finished\n"
     ]
    },
    {
     "name": "stdout",
     "output_type": "stream",
     "text": [
      "14\n",
      "The events passed to the Epochs constructor are not chronologically ordered.\n",
      "100 matching events found\n",
      "No baseline correction applied\n",
      "0 projection items activated\n",
      "0 bad epochs dropped\n",
      "Attenuation at stop frequency 9.5Hz is only 5.1dB.\n",
      "The measurement information indicates a low-pass frequency of 128 Hz. The decim=3 parameter will result in a sampling frequency of 85.3333 Hz, which can cause aliasing artifacts.\n"
     ]
    },
    {
     "name": "stderr",
     "output_type": "stream",
     "text": [
      "[Parallel(n_jobs=8)]: Done   2 out of   8 | elapsed:    0.1s remaining:    0.4s\n",
      "[Parallel(n_jobs=8)]: Done   4 out of   8 | elapsed:    0.2s remaining:    0.2s\n",
      "[Parallel(n_jobs=8)]: Done   1 out of   8 | elapsed:    0.2s remaining:    1.2s\n",
      "[Parallel(n_jobs=8)]: Done   6 out of   8 | elapsed:    0.2s remaining:    0.1s\n",
      "[Parallel(n_jobs=8)]: Done   8 out of   8 | elapsed:    0.2s finished\n",
      "[Parallel(n_jobs=8)]: Done   1 out of   4 | elapsed:    0.2s remaining:    0.5s\n",
      "[Parallel(n_jobs=8)]: Done   2 out of   6 | elapsed:    0.2s remaining:    0.5s\n",
      "[Parallel(n_jobs=8)]: Done   4 out of   8 | elapsed:    0.4s remaining:    0.4s\n",
      "[Parallel(n_jobs=8)]: Done   6 out of   8 | elapsed:    0.6s remaining:    0.2s\n",
      "[Parallel(n_jobs=8)]: Done   8 out of   8 | elapsed:    0.7s finished\n",
      "[Parallel(n_jobs=8)]: Done   6 out of   8 | elapsed:    0.5s remaining:    0.2s\n",
      "[Parallel(n_jobs=8)]: Done   4 out of   8 | elapsed:    0.5s remaining:    0.5s\n",
      "[Parallel(n_jobs=8)]: Done   2 out of   8 | elapsed:    0.5s remaining:    1.6s\n",
      "[Parallel(n_jobs=8)]: Done   1 out of   8 | elapsed:    0.6s remaining:    4.1s\n",
      "[Parallel(n_jobs=8)]: Done   8 out of   8 | elapsed:    0.6s finished\n"
     ]
    },
    {
     "name": "stdout",
     "output_type": "stream",
     "text": [
      "15\n",
      "The events passed to the Epochs constructor are not chronologically ordered.\n",
      "100 matching events found\n",
      "No baseline correction applied\n",
      "0 projection items activated\n",
      "0 bad epochs dropped\n",
      "Attenuation at stop frequency 9.5Hz is only 5.1dB.\n",
      "The measurement information indicates a low-pass frequency of 128 Hz. The decim=3 parameter will result in a sampling frequency of 85.3333 Hz, which can cause aliasing artifacts.\n"
     ]
    },
    {
     "name": "stderr",
     "output_type": "stream",
     "text": [
      "[Parallel(n_jobs=8)]: Done   4 out of   8 | elapsed:    0.2s remaining:    0.2s\n",
      "[Parallel(n_jobs=8)]: Done   2 out of   8 | elapsed:    0.2s remaining:    0.6s\n",
      "[Parallel(n_jobs=8)]: Done   1 out of   8 | elapsed:    0.2s remaining:    1.5s\n",
      "[Parallel(n_jobs=8)]: Done   6 out of   8 | elapsed:    0.2s remaining:    0.1s\n",
      "[Parallel(n_jobs=8)]: Done   8 out of   8 | elapsed:    0.3s finished\n",
      "[Parallel(n_jobs=8)]: Done   1 out of   4 | elapsed:    0.2s remaining:    0.7s\n",
      "[Parallel(n_jobs=8)]: Done   2 out of   4 | elapsed:    0.3s remaining:    0.3s\n",
      "[Parallel(n_jobs=8)]: Done   6 out of   8 | elapsed:    0.7s remaining:    0.2s\n",
      "[Parallel(n_jobs=8)]: Done   8 out of   8 | elapsed:    0.9s finished\n",
      "[Parallel(n_jobs=8)]: Done   4 out of   8 | elapsed:    0.4s remaining:    0.4s\n",
      "[Parallel(n_jobs=8)]: Done   6 out of   8 | elapsed:    0.5s remaining:    0.2s\n",
      "[Parallel(n_jobs=8)]: Done   2 out of   8 | elapsed:    0.5s remaining:    1.4s\n",
      "[Parallel(n_jobs=8)]: Done   1 out of   8 | elapsed:    0.6s remaining:    4.3s\n",
      "[Parallel(n_jobs=8)]: Done   8 out of   8 | elapsed:    0.6s finished\n"
     ]
    },
    {
     "name": "stdout",
     "output_type": "stream",
     "text": [
      "16\n",
      "The events passed to the Epochs constructor are not chronologically ordered.\n",
      "100 matching events found\n",
      "No baseline correction applied\n",
      "0 projection items activated\n",
      "0 bad epochs dropped\n",
      "Attenuation at stop frequency 9.5Hz is only 5.1dB.\n",
      "The measurement information indicates a low-pass frequency of 128 Hz. The decim=3 parameter will result in a sampling frequency of 85.3333 Hz, which can cause aliasing artifacts.\n"
     ]
    },
    {
     "name": "stderr",
     "output_type": "stream",
     "text": [
      "[Parallel(n_jobs=8)]: Done   2 out of   8 | elapsed:    0.1s remaining:    0.4s\n",
      "[Parallel(n_jobs=8)]: Done   4 out of   8 | elapsed:    0.2s remaining:    0.2s\n",
      "[Parallel(n_jobs=8)]: Done   1 out of   8 | elapsed:    0.2s remaining:    1.3s\n",
      "[Parallel(n_jobs=8)]: Done   6 out of   8 | elapsed:    0.2s remaining:    0.1s\n",
      "[Parallel(n_jobs=8)]: Done   8 out of   8 | elapsed:    0.2s finished\n",
      "[Parallel(n_jobs=8)]: Done   1 out of   2 | elapsed:    0.2s remaining:    0.2s\n",
      "[Parallel(n_jobs=8)]: Done   4 out of   8 | elapsed:    0.5s remaining:    0.5s\n",
      "[Parallel(n_jobs=8)]: Done   6 out of   8 | elapsed:    0.7s remaining:    0.2s\n",
      "[Parallel(n_jobs=8)]: Done   8 out of   8 | elapsed:    0.9s finished\n",
      "[Parallel(n_jobs=8)]: Done   6 out of   8 | elapsed:    0.5s remaining:    0.2s\n",
      "[Parallel(n_jobs=8)]: Done   2 out of   8 | elapsed:    0.5s remaining:    1.5s\n",
      "[Parallel(n_jobs=8)]: Done   4 out of   8 | elapsed:    0.5s remaining:    0.5s\n",
      "[Parallel(n_jobs=8)]: Done   1 out of   8 | elapsed:    0.6s remaining:    4.2s\n",
      "[Parallel(n_jobs=8)]: Done   8 out of   8 | elapsed:    0.6s finished\n"
     ]
    },
    {
     "name": "stdout",
     "output_type": "stream",
     "text": [
      "Cannot find chance level from scorer_auc, specify chance level\n"
     ]
    },
    {
     "data": {
      "image/png": "[encoded data removed]",
      "text/plain": [
       "<matplotlib.figure.Figure at 0x7f15e41187d0>"
      ]
     },
     "metadata": {},
     "output_type": "display_data"
    },
    {
     "data": {
      "image/png": "[encoded data removed]",
      "text/plain": [
       "<matplotlib.figure.Figure at 0x7f15e4659810>"
      ]
     },
     "metadata": {},
     "output_type": "display_data"
    },
    {
     "data": {
      "image/png": "[encoded data removed]",
      "text/plain": [
       "<matplotlib.figure.Figure at 0x7f15e82a88d0>"
      ]
     },
     "metadata": {},
     "output_type": "display_data"
    },
    {
     "data": {
      "image/png": "[encoded data removed]",
      "text/plain": [
       "<matplotlib.figure.Figure at 0x7f15e45ffc10>"
      ]
     },
     "metadata": {},
     "output_type": "display_data"
    }
   ],
   "source": [
    "# Example across multiple subjects\n",
    "scenari = dict(\n",
    "    jitter=dict(latency=.01, jitter=.0025),\n",
    "    metastable=dict(jitter=.0,\n",
    "                    latency=np.linspace(.01, .50, 50),\n",
    "                    snr=np.r_[np.linspace(.5, .1, 5), [0] * 45])\n",
    ")\n",
    "for name, params in scenari.iteritems():\n",
    "    scores = list()\n",
    "    for subject in range(17):\n",
    "        print subject\n",
    "        epochs, y = simulate_data(**params)\n",
    "        gat = gat_scores(epochs, y, [10., None])\n",
    "        scores.append(gat.scores_)\n",
    "    gat.scores_ = np.mean(scores, axis=0)\n",
    "    gat.plot(show=False, title=name)\n",
    "    gat.plot_times([.050, .150], show=False)"
   ]
  },
  {
   "cell_type": "markdown",
   "metadata": {},
   "source": [
    "# Sorting individual trials"
   ]
  },
  {
   "cell_type": "code",
   "execution_count": 84,
   "metadata": {
    "collapsed": true
   },
   "outputs": [],
   "source": [
    "def prob_gat_y_pred(gat):\n",
    "    from sklearn.preprocessing import StandardScaler\n",
    "    from sklearn.linear_model import LogisticRegression\n",
    "    y_pred = np.transpose(gat.y_pred_[:, :, :, 0], [2, 0, 1])\n",
    "    clf = LogisticRegression()\n",
    "    n_time = y_pred.shape[1]\n",
    "    for T in range(n_time):\n",
    "        for t in range(n_time):\n",
    "            for train, test in gat._cv_splits:\n",
    "                clf.fit(y_pred[train, T, t][:, None], y=y[train])\n",
    "                this_y_pred = clf.predict_proba(y_pred[test, T, t][:, None])\n",
    "                y_pred[test, T, t] = this_y_pred[:, 1]  # Log. Reg inverted proba\n",
    "    return y_pred.transpose([1, 2, 0])"
   ]
  },
  {
   "cell_type": "code",
   "execution_count": 153,
   "metadata": {
    "collapsed": false
   },
   "outputs": [
    {
     "name": "stderr",
     "output_type": "stream",
     "text": [
      "/home/jrking/anaconda/lib/python2.7/site-packages/ipykernel/__main__.py:36: DeprecationWarning: using a non-integer number instead of an integer will result in an error in the future\n",
      "/home/jrking/anaconda/lib/python2.7/site-packages/ipykernel/__main__.py:62: RuntimeWarning: The events passed to the Epochs constructor are not chronologically ordered.\n"
     ]
    },
    {
     "name": "stdout",
     "output_type": "stream",
     "text": [
      "The events passed to the Epochs constructor are not chronologically ordered.\n",
      "100 matching events found\n",
      "No baseline correction applied\n",
      "0 projection items activated\n",
      "0 bad epochs dropped\n",
      "The events passed to the Epochs constructor are not chronologically ordered.\n",
      "100 matching events found\n",
      "No baseline correction applied\n",
      "0 projection items activated\n",
      "0 bad epochs dropped\n"
     ]
    },
    {
     "name": "stderr",
     "output_type": "stream",
     "text": [
      "[Parallel(n_jobs=8)]: Done   1 out of   8 | elapsed:    0.2s remaining:    1.6s\n",
      "[Parallel(n_jobs=8)]: Done   4 out of   8 | elapsed:    0.3s remaining:    0.3s\n",
      "[Parallel(n_jobs=8)]: Done   2 out of   8 | elapsed:    0.3s remaining:    0.9s\n",
      "[Parallel(n_jobs=8)]: Done   6 out of   8 | elapsed:    0.3s remaining:    0.1s\n",
      "[Parallel(n_jobs=8)]: Done   8 out of   8 | elapsed:    0.4s finished\n",
      "[Parallel(n_jobs=8)]: Done   1 out of   3 | elapsed:    0.3s remaining:    0.7s\n",
      "[Parallel(n_jobs=8)]: Done   2 out of   4 | elapsed:    0.6s remaining:    0.6s\n",
      "[Parallel(n_jobs=8)]: Done   3 out of   5 | elapsed:    0.7s remaining:    0.4s\n",
      "[Parallel(n_jobs=8)]: Done   5 out of   7 | elapsed:    1.0s remaining:    0.4s\n",
      "[Parallel(n_jobs=8)]: Done   6 out of   8 | elapsed:    1.2s remaining:    0.4s\n",
      "[Parallel(n_jobs=8)]: Done   8 out of   8 | elapsed:    1.4s finished\n"
     ]
    }
   ],
   "source": [
    "from jr.gat import scorer_auc\n",
    "if False:  # jitter etc\n",
    "    epochs, y = simulate_data(jitter=.0,\n",
    "                              latency=np.linspace(.01, .50, 50),\n",
    "                              snr=np.r_[np.linspace(.5, .1, 5), [0] * 45])\n",
    "epochs, y = simulate_data(n_source=50, latency=.01, jitter=0.)\n",
    "\n",
    "gat = GeneralizationAcrossTime(n_jobs=-1, predict_method='predict_proba', \n",
    "                               scorer=scorer_auc)\n",
    "gat.fit(epochs, y)\n",
    "gat.predict(epochs)\n",
    "y_pred = prob_gat_y_pred(gat)\n",
    "y_true = y[np.newaxis, np.newaxis, :]\n",
    "y_score = (1 - y_true) + (y_true * 2 - 1) * y_pred"
   ]
  },
  {
   "cell_type": "code",
   "execution_count": 195,
   "metadata": {
    "collapsed": false
   },
   "outputs": [
    {
     "name": "stdout",
     "output_type": "stream",
     "text": [
      "[ 0.88574671  7.4998969   2.61550964]\n"
     ]
    },
    {
     "data": {
      "image/png": "[encoded data removed]",
      "text/plain": [
       "<matplotlib.figure.Figure at 0x7f15cc29ad90>"
      ]
     },
     "metadata": {},
     "output_type": "display_data"
    }
   ],
   "source": [
    "def gauss(x, A, mu, sigma):\n",
    "    return A * np.exp(-(x - mu) ** 2 / (2. * sigma ** 2))\n",
    "\n",
    "def fit_gauss(y, mean0=None):\n",
    "    from scipy.optimize import curve_fit\n",
    "    n = len(y)\n",
    "    mean0 = np.round(np.random.rand() * n) # if mean0 is None else mean0\n",
    "    x = np.arange(n)\n",
    "    try:\n",
    "        coefs, _ = curve_fit(gauss, x, y, p0=[1., mean0, 1.],\n",
    "                             bounds=[[-1., 0., 1], [1., n, 2*n]])\n",
    "    except Exception:\n",
    "        print(\"error: didn't converge\")\n",
    "        coefs = [0, 0, 0]\n",
    "\n",
    "    return coefs\n",
    "\n",
    "# Define some test data which is close to Gaussian\n",
    "y = np.array([0, 0, 0,1,2,3,4,4,4,4,3,2,1, 0, 0, 0, 0, 0, 0, 0, 0]) / 5.\n",
    "coefs = fit_gauss(y)\n",
    "print coefs\n",
    "\n",
    "plt.plot(y, label='Test data')\n",
    "plt.plot(gauss(np.arange(len(y)), *coefs), label='Fitted data')\n",
    "plt.show()"
   ]
  },
  {
   "cell_type": "code",
   "execution_count": 169,
   "metadata": {
    "collapsed": false
   },
   "outputs": [
    {
     "name": "stderr",
     "output_type": "stream",
     "text": [
      "[Parallel(n_jobs=8)]: Done   6 out of   8 | elapsed:  1.3min remaining:   26.4s\n",
      "[Parallel(n_jobs=8)]: Done   4 out of   8 | elapsed:  1.3min remaining:  1.3min\n",
      "[Parallel(n_jobs=8)]: Done   2 out of   8 | elapsed:  1.4min remaining:  4.1min\n",
      "[Parallel(n_jobs=8)]: Done   1 out of   8 | elapsed:  1.4min remaining:  9.8min\n",
      "[Parallel(n_jobs=8)]: Done   8 out of   8 | elapsed:  1.4min finished\n",
      "/home/jrking/anaconda/lib/python2.7/site-packages/ipykernel/__main__.py:2: RuntimeWarning: divide by zero encountered in divide\n",
      "  from ipykernel import kernelapp as app\n",
      "/home/jrking/anaconda/lib/python2.7/site-packages/ipykernel/__main__.py:2: RuntimeWarning: invalid value encountered in divide\n",
      "  from ipykernel import kernelapp as app\n"
     ]
    },
    {
     "name": "stdout",
     "output_type": "stream",
     "text": [
      "error: didn't converge\n"
     ]
    }
   ],
   "source": [
    "# fit gaussian on every trial\n",
    "\n",
    "def trial_fit(X, n_jobs=-1):\n",
    "    from mne.parallel import parallel_func\n",
    "    n_train, n_test, n_trial = X.shape\n",
    "    parallel, p_func, n_jobs = parallel_func(_trial_fit, n_jobs)\n",
    "    n_chunks = min(n_train, n_jobs)\n",
    "    chunks = np.array_split(X, n_chunks, axis=0)\n",
    "\n",
    "    out = parallel(p_func(chunk) for chunk in chunks)\n",
    "\n",
    "    y_pred = np.concatenate([ii[0] for ii in out], axis=0)\n",
    "    coefs = np.concatenate([ii[1] for ii in out], axis=0)\n",
    "    return y_pred, coefs\n",
    "\n",
    "def _trial_fit(X):\n",
    "    n_train, n_test, n_trial = X.shape\n",
    "    y_pred = np.zeros_like(X)\n",
    "    coefs = np.zeros((n_train, n_trial, 3))\n",
    "    for train in range(n_train):\n",
    "        for trial in range(n_trial):\n",
    "            coef = fit_gauss(X[train, :, trial], mean0=train)\n",
    "            y_pred[train, :, trial] = gauss(np.arange(n_test), *coef)\n",
    "            coefs[train, trial, :] = coef\n",
    "    return y_pred, coefs\n",
    "\n",
    "chance = .5 # only valid for 2 class balanced problem\n",
    "y_pred_, coefs = trial_fit(y_pred - chance)"
   ]
  },
  {
   "cell_type": "code",
   "execution_count": 170,
   "metadata": {
    "collapsed": false
   },
   "outputs": [
    {
     "name": "stderr",
     "output_type": "stream",
     "text": [
      "[Parallel(n_jobs=8)]: Done   6 out of   8 | elapsed:    2.7s remaining:    0.9s\n",
      "[Parallel(n_jobs=8)]: Done   4 out of   8 | elapsed:    2.7s remaining:    2.7s\n",
      "[Parallel(n_jobs=8)]: Done   2 out of   8 | elapsed:    3.2s remaining:    9.5s\n",
      "[Parallel(n_jobs=8)]: Done   1 out of   8 | elapsed:    3.2s remaining:   22.4s\n",
      "[Parallel(n_jobs=8)]: Done   8 out of   8 | elapsed:    3.2s finished\n"
     ]
    },
    {
     "data": {
      "image/png": "[encoded data removed]",
      "text/plain": [
       "<matplotlib.figure.Figure at 0x7f15cde60110>"
      ]
     },
     "metadata": {},
     "output_type": "display_data"
    },
    {
     "data": {
      "image/png": "[encoded data removed]",
      "text/plain": [
       "<matplotlib.figure.Figure at 0x7f15cde60110>"
      ]
     },
     "execution_count": 170,
     "metadata": {},
     "output_type": "execute_result"
    }
   ],
   "source": [
    "gat.y_pred_ = y_pred_\n",
    "\n",
    "gat.score()\n",
    "gat.plot()"
   ]
  },
  {
   "cell_type": "code",
   "execution_count": 102,
   "metadata": {
    "collapsed": false
   },
   "outputs": [
    {
     "data": {
      "text/plain": [
       "<matplotlib.image.AxesImage at 0x7f15cd690090>"
      ]
     },
     "execution_count": 102,
     "metadata": {},
     "output_type": "execute_result"
    },
    {
     "data": {
      "image/png": "[encoded data removed]",
      "text/plain": [
       "<matplotlib.figure.Figure at 0x7f15cdc42390>"
      ]
     },
     "metadata": {},
     "output_type": "display_data"
    },
    {
     "data": {
      "image/png": "[encoded data removed]",
      "text/plain": [
       "<matplotlib.figure.Figure at 0x7f15cdc425d0>"
      ]
     },
     "metadata": {},
     "output_type": "display_data"
    }
   ],
   "source": [
    "plt.matshow(y_score_fit.mean(axis=2))\n",
    "plt.matshow(y_score.mean(axis=2))"
   ]
  },
  {
   "cell_type": "code",
   "execution_count": null,
   "metadata": {
    "collapsed": true
   },
   "outputs": [],
   "source": [
    "# sort\n",
    "# train of first half\n",
    "# test on second half"
   ]
  },
  {
   "cell_type": "markdown",
   "metadata": {},
   "source": [
    "# Time frequency decoding"
   ]
  },
  {
   "cell_type": "markdown",
   "metadata": {},
   "source": [
    "# Deadend: XDawn\n",
    "\n",
    "Trying to isolate a single source is a dead end"
   ]
  },
  {
   "cell_type": "code",
   "execution_count": 58,
   "metadata": {
    "collapsed": false,
    "scrolled": true
   },
   "outputs": [
    {
     "name": "stderr",
     "output_type": "stream",
     "text": [
      "/home/jrking/anaconda/lib/python2.7/site-packages/ipykernel/__main__.py:23: DeprecationWarning: using a non-integer number instead of an integer will result in an error in the future\n",
      "/home/jrking/anaconda/lib/python2.7/site-packages/ipykernel/__main__.py:48: RuntimeWarning: The events passed to the Epochs constructor are not chronologically ordered.\n"
     ]
    },
    {
     "name": "stdout",
     "output_type": "stream",
     "text": [
      "The events passed to the Epochs constructor are not chronologically ordered.\n",
      "100 matching events found\n",
      "No baseline correction applied\n",
      "0 projection items activated\n",
      "0 bad epochs dropped\n"
     ]
    },
    {
     "name": "stderr",
     "output_type": "stream",
     "text": [
      "[Parallel(n_jobs=8)]: Done   4 out of   8 | elapsed:    0.2s remaining:    0.2s\n",
      "[Parallel(n_jobs=8)]: Done   2 out of   8 | elapsed:    0.3s remaining:    0.8s\n",
      "[Parallel(n_jobs=8)]: Done   1 out of   8 | elapsed:    0.3s remaining:    2.2s\n",
      "[Parallel(n_jobs=8)]: Done   6 out of   8 | elapsed:    0.4s remaining:    0.1s\n",
      "[Parallel(n_jobs=8)]: Done   8 out of   8 | elapsed:    0.4s finished\n",
      "[Parallel(n_jobs=8)]: Done   1 out of   3 | elapsed:    0.3s remaining:    0.6s\n",
      "[Parallel(n_jobs=8)]: Done   2 out of   6 | elapsed:    0.5s remaining:    1.0s\n",
      "[Parallel(n_jobs=8)]: Done   4 out of   8 | elapsed:    0.8s remaining:    0.8s\n",
      "[Parallel(n_jobs=8)]: Done   6 out of   8 | elapsed:    1.1s remaining:    0.4s\n",
      "[Parallel(n_jobs=8)]: Done   8 out of   8 | elapsed:    1.4s finished\n",
      "[Parallel(n_jobs=8)]: Done   6 out of   8 | elapsed:    2.4s remaining:    0.8s\n",
      "[Parallel(n_jobs=8)]: Done   4 out of   8 | elapsed:    2.6s remaining:    2.6s\n",
      "[Parallel(n_jobs=8)]: Done   1 out of   8 | elapsed:    2.7s remaining:   18.8s\n",
      "[Parallel(n_jobs=8)]: Done   2 out of   8 | elapsed:    2.8s remaining:    8.5s\n",
      "[Parallel(n_jobs=8)]: Done   8 out of   8 | elapsed:    2.8s finished\n"
     ]
    },
    {
     "data": {
      "image/png": "[encoded data removed]",
      "text/plain": [
       "<matplotlib.figure.Figure at 0x7fb76a647950>"
      ]
     },
     "metadata": {},
     "output_type": "display_data"
    },
    {
     "data": {
      "image/png": "[encoded data removed]",
      "text/plain": [
       "<matplotlib.figure.Figure at 0x7fb76a647950>"
      ]
     },
     "execution_count": 58,
     "metadata": {},
     "output_type": "execute_result"
    }
   ],
   "source": [
    "from sklearn.model_selection import StratifiedKFold\n",
    "from sklearn.pipeline import make_pipeline\n",
    "from sklearn.linear_model import LogisticRegression\n",
    "from sklearn.preprocessing import StandardScaler\n",
    "from jr.gat import rescale_ypred\n",
    "from mne.preprocessing import Xdawn\n",
    "from mne.decoding import EpochsVectorizer\n",
    "\n",
    "epochs, y = simulate_data(n_source=50, latency=.01, jitter=.0025)\n",
    "epochs_late = epochs.copy()\n",
    "epochs_late.crop(.100, None)\n",
    "\n",
    "# cross-validated Xdawn on late components\n",
    "cv = StratifiedKFold(n_folds=5)\n",
    "preds = np.empty((epochs._data.shape[0], 2, epochs._data.shape[2]))\n",
    "for train, test in cv.split(y, y):\n",
    "    trans = Xdawn(n_components=1)  # n_components is * 2\n",
    "    trans.fit(epochs_late[train], y[train])\n",
    "    preds[test, :, :] = trans.transform(epochs[test])\n",
    "\n",
    "epochs._data *= 0\n",
    "epochs._data[:, :2, :] = preds\n",
    "\n",
    "from jr.gat import scorer_auc\n",
    "gat = GeneralizationAcrossTime(predict_method='predict_proba', scorer=scorer_auc, n_jobs=-1)\n",
    "gat.fit(epochs, y)\n",
    "scores = gat.score(epochs, -y)\n",
    "gat.plot()"
   ]
  },
  {
   "cell_type": "code",
   "execution_count": 59,
   "metadata": {
    "collapsed": false
   },
   "outputs": [
    {
     "name": "stdout",
     "output_type": "stream",
     "text": [
      "(100, 50)\n"
     ]
    },
    {
     "data": {
      "image/png": "[encoded data removed]",
      "text/plain": [
       "<matplotlib.figure.Figure at 0x7fb76a6468d0>"
      ]
     },
     "metadata": {},
     "output_type": "display_data"
    },
    {
     "data": {
      "image/png": "[encoded data removed]",
      "text/plain": [
       "<matplotlib.figure.Figure at 0x7fb746cb8b90>"
      ]
     },
     "metadata": {},
     "output_type": "display_data"
    }
   ],
   "source": [
    "from jr.plot import share_clim\n",
    "from sklearn.preprocessing import StandardScaler\n",
    "from sklearn.linear_model import LogisticRegression\n",
    "tmax = np.argmax(np.diag(scores))\n",
    "y_pred = gat.y_pred_[tmax, :, :, 0].T\n",
    "clf = LogisticRegression()\n",
    "n_time = y_pred.shape[1]\n",
    "print(y_pred.shape)\n",
    "for t in range(n_time):\n",
    "    for train, test in gat._cv_splits:\n",
    "        clf.fit(y_pred[train, t][:, None], y=y[train])\n",
    "        y_pred[test, t] = clf.predict_proba(y_pred[test, t][:, None])[:, 0]\n",
    "\n",
    "plt.figure()\n",
    "plt.plot(np.mean(y_pred[y==0, :], axis=0), color='b')\n",
    "plt.plot(np.mean(y_pred[y==1, :], axis=0), color='r')\n",
    "\n",
    "fig, (ax1, ax2) = plt.subplots(1, 2, sharex=True)\n",
    "ax1.matshow(y_pred[y==0, :], aspect='auto')\n",
    "ax2.matshow(y_pred[y==1, :], aspect='auto')\n",
    "share_clim((ax1, ax2))\n",
    "plt.show()"
   ]
  },
  {
   "cell_type": "code",
   "execution_count": 60,
   "metadata": {
    "collapsed": false
   },
   "outputs": [
    {
     "name": "stdout",
     "output_type": "stream",
     "text": [
      "(100, 50)\n"
     ]
    },
    {
     "ename": "ValueError",
     "evalue": "Found array with 0 feature(s) (shape=(100, 0)) while a minimum of 1 is required.",
     "output_type": "error",
     "traceback": [
      "\u001b[1;31m---------------------------------------------------------------------------\u001b[0m",
      "\u001b[1;31mValueError\u001b[0m                                Traceback (most recent call last)",
      "\u001b[1;32m<ipython-input-60-89d362d3fb5f>\u001b[0m in \u001b[0;36m<module>\u001b[1;34m()\u001b[0m\n\u001b[0;32m     11\u001b[0m \u001b[0mdata\u001b[0m \u001b[1;33m=\u001b[0m \u001b[1;33m(\u001b[0m\u001b[0my_pred\u001b[0m \u001b[1;33m-\u001b[0m \u001b[1;36m.5\u001b[0m\u001b[1;33m)\u001b[0m \u001b[1;33m*\u001b[0m \u001b[1;33m(\u001b[0m\u001b[0my\u001b[0m\u001b[1;33m[\u001b[0m\u001b[1;33m:\u001b[0m\u001b[1;33m,\u001b[0m \u001b[0mnp\u001b[0m\u001b[1;33m.\u001b[0m\u001b[0mnewaxis\u001b[0m\u001b[1;33m]\u001b[0m \u001b[1;33m*\u001b[0m \u001b[1;36m2.\u001b[0m \u001b[1;33m-\u001b[0m \u001b[1;36m1\u001b[0m\u001b[1;33m)\u001b[0m\u001b[1;33m\u001b[0m\u001b[0m\n\u001b[0;32m     12\u001b[0m \u001b[1;32mprint\u001b[0m\u001b[1;33m(\u001b[0m\u001b[0mdata\u001b[0m\u001b[1;33m.\u001b[0m\u001b[0mshape\u001b[0m\u001b[1;33m)\u001b[0m\u001b[1;33m\u001b[0m\u001b[0m\n\u001b[1;32m---> 13\u001b[1;33m \u001b[0morder\u001b[0m \u001b[1;33m=\u001b[0m \u001b[0morder_func\u001b[0m\u001b[1;33m(\u001b[0m\u001b[0mdata\u001b[0m\u001b[1;33m)\u001b[0m\u001b[1;33m\u001b[0m\u001b[0m\n\u001b[0m\u001b[0;32m     14\u001b[0m \u001b[0mplt\u001b[0m\u001b[1;33m.\u001b[0m\u001b[0mmatshow\u001b[0m\u001b[1;33m(\u001b[0m\u001b[0mdata\u001b[0m\u001b[1;33m[\u001b[0m\u001b[0morder\u001b[0m\u001b[1;33m,\u001b[0m \u001b[1;33m:\u001b[0m\u001b[1;33m]\u001b[0m\u001b[1;33m)\u001b[0m\u001b[1;33m\u001b[0m\u001b[0m\n\u001b[0;32m     15\u001b[0m \u001b[0mplt\u001b[0m\u001b[1;33m.\u001b[0m\u001b[0mshow\u001b[0m\u001b[1;33m(\u001b[0m\u001b[1;33m)\u001b[0m\u001b[1;33m\u001b[0m\u001b[0m\n",
      "\u001b[1;32m<ipython-input-60-89d362d3fb5f>\u001b[0m in \u001b[0;36morder_func\u001b[1;34m(data)\u001b[0m\n\u001b[0;32m      7\u001b[0m     \u001b[0mthis_data\u001b[0m \u001b[1;33m=\u001b[0m \u001b[0mnp\u001b[0m\u001b[1;33m.\u001b[0m\u001b[0mcopy\u001b[0m\u001b[1;33m(\u001b[0m\u001b[0mdata\u001b[0m\u001b[1;33m[\u001b[0m\u001b[1;33m:\u001b[0m\u001b[1;33m,\u001b[0m \u001b[0mslice\u001b[0m\u001b[1;33m(\u001b[0m\u001b[0mtmax\u001b[0m\u001b[1;33m-\u001b[0m\u001b[1;36m10\u001b[0m\u001b[1;33m,\u001b[0m \u001b[0mtmax\u001b[0m\u001b[1;33m+\u001b[0m\u001b[1;36m10\u001b[0m\u001b[1;33m)\u001b[0m\u001b[1;33m]\u001b[0m\u001b[1;33m)\u001b[0m\u001b[1;33m\u001b[0m\u001b[0m\n\u001b[0;32m      8\u001b[0m     \u001b[0mthis_data\u001b[0m \u001b[1;33m/=\u001b[0m \u001b[0mnp\u001b[0m\u001b[1;33m.\u001b[0m\u001b[0msqrt\u001b[0m\u001b[1;33m(\u001b[0m\u001b[0mnp\u001b[0m\u001b[1;33m.\u001b[0m\u001b[0msum\u001b[0m\u001b[1;33m(\u001b[0m\u001b[0mthis_data\u001b[0m \u001b[1;33m**\u001b[0m \u001b[1;36m2\u001b[0m\u001b[1;33m,\u001b[0m \u001b[0maxis\u001b[0m\u001b[1;33m=\u001b[0m\u001b[1;36m1\u001b[0m\u001b[1;33m)\u001b[0m\u001b[1;33m)\u001b[0m\u001b[1;33m[\u001b[0m\u001b[1;33m:\u001b[0m\u001b[1;33m,\u001b[0m \u001b[0mnp\u001b[0m\u001b[1;33m.\u001b[0m\u001b[0mnewaxis\u001b[0m\u001b[1;33m]\u001b[0m\u001b[1;33m\u001b[0m\u001b[0m\n\u001b[1;32m----> 9\u001b[1;33m     return np.argsort(spectral_embedding(rbf_kernel(this_data, gamma=1.),\n\u001b[0m\u001b[0;32m     10\u001b[0m                       n_components=1, random_state=0).ravel())\n\u001b[0;32m     11\u001b[0m \u001b[0mdata\u001b[0m \u001b[1;33m=\u001b[0m \u001b[1;33m(\u001b[0m\u001b[0my_pred\u001b[0m \u001b[1;33m-\u001b[0m \u001b[1;36m.5\u001b[0m\u001b[1;33m)\u001b[0m \u001b[1;33m*\u001b[0m \u001b[1;33m(\u001b[0m\u001b[0my\u001b[0m\u001b[1;33m[\u001b[0m\u001b[1;33m:\u001b[0m\u001b[1;33m,\u001b[0m \u001b[0mnp\u001b[0m\u001b[1;33m.\u001b[0m\u001b[0mnewaxis\u001b[0m\u001b[1;33m]\u001b[0m \u001b[1;33m*\u001b[0m \u001b[1;36m2.\u001b[0m \u001b[1;33m-\u001b[0m \u001b[1;36m1\u001b[0m\u001b[1;33m)\u001b[0m\u001b[1;33m\u001b[0m\u001b[0m\n",
      "\u001b[1;32m/home/jrking/anaconda/lib/python2.7/site-packages/sklearn/metrics/pairwise.pyc\u001b[0m in \u001b[0;36mrbf_kernel\u001b[1;34m(X, Y, gamma)\u001b[0m\n\u001b[0;32m    810\u001b[0m     \u001b[0mkernel_matrix\u001b[0m \u001b[1;33m:\u001b[0m \u001b[0marray\u001b[0m \u001b[0mof\u001b[0m \u001b[0mshape\u001b[0m \u001b[1;33m(\u001b[0m\u001b[0mn_samples_X\u001b[0m\u001b[1;33m,\u001b[0m \u001b[0mn_samples_Y\u001b[0m\u001b[1;33m)\u001b[0m\u001b[1;33m\u001b[0m\u001b[0m\n\u001b[0;32m    811\u001b[0m     \"\"\"\n\u001b[1;32m--> 812\u001b[1;33m     \u001b[0mX\u001b[0m\u001b[1;33m,\u001b[0m \u001b[0mY\u001b[0m \u001b[1;33m=\u001b[0m \u001b[0mcheck_pairwise_arrays\u001b[0m\u001b[1;33m(\u001b[0m\u001b[0mX\u001b[0m\u001b[1;33m,\u001b[0m \u001b[0mY\u001b[0m\u001b[1;33m)\u001b[0m\u001b[1;33m\u001b[0m\u001b[0m\n\u001b[0m\u001b[0;32m    813\u001b[0m     \u001b[1;32mif\u001b[0m \u001b[0mgamma\u001b[0m \u001b[1;32mis\u001b[0m \u001b[0mNone\u001b[0m\u001b[1;33m:\u001b[0m\u001b[1;33m\u001b[0m\u001b[0m\n\u001b[0;32m    814\u001b[0m         \u001b[0mgamma\u001b[0m \u001b[1;33m=\u001b[0m \u001b[1;36m1.0\u001b[0m \u001b[1;33m/\u001b[0m \u001b[0mX\u001b[0m\u001b[1;33m.\u001b[0m\u001b[0mshape\u001b[0m\u001b[1;33m[\u001b[0m\u001b[1;36m1\u001b[0m\u001b[1;33m]\u001b[0m\u001b[1;33m\u001b[0m\u001b[0m\n",
      "\u001b[1;32m/home/jrking/anaconda/lib/python2.7/site-packages/sklearn/metrics/pairwise.pyc\u001b[0m in \u001b[0;36mcheck_pairwise_arrays\u001b[1;34m(X, Y, precomputed)\u001b[0m\n\u001b[0;32m     92\u001b[0m \u001b[1;33m\u001b[0m\u001b[0m\n\u001b[0;32m     93\u001b[0m     \u001b[1;32mif\u001b[0m \u001b[0mY\u001b[0m \u001b[1;32mis\u001b[0m \u001b[0mX\u001b[0m \u001b[1;32mor\u001b[0m \u001b[0mY\u001b[0m \u001b[1;32mis\u001b[0m \u001b[0mNone\u001b[0m\u001b[1;33m:\u001b[0m\u001b[1;33m\u001b[0m\u001b[0m\n\u001b[1;32m---> 94\u001b[1;33m         \u001b[0mX\u001b[0m \u001b[1;33m=\u001b[0m \u001b[0mY\u001b[0m \u001b[1;33m=\u001b[0m \u001b[0mcheck_array\u001b[0m\u001b[1;33m(\u001b[0m\u001b[0mX\u001b[0m\u001b[1;33m,\u001b[0m \u001b[0maccept_sparse\u001b[0m\u001b[1;33m=\u001b[0m\u001b[1;34m'csr'\u001b[0m\u001b[1;33m,\u001b[0m \u001b[0mdtype\u001b[0m\u001b[1;33m=\u001b[0m\u001b[0mdtype\u001b[0m\u001b[1;33m)\u001b[0m\u001b[1;33m\u001b[0m\u001b[0m\n\u001b[0m\u001b[0;32m     95\u001b[0m     \u001b[1;32melse\u001b[0m\u001b[1;33m:\u001b[0m\u001b[1;33m\u001b[0m\u001b[0m\n\u001b[0;32m     96\u001b[0m         \u001b[0mX\u001b[0m \u001b[1;33m=\u001b[0m \u001b[0mcheck_array\u001b[0m\u001b[1;33m(\u001b[0m\u001b[0mX\u001b[0m\u001b[1;33m,\u001b[0m \u001b[0maccept_sparse\u001b[0m\u001b[1;33m=\u001b[0m\u001b[1;34m'csr'\u001b[0m\u001b[1;33m,\u001b[0m \u001b[0mdtype\u001b[0m\u001b[1;33m=\u001b[0m\u001b[0mdtype\u001b[0m\u001b[1;33m)\u001b[0m\u001b[1;33m\u001b[0m\u001b[0m\n",
      "\u001b[1;32m/home/jrking/anaconda/lib/python2.7/site-packages/sklearn/utils/validation.pyc\u001b[0m in \u001b[0;36mcheck_array\u001b[1;34m(array, accept_sparse, dtype, order, copy, force_all_finite, ensure_2d, allow_nd, ensure_min_samples, ensure_min_features, warn_on_dtype, estimator)\u001b[0m\n\u001b[0;32m    417\u001b[0m                              \u001b[1;34m\" a minimum of %d is required%s.\"\u001b[0m\u001b[1;33m\u001b[0m\u001b[0m\n\u001b[0;32m    418\u001b[0m                              % (n_features, shape_repr, ensure_min_features,\n\u001b[1;32m--> 419\u001b[1;33m                                 context))\n\u001b[0m\u001b[0;32m    420\u001b[0m \u001b[1;33m\u001b[0m\u001b[0m\n\u001b[0;32m    421\u001b[0m     \u001b[1;32mif\u001b[0m \u001b[0mwarn_on_dtype\u001b[0m \u001b[1;32mand\u001b[0m \u001b[0mdtype_orig\u001b[0m \u001b[1;32mis\u001b[0m \u001b[1;32mnot\u001b[0m \u001b[0mNone\u001b[0m \u001b[1;32mand\u001b[0m \u001b[0marray\u001b[0m\u001b[1;33m.\u001b[0m\u001b[0mdtype\u001b[0m \u001b[1;33m!=\u001b[0m \u001b[0mdtype_orig\u001b[0m\u001b[1;33m:\u001b[0m\u001b[1;33m\u001b[0m\u001b[0m\n",
      "\u001b[1;31mValueError\u001b[0m: Found array with 0 feature(s) (shape=(100, 0)) while a minimum of 1 is required."
     ]
    }
   ],
   "source": [
    "# plot sorted single trial\n",
    "from sklearn.cluster.spectral import spectral_embedding\n",
    "from sklearn.metrics.pairwise import rbf_kernel\n",
    "\n",
    "def order_func(data):\n",
    "    this_data = np.copy(data[:, slice(tmax-10, tmax+10)])\n",
    "    this_data /= np.sqrt(np.sum(this_data ** 2, axis=1))[:, np.newaxis]\n",
    "    return np.argsort(spectral_embedding(rbf_kernel(this_data, gamma=1.),\n",
    "                      n_components=1, random_state=0).ravel())\n",
    "data = (y_pred - .5) * (y[:, np.newaxis] * 2. - 1)\n",
    "print(data.shape)\n",
    "order = order_func(data)\n",
    "plt.matshow(data[order, :])\n",
    "plt.show()\n",
    "print(y)"
   ]
  },
  {
   "cell_type": "code",
   "execution_count": null,
   "metadata": {
    "collapsed": true
   },
   "outputs": [],
   "source": [
    "# Data\n",
    "\n",
    "\n",
    "def load_data(subject):\n",
    "    # load data\n",
    "    epochs, events = load_epochs_events(subject, paths)\n",
    "    \n",
    "    # remove meaningless trials\n",
    "    query, condition = analysis['query'], analysis['condition']\n",
    "    sel = range(len(events)) if query is None else events.query(query).index\n",
    "    sel = [ii for ii in sel if ~np.isnan(events[condition][sel][ii])]\n",
    "    \n",
    "    # set regressor\n",
    "    y = np.array(events[condition], dtype=np.float32)\n",
    "    \n",
    "    return epochs, \n",
    "    \n",
    "        "
   ]
  }
 ],
 "metadata": {
  "kernelspec": {
   "display_name": "Python 2",
   "language": "python",
   "name": "python2"
  },
  "language_info": {
   "codemirror_mode": {
    "name": "ipython",
    "version": 2
   },
   "file_extension": ".py",
   "mimetype": "text/x-python",
   "name": "python",
   "nbconvert_exporter": "python",
   "pygments_lexer": "ipython2",
   "version": "2.7.11"
  }
 },
 "nbformat": 4,
 "nbformat_minor": 0
}
